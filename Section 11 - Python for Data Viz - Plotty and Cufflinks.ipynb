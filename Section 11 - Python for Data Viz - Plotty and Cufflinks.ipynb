{
 "cells": [
  {
   "cell_type": "code",
   "execution_count": 3,
   "id": "abb251e7",
   "metadata": {},
   "outputs": [],
   "source": [
    "#All steps needed to run cufflinks and Plotly in Jupyter notebook"
   ]
  },
  {
   "cell_type": "code",
   "execution_count": 8,
   "id": "a434485e",
   "metadata": {},
   "outputs": [],
   "source": [
    "import pandas as pd\n",
    "import numpy as np\n",
    "%matplotlib inline"
   ]
  },
  {
   "cell_type": "code",
   "execution_count": 9,
   "id": "c6f002b6",
   "metadata": {},
   "outputs": [
    {
     "data": {
      "text/html": [
       "        <script type=\"text/javascript\">\n",
       "        window.PlotlyConfig = {MathJaxConfig: 'local'};\n",
       "        if (window.MathJax && window.MathJax.Hub && window.MathJax.Hub.Config) {window.MathJax.Hub.Config({SVG: {font: \"STIX-Web\"}});}\n",
       "        if (typeof require !== 'undefined') {\n",
       "        require.undef(\"plotly\");\n",
       "        requirejs.config({\n",
       "            paths: {\n",
       "                'plotly': ['https://cdn.plot.ly/plotly-2.35.2.min']\n",
       "            }\n",
       "        });\n",
       "        require(['plotly'], function(Plotly) {\n",
       "            window._Plotly = Plotly;\n",
       "        });\n",
       "        }\n",
       "        </script>\n",
       "        "
      ]
     },
     "metadata": {},
     "output_type": "display_data"
    }
   ],
   "source": [
    "from plotly import __version__\n",
    "from plotly.offline import download_plotlyjs, init_notebook_mode, plot, iplot\n",
    "import cufflinks as cf\n",
    "from plotly.offline import download_plotlyjs,init_notebook_mode,plot,iplot\n",
    "#for notebook\n",
    "init_notebook_mode(connected=True)\n",
    "#for offline use\n",
    "cf.go_offline()"
   ]
  },
  {
   "cell_type": "code",
   "execution_count": 11,
   "id": "183b7baf",
   "metadata": {},
   "outputs": [
    {
     "name": "stdout",
     "output_type": "stream",
     "text": [
      "5.24.1\n"
     ]
    }
   ],
   "source": [
    "print(__version__)"
   ]
  },
  {
   "cell_type": "code",
   "execution_count": 15,
   "id": "0d613ee4",
   "metadata": {},
   "outputs": [],
   "source": [
    "#create fake data\n",
    "df = pd.DataFrame(np.random.randn(100,4), columns='A B C D'.split())"
   ]
  },
  {
   "cell_type": "code",
   "execution_count": 17,
   "id": "d1d0dd7a",
   "metadata": {},
   "outputs": [
    {
     "data": {
      "text/html": [
       "<div>\n",
       "<style scoped>\n",
       "    .dataframe tbody tr th:only-of-type {\n",
       "        vertical-align: middle;\n",
       "    }\n",
       "\n",
       "    .dataframe tbody tr th {\n",
       "        vertical-align: top;\n",
       "    }\n",
       "\n",
       "    .dataframe thead th {\n",
       "        text-align: right;\n",
       "    }\n",
       "</style>\n",
       "<table border=\"1\" class=\"dataframe\">\n",
       "  <thead>\n",
       "    <tr style=\"text-align: right;\">\n",
       "      <th></th>\n",
       "      <th>A</th>\n",
       "      <th>B</th>\n",
       "      <th>C</th>\n",
       "      <th>D</th>\n",
       "    </tr>\n",
       "  </thead>\n",
       "  <tbody>\n",
       "    <tr>\n",
       "      <th>0</th>\n",
       "      <td>-0.406151</td>\n",
       "      <td>0.334690</td>\n",
       "      <td>1.173736</td>\n",
       "      <td>1.172193</td>\n",
       "    </tr>\n",
       "    <tr>\n",
       "      <th>1</th>\n",
       "      <td>-0.479995</td>\n",
       "      <td>-0.474772</td>\n",
       "      <td>1.556261</td>\n",
       "      <td>-0.225507</td>\n",
       "    </tr>\n",
       "    <tr>\n",
       "      <th>2</th>\n",
       "      <td>-0.731589</td>\n",
       "      <td>-0.891049</td>\n",
       "      <td>-0.014477</td>\n",
       "      <td>-0.231227</td>\n",
       "    </tr>\n",
       "    <tr>\n",
       "      <th>3</th>\n",
       "      <td>0.587955</td>\n",
       "      <td>-0.656295</td>\n",
       "      <td>-0.994908</td>\n",
       "      <td>0.656333</td>\n",
       "    </tr>\n",
       "    <tr>\n",
       "      <th>4</th>\n",
       "      <td>-1.856895</td>\n",
       "      <td>1.097560</td>\n",
       "      <td>0.935746</td>\n",
       "      <td>0.921387</td>\n",
       "    </tr>\n",
       "  </tbody>\n",
       "</table>\n",
       "</div>"
      ],
      "text/plain": [
       "          A         B         C         D\n",
       "0 -0.406151  0.334690  1.173736  1.172193\n",
       "1 -0.479995 -0.474772  1.556261 -0.225507\n",
       "2 -0.731589 -0.891049 -0.014477 -0.231227\n",
       "3  0.587955 -0.656295 -0.994908  0.656333\n",
       "4 -1.856895  1.097560  0.935746  0.921387"
      ]
     },
     "execution_count": 17,
     "metadata": {},
     "output_type": "execute_result"
    }
   ],
   "source": [
    "df.head()"
   ]
  },
  {
   "cell_type": "code",
   "execution_count": 18,
   "id": "56334430",
   "metadata": {},
   "outputs": [],
   "source": [
    "df2= pd.DataFrame({'Category' : ['A', 'B', 'C'], 'Values' : [32,42,50]})"
   ]
  },
  {
   "cell_type": "code",
   "execution_count": 19,
   "id": "556704e3",
   "metadata": {},
   "outputs": [
    {
     "data": {
      "text/html": [
       "<div>\n",
       "<style scoped>\n",
       "    .dataframe tbody tr th:only-of-type {\n",
       "        vertical-align: middle;\n",
       "    }\n",
       "\n",
       "    .dataframe tbody tr th {\n",
       "        vertical-align: top;\n",
       "    }\n",
       "\n",
       "    .dataframe thead th {\n",
       "        text-align: right;\n",
       "    }\n",
       "</style>\n",
       "<table border=\"1\" class=\"dataframe\">\n",
       "  <thead>\n",
       "    <tr style=\"text-align: right;\">\n",
       "      <th></th>\n",
       "      <th>Category</th>\n",
       "      <th>Values</th>\n",
       "    </tr>\n",
       "  </thead>\n",
       "  <tbody>\n",
       "    <tr>\n",
       "      <th>0</th>\n",
       "      <td>A</td>\n",
       "      <td>32</td>\n",
       "    </tr>\n",
       "    <tr>\n",
       "      <th>1</th>\n",
       "      <td>B</td>\n",
       "      <td>42</td>\n",
       "    </tr>\n",
       "    <tr>\n",
       "      <th>2</th>\n",
       "      <td>C</td>\n",
       "      <td>50</td>\n",
       "    </tr>\n",
       "  </tbody>\n",
       "</table>\n",
       "</div>"
      ],
      "text/plain": [
       "  Category  Values\n",
       "0        A      32\n",
       "1        B      42\n",
       "2        C      50"
      ]
     },
     "execution_count": 19,
     "metadata": {},
     "output_type": "execute_result"
    }
   ],
   "source": [
    "df2"
   ]
  },
  {
   "cell_type": "code",
   "execution_count": 20,
   "id": "82f284af",
   "metadata": {},
   "outputs": [
    {
     "data": {
      "text/plain": [
       "<AxesSubplot:>"
      ]
     },
     "execution_count": 20,
     "metadata": {},
     "output_type": "execute_result"
    },
    {
     "data": {
      "image/png": "[encoded data removed]",
      "text/plain": [
       "<Figure size 432x288 with 1 Axes>"
      ]
     },
     "metadata": {
      "needs_background": "light"
     },
     "output_type": "display_data"
    }
   ],
   "source": [
    "df.plot()"
   ]
  },
  {
   "cell_type": "code",
   "execution_count": 21,
   "id": "e2d66016",
   "metadata": {},
   "outputs": [
    {
     "data": {
      "application/vnd.plotly.v1+json": {
       "config": {
        "linkText": "Export to plotly.com",
        "plotlyServerURL": "https://plotly.com",
        "showLink": true
       },
       "data": [
        {
         "line": {
          "color": "rgba(255, 153, 51, 1.0)",
          "dash": "solid",
          "shape": "linear",
          "width": 1.3
         },
         "mode": "lines",
         "name": "A",
         "text": "",
         "type": "scatter",
         "x": [
          0,
          1,
          2,
          3,
          4,
          5,
          6,
          7,
          8,
          9,
          10,
          11,
          12,
          13,
          14,
          15,
          16,
          17,
          18,
          19,
          20,
          21,
          22,
          23,
          24,
          25,
          26,
          27,
          28,
          29,
          30,
          31,
          32,
          33,
          34,
          35,
          36,
          37,
          38,
          39,
          40,
          41,
          42,
          43,
          44,
          45,
          46,
          47,
          48,
          49,
          50,
          51,
          52,
          53,
          54,
          55,
          56,
          57,
          58,
          59,
          60,
          61,
          62,
          63,
          64,
          65,
          66,
          67,
          68,
          69,
          70,
          71,
          72,
          73,
          74,
          75,
          76,
          77,
          78,
          79,
          80,
          81,
          82,
          83,
          84,
          85,
          86,
          87,
          88,
          89,
          90,
          91,
          92,
          93,
          94,
          95,
          96,
          97,
          98,
          99
         ],
         "y": [
          -0.40615102691201077,
          -0.47999536952712385,
          -0.731589452209614,
          0.5879553428621914,
          -1.8568953718148897,
          0.9852963397699704,
          -0.4565079483975351,
          0.8985744483888078,
          -1.880550197114006,
          -2.495067192414269,
          0.24318773794361037,
          -2.278949369698818,
          -0.5490311250307648,
          0.14532734122867813,
          0.16276002203759868,
          -1.0591320920484073,
          0.05372109359972695,
          0.2035258413077142,
          -2.4564801144392163,
          0.006562014766148572,
          1.8299109338952464,
          -0.9675701363179834,
          1.0541841654244393,
          0.20884013344601376,
          -1.3891116084425656,
          0.27161097959040503,
          2.1283430566163135,
          -0.22494485238235143,
          -0.09599443616592065,
          -0.47463986288576715,
          -1.7001685826280957,
          -1.339622451274522,
          0.14880307684214328,
          -1.502406867092294,
          0.6697628491897455,
          1.6736896598940452,
          -1.1242305900000233,
          1.2716030457108993,
          -0.020503495668329225,
          -0.6004282275431292,
          -1.610798298038356,
          -0.7126845047666951,
          -0.25276036273175184,
          -0.31036598996075493,
          0.27657442247611386,
          0.36475971678819463,
          -0.3032001827072675,
          0.28120037852816376,
          -1.057923800745797,
          -0.7299540132790762,
          -1.0364219628836993,
          2.4916267759664805,
          1.1629521913280154,
          2.0054327257594626,
          -0.23891835735830366,
          -0.08667481619810505,
          0.1821673126387374,
          -0.9087506411647428,
          -0.2175223804697042,
          1.0366653428718404,
          -1.1387376153306084,
          -1.3134795663116043,
          -0.3109333372518202,
          -0.11731364062957415,
          -0.10397752332154095,
          0.17357286910884961,
          1.125123233663803,
          -0.18371208575837503,
          0.7475189213297856,
          -1.8732934204335845,
          0.3349278560198267,
          1.626356126253646,
          0.04965422963422056,
          -0.4617720171349,
          0.25881350378239626,
          -0.6898896998105463,
          0.7647345988279457,
          0.44480407531461874,
          0.09985660770502092,
          0.1461906720821347,
          0.04340642890250446,
          -0.10569764171165204,
          -2.5186919527957294,
          0.402553363843015,
          -1.1885416932522634,
          1.7141212243739197,
          0.6790642180576574,
          1.1679009178651383,
          -1.0087877679657051,
          -0.19813583121524153,
          0.9851166891438866,
          -0.0118683102180748,
          -0.44242679362729026,
          -0.05957237410520343,
          -0.8011467122356221,
          -0.27444702043341096,
          -1.8845227330028054,
          0.663868967586431,
          -0.29563990016503844,
          0.018384161821900682
         ]
        },
        {
         "line": {
          "color": "rgba(55, 128, 191, 1.0)",
          "dash": "solid",
          "shape": "linear",
          "width": 1.3
         },
         "mode": "lines",
         "name": "B",
         "text": "",
         "type": "scatter",
         "x": [
          0,
          1,
          2,
          3,
          4,
          5,
          6,
          7,
          8,
          9,
          10,
          11,
          12,
          13,
          14,
          15,
          16,
          17,
          18,
          19,
          20,
          21,
          22,
          23,
          24,
          25,
          26,
          27,
          28,
          29,
          30,
          31,
          32,
          33,
          34,
          35,
          36,
          37,
          38,
          39,
          40,
          41,
          42,
          43,
          44,
          45,
          46,
          47,
          48,
          49,
          50,
          51,
          52,
          53,
          54,
          55,
          56,
          57,
          58,
          59,
          60,
          61,
          62,
          63,
          64,
          65,
          66,
          67,
          68,
          69,
          70,
          71,
          72,
          73,
          74,
          75,
          76,
          77,
          78,
          79,
          80,
          81,
          82,
          83,
          84,
          85,
          86,
          87,
          88,
          89,
          90,
          91,
          92,
          93,
          94,
          95,
          96,
          97,
          98,
          99
         ],
         "y": [
          0.33469028609462786,
          -0.4747720494047677,
          -0.8910492574030071,
          -0.6562947499843159,
          1.0975595283397657,
          -0.08492187787388085,
          0.834157942765214,
          0.8261256825901863,
          0.4632193771172654,
          0.2118406780817216,
          -0.18660521525359663,
          -0.8772109585438541,
          0.9001431742247843,
          0.43622225877058113,
          0.3505049904764363,
          0.9315658697409118,
          -1.946983553008016,
          0.7644568957313809,
          -0.12255099035106522,
          0.18500821089394304,
          0.6312321003475739,
          -1.3583124190159115,
          0.6879322926800804,
          -0.340566305221331,
          1.10044477146272,
          -1.0455648116827128,
          0.3952180495751735,
          0.6896877211682053,
          -0.5155403800669799,
          1.4785314007970745,
          -1.0649728817509585,
          1.7852829028741184,
          0.8570954275978809,
          2.173712498989926,
          -1.0582631927924049,
          0.4985565174744666,
          -0.4473289358096288,
          0.4025239189309213,
          -0.15564462003233068,
          0.5381832495099379,
          -1.2214341198324867,
          -0.31187895934241877,
          1.024480489586102,
          -0.9575439080616085,
          1.2319230093188827,
          0.8433090402248943,
          -0.1743727135083682,
          -0.516081714378001,
          -0.05238583944339358,
          -0.09322087115568396,
          -1.3402000293873717,
          -2.349049257706284,
          -1.2853922081306273,
          -0.41339815261901414,
          -0.7700945857764542,
          1.6608970953042417,
          0.6176112005319743,
          -0.8202041643220608,
          -1.7363664986014162,
          0.12947655833098984,
          -1.2343545924493855,
          -0.3730297008989098,
          -0.3096507505421561,
          -0.9790966487903674,
          0.34996075464019377,
          2.380102070380568,
          -0.2440263432978862,
          0.7681940478056901,
          1.3570398145585194,
          -0.20157140820039438,
          0.2877302953363688,
          0.16851948185688861,
          -0.5644038341545653,
          0.9231079850639387,
          -0.944506176873885,
          1.054446152533765,
          -0.7207904072238942,
          0.4365114891422287,
          2.338324940574144,
          1.0257780537771517,
          -1.1618978051757043,
          -1.6327091540232865,
          0.9509386746206595,
          1.0231396871331329,
          0.3118062700792768,
          -2.4097800983317152,
          0.7571883722250382,
          0.4131747981644347,
          -1.455075148971204,
          -0.21915229540259684,
          0.4578621056720926,
          0.16564240034126468,
          -1.237646345341587,
          -1.8175037223783308,
          -0.7467476602610285,
          -0.08434524550962558,
          -1.9690707808886958,
          -1.160972757919005,
          -0.23118107997338297,
          -0.6316562531717944
         ]
        },
        {
         "line": {
          "color": "rgba(50, 171, 96, 1.0)",
          "dash": "solid",
          "shape": "linear",
          "width": 1.3
         },
         "mode": "lines",
         "name": "C",
         "text": "",
         "type": "scatter",
         "x": [
          0,
          1,
          2,
          3,
          4,
          5,
          6,
          7,
          8,
          9,
          10,
          11,
          12,
          13,
          14,
          15,
          16,
          17,
          18,
          19,
          20,
          21,
          22,
          23,
          24,
          25,
          26,
          27,
          28,
          29,
          30,
          31,
          32,
          33,
          34,
          35,
          36,
          37,
          38,
          39,
          40,
          41,
          42,
          43,
          44,
          45,
          46,
          47,
          48,
          49,
          50,
          51,
          52,
          53,
          54,
          55,
          56,
          57,
          58,
          59,
          60,
          61,
          62,
          63,
          64,
          65,
          66,
          67,
          68,
          69,
          70,
          71,
          72,
          73,
          74,
          75,
          76,
          77,
          78,
          79,
          80,
          81,
          82,
          83,
          84,
          85,
          86,
          87,
          88,
          89,
          90,
          91,
          92,
          93,
          94,
          95,
          96,
          97,
          98,
          99
         ],
         "y": [
          1.1737362333207728,
          1.5562612868774497,
          -0.014477400798201173,
          -0.9949081729820747,
          0.9357459497680499,
          0.12646190131838267,
          -0.3954971678824292,
          0.3430957446539166,
          0.9237407892776045,
          -0.09657627920969948,
          -1.8243055412777374,
          0.051993637559908906,
          -0.2727456870221832,
          -0.986463898356433,
          0.08565836080338578,
          0.2595033891481982,
          -0.5252644450116665,
          -1.0606034120376318,
          -1.0531339863226663,
          2.124426303973373,
          0.5386756257920999,
          -0.007511511275262967,
          1.1119203435398002,
          -0.23992367881368432,
          -1.6306447669964903,
          3.06700850806012,
          -1.5686351092233557,
          -0.3303055960327883,
          -2.6799375854206735,
          -0.059681128683770214,
          2.091684394948725,
          -0.8967544340093194,
          1.09190837290732,
          0.6071660132691131,
          -0.8682215185106045,
          -0.5929683036738767,
          1.1858783986893462,
          0.4364224172106424,
          -0.5607058909568162,
          2.2031077947680973,
          -2.0009293881751598,
          0.7424893040701714,
          0.8393707588892446,
          -0.816004938619743,
          -1.4229672866936136,
          0.16767953911777858,
          -0.3836304305107007,
          -0.6530503240203627,
          -0.4032092701394886,
          0.49550149133083987,
          -1.2219788650504726,
          -2.01711399525827,
          -1.3501399942480863,
          -0.3340565386962628,
          1.6208031740714461,
          -0.81865148507276,
          -0.7007388233092041,
          0.5136785611995491,
          0.35171848335376976,
          0.9435753712354081,
          0.27369781840798585,
          -1.9524180893392744,
          -0.8624643631571148,
          0.8430570654922642,
          2.1323244795491156,
          -0.6288100804146632,
          1.3589889331060612,
          -0.557235992767454,
          -1.3792429504800554,
          0.130518031523595,
          -0.9227967429596617,
          0.6573125910979403,
          -0.23994717138183025,
          0.6626844035939178,
          0.7741461543370848,
          0.48579671998018553,
          -1.3130302860341112,
          -2.3704585045470785,
          -1.3160142246509,
          0.04462568929934854,
          -1.9574264167929238,
          -0.7695788548393496,
          -0.9140157180522013,
          -1.5892123568347112,
          0.6936677916768622,
          1.1210373544275518,
          0.7961678326691228,
          -0.8391943240960812,
          0.24015769746489576,
          -0.5508983796531722,
          1.12627939397085,
          0.9029350084574046,
          -2.432031096989011,
          0.7657320319014022,
          -0.8199738797904056,
          0.936354598692254,
          1.4219270790134204,
          1.3436035732956615,
          1.068728347985142,
          -0.1274801263802885
         ]
        },
        {
         "line": {
          "color": "rgba(128, 0, 128, 1.0)",
          "dash": "solid",
          "shape": "linear",
          "width": 1.3
         },
         "mode": "lines",
         "name": "D",
         "text": "",
         "type": "scatter",
         "x": [
          0,
          1,
          2,
          3,
          4,
          5,
          6,
          7,
          8,
          9,
          10,
          11,
          12,
          13,
          14,
          15,
          16,
          17,
          18,
          19,
          20,
          21,
          22,
          23,
          24,
          25,
          26,
          27,
          28,
          29,
          30,
          31,
          32,
          33,
          34,
          35,
          36,
          37,
          38,
          39,
          40,
          41,
          42,
          43,
          44,
          45,
          46,
          47,
          48,
          49,
          50,
          51,
          52,
          53,
          54,
          55,
          56,
          57,
          58,
          59,
          60,
          61,
          62,
          63,
          64,
          65,
          66,
          67,
          68,
          69,
          70,
          71,
          72,
          73,
          74,
          75,
          76,
          77,
          78,
          79,
          80,
          81,
          82,
          83,
          84,
          85,
          86,
          87,
          88,
          89,
          90,
          91,
          92,
          93,
          94,
          95,
          96,
          97,
          98,
          99
         ],
         "y": [
          1.1721929351470735,
          -0.22550678449579425,
          -0.23122702155824176,
          0.6563333186487523,
          0.9213870194866701,
          -0.940057159600806,
          1.0628180142729196,
          -0.7499896102609849,
          0.30784931824423095,
          2.266399430883198,
          -0.44880797942819267,
          1.1422936229435676,
          0.09103811544473554,
          2.069523663590396,
          1.2508805902953954,
          -0.3047131602462184,
          0.9197394716886824,
          1.0057324663857043,
          -0.4333404738483218,
          1.1010416821236282,
          0.20656145868170267,
          0.26233863218323333,
          1.5060412455601153,
          -0.13402585348303264,
          -0.32697483748177253,
          1.079837128902801,
          0.004728406171932221,
          -0.6226718331405126,
          -0.4490701297158038,
          0.15225931142287583,
          0.9153052362338638,
          -0.6622649748463805,
          -0.054998896163471284,
          -1.845316075636726,
          0.01180849735745713,
          0.6209732383074823,
          -2.1112426036073337,
          -0.0821528976491328,
          -1.0224783410842313,
          0.4878918372140083,
          0.4671284655613165,
          -1.5994765830828284,
          -0.6725580152001758,
          0.44366080628539195,
          0.07415873128838171,
          -1.3249369973109828,
          1.1551445342220152,
          1.7332337195085488,
          -0.3657857984091364,
          -0.2873417734161192,
          -0.9709572050937714,
          -0.742372297830512,
          0.3794411738916534,
          0.2762755085921835,
          0.4148111210160986,
          1.004193222747808,
          1.735974995400932,
          0.17378939529727316,
          -0.39644398612996373,
          -0.2213175939757858,
          2.028025374229803,
          0.8741309031602762,
          -0.6177222409549274,
          -0.46832601837327215,
          0.8383996980225872,
          -0.13213402794172005,
          -0.7856771366004357,
          0.3907141014040696,
          0.7893113881559564,
          0.6582413953787006,
          -1.016539631599919,
          -0.7453435716771191,
          -0.020939124576196497,
          0.7032878546039067,
          -0.17619490382371217,
          -0.2779787776331174,
          -0.880442853112146,
          0.09774250949862644,
          0.6245392330085496,
          1.7064080979818954,
          1.3613379387667601,
          0.6412515175675733,
          0.1519953216329928,
          0.031348203336145526,
          -0.31098136014267036,
          0.7875720539862844,
          0.5889390839956123,
          0.4337578296750308,
          0.7171693251896951,
          -1.3440293593443675,
          -0.6736381577049158,
          -0.16567637011293324,
          0.8087465848833933,
          -0.45027639803246394,
          0.6994790917892251,
          0.5714910202749229,
          -0.32518777808721416,
          -0.8740087859949409,
          1.2355915780078561,
          0.5935130920319255
         ]
        }
       ],
       "layout": {
        "legend": {
         "bgcolor": "#F5F6F9",
         "font": {
          "color": "#4D5663"
         }
        },
        "paper_bgcolor": "#F5F6F9",
        "plot_bgcolor": "#F5F6F9",
        "template": {
         "data": {
          "bar": [
           {
            "error_x": {
             "color": "#2a3f5f"
            },
            "error_y": {
             "color": "#2a3f5f"
            },
            "marker": {
             "line": {
              "color": "#E5ECF6",
              "width": 0.5
             },
             "pattern": {
              "fillmode": "overlay",
              "size": 10,
              "solidity": 0.2
             }
            },
            "type": "bar"
           }
          ],
          "barpolar": [
           {
            "marker": {
             "line": {
              "color": "#E5ECF6",
              "width": 0.5
             },
             "pattern": {
              "fillmode": "overlay",
              "size": 10,
              "solidity": 0.2
             }
            },
            "type": "barpolar"
           }
          ],
          "carpet": [
           {
            "aaxis": {
             "endlinecolor": "#2a3f5f",
             "gridcolor": "white",
             "linecolor": "white",
             "minorgridcolor": "white",
             "startlinecolor": "#2a3f5f"
            },
            "baxis": {
             "endlinecolor": "#2a3f5f",
             "gridcolor": "white",
             "linecolor": "white",
             "minorgridcolor": "white",
             "startlinecolor": "#2a3f5f"
            },
            "type": "carpet"
           }
          ],
          "choropleth": [
           {
            "colorbar": {
             "outlinewidth": 0,
             "ticks": ""
            },
            "type": "choropleth"
           }
          ],
          "contour": [
           {
            "colorbar": {
             "outlinewidth": 0,
             "ticks": ""
            },
            "colorscale": [
             [
              0,
              "#0d0887"
             ],
             [
              0.1111111111111111,
              "#46039f"
             ],
             [
              0.2222222222222222,
              "#7201a8"
             ],
             [
              0.3333333333333333,
              "#9c179e"
             ],
             [
              0.4444444444444444,
              "#bd3786"
             ],
             [
              0.5555555555555556,
              "#d8576b"
             ],
             [
              0.6666666666666666,
              "#ed7953"
             ],
             [
              0.7777777777777778,
              "#fb9f3a"
             ],
             [
              0.8888888888888888,
              "#fdca26"
             ],
             [
              1,
              "#f0f921"
             ]
            ],
            "type": "contour"
           }
          ],
          "contourcarpet": [
           {
            "colorbar": {
             "outlinewidth": 0,
             "ticks": ""
            },
            "type": "contourcarpet"
           }
          ],
          "heatmap": [
           {
            "colorbar": {
             "outlinewidth": 0,
             "ticks": ""
            },
            "colorscale": [
             [
              0,
              "#0d0887"
             ],
             [
              0.1111111111111111,
              "#46039f"
             ],
             [
              0.2222222222222222,
              "#7201a8"
             ],
             [
              0.3333333333333333,
              "#9c179e"
             ],
             [
              0.4444444444444444,
              "#bd3786"
             ],
             [
              0.5555555555555556,
              "#d8576b"
             ],
             [
              0.6666666666666666,
              "#ed7953"
             ],
             [
              0.7777777777777778,
              "#fb9f3a"
             ],
             [
              0.8888888888888888,
              "#fdca26"
             ],
             [
              1,
              "#f0f921"
             ]
            ],
            "type": "heatmap"
           }
          ],
          "heatmapgl": [
           {
            "colorbar": {
             "outlinewidth": 0,
             "ticks": ""
            },
            "colorscale": [
             [
              0,
              "#0d0887"
             ],
             [
              0.1111111111111111,
              "#46039f"
             ],
             [
              0.2222222222222222,
              "#7201a8"
             ],
             [
              0.3333333333333333,
              "#9c179e"
             ],
             [
              0.4444444444444444,
              "#bd3786"
             ],
             [
              0.5555555555555556,
              "#d8576b"
             ],
             [
              0.6666666666666666,
              "#ed7953"
             ],
             [
              0.7777777777777778,
              "#fb9f3a"
             ],
             [
              0.8888888888888888,
              "#fdca26"
             ],
             [
              1,
              "#f0f921"
             ]
            ],
            "type": "heatmapgl"
           }
          ],
          "histogram": [
           {
            "marker": {
             "pattern": {
              "fillmode": "overlay",
              "size": 10,
              "solidity": 0.2
             }
            },
            "type": "histogram"
           }
          ],
          "histogram2d": [
           {
            "colorbar": {
             "outlinewidth": 0,
             "ticks": ""
            },
            "colorscale": [
             [
              0,
              "#0d0887"
             ],
             [
              0.1111111111111111,
              "#46039f"
             ],
             [
              0.2222222222222222,
              "#7201a8"
             ],
             [
              0.3333333333333333,
              "#9c179e"
             ],
             [
              0.4444444444444444,
              "#bd3786"
             ],
             [
              0.5555555555555556,
              "#d8576b"
             ],
             [
              0.6666666666666666,
              "#ed7953"
             ],
             [
              0.7777777777777778,
              "#fb9f3a"
             ],
             [
              0.8888888888888888,
              "#fdca26"
             ],
             [
              1,
              "#f0f921"
             ]
            ],
            "type": "histogram2d"
           }
          ],
          "histogram2dcontour": [
           {
            "colorbar": {
             "outlinewidth": 0,
             "ticks": ""
            },
            "colorscale": [
             [
              0,
              "#0d0887"
             ],
             [
              0.1111111111111111,
              "#46039f"
             ],
             [
              0.2222222222222222,
              "#7201a8"
             ],
             [
              0.3333333333333333,
              "#9c179e"
             ],
             [
              0.4444444444444444,
              "#bd3786"
             ],
             [
              0.5555555555555556,
              "#d8576b"
             ],
             [
              0.6666666666666666,
              "#ed7953"
             ],
             [
              0.7777777777777778,
              "#fb9f3a"
             ],
             [
              0.8888888888888888,
              "#fdca26"
             ],
             [
              1,
              "#f0f921"
             ]
            ],
            "type": "histogram2dcontour"
           }
          ],
          "mesh3d": [
           {
            "colorbar": {
             "outlinewidth": 0,
             "ticks": ""
            },
            "type": "mesh3d"
           }
          ],
          "parcoords": [
           {
            "line": {
             "colorbar": {
              "outlinewidth": 0,
              "ticks": ""
             }
            },
            "type": "parcoords"
           }
          ],
          "pie": [
           {
            "automargin": true,
            "type": "pie"
           }
          ],
          "scatter": [
           {
            "fillpattern": {
             "fillmode": "overlay",
             "size": 10,
             "solidity": 0.2
            },
            "type": "scatter"
           }
          ],
          "scatter3d": [
           {
            "line": {
             "colorbar": {
              "outlinewidth": 0,
              "ticks": ""
             }
            },
            "marker": {
             "colorbar": {
              "outlinewidth": 0,
              "ticks": ""
             }
            },
            "type": "scatter3d"
           }
          ],
          "scattercarpet": [
           {
            "marker": {
             "colorbar": {
              "outlinewidth": 0,
              "ticks": ""
             }
            },
            "type": "scattercarpet"
           }
          ],
          "scattergeo": [
           {
            "marker": {
             "colorbar": {
              "outlinewidth": 0,
              "ticks": ""
             }
            },
            "type": "scattergeo"
           }
          ],
          "scattergl": [
           {
            "marker": {
             "colorbar": {
              "outlinewidth": 0,
              "ticks": ""
             }
            },
            "type": "scattergl"
           }
          ],
          "scattermapbox": [
           {
            "marker": {
             "colorbar": {
              "outlinewidth": 0,
              "ticks": ""
             }
            },
            "type": "scattermapbox"
           }
          ],
          "scatterpolar": [
           {
            "marker": {
             "colorbar": {
              "outlinewidth": 0,
              "ticks": ""
             }
            },
            "type": "scatterpolar"
           }
          ],
          "scatterpolargl": [
           {
            "marker": {
             "colorbar": {
              "outlinewidth": 0,
              "ticks": ""
             }
            },
            "type": "scatterpolargl"
           }
          ],
          "scatterternary": [
           {
            "marker": {
             "colorbar": {
              "outlinewidth": 0,
              "ticks": ""
             }
            },
            "type": "scatterternary"
           }
          ],
          "surface": [
           {
            "colorbar": {
             "outlinewidth": 0,
             "ticks": ""
            },
            "colorscale": [
             [
              0,
              "#0d0887"
             ],
             [
              0.1111111111111111,
              "#46039f"
             ],
             [
              0.2222222222222222,
              "#7201a8"
             ],
             [
              0.3333333333333333,
              "#9c179e"
             ],
             [
              0.4444444444444444,
              "#bd3786"
             ],
             [
              0.5555555555555556,
              "#d8576b"
             ],
             [
              0.6666666666666666,
              "#ed7953"
             ],
             [
              0.7777777777777778,
              "#fb9f3a"
             ],
             [
              0.8888888888888888,
              "#fdca26"
             ],
             [
              1,
              "#f0f921"
             ]
            ],
            "type": "surface"
           }
          ],
          "table": [
           {
            "cells": {
             "fill": {
              "color": "#EBF0F8"
             },
             "line": {
              "color": "white"
             }
            },
            "header": {
             "fill": {
              "color": "#C8D4E3"
             },
             "line": {
              "color": "white"
             }
            },
            "type": "table"
           }
          ]
         },
         "layout": {
          "annotationdefaults": {
           "arrowcolor": "#2a3f5f",
           "arrowhead": 0,
           "arrowwidth": 1
          },
          "autotypenumbers": "strict",
          "coloraxis": {
           "colorbar": {
            "outlinewidth": 0,
            "ticks": ""
           }
          },
          "colorscale": {
           "diverging": [
            [
             0,
             "#8e0152"
            ],
            [
             0.1,
             "#c51b7d"
            ],
            [
             0.2,
             "#de77ae"
            ],
            [
             0.3,
             "#f1b6da"
            ],
            [
             0.4,
             "#fde0ef"
            ],
            [
             0.5,
             "#f7f7f7"
            ],
            [
             0.6,
             "#e6f5d0"
            ],
            [
             0.7,
             "#b8e186"
            ],
            [
             0.8,
             "#7fbc41"
            ],
            [
             0.9,
             "#4d9221"
            ],
            [
             1,
             "#276419"
            ]
           ],
           "sequential": [
            [
             0,
             "#0d0887"
            ],
            [
             0.1111111111111111,
             "#46039f"
            ],
            [
             0.2222222222222222,
             "#7201a8"
            ],
            [
             0.3333333333333333,
             "#9c179e"
            ],
            [
             0.4444444444444444,
             "#bd3786"
            ],
            [
             0.5555555555555556,
             "#d8576b"
            ],
            [
             0.6666666666666666,
             "#ed7953"
            ],
            [
             0.7777777777777778,
             "#fb9f3a"
            ],
            [
             0.8888888888888888,
             "#fdca26"
            ],
            [
             1,
             "#f0f921"
            ]
           ],
           "sequentialminus": [
            [
             0,
             "#0d0887"
            ],
            [
             0.1111111111111111,
             "#46039f"
            ],
            [
             0.2222222222222222,
             "#7201a8"
            ],
            [
             0.3333333333333333,
             "#9c179e"
            ],
            [
             0.4444444444444444,
             "#bd3786"
            ],
            [
             0.5555555555555556,
             "#d8576b"
            ],
            [
             0.6666666666666666,
             "#ed7953"
            ],
            [
             0.7777777777777778,
             "#fb9f3a"
            ],
            [
             0.8888888888888888,
             "#fdca26"
            ],
            [
             1,
             "#f0f921"
            ]
           ]
          },
          "colorway": [
           "#636efa",
           "#EF553B",
           "#00cc96",
           "#ab63fa",
           "#FFA15A",
           "#19d3f3",
           "#FF6692",
           "#B6E880",
           "#FF97FF",
           "#FECB52"
          ],
          "font": {
           "color": "#2a3f5f"
          },
          "geo": {
           "bgcolor": "white",
           "lakecolor": "white",
           "landcolor": "#E5ECF6",
           "showlakes": true,
           "showland": true,
           "subunitcolor": "white"
          },
          "hoverlabel": {
           "align": "left"
          },
          "hovermode": "closest",
          "mapbox": {
           "style": "light"
          },
          "paper_bgcolor": "white",
          "plot_bgcolor": "#E5ECF6",
          "polar": {
           "angularaxis": {
            "gridcolor": "white",
            "linecolor": "white",
            "ticks": ""
           },
           "bgcolor": "#E5ECF6",
           "radialaxis": {
            "gridcolor": "white",
            "linecolor": "white",
            "ticks": ""
           }
          },
          "scene": {
           "xaxis": {
            "backgroundcolor": "#E5ECF6",
            "gridcolor": "white",
            "gridwidth": 2,
            "linecolor": "white",
            "showbackground": true,
            "ticks": "",
            "zerolinecolor": "white"
           },
           "yaxis": {
            "backgroundcolor": "#E5ECF6",
            "gridcolor": "white",
            "gridwidth": 2,
            "linecolor": "white",
            "showbackground": true,
            "ticks": "",
            "zerolinecolor": "white"
           },
           "zaxis": {
            "backgroundcolor": "#E5ECF6",
            "gridcolor": "white",
            "gridwidth": 2,
            "linecolor": "white",
            "showbackground": true,
            "ticks": "",
            "zerolinecolor": "white"
           }
          },
          "shapedefaults": {
           "line": {
            "color": "#2a3f5f"
           }
          },
          "ternary": {
           "aaxis": {
            "gridcolor": "white",
            "linecolor": "white",
            "ticks": ""
           },
           "baxis": {
            "gridcolor": "white",
            "linecolor": "white",
            "ticks": ""
           },
           "bgcolor": "#E5ECF6",
           "caxis": {
            "gridcolor": "white",
            "linecolor": "white",
            "ticks": ""
           }
          },
          "title": {
           "x": 0.05
          },
          "xaxis": {
           "automargin": true,
           "gridcolor": "white",
           "linecolor": "white",
           "ticks": "",
           "title": {
            "standoff": 15
           },
           "zerolinecolor": "white",
           "zerolinewidth": 2
          },
          "yaxis": {
           "automargin": true,
           "gridcolor": "white",
           "linecolor": "white",
           "ticks": "",
           "title": {
            "standoff": 15
           },
           "zerolinecolor": "white",
           "zerolinewidth": 2
          }
         }
        },
        "title": {
         "font": {
          "color": "#4D5663"
         }
        },
        "xaxis": {
         "gridcolor": "#E1E5ED",
         "showgrid": true,
         "tickfont": {
          "color": "#4D5663"
         },
         "title": {
          "font": {
           "color": "#4D5663"
          },
          "text": ""
         },
         "zerolinecolor": "#E1E5ED"
        },
        "yaxis": {
         "gridcolor": "#E1E5ED",
         "showgrid": true,
         "tickfont": {
          "color": "#4D5663"
         },
         "title": {
          "font": {
           "color": "#4D5663"
          },
          "text": ""
         },
         "zerolinecolor": "#E1E5ED"
        }
       }
      },
      "text/html": [
       "<div>                            <div id=\"7e3b5462-6a92-42d3-88df-3edfab896a7e\" class=\"plotly-graph-div\" style=\"height:525px; width:100%;\"></div>            <script type=\"text/javascript\">                require([\"plotly\"], function(Plotly) {                    window.PLOTLYENV=window.PLOTLYENV || {};\n",
       "                    window.PLOTLYENV.BASE_URL='https://plotly.com';                                    if (document.getElementById(\"7e3b5462-6a92-42d3-88df-3edfab896a7e\")) {                    Plotly.newPlot(                        \"7e3b5462-6a92-42d3-88df-3edfab896a7e\",                        [{\"line\":{\"color\":\"rgba(255, 153, 51, 1.0)\",\"dash\":\"solid\",\"shape\":\"linear\",\"width\":1.3},\"mode\":\"lines\",\"name\":\"A\",\"text\":\"\",\"x\":[0,1,2,3,4,5,6,7,8,9,10,11,12,13,14,15,16,17,18,19,20,21,22,23,24,25,26,27,28,29,30,31,32,33,34,35,36,37,38,39,40,41,42,43,44,45,46,47,48,49,50,51,52,53,54,55,56,57,58,59,60,61,62,63,64,65,66,67,68,69,70,71,72,73,74,75,76,77,78,79,80,81,82,83,84,85,86,87,88,89,90,91,92,93,94,95,96,97,98,99],\"y\":[-0.40615102691201077,-0.47999536952712385,-0.731589452209614,0.5879553428621914,-1.8568953718148897,0.9852963397699704,-0.4565079483975351,0.8985744483888078,-1.880550197114006,-2.495067192414269,0.24318773794361037,-2.278949369698818,-0.5490311250307648,0.14532734122867813,0.16276002203759868,-1.0591320920484073,0.05372109359972695,0.2035258413077142,-2.4564801144392163,0.006562014766148572,1.8299109338952464,-0.9675701363179834,1.0541841654244393,0.20884013344601376,-1.3891116084425656,0.27161097959040503,2.1283430566163135,-0.22494485238235143,-0.09599443616592065,-0.47463986288576715,-1.7001685826280957,-1.339622451274522,0.14880307684214328,-1.502406867092294,0.6697628491897455,1.6736896598940452,-1.1242305900000233,1.2716030457108993,-0.020503495668329225,-0.6004282275431292,-1.610798298038356,-0.7126845047666951,-0.25276036273175184,-0.31036598996075493,0.27657442247611386,0.36475971678819463,-0.3032001827072675,0.28120037852816376,-1.057923800745797,-0.7299540132790762,-1.0364219628836993,2.4916267759664805,1.1629521913280154,2.0054327257594626,-0.23891835735830366,-0.08667481619810505,0.1821673126387374,-0.9087506411647428,-0.2175223804697042,1.0366653428718404,-1.1387376153306084,-1.3134795663116043,-0.3109333372518202,-0.11731364062957415,-0.10397752332154095,0.17357286910884961,1.125123233663803,-0.18371208575837503,0.7475189213297856,-1.8732934204335845,0.3349278560198267,1.626356126253646,0.04965422963422056,-0.4617720171349,0.25881350378239626,-0.6898896998105463,0.7647345988279457,0.44480407531461874,0.09985660770502092,0.1461906720821347,0.04340642890250446,-0.10569764171165204,-2.5186919527957294,0.402553363843015,-1.1885416932522634,1.7141212243739197,0.6790642180576574,1.1679009178651383,-1.0087877679657051,-0.19813583121524153,0.9851166891438866,-0.0118683102180748,-0.44242679362729026,-0.05957237410520343,-0.8011467122356221,-0.27444702043341096,-1.8845227330028054,0.663868967586431,-0.29563990016503844,0.018384161821900682],\"type\":\"scatter\"},{\"line\":{\"color\":\"rgba(55, 128, 191, 1.0)\",\"dash\":\"solid\",\"shape\":\"linear\",\"width\":1.3},\"mode\":\"lines\",\"name\":\"B\",\"text\":\"\",\"x\":[0,1,2,3,4,5,6,7,8,9,10,11,12,13,14,15,16,17,18,19,20,21,22,23,24,25,26,27,28,29,30,31,32,33,34,35,36,37,38,39,40,41,42,43,44,45,46,47,48,49,50,51,52,53,54,55,56,57,58,59,60,61,62,63,64,65,66,67,68,69,70,71,72,73,74,75,76,77,78,79,80,81,82,83,84,85,86,87,88,89,90,91,92,93,94,95,96,97,98,99],\"y\":[0.33469028609462786,-0.4747720494047677,-0.8910492574030071,-0.6562947499843159,1.0975595283397657,-0.08492187787388085,0.834157942765214,0.8261256825901863,0.4632193771172654,0.2118406780817216,-0.18660521525359663,-0.8772109585438541,0.9001431742247843,0.43622225877058113,0.3505049904764363,0.9315658697409118,-1.946983553008016,0.7644568957313809,-0.12255099035106522,0.18500821089394304,0.6312321003475739,-1.3583124190159115,0.6879322926800804,-0.340566305221331,1.10044477146272,-1.0455648116827128,0.3952180495751735,0.6896877211682053,-0.5155403800669799,1.4785314007970745,-1.0649728817509585,1.7852829028741184,0.8570954275978809,2.173712498989926,-1.0582631927924049,0.4985565174744666,-0.4473289358096288,0.4025239189309213,-0.15564462003233068,0.5381832495099379,-1.2214341198324867,-0.31187895934241877,1.024480489586102,-0.9575439080616085,1.2319230093188827,0.8433090402248943,-0.1743727135083682,-0.516081714378001,-0.05238583944339358,-0.09322087115568396,-1.3402000293873717,-2.349049257706284,-1.2853922081306273,-0.41339815261901414,-0.7700945857764542,1.6608970953042417,0.6176112005319743,-0.8202041643220608,-1.7363664986014162,0.12947655833098984,-1.2343545924493855,-0.3730297008989098,-0.3096507505421561,-0.9790966487903674,0.34996075464019377,2.380102070380568,-0.2440263432978862,0.7681940478056901,1.3570398145585194,-0.20157140820039438,0.2877302953363688,0.16851948185688861,-0.5644038341545653,0.9231079850639387,-0.944506176873885,1.054446152533765,-0.7207904072238942,0.4365114891422287,2.338324940574144,1.0257780537771517,-1.1618978051757043,-1.6327091540232865,0.9509386746206595,1.0231396871331329,0.3118062700792768,-2.4097800983317152,0.7571883722250382,0.4131747981644347,-1.455075148971204,-0.21915229540259684,0.4578621056720926,0.16564240034126468,-1.237646345341587,-1.8175037223783308,-0.7467476602610285,-0.08434524550962558,-1.9690707808886958,-1.160972757919005,-0.23118107997338297,-0.6316562531717944],\"type\":\"scatter\"},{\"line\":{\"color\":\"rgba(50, 171, 96, 1.0)\",\"dash\":\"solid\",\"shape\":\"linear\",\"width\":1.3},\"mode\":\"lines\",\"name\":\"C\",\"text\":\"\",\"x\":[0,1,2,3,4,5,6,7,8,9,10,11,12,13,14,15,16,17,18,19,20,21,22,23,24,25,26,27,28,29,30,31,32,33,34,35,36,37,38,39,40,41,42,43,44,45,46,47,48,49,50,51,52,53,54,55,56,57,58,59,60,61,62,63,64,65,66,67,68,69,70,71,72,73,74,75,76,77,78,79,80,81,82,83,84,85,86,87,88,89,90,91,92,93,94,95,96,97,98,99],\"y\":[1.1737362333207728,1.5562612868774497,-0.014477400798201173,-0.9949081729820747,0.9357459497680499,0.12646190131838267,-0.3954971678824292,0.3430957446539166,0.9237407892776045,-0.09657627920969948,-1.8243055412777374,0.051993637559908906,-0.2727456870221832,-0.986463898356433,0.08565836080338578,0.2595033891481982,-0.5252644450116665,-1.0606034120376318,-1.0531339863226663,2.124426303973373,0.5386756257920999,-0.007511511275262967,1.1119203435398002,-0.23992367881368432,-1.6306447669964903,3.06700850806012,-1.5686351092233557,-0.3303055960327883,-2.6799375854206735,-0.059681128683770214,2.091684394948725,-0.8967544340093194,1.09190837290732,0.6071660132691131,-0.8682215185106045,-0.5929683036738767,1.1858783986893462,0.4364224172106424,-0.5607058909568162,2.2031077947680973,-2.0009293881751598,0.7424893040701714,0.8393707588892446,-0.816004938619743,-1.4229672866936136,0.16767953911777858,-0.3836304305107007,-0.6530503240203627,-0.4032092701394886,0.49550149133083987,-1.2219788650504726,-2.01711399525827,-1.3501399942480863,-0.3340565386962628,1.6208031740714461,-0.81865148507276,-0.7007388233092041,0.5136785611995491,0.35171848335376976,0.9435753712354081,0.27369781840798585,-1.9524180893392744,-0.8624643631571148,0.8430570654922642,2.1323244795491156,-0.6288100804146632,1.3589889331060612,-0.557235992767454,-1.3792429504800554,0.130518031523595,-0.9227967429596617,0.6573125910979403,-0.23994717138183025,0.6626844035939178,0.7741461543370848,0.48579671998018553,-1.3130302860341112,-2.3704585045470785,-1.3160142246509,0.04462568929934854,-1.9574264167929238,-0.7695788548393496,-0.9140157180522013,-1.5892123568347112,0.6936677916768622,1.1210373544275518,0.7961678326691228,-0.8391943240960812,0.24015769746489576,-0.5508983796531722,1.12627939397085,0.9029350084574046,-2.432031096989011,0.7657320319014022,-0.8199738797904056,0.936354598692254,1.4219270790134204,1.3436035732956615,1.068728347985142,-0.1274801263802885],\"type\":\"scatter\"},{\"line\":{\"color\":\"rgba(128, 0, 128, 1.0)\",\"dash\":\"solid\",\"shape\":\"linear\",\"width\":1.3},\"mode\":\"lines\",\"name\":\"D\",\"text\":\"\",\"x\":[0,1,2,3,4,5,6,7,8,9,10,11,12,13,14,15,16,17,18,19,20,21,22,23,24,25,26,27,28,29,30,31,32,33,34,35,36,37,38,39,40,41,42,43,44,45,46,47,48,49,50,51,52,53,54,55,56,57,58,59,60,61,62,63,64,65,66,67,68,69,70,71,72,73,74,75,76,77,78,79,80,81,82,83,84,85,86,87,88,89,90,91,92,93,94,95,96,97,98,99],\"y\":[1.1721929351470735,-0.22550678449579425,-0.23122702155824176,0.6563333186487523,0.9213870194866701,-0.940057159600806,1.0628180142729196,-0.7499896102609849,0.30784931824423095,2.266399430883198,-0.44880797942819267,1.1422936229435676,0.09103811544473554,2.069523663590396,1.2508805902953954,-0.3047131602462184,0.9197394716886824,1.0057324663857043,-0.4333404738483218,1.1010416821236282,0.20656145868170267,0.26233863218323333,1.5060412455601153,-0.13402585348303264,-0.32697483748177253,1.079837128902801,0.004728406171932221,-0.6226718331405126,-0.4490701297158038,0.15225931142287583,0.9153052362338638,-0.6622649748463805,-0.054998896163471284,-1.845316075636726,0.01180849735745713,0.6209732383074823,-2.1112426036073337,-0.0821528976491328,-1.0224783410842313,0.4878918372140083,0.4671284655613165,-1.5994765830828284,-0.6725580152001758,0.44366080628539195,0.07415873128838171,-1.3249369973109828,1.1551445342220152,1.7332337195085488,-0.3657857984091364,-0.2873417734161192,-0.9709572050937714,-0.742372297830512,0.3794411738916534,0.2762755085921835,0.4148111210160986,1.004193222747808,1.735974995400932,0.17378939529727316,-0.39644398612996373,-0.2213175939757858,2.028025374229803,0.8741309031602762,-0.6177222409549274,-0.46832601837327215,0.8383996980225872,-0.13213402794172005,-0.7856771366004357,0.3907141014040696,0.7893113881559564,0.6582413953787006,-1.016539631599919,-0.7453435716771191,-0.020939124576196497,0.7032878546039067,-0.17619490382371217,-0.2779787776331174,-0.880442853112146,0.09774250949862644,0.6245392330085496,1.7064080979818954,1.3613379387667601,0.6412515175675733,0.1519953216329928,0.031348203336145526,-0.31098136014267036,0.7875720539862844,0.5889390839956123,0.4337578296750308,0.7171693251896951,-1.3440293593443675,-0.6736381577049158,-0.16567637011293324,0.8087465848833933,-0.45027639803246394,0.6994790917892251,0.5714910202749229,-0.32518777808721416,-0.8740087859949409,1.2355915780078561,0.5935130920319255],\"type\":\"scatter\"}],                        {\"legend\":{\"bgcolor\":\"#F5F6F9\",\"font\":{\"color\":\"#4D5663\"}},\"paper_bgcolor\":\"#F5F6F9\",\"plot_bgcolor\":\"#F5F6F9\",\"template\":{\"data\":{\"barpolar\":[{\"marker\":{\"line\":{\"color\":\"#E5ECF6\",\"width\":0.5},\"pattern\":{\"fillmode\":\"overlay\",\"size\":10,\"solidity\":0.2}},\"type\":\"barpolar\"}],\"bar\":[{\"error_x\":{\"color\":\"#2a3f5f\"},\"error_y\":{\"color\":\"#2a3f5f\"},\"marker\":{\"line\":{\"color\":\"#E5ECF6\",\"width\":0.5},\"pattern\":{\"fillmode\":\"overlay\",\"size\":10,\"solidity\":0.2}},\"type\":\"bar\"}],\"carpet\":[{\"aaxis\":{\"endlinecolor\":\"#2a3f5f\",\"gridcolor\":\"white\",\"linecolor\":\"white\",\"minorgridcolor\":\"white\",\"startlinecolor\":\"#2a3f5f\"},\"baxis\":{\"endlinecolor\":\"#2a3f5f\",\"gridcolor\":\"white\",\"linecolor\":\"white\",\"minorgridcolor\":\"white\",\"startlinecolor\":\"#2a3f5f\"},\"type\":\"carpet\"}],\"choropleth\":[{\"colorbar\":{\"outlinewidth\":0,\"ticks\":\"\"},\"type\":\"choropleth\"}],\"contourcarpet\":[{\"colorbar\":{\"outlinewidth\":0,\"ticks\":\"\"},\"type\":\"contourcarpet\"}],\"contour\":[{\"colorbar\":{\"outlinewidth\":0,\"ticks\":\"\"},\"colorscale\":[[0.0,\"#0d0887\"],[0.1111111111111111,\"#46039f\"],[0.2222222222222222,\"#7201a8\"],[0.3333333333333333,\"#9c179e\"],[0.4444444444444444,\"#bd3786\"],[0.5555555555555556,\"#d8576b\"],[0.6666666666666666,\"#ed7953\"],[0.7777777777777778,\"#fb9f3a\"],[0.8888888888888888,\"#fdca26\"],[1.0,\"#f0f921\"]],\"type\":\"contour\"}],\"heatmapgl\":[{\"colorbar\":{\"outlinewidth\":0,\"ticks\":\"\"},\"colorscale\":[[0.0,\"#0d0887\"],[0.1111111111111111,\"#46039f\"],[0.2222222222222222,\"#7201a8\"],[0.3333333333333333,\"#9c179e\"],[0.4444444444444444,\"#bd3786\"],[0.5555555555555556,\"#d8576b\"],[0.6666666666666666,\"#ed7953\"],[0.7777777777777778,\"#fb9f3a\"],[0.8888888888888888,\"#fdca26\"],[1.0,\"#f0f921\"]],\"type\":\"heatmapgl\"}],\"heatmap\":[{\"colorbar\":{\"outlinewidth\":0,\"ticks\":\"\"},\"colorscale\":[[0.0,\"#0d0887\"],[0.1111111111111111,\"#46039f\"],[0.2222222222222222,\"#7201a8\"],[0.3333333333333333,\"#9c179e\"],[0.4444444444444444,\"#bd3786\"],[0.5555555555555556,\"#d8576b\"],[0.6666666666666666,\"#ed7953\"],[0.7777777777777778,\"#fb9f3a\"],[0.8888888888888888,\"#fdca26\"],[1.0,\"#f0f921\"]],\"type\":\"heatmap\"}],\"histogram2dcontour\":[{\"colorbar\":{\"outlinewidth\":0,\"ticks\":\"\"},\"colorscale\":[[0.0,\"#0d0887\"],[0.1111111111111111,\"#46039f\"],[0.2222222222222222,\"#7201a8\"],[0.3333333333333333,\"#9c179e\"],[0.4444444444444444,\"#bd3786\"],[0.5555555555555556,\"#d8576b\"],[0.6666666666666666,\"#ed7953\"],[0.7777777777777778,\"#fb9f3a\"],[0.8888888888888888,\"#fdca26\"],[1.0,\"#f0f921\"]],\"type\":\"histogram2dcontour\"}],\"histogram2d\":[{\"colorbar\":{\"outlinewidth\":0,\"ticks\":\"\"},\"colorscale\":[[0.0,\"#0d0887\"],[0.1111111111111111,\"#46039f\"],[0.2222222222222222,\"#7201a8\"],[0.3333333333333333,\"#9c179e\"],[0.4444444444444444,\"#bd3786\"],[0.5555555555555556,\"#d8576b\"],[0.6666666666666666,\"#ed7953\"],[0.7777777777777778,\"#fb9f3a\"],[0.8888888888888888,\"#fdca26\"],[1.0,\"#f0f921\"]],\"type\":\"histogram2d\"}],\"histogram\":[{\"marker\":{\"pattern\":{\"fillmode\":\"overlay\",\"size\":10,\"solidity\":0.2}},\"type\":\"histogram\"}],\"mesh3d\":[{\"colorbar\":{\"outlinewidth\":0,\"ticks\":\"\"},\"type\":\"mesh3d\"}],\"parcoords\":[{\"line\":{\"colorbar\":{\"outlinewidth\":0,\"ticks\":\"\"}},\"type\":\"parcoords\"}],\"pie\":[{\"automargin\":true,\"type\":\"pie\"}],\"scatter3d\":[{\"line\":{\"colorbar\":{\"outlinewidth\":0,\"ticks\":\"\"}},\"marker\":{\"colorbar\":{\"outlinewidth\":0,\"ticks\":\"\"}},\"type\":\"scatter3d\"}],\"scattercarpet\":[{\"marker\":{\"colorbar\":{\"outlinewidth\":0,\"ticks\":\"\"}},\"type\":\"scattercarpet\"}],\"scattergeo\":[{\"marker\":{\"colorbar\":{\"outlinewidth\":0,\"ticks\":\"\"}},\"type\":\"scattergeo\"}],\"scattergl\":[{\"marker\":{\"colorbar\":{\"outlinewidth\":0,\"ticks\":\"\"}},\"type\":\"scattergl\"}],\"scattermapbox\":[{\"marker\":{\"colorbar\":{\"outlinewidth\":0,\"ticks\":\"\"}},\"type\":\"scattermapbox\"}],\"scatterpolargl\":[{\"marker\":{\"colorbar\":{\"outlinewidth\":0,\"ticks\":\"\"}},\"type\":\"scatterpolargl\"}],\"scatterpolar\":[{\"marker\":{\"colorbar\":{\"outlinewidth\":0,\"ticks\":\"\"}},\"type\":\"scatterpolar\"}],\"scatter\":[{\"fillpattern\":{\"fillmode\":\"overlay\",\"size\":10,\"solidity\":0.2},\"type\":\"scatter\"}],\"scatterternary\":[{\"marker\":{\"colorbar\":{\"outlinewidth\":0,\"ticks\":\"\"}},\"type\":\"scatterternary\"}],\"surface\":[{\"colorbar\":{\"outlinewidth\":0,\"ticks\":\"\"},\"colorscale\":[[0.0,\"#0d0887\"],[0.1111111111111111,\"#46039f\"],[0.2222222222222222,\"#7201a8\"],[0.3333333333333333,\"#9c179e\"],[0.4444444444444444,\"#bd3786\"],[0.5555555555555556,\"#d8576b\"],[0.6666666666666666,\"#ed7953\"],[0.7777777777777778,\"#fb9f3a\"],[0.8888888888888888,\"#fdca26\"],[1.0,\"#f0f921\"]],\"type\":\"surface\"}],\"table\":[{\"cells\":{\"fill\":{\"color\":\"#EBF0F8\"},\"line\":{\"color\":\"white\"}},\"header\":{\"fill\":{\"color\":\"#C8D4E3\"},\"line\":{\"color\":\"white\"}},\"type\":\"table\"}]},\"layout\":{\"annotationdefaults\":{\"arrowcolor\":\"#2a3f5f\",\"arrowhead\":0,\"arrowwidth\":1},\"autotypenumbers\":\"strict\",\"coloraxis\":{\"colorbar\":{\"outlinewidth\":0,\"ticks\":\"\"}},\"colorscale\":{\"diverging\":[[0,\"#8e0152\"],[0.1,\"#c51b7d\"],[0.2,\"#de77ae\"],[0.3,\"#f1b6da\"],[0.4,\"#fde0ef\"],[0.5,\"#f7f7f7\"],[0.6,\"#e6f5d0\"],[0.7,\"#b8e186\"],[0.8,\"#7fbc41\"],[0.9,\"#4d9221\"],[1,\"#276419\"]],\"sequential\":[[0.0,\"#0d0887\"],[0.1111111111111111,\"#46039f\"],[0.2222222222222222,\"#7201a8\"],[0.3333333333333333,\"#9c179e\"],[0.4444444444444444,\"#bd3786\"],[0.5555555555555556,\"#d8576b\"],[0.6666666666666666,\"#ed7953\"],[0.7777777777777778,\"#fb9f3a\"],[0.8888888888888888,\"#fdca26\"],[1.0,\"#f0f921\"]],\"sequentialminus\":[[0.0,\"#0d0887\"],[0.1111111111111111,\"#46039f\"],[0.2222222222222222,\"#7201a8\"],[0.3333333333333333,\"#9c179e\"],[0.4444444444444444,\"#bd3786\"],[0.5555555555555556,\"#d8576b\"],[0.6666666666666666,\"#ed7953\"],[0.7777777777777778,\"#fb9f3a\"],[0.8888888888888888,\"#fdca26\"],[1.0,\"#f0f921\"]]},\"colorway\":[\"#636efa\",\"#EF553B\",\"#00cc96\",\"#ab63fa\",\"#FFA15A\",\"#19d3f3\",\"#FF6692\",\"#B6E880\",\"#FF97FF\",\"#FECB52\"],\"font\":{\"color\":\"#2a3f5f\"},\"geo\":{\"bgcolor\":\"white\",\"lakecolor\":\"white\",\"landcolor\":\"#E5ECF6\",\"showlakes\":true,\"showland\":true,\"subunitcolor\":\"white\"},\"hoverlabel\":{\"align\":\"left\"},\"hovermode\":\"closest\",\"mapbox\":{\"style\":\"light\"},\"paper_bgcolor\":\"white\",\"plot_bgcolor\":\"#E5ECF6\",\"polar\":{\"angularaxis\":{\"gridcolor\":\"white\",\"linecolor\":\"white\",\"ticks\":\"\"},\"bgcolor\":\"#E5ECF6\",\"radialaxis\":{\"gridcolor\":\"white\",\"linecolor\":\"white\",\"ticks\":\"\"}},\"scene\":{\"xaxis\":{\"backgroundcolor\":\"#E5ECF6\",\"gridcolor\":\"white\",\"gridwidth\":2,\"linecolor\":\"white\",\"showbackground\":true,\"ticks\":\"\",\"zerolinecolor\":\"white\"},\"yaxis\":{\"backgroundcolor\":\"#E5ECF6\",\"gridcolor\":\"white\",\"gridwidth\":2,\"linecolor\":\"white\",\"showbackground\":true,\"ticks\":\"\",\"zerolinecolor\":\"white\"},\"zaxis\":{\"backgroundcolor\":\"#E5ECF6\",\"gridcolor\":\"white\",\"gridwidth\":2,\"linecolor\":\"white\",\"showbackground\":true,\"ticks\":\"\",\"zerolinecolor\":\"white\"}},\"shapedefaults\":{\"line\":{\"color\":\"#2a3f5f\"}},\"ternary\":{\"aaxis\":{\"gridcolor\":\"white\",\"linecolor\":\"white\",\"ticks\":\"\"},\"baxis\":{\"gridcolor\":\"white\",\"linecolor\":\"white\",\"ticks\":\"\"},\"bgcolor\":\"#E5ECF6\",\"caxis\":{\"gridcolor\":\"white\",\"linecolor\":\"white\",\"ticks\":\"\"}},\"title\":{\"x\":0.05},\"xaxis\":{\"automargin\":true,\"gridcolor\":\"white\",\"linecolor\":\"white\",\"ticks\":\"\",\"title\":{\"standoff\":15},\"zerolinecolor\":\"white\",\"zerolinewidth\":2},\"yaxis\":{\"automargin\":true,\"gridcolor\":\"white\",\"linecolor\":\"white\",\"ticks\":\"\",\"title\":{\"standoff\":15},\"zerolinecolor\":\"white\",\"zerolinewidth\":2}}},\"title\":{\"font\":{\"color\":\"#4D5663\"}},\"xaxis\":{\"gridcolor\":\"#E1E5ED\",\"showgrid\":true,\"tickfont\":{\"color\":\"#4D5663\"},\"title\":{\"font\":{\"color\":\"#4D5663\"},\"text\":\"\"},\"zerolinecolor\":\"#E1E5ED\"},\"yaxis\":{\"gridcolor\":\"#E1E5ED\",\"showgrid\":true,\"tickfont\":{\"color\":\"#4D5663\"},\"title\":{\"font\":{\"color\":\"#4D5663\"},\"text\":\"\"},\"zerolinecolor\":\"#E1E5ED\"}},                        {\"showLink\": true, \"linkText\": \"Export to plotly.com\", \"plotlyServerURL\": \"https://plotly.com\", \"responsive\": true}                    ).then(function(){\n",
       "                            \n",
       "var gd = document.getElementById('7e3b5462-6a92-42d3-88df-3edfab896a7e');\n",
       "var x = new MutationObserver(function (mutations, observer) {{\n",
       "        var display = window.getComputedStyle(gd).display;\n",
       "        if (!display || display === 'none') {{\n",
       "            console.log([gd, 'removed!']);\n",
       "            Plotly.purge(gd);\n",
       "            observer.disconnect();\n",
       "        }}\n",
       "}});\n",
       "\n",
       "// Listen for the removal of the full notebook cells\n",
       "var notebookContainer = gd.closest('#notebook-container');\n",
       "if (notebookContainer) {{\n",
       "    x.observe(notebookContainer, {childList: true});\n",
       "}}\n",
       "\n",
       "// Listen for the clearing of the current output cell\n",
       "var outputEl = gd.closest('.output');\n",
       "if (outputEl) {{\n",
       "    x.observe(outputEl, {childList: true});\n",
       "}}\n",
       "\n",
       "                        })                };                });            </script>        </div>"
      ]
     },
     "metadata": {},
     "output_type": "display_data"
    }
   ],
   "source": [
    "df.iplot()"
   ]
  },
  {
   "cell_type": "code",
   "execution_count": 24,
   "id": "358c6054",
   "metadata": {},
   "outputs": [
    {
     "data": {
      "application/vnd.plotly.v1+json": {
       "config": {
        "linkText": "Export to plotly.com",
        "plotlyServerURL": "https://plotly.com",
        "showLink": true
       },
       "data": [
        {
         "line": {
          "color": "rgba(255, 153, 51, 1.0)",
          "dash": "solid",
          "shape": "linear",
          "width": 1.3
         },
         "marker": {
          "size": 20,
          "symbol": "circle"
         },
         "mode": "markers",
         "name": "B",
         "text": "",
         "type": "scatter",
         "x": [
          -0.40615102691201077,
          -0.47999536952712385,
          -0.731589452209614,
          0.5879553428621914,
          -1.8568953718148897,
          0.9852963397699704,
          -0.4565079483975351,
          0.8985744483888078,
          -1.880550197114006,
          -2.495067192414269,
          0.24318773794361037,
          -2.278949369698818,
          -0.5490311250307648,
          0.14532734122867813,
          0.16276002203759868,
          -1.0591320920484073,
          0.05372109359972695,
          0.2035258413077142,
          -2.4564801144392163,
          0.006562014766148572,
          1.8299109338952464,
          -0.9675701363179834,
          1.0541841654244393,
          0.20884013344601376,
          -1.3891116084425656,
          0.27161097959040503,
          2.1283430566163135,
          -0.22494485238235143,
          -0.09599443616592065,
          -0.47463986288576715,
          -1.7001685826280957,
          -1.339622451274522,
          0.14880307684214328,
          -1.502406867092294,
          0.6697628491897455,
          1.6736896598940452,
          -1.1242305900000233,
          1.2716030457108993,
          -0.020503495668329225,
          -0.6004282275431292,
          -1.610798298038356,
          -0.7126845047666951,
          -0.25276036273175184,
          -0.31036598996075493,
          0.27657442247611386,
          0.36475971678819463,
          -0.3032001827072675,
          0.28120037852816376,
          -1.057923800745797,
          -0.7299540132790762,
          -1.0364219628836993,
          2.4916267759664805,
          1.1629521913280154,
          2.0054327257594626,
          -0.23891835735830366,
          -0.08667481619810505,
          0.1821673126387374,
          -0.9087506411647428,
          -0.2175223804697042,
          1.0366653428718404,
          -1.1387376153306084,
          -1.3134795663116043,
          -0.3109333372518202,
          -0.11731364062957415,
          -0.10397752332154095,
          0.17357286910884961,
          1.125123233663803,
          -0.18371208575837503,
          0.7475189213297856,
          -1.8732934204335845,
          0.3349278560198267,
          1.626356126253646,
          0.04965422963422056,
          -0.4617720171349,
          0.25881350378239626,
          -0.6898896998105463,
          0.7647345988279457,
          0.44480407531461874,
          0.09985660770502092,
          0.1461906720821347,
          0.04340642890250446,
          -0.10569764171165204,
          -2.5186919527957294,
          0.402553363843015,
          -1.1885416932522634,
          1.7141212243739197,
          0.6790642180576574,
          1.1679009178651383,
          -1.0087877679657051,
          -0.19813583121524153,
          0.9851166891438866,
          -0.0118683102180748,
          -0.44242679362729026,
          -0.05957237410520343,
          -0.8011467122356221,
          -0.27444702043341096,
          -1.8845227330028054,
          0.663868967586431,
          -0.29563990016503844,
          0.018384161821900682
         ],
         "y": [
          0.33469028609462786,
          -0.4747720494047677,
          -0.8910492574030071,
          -0.6562947499843159,
          1.0975595283397657,
          -0.08492187787388085,
          0.834157942765214,
          0.8261256825901863,
          0.4632193771172654,
          0.2118406780817216,
          -0.18660521525359663,
          -0.8772109585438541,
          0.9001431742247843,
          0.43622225877058113,
          0.3505049904764363,
          0.9315658697409118,
          -1.946983553008016,
          0.7644568957313809,
          -0.12255099035106522,
          0.18500821089394304,
          0.6312321003475739,
          -1.3583124190159115,
          0.6879322926800804,
          -0.340566305221331,
          1.10044477146272,
          -1.0455648116827128,
          0.3952180495751735,
          0.6896877211682053,
          -0.5155403800669799,
          1.4785314007970745,
          -1.0649728817509585,
          1.7852829028741184,
          0.8570954275978809,
          2.173712498989926,
          -1.0582631927924049,
          0.4985565174744666,
          -0.4473289358096288,
          0.4025239189309213,
          -0.15564462003233068,
          0.5381832495099379,
          -1.2214341198324867,
          -0.31187895934241877,
          1.024480489586102,
          -0.9575439080616085,
          1.2319230093188827,
          0.8433090402248943,
          -0.1743727135083682,
          -0.516081714378001,
          -0.05238583944339358,
          -0.09322087115568396,
          -1.3402000293873717,
          -2.349049257706284,
          -1.2853922081306273,
          -0.41339815261901414,
          -0.7700945857764542,
          1.6608970953042417,
          0.6176112005319743,
          -0.8202041643220608,
          -1.7363664986014162,
          0.12947655833098984,
          -1.2343545924493855,
          -0.3730297008989098,
          -0.3096507505421561,
          -0.9790966487903674,
          0.34996075464019377,
          2.380102070380568,
          -0.2440263432978862,
          0.7681940478056901,
          1.3570398145585194,
          -0.20157140820039438,
          0.2877302953363688,
          0.16851948185688861,
          -0.5644038341545653,
          0.9231079850639387,
          -0.944506176873885,
          1.054446152533765,
          -0.7207904072238942,
          0.4365114891422287,
          2.338324940574144,
          1.0257780537771517,
          -1.1618978051757043,
          -1.6327091540232865,
          0.9509386746206595,
          1.0231396871331329,
          0.3118062700792768,
          -2.4097800983317152,
          0.7571883722250382,
          0.4131747981644347,
          -1.455075148971204,
          -0.21915229540259684,
          0.4578621056720926,
          0.16564240034126468,
          -1.237646345341587,
          -1.8175037223783308,
          -0.7467476602610285,
          -0.08434524550962558,
          -1.9690707808886958,
          -1.160972757919005,
          -0.23118107997338297,
          -0.6316562531717944
         ]
        }
       ],
       "layout": {
        "legend": {
         "bgcolor": "#F5F6F9",
         "font": {
          "color": "#4D5663"
         }
        },
        "paper_bgcolor": "#F5F6F9",
        "plot_bgcolor": "#F5F6F9",
        "template": {
         "data": {
          "bar": [
           {
            "error_x": {
             "color": "#2a3f5f"
            },
            "error_y": {
             "color": "#2a3f5f"
            },
            "marker": {
             "line": {
              "color": "#E5ECF6",
              "width": 0.5
             },
             "pattern": {
              "fillmode": "overlay",
              "size": 10,
              "solidity": 0.2
             }
            },
            "type": "bar"
           }
          ],
          "barpolar": [
           {
            "marker": {
             "line": {
              "color": "#E5ECF6",
              "width": 0.5
             },
             "pattern": {
              "fillmode": "overlay",
              "size": 10,
              "solidity": 0.2
             }
            },
            "type": "barpolar"
           }
          ],
          "carpet": [
           {
            "aaxis": {
             "endlinecolor": "#2a3f5f",
             "gridcolor": "white",
             "linecolor": "white",
             "minorgridcolor": "white",
             "startlinecolor": "#2a3f5f"
            },
            "baxis": {
             "endlinecolor": "#2a3f5f",
             "gridcolor": "white",
             "linecolor": "white",
             "minorgridcolor": "white",
             "startlinecolor": "#2a3f5f"
            },
            "type": "carpet"
           }
          ],
          "choropleth": [
           {
            "colorbar": {
             "outlinewidth": 0,
             "ticks": ""
            },
            "type": "choropleth"
           }
          ],
          "contour": [
           {
            "colorbar": {
             "outlinewidth": 0,
             "ticks": ""
            },
            "colorscale": [
             [
              0,
              "#0d0887"
             ],
             [
              0.1111111111111111,
              "#46039f"
             ],
             [
              0.2222222222222222,
              "#7201a8"
             ],
             [
              0.3333333333333333,
              "#9c179e"
             ],
             [
              0.4444444444444444,
              "#bd3786"
             ],
             [
              0.5555555555555556,
              "#d8576b"
             ],
             [
              0.6666666666666666,
              "#ed7953"
             ],
             [
              0.7777777777777778,
              "#fb9f3a"
             ],
             [
              0.8888888888888888,
              "#fdca26"
             ],
             [
              1,
              "#f0f921"
             ]
            ],
            "type": "contour"
           }
          ],
          "contourcarpet": [
           {
            "colorbar": {
             "outlinewidth": 0,
             "ticks": ""
            },
            "type": "contourcarpet"
           }
          ],
          "heatmap": [
           {
            "colorbar": {
             "outlinewidth": 0,
             "ticks": ""
            },
            "colorscale": [
             [
              0,
              "#0d0887"
             ],
             [
              0.1111111111111111,
              "#46039f"
             ],
             [
              0.2222222222222222,
              "#7201a8"
             ],
             [
              0.3333333333333333,
              "#9c179e"
             ],
             [
              0.4444444444444444,
              "#bd3786"
             ],
             [
              0.5555555555555556,
              "#d8576b"
             ],
             [
              0.6666666666666666,
              "#ed7953"
             ],
             [
              0.7777777777777778,
              "#fb9f3a"
             ],
             [
              0.8888888888888888,
              "#fdca26"
             ],
             [
              1,
              "#f0f921"
             ]
            ],
            "type": "heatmap"
           }
          ],
          "heatmapgl": [
           {
            "colorbar": {
             "outlinewidth": 0,
             "ticks": ""
            },
            "colorscale": [
             [
              0,
              "#0d0887"
             ],
             [
              0.1111111111111111,
              "#46039f"
             ],
             [
              0.2222222222222222,
              "#7201a8"
             ],
             [
              0.3333333333333333,
              "#9c179e"
             ],
             [
              0.4444444444444444,
              "#bd3786"
             ],
             [
              0.5555555555555556,
              "#d8576b"
             ],
             [
              0.6666666666666666,
              "#ed7953"
             ],
             [
              0.7777777777777778,
              "#fb9f3a"
             ],
             [
              0.8888888888888888,
              "#fdca26"
             ],
             [
              1,
              "#f0f921"
             ]
            ],
            "type": "heatmapgl"
           }
          ],
          "histogram": [
           {
            "marker": {
             "pattern": {
              "fillmode": "overlay",
              "size": 10,
              "solidity": 0.2
             }
            },
            "type": "histogram"
           }
          ],
          "histogram2d": [
           {
            "colorbar": {
             "outlinewidth": 0,
             "ticks": ""
            },
            "colorscale": [
             [
              0,
              "#0d0887"
             ],
             [
              0.1111111111111111,
              "#46039f"
             ],
             [
              0.2222222222222222,
              "#7201a8"
             ],
             [
              0.3333333333333333,
              "#9c179e"
             ],
             [
              0.4444444444444444,
              "#bd3786"
             ],
             [
              0.5555555555555556,
              "#d8576b"
             ],
             [
              0.6666666666666666,
              "#ed7953"
             ],
             [
              0.7777777777777778,
              "#fb9f3a"
             ],
             [
              0.8888888888888888,
              "#fdca26"
             ],
             [
              1,
              "#f0f921"
             ]
            ],
            "type": "histogram2d"
           }
          ],
          "histogram2dcontour": [
           {
            "colorbar": {
             "outlinewidth": 0,
             "ticks": ""
            },
            "colorscale": [
             [
              0,
              "#0d0887"
             ],
             [
              0.1111111111111111,
              "#46039f"
             ],
             [
              0.2222222222222222,
              "#7201a8"
             ],
             [
              0.3333333333333333,
              "#9c179e"
             ],
             [
              0.4444444444444444,
              "#bd3786"
             ],
             [
              0.5555555555555556,
              "#d8576b"
             ],
             [
              0.6666666666666666,
              "#ed7953"
             ],
             [
              0.7777777777777778,
              "#fb9f3a"
             ],
             [
              0.8888888888888888,
              "#fdca26"
             ],
             [
              1,
              "#f0f921"
             ]
            ],
            "type": "histogram2dcontour"
           }
          ],
          "mesh3d": [
           {
            "colorbar": {
             "outlinewidth": 0,
             "ticks": ""
            },
            "type": "mesh3d"
           }
          ],
          "parcoords": [
           {
            "line": {
             "colorbar": {
              "outlinewidth": 0,
              "ticks": ""
             }
            },
            "type": "parcoords"
           }
          ],
          "pie": [
           {
            "automargin": true,
            "type": "pie"
           }
          ],
          "scatter": [
           {
            "fillpattern": {
             "fillmode": "overlay",
             "size": 10,
             "solidity": 0.2
            },
            "type": "scatter"
           }
          ],
          "scatter3d": [
           {
            "line": {
             "colorbar": {
              "outlinewidth": 0,
              "ticks": ""
             }
            },
            "marker": {
             "colorbar": {
              "outlinewidth": 0,
              "ticks": ""
             }
            },
            "type": "scatter3d"
           }
          ],
          "scattercarpet": [
           {
            "marker": {
             "colorbar": {
              "outlinewidth": 0,
              "ticks": ""
             }
            },
            "type": "scattercarpet"
           }
          ],
          "scattergeo": [
           {
            "marker": {
             "colorbar": {
              "outlinewidth": 0,
              "ticks": ""
             }
            },
            "type": "scattergeo"
           }
          ],
          "scattergl": [
           {
            "marker": {
             "colorbar": {
              "outlinewidth": 0,
              "ticks": ""
             }
            },
            "type": "scattergl"
           }
          ],
          "scattermapbox": [
           {
            "marker": {
             "colorbar": {
              "outlinewidth": 0,
              "ticks": ""
             }
            },
            "type": "scattermapbox"
           }
          ],
          "scatterpolar": [
           {
            "marker": {
             "colorbar": {
              "outlinewidth": 0,
              "ticks": ""
             }
            },
            "type": "scatterpolar"
           }
          ],
          "scatterpolargl": [
           {
            "marker": {
             "colorbar": {
              "outlinewidth": 0,
              "ticks": ""
             }
            },
            "type": "scatterpolargl"
           }
          ],
          "scatterternary": [
           {
            "marker": {
             "colorbar": {
              "outlinewidth": 0,
              "ticks": ""
             }
            },
            "type": "scatterternary"
           }
          ],
          "surface": [
           {
            "colorbar": {
             "outlinewidth": 0,
             "ticks": ""
            },
            "colorscale": [
             [
              0,
              "#0d0887"
             ],
             [
              0.1111111111111111,
              "#46039f"
             ],
             [
              0.2222222222222222,
              "#7201a8"
             ],
             [
              0.3333333333333333,
              "#9c179e"
             ],
             [
              0.4444444444444444,
              "#bd3786"
             ],
             [
              0.5555555555555556,
              "#d8576b"
             ],
             [
              0.6666666666666666,
              "#ed7953"
             ],
             [
              0.7777777777777778,
              "#fb9f3a"
             ],
             [
              0.8888888888888888,
              "#fdca26"
             ],
             [
              1,
              "#f0f921"
             ]
            ],
            "type": "surface"
           }
          ],
          "table": [
           {
            "cells": {
             "fill": {
              "color": "#EBF0F8"
             },
             "line": {
              "color": "white"
             }
            },
            "header": {
             "fill": {
              "color": "#C8D4E3"
             },
             "line": {
              "color": "white"
             }
            },
            "type": "table"
           }
          ]
         },
         "layout": {
          "annotationdefaults": {
           "arrowcolor": "#2a3f5f",
           "arrowhead": 0,
           "arrowwidth": 1
          },
          "autotypenumbers": "strict",
          "coloraxis": {
           "colorbar": {
            "outlinewidth": 0,
            "ticks": ""
           }
          },
          "colorscale": {
           "diverging": [
            [
             0,
             "#8e0152"
            ],
            [
             0.1,
             "#c51b7d"
            ],
            [
             0.2,
             "#de77ae"
            ],
            [
             0.3,
             "#f1b6da"
            ],
            [
             0.4,
             "#fde0ef"
            ],
            [
             0.5,
             "#f7f7f7"
            ],
            [
             0.6,
             "#e6f5d0"
            ],
            [
             0.7,
             "#b8e186"
            ],
            [
             0.8,
             "#7fbc41"
            ],
            [
             0.9,
             "#4d9221"
            ],
            [
             1,
             "#276419"
            ]
           ],
           "sequential": [
            [
             0,
             "#0d0887"
            ],
            [
             0.1111111111111111,
             "#46039f"
            ],
            [
             0.2222222222222222,
             "#7201a8"
            ],
            [
             0.3333333333333333,
             "#9c179e"
            ],
            [
             0.4444444444444444,
             "#bd3786"
            ],
            [
             0.5555555555555556,
             "#d8576b"
            ],
            [
             0.6666666666666666,
             "#ed7953"
            ],
            [
             0.7777777777777778,
             "#fb9f3a"
            ],
            [
             0.8888888888888888,
             "#fdca26"
            ],
            [
             1,
             "#f0f921"
            ]
           ],
           "sequentialminus": [
            [
             0,
             "#0d0887"
            ],
            [
             0.1111111111111111,
             "#46039f"
            ],
            [
             0.2222222222222222,
             "#7201a8"
            ],
            [
             0.3333333333333333,
             "#9c179e"
            ],
            [
             0.4444444444444444,
             "#bd3786"
            ],
            [
             0.5555555555555556,
             "#d8576b"
            ],
            [
             0.6666666666666666,
             "#ed7953"
            ],
            [
             0.7777777777777778,
             "#fb9f3a"
            ],
            [
             0.8888888888888888,
             "#fdca26"
            ],
            [
             1,
             "#f0f921"
            ]
           ]
          },
          "colorway": [
           "#636efa",
           "#EF553B",
           "#00cc96",
           "#ab63fa",
           "#FFA15A",
           "#19d3f3",
           "#FF6692",
           "#B6E880",
           "#FF97FF",
           "#FECB52"
          ],
          "font": {
           "color": "#2a3f5f"
          },
          "geo": {
           "bgcolor": "white",
           "lakecolor": "white",
           "landcolor": "#E5ECF6",
           "showlakes": true,
           "showland": true,
           "subunitcolor": "white"
          },
          "hoverlabel": {
           "align": "left"
          },
          "hovermode": "closest",
          "mapbox": {
           "style": "light"
          },
          "paper_bgcolor": "white",
          "plot_bgcolor": "#E5ECF6",
          "polar": {
           "angularaxis": {
            "gridcolor": "white",
            "linecolor": "white",
            "ticks": ""
           },
           "bgcolor": "#E5ECF6",
           "radialaxis": {
            "gridcolor": "white",
            "linecolor": "white",
            "ticks": ""
           }
          },
          "scene": {
           "xaxis": {
            "backgroundcolor": "#E5ECF6",
            "gridcolor": "white",
            "gridwidth": 2,
            "linecolor": "white",
            "showbackground": true,
            "ticks": "",
            "zerolinecolor": "white"
           },
           "yaxis": {
            "backgroundcolor": "#E5ECF6",
            "gridcolor": "white",
            "gridwidth": 2,
            "linecolor": "white",
            "showbackground": true,
            "ticks": "",
            "zerolinecolor": "white"
           },
           "zaxis": {
            "backgroundcolor": "#E5ECF6",
            "gridcolor": "white",
            "gridwidth": 2,
            "linecolor": "white",
            "showbackground": true,
            "ticks": "",
            "zerolinecolor": "white"
           }
          },
          "shapedefaults": {
           "line": {
            "color": "#2a3f5f"
           }
          },
          "ternary": {
           "aaxis": {
            "gridcolor": "white",
            "linecolor": "white",
            "ticks": ""
           },
           "baxis": {
            "gridcolor": "white",
            "linecolor": "white",
            "ticks": ""
           },
           "bgcolor": "#E5ECF6",
           "caxis": {
            "gridcolor": "white",
            "linecolor": "white",
            "ticks": ""
           }
          },
          "title": {
           "x": 0.05
          },
          "xaxis": {
           "automargin": true,
           "gridcolor": "white",
           "linecolor": "white",
           "ticks": "",
           "title": {
            "standoff": 15
           },
           "zerolinecolor": "white",
           "zerolinewidth": 2
          },
          "yaxis": {
           "automargin": true,
           "gridcolor": "white",
           "linecolor": "white",
           "ticks": "",
           "title": {
            "standoff": 15
           },
           "zerolinecolor": "white",
           "zerolinewidth": 2
          }
         }
        },
        "title": {
         "font": {
          "color": "#4D5663"
         }
        },
        "xaxis": {
         "gridcolor": "#E1E5ED",
         "showgrid": true,
         "tickfont": {
          "color": "#4D5663"
         },
         "title": {
          "font": {
           "color": "#4D5663"
          },
          "text": ""
         },
         "zerolinecolor": "#E1E5ED"
        },
        "yaxis": {
         "gridcolor": "#E1E5ED",
         "showgrid": true,
         "tickfont": {
          "color": "#4D5663"
         },
         "title": {
          "font": {
           "color": "#4D5663"
          },
          "text": ""
         },
         "zerolinecolor": "#E1E5ED"
        }
       }
      },
      "text/html": [
       "<div>                            <div id=\"ad72e357-a5aa-465c-9f04-957329d5dc14\" class=\"plotly-graph-div\" style=\"height:525px; width:100%;\"></div>            <script type=\"text/javascript\">                require([\"plotly\"], function(Plotly) {                    window.PLOTLYENV=window.PLOTLYENV || {};\n",
       "                    window.PLOTLYENV.BASE_URL='https://plotly.com';                                    if (document.getElementById(\"ad72e357-a5aa-465c-9f04-957329d5dc14\")) {                    Plotly.newPlot(                        \"ad72e357-a5aa-465c-9f04-957329d5dc14\",                        [{\"line\":{\"color\":\"rgba(255, 153, 51, 1.0)\",\"dash\":\"solid\",\"shape\":\"linear\",\"width\":1.3},\"marker\":{\"size\":20,\"symbol\":\"circle\"},\"mode\":\"markers\",\"name\":\"B\",\"text\":\"\",\"x\":[-0.40615102691201077,-0.47999536952712385,-0.731589452209614,0.5879553428621914,-1.8568953718148897,0.9852963397699704,-0.4565079483975351,0.8985744483888078,-1.880550197114006,-2.495067192414269,0.24318773794361037,-2.278949369698818,-0.5490311250307648,0.14532734122867813,0.16276002203759868,-1.0591320920484073,0.05372109359972695,0.2035258413077142,-2.4564801144392163,0.006562014766148572,1.8299109338952464,-0.9675701363179834,1.0541841654244393,0.20884013344601376,-1.3891116084425656,0.27161097959040503,2.1283430566163135,-0.22494485238235143,-0.09599443616592065,-0.47463986288576715,-1.7001685826280957,-1.339622451274522,0.14880307684214328,-1.502406867092294,0.6697628491897455,1.6736896598940452,-1.1242305900000233,1.2716030457108993,-0.020503495668329225,-0.6004282275431292,-1.610798298038356,-0.7126845047666951,-0.25276036273175184,-0.31036598996075493,0.27657442247611386,0.36475971678819463,-0.3032001827072675,0.28120037852816376,-1.057923800745797,-0.7299540132790762,-1.0364219628836993,2.4916267759664805,1.1629521913280154,2.0054327257594626,-0.23891835735830366,-0.08667481619810505,0.1821673126387374,-0.9087506411647428,-0.2175223804697042,1.0366653428718404,-1.1387376153306084,-1.3134795663116043,-0.3109333372518202,-0.11731364062957415,-0.10397752332154095,0.17357286910884961,1.125123233663803,-0.18371208575837503,0.7475189213297856,-1.8732934204335845,0.3349278560198267,1.626356126253646,0.04965422963422056,-0.4617720171349,0.25881350378239626,-0.6898896998105463,0.7647345988279457,0.44480407531461874,0.09985660770502092,0.1461906720821347,0.04340642890250446,-0.10569764171165204,-2.5186919527957294,0.402553363843015,-1.1885416932522634,1.7141212243739197,0.6790642180576574,1.1679009178651383,-1.0087877679657051,-0.19813583121524153,0.9851166891438866,-0.0118683102180748,-0.44242679362729026,-0.05957237410520343,-0.8011467122356221,-0.27444702043341096,-1.8845227330028054,0.663868967586431,-0.29563990016503844,0.018384161821900682],\"y\":[0.33469028609462786,-0.4747720494047677,-0.8910492574030071,-0.6562947499843159,1.0975595283397657,-0.08492187787388085,0.834157942765214,0.8261256825901863,0.4632193771172654,0.2118406780817216,-0.18660521525359663,-0.8772109585438541,0.9001431742247843,0.43622225877058113,0.3505049904764363,0.9315658697409118,-1.946983553008016,0.7644568957313809,-0.12255099035106522,0.18500821089394304,0.6312321003475739,-1.3583124190159115,0.6879322926800804,-0.340566305221331,1.10044477146272,-1.0455648116827128,0.3952180495751735,0.6896877211682053,-0.5155403800669799,1.4785314007970745,-1.0649728817509585,1.7852829028741184,0.8570954275978809,2.173712498989926,-1.0582631927924049,0.4985565174744666,-0.4473289358096288,0.4025239189309213,-0.15564462003233068,0.5381832495099379,-1.2214341198324867,-0.31187895934241877,1.024480489586102,-0.9575439080616085,1.2319230093188827,0.8433090402248943,-0.1743727135083682,-0.516081714378001,-0.05238583944339358,-0.09322087115568396,-1.3402000293873717,-2.349049257706284,-1.2853922081306273,-0.41339815261901414,-0.7700945857764542,1.6608970953042417,0.6176112005319743,-0.8202041643220608,-1.7363664986014162,0.12947655833098984,-1.2343545924493855,-0.3730297008989098,-0.3096507505421561,-0.9790966487903674,0.34996075464019377,2.380102070380568,-0.2440263432978862,0.7681940478056901,1.3570398145585194,-0.20157140820039438,0.2877302953363688,0.16851948185688861,-0.5644038341545653,0.9231079850639387,-0.944506176873885,1.054446152533765,-0.7207904072238942,0.4365114891422287,2.338324940574144,1.0257780537771517,-1.1618978051757043,-1.6327091540232865,0.9509386746206595,1.0231396871331329,0.3118062700792768,-2.4097800983317152,0.7571883722250382,0.4131747981644347,-1.455075148971204,-0.21915229540259684,0.4578621056720926,0.16564240034126468,-1.237646345341587,-1.8175037223783308,-0.7467476602610285,-0.08434524550962558,-1.9690707808886958,-1.160972757919005,-0.23118107997338297,-0.6316562531717944],\"type\":\"scatter\"}],                        {\"legend\":{\"bgcolor\":\"#F5F6F9\",\"font\":{\"color\":\"#4D5663\"}},\"paper_bgcolor\":\"#F5F6F9\",\"plot_bgcolor\":\"#F5F6F9\",\"template\":{\"data\":{\"barpolar\":[{\"marker\":{\"line\":{\"color\":\"#E5ECF6\",\"width\":0.5},\"pattern\":{\"fillmode\":\"overlay\",\"size\":10,\"solidity\":0.2}},\"type\":\"barpolar\"}],\"bar\":[{\"error_x\":{\"color\":\"#2a3f5f\"},\"error_y\":{\"color\":\"#2a3f5f\"},\"marker\":{\"line\":{\"color\":\"#E5ECF6\",\"width\":0.5},\"pattern\":{\"fillmode\":\"overlay\",\"size\":10,\"solidity\":0.2}},\"type\":\"bar\"}],\"carpet\":[{\"aaxis\":{\"endlinecolor\":\"#2a3f5f\",\"gridcolor\":\"white\",\"linecolor\":\"white\",\"minorgridcolor\":\"white\",\"startlinecolor\":\"#2a3f5f\"},\"baxis\":{\"endlinecolor\":\"#2a3f5f\",\"gridcolor\":\"white\",\"linecolor\":\"white\",\"minorgridcolor\":\"white\",\"startlinecolor\":\"#2a3f5f\"},\"type\":\"carpet\"}],\"choropleth\":[{\"colorbar\":{\"outlinewidth\":0,\"ticks\":\"\"},\"type\":\"choropleth\"}],\"contourcarpet\":[{\"colorbar\":{\"outlinewidth\":0,\"ticks\":\"\"},\"type\":\"contourcarpet\"}],\"contour\":[{\"colorbar\":{\"outlinewidth\":0,\"ticks\":\"\"},\"colorscale\":[[0.0,\"#0d0887\"],[0.1111111111111111,\"#46039f\"],[0.2222222222222222,\"#7201a8\"],[0.3333333333333333,\"#9c179e\"],[0.4444444444444444,\"#bd3786\"],[0.5555555555555556,\"#d8576b\"],[0.6666666666666666,\"#ed7953\"],[0.7777777777777778,\"#fb9f3a\"],[0.8888888888888888,\"#fdca26\"],[1.0,\"#f0f921\"]],\"type\":\"contour\"}],\"heatmapgl\":[{\"colorbar\":{\"outlinewidth\":0,\"ticks\":\"\"},\"colorscale\":[[0.0,\"#0d0887\"],[0.1111111111111111,\"#46039f\"],[0.2222222222222222,\"#7201a8\"],[0.3333333333333333,\"#9c179e\"],[0.4444444444444444,\"#bd3786\"],[0.5555555555555556,\"#d8576b\"],[0.6666666666666666,\"#ed7953\"],[0.7777777777777778,\"#fb9f3a\"],[0.8888888888888888,\"#fdca26\"],[1.0,\"#f0f921\"]],\"type\":\"heatmapgl\"}],\"heatmap\":[{\"colorbar\":{\"outlinewidth\":0,\"ticks\":\"\"},\"colorscale\":[[0.0,\"#0d0887\"],[0.1111111111111111,\"#46039f\"],[0.2222222222222222,\"#7201a8\"],[0.3333333333333333,\"#9c179e\"],[0.4444444444444444,\"#bd3786\"],[0.5555555555555556,\"#d8576b\"],[0.6666666666666666,\"#ed7953\"],[0.7777777777777778,\"#fb9f3a\"],[0.8888888888888888,\"#fdca26\"],[1.0,\"#f0f921\"]],\"type\":\"heatmap\"}],\"histogram2dcontour\":[{\"colorbar\":{\"outlinewidth\":0,\"ticks\":\"\"},\"colorscale\":[[0.0,\"#0d0887\"],[0.1111111111111111,\"#46039f\"],[0.2222222222222222,\"#7201a8\"],[0.3333333333333333,\"#9c179e\"],[0.4444444444444444,\"#bd3786\"],[0.5555555555555556,\"#d8576b\"],[0.6666666666666666,\"#ed7953\"],[0.7777777777777778,\"#fb9f3a\"],[0.8888888888888888,\"#fdca26\"],[1.0,\"#f0f921\"]],\"type\":\"histogram2dcontour\"}],\"histogram2d\":[{\"colorbar\":{\"outlinewidth\":0,\"ticks\":\"\"},\"colorscale\":[[0.0,\"#0d0887\"],[0.1111111111111111,\"#46039f\"],[0.2222222222222222,\"#7201a8\"],[0.3333333333333333,\"#9c179e\"],[0.4444444444444444,\"#bd3786\"],[0.5555555555555556,\"#d8576b\"],[0.6666666666666666,\"#ed7953\"],[0.7777777777777778,\"#fb9f3a\"],[0.8888888888888888,\"#fdca26\"],[1.0,\"#f0f921\"]],\"type\":\"histogram2d\"}],\"histogram\":[{\"marker\":{\"pattern\":{\"fillmode\":\"overlay\",\"size\":10,\"solidity\":0.2}},\"type\":\"histogram\"}],\"mesh3d\":[{\"colorbar\":{\"outlinewidth\":0,\"ticks\":\"\"},\"type\":\"mesh3d\"}],\"parcoords\":[{\"line\":{\"colorbar\":{\"outlinewidth\":0,\"ticks\":\"\"}},\"type\":\"parcoords\"}],\"pie\":[{\"automargin\":true,\"type\":\"pie\"}],\"scatter3d\":[{\"line\":{\"colorbar\":{\"outlinewidth\":0,\"ticks\":\"\"}},\"marker\":{\"colorbar\":{\"outlinewidth\":0,\"ticks\":\"\"}},\"type\":\"scatter3d\"}],\"scattercarpet\":[{\"marker\":{\"colorbar\":{\"outlinewidth\":0,\"ticks\":\"\"}},\"type\":\"scattercarpet\"}],\"scattergeo\":[{\"marker\":{\"colorbar\":{\"outlinewidth\":0,\"ticks\":\"\"}},\"type\":\"scattergeo\"}],\"scattergl\":[{\"marker\":{\"colorbar\":{\"outlinewidth\":0,\"ticks\":\"\"}},\"type\":\"scattergl\"}],\"scattermapbox\":[{\"marker\":{\"colorbar\":{\"outlinewidth\":0,\"ticks\":\"\"}},\"type\":\"scattermapbox\"}],\"scatterpolargl\":[{\"marker\":{\"colorbar\":{\"outlinewidth\":0,\"ticks\":\"\"}},\"type\":\"scatterpolargl\"}],\"scatterpolar\":[{\"marker\":{\"colorbar\":{\"outlinewidth\":0,\"ticks\":\"\"}},\"type\":\"scatterpolar\"}],\"scatter\":[{\"fillpattern\":{\"fillmode\":\"overlay\",\"size\":10,\"solidity\":0.2},\"type\":\"scatter\"}],\"scatterternary\":[{\"marker\":{\"colorbar\":{\"outlinewidth\":0,\"ticks\":\"\"}},\"type\":\"scatterternary\"}],\"surface\":[{\"colorbar\":{\"outlinewidth\":0,\"ticks\":\"\"},\"colorscale\":[[0.0,\"#0d0887\"],[0.1111111111111111,\"#46039f\"],[0.2222222222222222,\"#7201a8\"],[0.3333333333333333,\"#9c179e\"],[0.4444444444444444,\"#bd3786\"],[0.5555555555555556,\"#d8576b\"],[0.6666666666666666,\"#ed7953\"],[0.7777777777777778,\"#fb9f3a\"],[0.8888888888888888,\"#fdca26\"],[1.0,\"#f0f921\"]],\"type\":\"surface\"}],\"table\":[{\"cells\":{\"fill\":{\"color\":\"#EBF0F8\"},\"line\":{\"color\":\"white\"}},\"header\":{\"fill\":{\"color\":\"#C8D4E3\"},\"line\":{\"color\":\"white\"}},\"type\":\"table\"}]},\"layout\":{\"annotationdefaults\":{\"arrowcolor\":\"#2a3f5f\",\"arrowhead\":0,\"arrowwidth\":1},\"autotypenumbers\":\"strict\",\"coloraxis\":{\"colorbar\":{\"outlinewidth\":0,\"ticks\":\"\"}},\"colorscale\":{\"diverging\":[[0,\"#8e0152\"],[0.1,\"#c51b7d\"],[0.2,\"#de77ae\"],[0.3,\"#f1b6da\"],[0.4,\"#fde0ef\"],[0.5,\"#f7f7f7\"],[0.6,\"#e6f5d0\"],[0.7,\"#b8e186\"],[0.8,\"#7fbc41\"],[0.9,\"#4d9221\"],[1,\"#276419\"]],\"sequential\":[[0.0,\"#0d0887\"],[0.1111111111111111,\"#46039f\"],[0.2222222222222222,\"#7201a8\"],[0.3333333333333333,\"#9c179e\"],[0.4444444444444444,\"#bd3786\"],[0.5555555555555556,\"#d8576b\"],[0.6666666666666666,\"#ed7953\"],[0.7777777777777778,\"#fb9f3a\"],[0.8888888888888888,\"#fdca26\"],[1.0,\"#f0f921\"]],\"sequentialminus\":[[0.0,\"#0d0887\"],[0.1111111111111111,\"#46039f\"],[0.2222222222222222,\"#7201a8\"],[0.3333333333333333,\"#9c179e\"],[0.4444444444444444,\"#bd3786\"],[0.5555555555555556,\"#d8576b\"],[0.6666666666666666,\"#ed7953\"],[0.7777777777777778,\"#fb9f3a\"],[0.8888888888888888,\"#fdca26\"],[1.0,\"#f0f921\"]]},\"colorway\":[\"#636efa\",\"#EF553B\",\"#00cc96\",\"#ab63fa\",\"#FFA15A\",\"#19d3f3\",\"#FF6692\",\"#B6E880\",\"#FF97FF\",\"#FECB52\"],\"font\":{\"color\":\"#2a3f5f\"},\"geo\":{\"bgcolor\":\"white\",\"lakecolor\":\"white\",\"landcolor\":\"#E5ECF6\",\"showlakes\":true,\"showland\":true,\"subunitcolor\":\"white\"},\"hoverlabel\":{\"align\":\"left\"},\"hovermode\":\"closest\",\"mapbox\":{\"style\":\"light\"},\"paper_bgcolor\":\"white\",\"plot_bgcolor\":\"#E5ECF6\",\"polar\":{\"angularaxis\":{\"gridcolor\":\"white\",\"linecolor\":\"white\",\"ticks\":\"\"},\"bgcolor\":\"#E5ECF6\",\"radialaxis\":{\"gridcolor\":\"white\",\"linecolor\":\"white\",\"ticks\":\"\"}},\"scene\":{\"xaxis\":{\"backgroundcolor\":\"#E5ECF6\",\"gridcolor\":\"white\",\"gridwidth\":2,\"linecolor\":\"white\",\"showbackground\":true,\"ticks\":\"\",\"zerolinecolor\":\"white\"},\"yaxis\":{\"backgroundcolor\":\"#E5ECF6\",\"gridcolor\":\"white\",\"gridwidth\":2,\"linecolor\":\"white\",\"showbackground\":true,\"ticks\":\"\",\"zerolinecolor\":\"white\"},\"zaxis\":{\"backgroundcolor\":\"#E5ECF6\",\"gridcolor\":\"white\",\"gridwidth\":2,\"linecolor\":\"white\",\"showbackground\":true,\"ticks\":\"\",\"zerolinecolor\":\"white\"}},\"shapedefaults\":{\"line\":{\"color\":\"#2a3f5f\"}},\"ternary\":{\"aaxis\":{\"gridcolor\":\"white\",\"linecolor\":\"white\",\"ticks\":\"\"},\"baxis\":{\"gridcolor\":\"white\",\"linecolor\":\"white\",\"ticks\":\"\"},\"bgcolor\":\"#E5ECF6\",\"caxis\":{\"gridcolor\":\"white\",\"linecolor\":\"white\",\"ticks\":\"\"}},\"title\":{\"x\":0.05},\"xaxis\":{\"automargin\":true,\"gridcolor\":\"white\",\"linecolor\":\"white\",\"ticks\":\"\",\"title\":{\"standoff\":15},\"zerolinecolor\":\"white\",\"zerolinewidth\":2},\"yaxis\":{\"automargin\":true,\"gridcolor\":\"white\",\"linecolor\":\"white\",\"ticks\":\"\",\"title\":{\"standoff\":15},\"zerolinecolor\":\"white\",\"zerolinewidth\":2}}},\"title\":{\"font\":{\"color\":\"#4D5663\"}},\"xaxis\":{\"gridcolor\":\"#E1E5ED\",\"showgrid\":true,\"tickfont\":{\"color\":\"#4D5663\"},\"title\":{\"font\":{\"color\":\"#4D5663\"},\"text\":\"\"},\"zerolinecolor\":\"#E1E5ED\"},\"yaxis\":{\"gridcolor\":\"#E1E5ED\",\"showgrid\":true,\"tickfont\":{\"color\":\"#4D5663\"},\"title\":{\"font\":{\"color\":\"#4D5663\"},\"text\":\"\"},\"zerolinecolor\":\"#E1E5ED\"}},                        {\"showLink\": true, \"linkText\": \"Export to plotly.com\", \"plotlyServerURL\": \"https://plotly.com\", \"responsive\": true}                    ).then(function(){\n",
       "                            \n",
       "var gd = document.getElementById('ad72e357-a5aa-465c-9f04-957329d5dc14');\n",
       "var x = new MutationObserver(function (mutations, observer) {{\n",
       "        var display = window.getComputedStyle(gd).display;\n",
       "        if (!display || display === 'none') {{\n",
       "            console.log([gd, 'removed!']);\n",
       "            Plotly.purge(gd);\n",
       "            observer.disconnect();\n",
       "        }}\n",
       "}});\n",
       "\n",
       "// Listen for the removal of the full notebook cells\n",
       "var notebookContainer = gd.closest('#notebook-container');\n",
       "if (notebookContainer) {{\n",
       "    x.observe(notebookContainer, {childList: true});\n",
       "}}\n",
       "\n",
       "// Listen for the clearing of the current output cell\n",
       "var outputEl = gd.closest('.output');\n",
       "if (outputEl) {{\n",
       "    x.observe(outputEl, {childList: true});\n",
       "}}\n",
       "\n",
       "                        })                };                });            </script>        </div>"
      ]
     },
     "metadata": {},
     "output_type": "display_data"
    }
   ],
   "source": [
    "df.iplot(kind='scatter', x='A', y='B', mode='markers', size=20)"
   ]
  },
  {
   "cell_type": "code",
   "execution_count": 27,
   "id": "ccc2eb77",
   "metadata": {},
   "outputs": [
    {
     "data": {
      "application/vnd.plotly.v1+json": {
       "config": {
        "linkText": "Export to plotly.com",
        "plotlyServerURL": "https://plotly.com",
        "showLink": true
       },
       "data": [
        {
         "marker": {
          "color": "rgba(255, 153, 51, 0.6)",
          "line": {
           "color": "rgba(255, 153, 51, 1.0)",
           "width": 1
          }
         },
         "name": "Values",
         "orientation": "v",
         "text": "",
         "type": "bar",
         "x": [
          "A",
          "B",
          "C"
         ],
         "y": [
          32,
          42,
          50
         ]
        }
       ],
       "layout": {
        "legend": {
         "bgcolor": "#F5F6F9",
         "font": {
          "color": "#4D5663"
         }
        },
        "paper_bgcolor": "#F5F6F9",
        "plot_bgcolor": "#F5F6F9",
        "template": {
         "data": {
          "bar": [
           {
            "error_x": {
             "color": "#2a3f5f"
            },
            "error_y": {
             "color": "#2a3f5f"
            },
            "marker": {
             "line": {
              "color": "#E5ECF6",
              "width": 0.5
             },
             "pattern": {
              "fillmode": "overlay",
              "size": 10,
              "solidity": 0.2
             }
            },
            "type": "bar"
           }
          ],
          "barpolar": [
           {
            "marker": {
             "line": {
              "color": "#E5ECF6",
              "width": 0.5
             },
             "pattern": {
              "fillmode": "overlay",
              "size": 10,
              "solidity": 0.2
             }
            },
            "type": "barpolar"
           }
          ],
          "carpet": [
           {
            "aaxis": {
             "endlinecolor": "#2a3f5f",
             "gridcolor": "white",
             "linecolor": "white",
             "minorgridcolor": "white",
             "startlinecolor": "#2a3f5f"
            },
            "baxis": {
             "endlinecolor": "#2a3f5f",
             "gridcolor": "white",
             "linecolor": "white",
             "minorgridcolor": "white",
             "startlinecolor": "#2a3f5f"
            },
            "type": "carpet"
           }
          ],
          "choropleth": [
           {
            "colorbar": {
             "outlinewidth": 0,
             "ticks": ""
            },
            "type": "choropleth"
           }
          ],
          "contour": [
           {
            "colorbar": {
             "outlinewidth": 0,
             "ticks": ""
            },
            "colorscale": [
             [
              0,
              "#0d0887"
             ],
             [
              0.1111111111111111,
              "#46039f"
             ],
             [
              0.2222222222222222,
              "#7201a8"
             ],
             [
              0.3333333333333333,
              "#9c179e"
             ],
             [
              0.4444444444444444,
              "#bd3786"
             ],
             [
              0.5555555555555556,
              "#d8576b"
             ],
             [
              0.6666666666666666,
              "#ed7953"
             ],
             [
              0.7777777777777778,
              "#fb9f3a"
             ],
             [
              0.8888888888888888,
              "#fdca26"
             ],
             [
              1,
              "#f0f921"
             ]
            ],
            "type": "contour"
           }
          ],
          "contourcarpet": [
           {
            "colorbar": {
             "outlinewidth": 0,
             "ticks": ""
            },
            "type": "contourcarpet"
           }
          ],
          "heatmap": [
           {
            "colorbar": {
             "outlinewidth": 0,
             "ticks": ""
            },
            "colorscale": [
             [
              0,
              "#0d0887"
             ],
             [
              0.1111111111111111,
              "#46039f"
             ],
             [
              0.2222222222222222,
              "#7201a8"
             ],
             [
              0.3333333333333333,
              "#9c179e"
             ],
             [
              0.4444444444444444,
              "#bd3786"
             ],
             [
              0.5555555555555556,
              "#d8576b"
             ],
             [
              0.6666666666666666,
              "#ed7953"
             ],
             [
              0.7777777777777778,
              "#fb9f3a"
             ],
             [
              0.8888888888888888,
              "#fdca26"
             ],
             [
              1,
              "#f0f921"
             ]
            ],
            "type": "heatmap"
           }
          ],
          "heatmapgl": [
           {
            "colorbar": {
             "outlinewidth": 0,
             "ticks": ""
            },
            "colorscale": [
             [
              0,
              "#0d0887"
             ],
             [
              0.1111111111111111,
              "#46039f"
             ],
             [
              0.2222222222222222,
              "#7201a8"
             ],
             [
              0.3333333333333333,
              "#9c179e"
             ],
             [
              0.4444444444444444,
              "#bd3786"
             ],
             [
              0.5555555555555556,
              "#d8576b"
             ],
             [
              0.6666666666666666,
              "#ed7953"
             ],
             [
              0.7777777777777778,
              "#fb9f3a"
             ],
             [
              0.8888888888888888,
              "#fdca26"
             ],
             [
              1,
              "#f0f921"
             ]
            ],
            "type": "heatmapgl"
           }
          ],
          "histogram": [
           {
            "marker": {
             "pattern": {
              "fillmode": "overlay",
              "size": 10,
              "solidity": 0.2
             }
            },
            "type": "histogram"
           }
          ],
          "histogram2d": [
           {
            "colorbar": {
             "outlinewidth": 0,
             "ticks": ""
            },
            "colorscale": [
             [
              0,
              "#0d0887"
             ],
             [
              0.1111111111111111,
              "#46039f"
             ],
             [
              0.2222222222222222,
              "#7201a8"
             ],
             [
              0.3333333333333333,
              "#9c179e"
             ],
             [
              0.4444444444444444,
              "#bd3786"
             ],
             [
              0.5555555555555556,
              "#d8576b"
             ],
             [
              0.6666666666666666,
              "#ed7953"
             ],
             [
              0.7777777777777778,
              "#fb9f3a"
             ],
             [
              0.8888888888888888,
              "#fdca26"
             ],
             [
              1,
              "#f0f921"
             ]
            ],
            "type": "histogram2d"
           }
          ],
          "histogram2dcontour": [
           {
            "colorbar": {
             "outlinewidth": 0,
             "ticks": ""
            },
            "colorscale": [
             [
              0,
              "#0d0887"
             ],
             [
              0.1111111111111111,
              "#46039f"
             ],
             [
              0.2222222222222222,
              "#7201a8"
             ],
             [
              0.3333333333333333,
              "#9c179e"
             ],
             [
              0.4444444444444444,
              "#bd3786"
             ],
             [
              0.5555555555555556,
              "#d8576b"
             ],
             [
              0.6666666666666666,
              "#ed7953"
             ],
             [
              0.7777777777777778,
              "#fb9f3a"
             ],
             [
              0.8888888888888888,
              "#fdca26"
             ],
             [
              1,
              "#f0f921"
             ]
            ],
            "type": "histogram2dcontour"
           }
          ],
          "mesh3d": [
           {
            "colorbar": {
             "outlinewidth": 0,
             "ticks": ""
            },
            "type": "mesh3d"
           }
          ],
          "parcoords": [
           {
            "line": {
             "colorbar": {
              "outlinewidth": 0,
              "ticks": ""
             }
            },
            "type": "parcoords"
           }
          ],
          "pie": [
           {
            "automargin": true,
            "type": "pie"
           }
          ],
          "scatter": [
           {
            "fillpattern": {
             "fillmode": "overlay",
             "size": 10,
             "solidity": 0.2
            },
            "type": "scatter"
           }
          ],
          "scatter3d": [
           {
            "line": {
             "colorbar": {
              "outlinewidth": 0,
              "ticks": ""
             }
            },
            "marker": {
             "colorbar": {
              "outlinewidth": 0,
              "ticks": ""
             }
            },
            "type": "scatter3d"
           }
          ],
          "scattercarpet": [
           {
            "marker": {
             "colorbar": {
              "outlinewidth": 0,
              "ticks": ""
             }
            },
            "type": "scattercarpet"
           }
          ],
          "scattergeo": [
           {
            "marker": {
             "colorbar": {
              "outlinewidth": 0,
              "ticks": ""
             }
            },
            "type": "scattergeo"
           }
          ],
          "scattergl": [
           {
            "marker": {
             "colorbar": {
              "outlinewidth": 0,
              "ticks": ""
             }
            },
            "type": "scattergl"
           }
          ],
          "scattermapbox": [
           {
            "marker": {
             "colorbar": {
              "outlinewidth": 0,
              "ticks": ""
             }
            },
            "type": "scattermapbox"
           }
          ],
          "scatterpolar": [
           {
            "marker": {
             "colorbar": {
              "outlinewidth": 0,
              "ticks": ""
             }
            },
            "type": "scatterpolar"
           }
          ],
          "scatterpolargl": [
           {
            "marker": {
             "colorbar": {
              "outlinewidth": 0,
              "ticks": ""
             }
            },
            "type": "scatterpolargl"
           }
          ],
          "scatterternary": [
           {
            "marker": {
             "colorbar": {
              "outlinewidth": 0,
              "ticks": ""
             }
            },
            "type": "scatterternary"
           }
          ],
          "surface": [
           {
            "colorbar": {
             "outlinewidth": 0,
             "ticks": ""
            },
            "colorscale": [
             [
              0,
              "#0d0887"
             ],
             [
              0.1111111111111111,
              "#46039f"
             ],
             [
              0.2222222222222222,
              "#7201a8"
             ],
             [
              0.3333333333333333,
              "#9c179e"
             ],
             [
              0.4444444444444444,
              "#bd3786"
             ],
             [
              0.5555555555555556,
              "#d8576b"
             ],
             [
              0.6666666666666666,
              "#ed7953"
             ],
             [
              0.7777777777777778,
              "#fb9f3a"
             ],
             [
              0.8888888888888888,
              "#fdca26"
             ],
             [
              1,
              "#f0f921"
             ]
            ],
            "type": "surface"
           }
          ],
          "table": [
           {
            "cells": {
             "fill": {
              "color": "#EBF0F8"
             },
             "line": {
              "color": "white"
             }
            },
            "header": {
             "fill": {
              "color": "#C8D4E3"
             },
             "line": {
              "color": "white"
             }
            },
            "type": "table"
           }
          ]
         },
         "layout": {
          "annotationdefaults": {
           "arrowcolor": "#2a3f5f",
           "arrowhead": 0,
           "arrowwidth": 1
          },
          "autotypenumbers": "strict",
          "coloraxis": {
           "colorbar": {
            "outlinewidth": 0,
            "ticks": ""
           }
          },
          "colorscale": {
           "diverging": [
            [
             0,
             "#8e0152"
            ],
            [
             0.1,
             "#c51b7d"
            ],
            [
             0.2,
             "#de77ae"
            ],
            [
             0.3,
             "#f1b6da"
            ],
            [
             0.4,
             "#fde0ef"
            ],
            [
             0.5,
             "#f7f7f7"
            ],
            [
             0.6,
             "#e6f5d0"
            ],
            [
             0.7,
             "#b8e186"
            ],
            [
             0.8,
             "#7fbc41"
            ],
            [
             0.9,
             "#4d9221"
            ],
            [
             1,
             "#276419"
            ]
           ],
           "sequential": [
            [
             0,
             "#0d0887"
            ],
            [
             0.1111111111111111,
             "#46039f"
            ],
            [
             0.2222222222222222,
             "#7201a8"
            ],
            [
             0.3333333333333333,
             "#9c179e"
            ],
            [
             0.4444444444444444,
             "#bd3786"
            ],
            [
             0.5555555555555556,
             "#d8576b"
            ],
            [
             0.6666666666666666,
             "#ed7953"
            ],
            [
             0.7777777777777778,
             "#fb9f3a"
            ],
            [
             0.8888888888888888,
             "#fdca26"
            ],
            [
             1,
             "#f0f921"
            ]
           ],
           "sequentialminus": [
            [
             0,
             "#0d0887"
            ],
            [
             0.1111111111111111,
             "#46039f"
            ],
            [
             0.2222222222222222,
             "#7201a8"
            ],
            [
             0.3333333333333333,
             "#9c179e"
            ],
            [
             0.4444444444444444,
             "#bd3786"
            ],
            [
             0.5555555555555556,
             "#d8576b"
            ],
            [
             0.6666666666666666,
             "#ed7953"
            ],
            [
             0.7777777777777778,
             "#fb9f3a"
            ],
            [
             0.8888888888888888,
             "#fdca26"
            ],
            [
             1,
             "#f0f921"
            ]
           ]
          },
          "colorway": [
           "#636efa",
           "#EF553B",
           "#00cc96",
           "#ab63fa",
           "#FFA15A",
           "#19d3f3",
           "#FF6692",
           "#B6E880",
           "#FF97FF",
           "#FECB52"
          ],
          "font": {
           "color": "#2a3f5f"
          },
          "geo": {
           "bgcolor": "white",
           "lakecolor": "white",
           "landcolor": "#E5ECF6",
           "showlakes": true,
           "showland": true,
           "subunitcolor": "white"
          },
          "hoverlabel": {
           "align": "left"
          },
          "hovermode": "closest",
          "mapbox": {
           "style": "light"
          },
          "paper_bgcolor": "white",
          "plot_bgcolor": "#E5ECF6",
          "polar": {
           "angularaxis": {
            "gridcolor": "white",
            "linecolor": "white",
            "ticks": ""
           },
           "bgcolor": "#E5ECF6",
           "radialaxis": {
            "gridcolor": "white",
            "linecolor": "white",
            "ticks": ""
           }
          },
          "scene": {
           "xaxis": {
            "backgroundcolor": "#E5ECF6",
            "gridcolor": "white",
            "gridwidth": 2,
            "linecolor": "white",
            "showbackground": true,
            "ticks": "",
            "zerolinecolor": "white"
           },
           "yaxis": {
            "backgroundcolor": "#E5ECF6",
            "gridcolor": "white",
            "gridwidth": 2,
            "linecolor": "white",
            "showbackground": true,
            "ticks": "",
            "zerolinecolor": "white"
           },
           "zaxis": {
            "backgroundcolor": "#E5ECF6",
            "gridcolor": "white",
            "gridwidth": 2,
            "linecolor": "white",
            "showbackground": true,
            "ticks": "",
            "zerolinecolor": "white"
           }
          },
          "shapedefaults": {
           "line": {
            "color": "#2a3f5f"
           }
          },
          "ternary": {
           "aaxis": {
            "gridcolor": "white",
            "linecolor": "white",
            "ticks": ""
           },
           "baxis": {
            "gridcolor": "white",
            "linecolor": "white",
            "ticks": ""
           },
           "bgcolor": "#E5ECF6",
           "caxis": {
            "gridcolor": "white",
            "linecolor": "white",
            "ticks": ""
           }
          },
          "title": {
           "x": 0.05
          },
          "xaxis": {
           "automargin": true,
           "gridcolor": "white",
           "linecolor": "white",
           "ticks": "",
           "title": {
            "standoff": 15
           },
           "zerolinecolor": "white",
           "zerolinewidth": 2
          },
          "yaxis": {
           "automargin": true,
           "gridcolor": "white",
           "linecolor": "white",
           "ticks": "",
           "title": {
            "standoff": 15
           },
           "zerolinecolor": "white",
           "zerolinewidth": 2
          }
         }
        },
        "title": {
         "font": {
          "color": "#4D5663"
         }
        },
        "xaxis": {
         "gridcolor": "#E1E5ED",
         "showgrid": true,
         "tickfont": {
          "color": "#4D5663"
         },
         "title": {
          "font": {
           "color": "#4D5663"
          },
          "text": ""
         },
         "zerolinecolor": "#E1E5ED"
        },
        "yaxis": {
         "gridcolor": "#E1E5ED",
         "showgrid": true,
         "tickfont": {
          "color": "#4D5663"
         },
         "title": {
          "font": {
           "color": "#4D5663"
          },
          "text": ""
         },
         "zerolinecolor": "#E1E5ED"
        }
       }
      },
      "text/html": [
       "<div>                            <div id=\"25d669e6-013a-4145-8018-922a269184aa\" class=\"plotly-graph-div\" style=\"height:525px; width:100%;\"></div>            <script type=\"text/javascript\">                require([\"plotly\"], function(Plotly) {                    window.PLOTLYENV=window.PLOTLYENV || {};\n",
       "                    window.PLOTLYENV.BASE_URL='https://plotly.com';                                    if (document.getElementById(\"25d669e6-013a-4145-8018-922a269184aa\")) {                    Plotly.newPlot(                        \"25d669e6-013a-4145-8018-922a269184aa\",                        [{\"marker\":{\"color\":\"rgba(255, 153, 51, 0.6)\",\"line\":{\"color\":\"rgba(255, 153, 51, 1.0)\",\"width\":1}},\"name\":\"Values\",\"orientation\":\"v\",\"text\":\"\",\"x\":[\"A\",\"B\",\"C\"],\"y\":[32,42,50],\"type\":\"bar\"}],                        {\"legend\":{\"bgcolor\":\"#F5F6F9\",\"font\":{\"color\":\"#4D5663\"}},\"paper_bgcolor\":\"#F5F6F9\",\"plot_bgcolor\":\"#F5F6F9\",\"template\":{\"data\":{\"barpolar\":[{\"marker\":{\"line\":{\"color\":\"#E5ECF6\",\"width\":0.5},\"pattern\":{\"fillmode\":\"overlay\",\"size\":10,\"solidity\":0.2}},\"type\":\"barpolar\"}],\"bar\":[{\"error_x\":{\"color\":\"#2a3f5f\"},\"error_y\":{\"color\":\"#2a3f5f\"},\"marker\":{\"line\":{\"color\":\"#E5ECF6\",\"width\":0.5},\"pattern\":{\"fillmode\":\"overlay\",\"size\":10,\"solidity\":0.2}},\"type\":\"bar\"}],\"carpet\":[{\"aaxis\":{\"endlinecolor\":\"#2a3f5f\",\"gridcolor\":\"white\",\"linecolor\":\"white\",\"minorgridcolor\":\"white\",\"startlinecolor\":\"#2a3f5f\"},\"baxis\":{\"endlinecolor\":\"#2a3f5f\",\"gridcolor\":\"white\",\"linecolor\":\"white\",\"minorgridcolor\":\"white\",\"startlinecolor\":\"#2a3f5f\"},\"type\":\"carpet\"}],\"choropleth\":[{\"colorbar\":{\"outlinewidth\":0,\"ticks\":\"\"},\"type\":\"choropleth\"}],\"contourcarpet\":[{\"colorbar\":{\"outlinewidth\":0,\"ticks\":\"\"},\"type\":\"contourcarpet\"}],\"contour\":[{\"colorbar\":{\"outlinewidth\":0,\"ticks\":\"\"},\"colorscale\":[[0.0,\"#0d0887\"],[0.1111111111111111,\"#46039f\"],[0.2222222222222222,\"#7201a8\"],[0.3333333333333333,\"#9c179e\"],[0.4444444444444444,\"#bd3786\"],[0.5555555555555556,\"#d8576b\"],[0.6666666666666666,\"#ed7953\"],[0.7777777777777778,\"#fb9f3a\"],[0.8888888888888888,\"#fdca26\"],[1.0,\"#f0f921\"]],\"type\":\"contour\"}],\"heatmapgl\":[{\"colorbar\":{\"outlinewidth\":0,\"ticks\":\"\"},\"colorscale\":[[0.0,\"#0d0887\"],[0.1111111111111111,\"#46039f\"],[0.2222222222222222,\"#7201a8\"],[0.3333333333333333,\"#9c179e\"],[0.4444444444444444,\"#bd3786\"],[0.5555555555555556,\"#d8576b\"],[0.6666666666666666,\"#ed7953\"],[0.7777777777777778,\"#fb9f3a\"],[0.8888888888888888,\"#fdca26\"],[1.0,\"#f0f921\"]],\"type\":\"heatmapgl\"}],\"heatmap\":[{\"colorbar\":{\"outlinewidth\":0,\"ticks\":\"\"},\"colorscale\":[[0.0,\"#0d0887\"],[0.1111111111111111,\"#46039f\"],[0.2222222222222222,\"#7201a8\"],[0.3333333333333333,\"#9c179e\"],[0.4444444444444444,\"#bd3786\"],[0.5555555555555556,\"#d8576b\"],[0.6666666666666666,\"#ed7953\"],[0.7777777777777778,\"#fb9f3a\"],[0.8888888888888888,\"#fdca26\"],[1.0,\"#f0f921\"]],\"type\":\"heatmap\"}],\"histogram2dcontour\":[{\"colorbar\":{\"outlinewidth\":0,\"ticks\":\"\"},\"colorscale\":[[0.0,\"#0d0887\"],[0.1111111111111111,\"#46039f\"],[0.2222222222222222,\"#7201a8\"],[0.3333333333333333,\"#9c179e\"],[0.4444444444444444,\"#bd3786\"],[0.5555555555555556,\"#d8576b\"],[0.6666666666666666,\"#ed7953\"],[0.7777777777777778,\"#fb9f3a\"],[0.8888888888888888,\"#fdca26\"],[1.0,\"#f0f921\"]],\"type\":\"histogram2dcontour\"}],\"histogram2d\":[{\"colorbar\":{\"outlinewidth\":0,\"ticks\":\"\"},\"colorscale\":[[0.0,\"#0d0887\"],[0.1111111111111111,\"#46039f\"],[0.2222222222222222,\"#7201a8\"],[0.3333333333333333,\"#9c179e\"],[0.4444444444444444,\"#bd3786\"],[0.5555555555555556,\"#d8576b\"],[0.6666666666666666,\"#ed7953\"],[0.7777777777777778,\"#fb9f3a\"],[0.8888888888888888,\"#fdca26\"],[1.0,\"#f0f921\"]],\"type\":\"histogram2d\"}],\"histogram\":[{\"marker\":{\"pattern\":{\"fillmode\":\"overlay\",\"size\":10,\"solidity\":0.2}},\"type\":\"histogram\"}],\"mesh3d\":[{\"colorbar\":{\"outlinewidth\":0,\"ticks\":\"\"},\"type\":\"mesh3d\"}],\"parcoords\":[{\"line\":{\"colorbar\":{\"outlinewidth\":0,\"ticks\":\"\"}},\"type\":\"parcoords\"}],\"pie\":[{\"automargin\":true,\"type\":\"pie\"}],\"scatter3d\":[{\"line\":{\"colorbar\":{\"outlinewidth\":0,\"ticks\":\"\"}},\"marker\":{\"colorbar\":{\"outlinewidth\":0,\"ticks\":\"\"}},\"type\":\"scatter3d\"}],\"scattercarpet\":[{\"marker\":{\"colorbar\":{\"outlinewidth\":0,\"ticks\":\"\"}},\"type\":\"scattercarpet\"}],\"scattergeo\":[{\"marker\":{\"colorbar\":{\"outlinewidth\":0,\"ticks\":\"\"}},\"type\":\"scattergeo\"}],\"scattergl\":[{\"marker\":{\"colorbar\":{\"outlinewidth\":0,\"ticks\":\"\"}},\"type\":\"scattergl\"}],\"scattermapbox\":[{\"marker\":{\"colorbar\":{\"outlinewidth\":0,\"ticks\":\"\"}},\"type\":\"scattermapbox\"}],\"scatterpolargl\":[{\"marker\":{\"colorbar\":{\"outlinewidth\":0,\"ticks\":\"\"}},\"type\":\"scatterpolargl\"}],\"scatterpolar\":[{\"marker\":{\"colorbar\":{\"outlinewidth\":0,\"ticks\":\"\"}},\"type\":\"scatterpolar\"}],\"scatter\":[{\"fillpattern\":{\"fillmode\":\"overlay\",\"size\":10,\"solidity\":0.2},\"type\":\"scatter\"}],\"scatterternary\":[{\"marker\":{\"colorbar\":{\"outlinewidth\":0,\"ticks\":\"\"}},\"type\":\"scatterternary\"}],\"surface\":[{\"colorbar\":{\"outlinewidth\":0,\"ticks\":\"\"},\"colorscale\":[[0.0,\"#0d0887\"],[0.1111111111111111,\"#46039f\"],[0.2222222222222222,\"#7201a8\"],[0.3333333333333333,\"#9c179e\"],[0.4444444444444444,\"#bd3786\"],[0.5555555555555556,\"#d8576b\"],[0.6666666666666666,\"#ed7953\"],[0.7777777777777778,\"#fb9f3a\"],[0.8888888888888888,\"#fdca26\"],[1.0,\"#f0f921\"]],\"type\":\"surface\"}],\"table\":[{\"cells\":{\"fill\":{\"color\":\"#EBF0F8\"},\"line\":{\"color\":\"white\"}},\"header\":{\"fill\":{\"color\":\"#C8D4E3\"},\"line\":{\"color\":\"white\"}},\"type\":\"table\"}]},\"layout\":{\"annotationdefaults\":{\"arrowcolor\":\"#2a3f5f\",\"arrowhead\":0,\"arrowwidth\":1},\"autotypenumbers\":\"strict\",\"coloraxis\":{\"colorbar\":{\"outlinewidth\":0,\"ticks\":\"\"}},\"colorscale\":{\"diverging\":[[0,\"#8e0152\"],[0.1,\"#c51b7d\"],[0.2,\"#de77ae\"],[0.3,\"#f1b6da\"],[0.4,\"#fde0ef\"],[0.5,\"#f7f7f7\"],[0.6,\"#e6f5d0\"],[0.7,\"#b8e186\"],[0.8,\"#7fbc41\"],[0.9,\"#4d9221\"],[1,\"#276419\"]],\"sequential\":[[0.0,\"#0d0887\"],[0.1111111111111111,\"#46039f\"],[0.2222222222222222,\"#7201a8\"],[0.3333333333333333,\"#9c179e\"],[0.4444444444444444,\"#bd3786\"],[0.5555555555555556,\"#d8576b\"],[0.6666666666666666,\"#ed7953\"],[0.7777777777777778,\"#fb9f3a\"],[0.8888888888888888,\"#fdca26\"],[1.0,\"#f0f921\"]],\"sequentialminus\":[[0.0,\"#0d0887\"],[0.1111111111111111,\"#46039f\"],[0.2222222222222222,\"#7201a8\"],[0.3333333333333333,\"#9c179e\"],[0.4444444444444444,\"#bd3786\"],[0.5555555555555556,\"#d8576b\"],[0.6666666666666666,\"#ed7953\"],[0.7777777777777778,\"#fb9f3a\"],[0.8888888888888888,\"#fdca26\"],[1.0,\"#f0f921\"]]},\"colorway\":[\"#636efa\",\"#EF553B\",\"#00cc96\",\"#ab63fa\",\"#FFA15A\",\"#19d3f3\",\"#FF6692\",\"#B6E880\",\"#FF97FF\",\"#FECB52\"],\"font\":{\"color\":\"#2a3f5f\"},\"geo\":{\"bgcolor\":\"white\",\"lakecolor\":\"white\",\"landcolor\":\"#E5ECF6\",\"showlakes\":true,\"showland\":true,\"subunitcolor\":\"white\"},\"hoverlabel\":{\"align\":\"left\"},\"hovermode\":\"closest\",\"mapbox\":{\"style\":\"light\"},\"paper_bgcolor\":\"white\",\"plot_bgcolor\":\"#E5ECF6\",\"polar\":{\"angularaxis\":{\"gridcolor\":\"white\",\"linecolor\":\"white\",\"ticks\":\"\"},\"bgcolor\":\"#E5ECF6\",\"radialaxis\":{\"gridcolor\":\"white\",\"linecolor\":\"white\",\"ticks\":\"\"}},\"scene\":{\"xaxis\":{\"backgroundcolor\":\"#E5ECF6\",\"gridcolor\":\"white\",\"gridwidth\":2,\"linecolor\":\"white\",\"showbackground\":true,\"ticks\":\"\",\"zerolinecolor\":\"white\"},\"yaxis\":{\"backgroundcolor\":\"#E5ECF6\",\"gridcolor\":\"white\",\"gridwidth\":2,\"linecolor\":\"white\",\"showbackground\":true,\"ticks\":\"\",\"zerolinecolor\":\"white\"},\"zaxis\":{\"backgroundcolor\":\"#E5ECF6\",\"gridcolor\":\"white\",\"gridwidth\":2,\"linecolor\":\"white\",\"showbackground\":true,\"ticks\":\"\",\"zerolinecolor\":\"white\"}},\"shapedefaults\":{\"line\":{\"color\":\"#2a3f5f\"}},\"ternary\":{\"aaxis\":{\"gridcolor\":\"white\",\"linecolor\":\"white\",\"ticks\":\"\"},\"baxis\":{\"gridcolor\":\"white\",\"linecolor\":\"white\",\"ticks\":\"\"},\"bgcolor\":\"#E5ECF6\",\"caxis\":{\"gridcolor\":\"white\",\"linecolor\":\"white\",\"ticks\":\"\"}},\"title\":{\"x\":0.05},\"xaxis\":{\"automargin\":true,\"gridcolor\":\"white\",\"linecolor\":\"white\",\"ticks\":\"\",\"title\":{\"standoff\":15},\"zerolinecolor\":\"white\",\"zerolinewidth\":2},\"yaxis\":{\"automargin\":true,\"gridcolor\":\"white\",\"linecolor\":\"white\",\"ticks\":\"\",\"title\":{\"standoff\":15},\"zerolinecolor\":\"white\",\"zerolinewidth\":2}}},\"title\":{\"font\":{\"color\":\"#4D5663\"}},\"xaxis\":{\"gridcolor\":\"#E1E5ED\",\"showgrid\":true,\"tickfont\":{\"color\":\"#4D5663\"},\"title\":{\"font\":{\"color\":\"#4D5663\"},\"text\":\"\"},\"zerolinecolor\":\"#E1E5ED\"},\"yaxis\":{\"gridcolor\":\"#E1E5ED\",\"showgrid\":true,\"tickfont\":{\"color\":\"#4D5663\"},\"title\":{\"font\":{\"color\":\"#4D5663\"},\"text\":\"\"},\"zerolinecolor\":\"#E1E5ED\"}},                        {\"showLink\": true, \"linkText\": \"Export to plotly.com\", \"plotlyServerURL\": \"https://plotly.com\", \"responsive\": true}                    ).then(function(){\n",
       "                            \n",
       "var gd = document.getElementById('25d669e6-013a-4145-8018-922a269184aa');\n",
       "var x = new MutationObserver(function (mutations, observer) {{\n",
       "        var display = window.getComputedStyle(gd).display;\n",
       "        if (!display || display === 'none') {{\n",
       "            console.log([gd, 'removed!']);\n",
       "            Plotly.purge(gd);\n",
       "            observer.disconnect();\n",
       "        }}\n",
       "}});\n",
       "\n",
       "// Listen for the removal of the full notebook cells\n",
       "var notebookContainer = gd.closest('#notebook-container');\n",
       "if (notebookContainer) {{\n",
       "    x.observe(notebookContainer, {childList: true});\n",
       "}}\n",
       "\n",
       "// Listen for the clearing of the current output cell\n",
       "var outputEl = gd.closest('.output');\n",
       "if (outputEl) {{\n",
       "    x.observe(outputEl, {childList: true});\n",
       "}}\n",
       "\n",
       "                        })                };                });            </script>        </div>"
      ]
     },
     "metadata": {},
     "output_type": "display_data"
    }
   ],
   "source": [
    "df2.iplot(kind='bar', x='Category', y='Values')"
   ]
  },
  {
   "cell_type": "code",
   "execution_count": 29,
   "id": "a90a36f1",
   "metadata": {},
   "outputs": [
    {
     "data": {
      "text/html": [
       "<div>\n",
       "<style scoped>\n",
       "    .dataframe tbody tr th:only-of-type {\n",
       "        vertical-align: middle;\n",
       "    }\n",
       "\n",
       "    .dataframe tbody tr th {\n",
       "        vertical-align: top;\n",
       "    }\n",
       "\n",
       "    .dataframe thead th {\n",
       "        text-align: right;\n",
       "    }\n",
       "</style>\n",
       "<table border=\"1\" class=\"dataframe\">\n",
       "  <thead>\n",
       "    <tr style=\"text-align: right;\">\n",
       "      <th></th>\n",
       "      <th>A</th>\n",
       "      <th>B</th>\n",
       "      <th>C</th>\n",
       "      <th>D</th>\n",
       "    </tr>\n",
       "  </thead>\n",
       "  <tbody>\n",
       "    <tr>\n",
       "      <th>0</th>\n",
       "      <td>-0.406151</td>\n",
       "      <td>0.334690</td>\n",
       "      <td>1.173736</td>\n",
       "      <td>1.172193</td>\n",
       "    </tr>\n",
       "    <tr>\n",
       "      <th>1</th>\n",
       "      <td>-0.479995</td>\n",
       "      <td>-0.474772</td>\n",
       "      <td>1.556261</td>\n",
       "      <td>-0.225507</td>\n",
       "    </tr>\n",
       "    <tr>\n",
       "      <th>2</th>\n",
       "      <td>-0.731589</td>\n",
       "      <td>-0.891049</td>\n",
       "      <td>-0.014477</td>\n",
       "      <td>-0.231227</td>\n",
       "    </tr>\n",
       "    <tr>\n",
       "      <th>3</th>\n",
       "      <td>0.587955</td>\n",
       "      <td>-0.656295</td>\n",
       "      <td>-0.994908</td>\n",
       "      <td>0.656333</td>\n",
       "    </tr>\n",
       "    <tr>\n",
       "      <th>4</th>\n",
       "      <td>-1.856895</td>\n",
       "      <td>1.097560</td>\n",
       "      <td>0.935746</td>\n",
       "      <td>0.921387</td>\n",
       "    </tr>\n",
       "  </tbody>\n",
       "</table>\n",
       "</div>"
      ],
      "text/plain": [
       "          A         B         C         D\n",
       "0 -0.406151  0.334690  1.173736  1.172193\n",
       "1 -0.479995 -0.474772  1.556261 -0.225507\n",
       "2 -0.731589 -0.891049 -0.014477 -0.231227\n",
       "3  0.587955 -0.656295 -0.994908  0.656333\n",
       "4 -1.856895  1.097560  0.935746  0.921387"
      ]
     },
     "execution_count": 29,
     "metadata": {},
     "output_type": "execute_result"
    }
   ],
   "source": [
    "df.head()"
   ]
  },
  {
   "cell_type": "code",
   "execution_count": 30,
   "id": "cfb0d06f",
   "metadata": {},
   "outputs": [
    {
     "data": {
      "application/vnd.plotly.v1+json": {
       "config": {
        "linkText": "Export to plotly.com",
        "plotlyServerURL": "https://plotly.com",
        "showLink": true
       },
       "data": [
        {
         "marker": {
          "color": "rgba(255, 153, 51, 0.6)",
          "line": {
           "color": "rgba(255, 153, 51, 1.0)",
           "width": 1
          }
         },
         "name": "A",
         "orientation": "v",
         "text": "",
         "type": "bar",
         "x": [
          0,
          1,
          2,
          3,
          4,
          5,
          6,
          7,
          8,
          9,
          10,
          11,
          12,
          13,
          14,
          15,
          16,
          17,
          18,
          19,
          20,
          21,
          22,
          23,
          24,
          25,
          26,
          27,
          28,
          29,
          30,
          31,
          32,
          33,
          34,
          35,
          36,
          37,
          38,
          39,
          40,
          41,
          42,
          43,
          44,
          45,
          46,
          47,
          48,
          49,
          50,
          51,
          52,
          53,
          54,
          55,
          56,
          57,
          58,
          59,
          60,
          61,
          62,
          63,
          64,
          65,
          66,
          67,
          68,
          69,
          70,
          71,
          72,
          73,
          74,
          75,
          76,
          77,
          78,
          79,
          80,
          81,
          82,
          83,
          84,
          85,
          86,
          87,
          88,
          89,
          90,
          91,
          92,
          93,
          94,
          95,
          96,
          97,
          98,
          99
         ],
         "y": [
          -0.40615102691201077,
          -0.47999536952712385,
          -0.731589452209614,
          0.5879553428621914,
          -1.8568953718148897,
          0.9852963397699704,
          -0.4565079483975351,
          0.8985744483888078,
          -1.880550197114006,
          -2.495067192414269,
          0.24318773794361037,
          -2.278949369698818,
          -0.5490311250307648,
          0.14532734122867813,
          0.16276002203759868,
          -1.0591320920484073,
          0.05372109359972695,
          0.2035258413077142,
          -2.4564801144392163,
          0.006562014766148572,
          1.8299109338952464,
          -0.9675701363179834,
          1.0541841654244393,
          0.20884013344601376,
          -1.3891116084425656,
          0.27161097959040503,
          2.1283430566163135,
          -0.22494485238235143,
          -0.09599443616592065,
          -0.47463986288576715,
          -1.7001685826280957,
          -1.339622451274522,
          0.14880307684214328,
          -1.502406867092294,
          0.6697628491897455,
          1.6736896598940452,
          -1.1242305900000233,
          1.2716030457108993,
          -0.020503495668329225,
          -0.6004282275431292,
          -1.610798298038356,
          -0.7126845047666951,
          -0.25276036273175184,
          -0.31036598996075493,
          0.27657442247611386,
          0.36475971678819463,
          -0.3032001827072675,
          0.28120037852816376,
          -1.057923800745797,
          -0.7299540132790762,
          -1.0364219628836993,
          2.4916267759664805,
          1.1629521913280154,
          2.0054327257594626,
          -0.23891835735830366,
          -0.08667481619810505,
          0.1821673126387374,
          -0.9087506411647428,
          -0.2175223804697042,
          1.0366653428718404,
          -1.1387376153306084,
          -1.3134795663116043,
          -0.3109333372518202,
          -0.11731364062957415,
          -0.10397752332154095,
          0.17357286910884961,
          1.125123233663803,
          -0.18371208575837503,
          0.7475189213297856,
          -1.8732934204335845,
          0.3349278560198267,
          1.626356126253646,
          0.04965422963422056,
          -0.4617720171349,
          0.25881350378239626,
          -0.6898896998105463,
          0.7647345988279457,
          0.44480407531461874,
          0.09985660770502092,
          0.1461906720821347,
          0.04340642890250446,
          -0.10569764171165204,
          -2.5186919527957294,
          0.402553363843015,
          -1.1885416932522634,
          1.7141212243739197,
          0.6790642180576574,
          1.1679009178651383,
          -1.0087877679657051,
          -0.19813583121524153,
          0.9851166891438866,
          -0.0118683102180748,
          -0.44242679362729026,
          -0.05957237410520343,
          -0.8011467122356221,
          -0.27444702043341096,
          -1.8845227330028054,
          0.663868967586431,
          -0.29563990016503844,
          0.018384161821900682
         ]
        },
        {
         "marker": {
          "color": "rgba(55, 128, 191, 0.6)",
          "line": {
           "color": "rgba(55, 128, 191, 1.0)",
           "width": 1
          }
         },
         "name": "B",
         "orientation": "v",
         "text": "",
         "type": "bar",
         "x": [
          0,
          1,
          2,
          3,
          4,
          5,
          6,
          7,
          8,
          9,
          10,
          11,
          12,
          13,
          14,
          15,
          16,
          17,
          18,
          19,
          20,
          21,
          22,
          23,
          24,
          25,
          26,
          27,
          28,
          29,
          30,
          31,
          32,
          33,
          34,
          35,
          36,
          37,
          38,
          39,
          40,
          41,
          42,
          43,
          44,
          45,
          46,
          47,
          48,
          49,
          50,
          51,
          52,
          53,
          54,
          55,
          56,
          57,
          58,
          59,
          60,
          61,
          62,
          63,
          64,
          65,
          66,
          67,
          68,
          69,
          70,
          71,
          72,
          73,
          74,
          75,
          76,
          77,
          78,
          79,
          80,
          81,
          82,
          83,
          84,
          85,
          86,
          87,
          88,
          89,
          90,
          91,
          92,
          93,
          94,
          95,
          96,
          97,
          98,
          99
         ],
         "y": [
          0.33469028609462786,
          -0.4747720494047677,
          -0.8910492574030071,
          -0.6562947499843159,
          1.0975595283397657,
          -0.08492187787388085,
          0.834157942765214,
          0.8261256825901863,
          0.4632193771172654,
          0.2118406780817216,
          -0.18660521525359663,
          -0.8772109585438541,
          0.9001431742247843,
          0.43622225877058113,
          0.3505049904764363,
          0.9315658697409118,
          -1.946983553008016,
          0.7644568957313809,
          -0.12255099035106522,
          0.18500821089394304,
          0.6312321003475739,
          -1.3583124190159115,
          0.6879322926800804,
          -0.340566305221331,
          1.10044477146272,
          -1.0455648116827128,
          0.3952180495751735,
          0.6896877211682053,
          -0.5155403800669799,
          1.4785314007970745,
          -1.0649728817509585,
          1.7852829028741184,
          0.8570954275978809,
          2.173712498989926,
          -1.0582631927924049,
          0.4985565174744666,
          -0.4473289358096288,
          0.4025239189309213,
          -0.15564462003233068,
          0.5381832495099379,
          -1.2214341198324867,
          -0.31187895934241877,
          1.024480489586102,
          -0.9575439080616085,
          1.2319230093188827,
          0.8433090402248943,
          -0.1743727135083682,
          -0.516081714378001,
          -0.05238583944339358,
          -0.09322087115568396,
          -1.3402000293873717,
          -2.349049257706284,
          -1.2853922081306273,
          -0.41339815261901414,
          -0.7700945857764542,
          1.6608970953042417,
          0.6176112005319743,
          -0.8202041643220608,
          -1.7363664986014162,
          0.12947655833098984,
          -1.2343545924493855,
          -0.3730297008989098,
          -0.3096507505421561,
          -0.9790966487903674,
          0.34996075464019377,
          2.380102070380568,
          -0.2440263432978862,
          0.7681940478056901,
          1.3570398145585194,
          -0.20157140820039438,
          0.2877302953363688,
          0.16851948185688861,
          -0.5644038341545653,
          0.9231079850639387,
          -0.944506176873885,
          1.054446152533765,
          -0.7207904072238942,
          0.4365114891422287,
          2.338324940574144,
          1.0257780537771517,
          -1.1618978051757043,
          -1.6327091540232865,
          0.9509386746206595,
          1.0231396871331329,
          0.3118062700792768,
          -2.4097800983317152,
          0.7571883722250382,
          0.4131747981644347,
          -1.455075148971204,
          -0.21915229540259684,
          0.4578621056720926,
          0.16564240034126468,
          -1.237646345341587,
          -1.8175037223783308,
          -0.7467476602610285,
          -0.08434524550962558,
          -1.9690707808886958,
          -1.160972757919005,
          -0.23118107997338297,
          -0.6316562531717944
         ]
        },
        {
         "marker": {
          "color": "rgba(50, 171, 96, 0.6)",
          "line": {
           "color": "rgba(50, 171, 96, 1.0)",
           "width": 1
          }
         },
         "name": "C",
         "orientation": "v",
         "text": "",
         "type": "bar",
         "x": [
          0,
          1,
          2,
          3,
          4,
          5,
          6,
          7,
          8,
          9,
          10,
          11,
          12,
          13,
          14,
          15,
          16,
          17,
          18,
          19,
          20,
          21,
          22,
          23,
          24,
          25,
          26,
          27,
          28,
          29,
          30,
          31,
          32,
          33,
          34,
          35,
          36,
          37,
          38,
          39,
          40,
          41,
          42,
          43,
          44,
          45,
          46,
          47,
          48,
          49,
          50,
          51,
          52,
          53,
          54,
          55,
          56,
          57,
          58,
          59,
          60,
          61,
          62,
          63,
          64,
          65,
          66,
          67,
          68,
          69,
          70,
          71,
          72,
          73,
          74,
          75,
          76,
          77,
          78,
          79,
          80,
          81,
          82,
          83,
          84,
          85,
          86,
          87,
          88,
          89,
          90,
          91,
          92,
          93,
          94,
          95,
          96,
          97,
          98,
          99
         ],
         "y": [
          1.1737362333207728,
          1.5562612868774497,
          -0.014477400798201173,
          -0.9949081729820747,
          0.9357459497680499,
          0.12646190131838267,
          -0.3954971678824292,
          0.3430957446539166,
          0.9237407892776045,
          -0.09657627920969948,
          -1.8243055412777374,
          0.051993637559908906,
          -0.2727456870221832,
          -0.986463898356433,
          0.08565836080338578,
          0.2595033891481982,
          -0.5252644450116665,
          -1.0606034120376318,
          -1.0531339863226663,
          2.124426303973373,
          0.5386756257920999,
          -0.007511511275262967,
          1.1119203435398002,
          -0.23992367881368432,
          -1.6306447669964903,
          3.06700850806012,
          -1.5686351092233557,
          -0.3303055960327883,
          -2.6799375854206735,
          -0.059681128683770214,
          2.091684394948725,
          -0.8967544340093194,
          1.09190837290732,
          0.6071660132691131,
          -0.8682215185106045,
          -0.5929683036738767,
          1.1858783986893462,
          0.4364224172106424,
          -0.5607058909568162,
          2.2031077947680973,
          -2.0009293881751598,
          0.7424893040701714,
          0.8393707588892446,
          -0.816004938619743,
          -1.4229672866936136,
          0.16767953911777858,
          -0.3836304305107007,
          -0.6530503240203627,
          -0.4032092701394886,
          0.49550149133083987,
          -1.2219788650504726,
          -2.01711399525827,
          -1.3501399942480863,
          -0.3340565386962628,
          1.6208031740714461,
          -0.81865148507276,
          -0.7007388233092041,
          0.5136785611995491,
          0.35171848335376976,
          0.9435753712354081,
          0.27369781840798585,
          -1.9524180893392744,
          -0.8624643631571148,
          0.8430570654922642,
          2.1323244795491156,
          -0.6288100804146632,
          1.3589889331060612,
          -0.557235992767454,
          -1.3792429504800554,
          0.130518031523595,
          -0.9227967429596617,
          0.6573125910979403,
          -0.23994717138183025,
          0.6626844035939178,
          0.7741461543370848,
          0.48579671998018553,
          -1.3130302860341112,
          -2.3704585045470785,
          -1.3160142246509,
          0.04462568929934854,
          -1.9574264167929238,
          -0.7695788548393496,
          -0.9140157180522013,
          -1.5892123568347112,
          0.6936677916768622,
          1.1210373544275518,
          0.7961678326691228,
          -0.8391943240960812,
          0.24015769746489576,
          -0.5508983796531722,
          1.12627939397085,
          0.9029350084574046,
          -2.432031096989011,
          0.7657320319014022,
          -0.8199738797904056,
          0.936354598692254,
          1.4219270790134204,
          1.3436035732956615,
          1.068728347985142,
          -0.1274801263802885
         ]
        },
        {
         "marker": {
          "color": "rgba(128, 0, 128, 0.6)",
          "line": {
           "color": "rgba(128, 0, 128, 1.0)",
           "width": 1
          }
         },
         "name": "D",
         "orientation": "v",
         "text": "",
         "type": "bar",
         "x": [
          0,
          1,
          2,
          3,
          4,
          5,
          6,
          7,
          8,
          9,
          10,
          11,
          12,
          13,
          14,
          15,
          16,
          17,
          18,
          19,
          20,
          21,
          22,
          23,
          24,
          25,
          26,
          27,
          28,
          29,
          30,
          31,
          32,
          33,
          34,
          35,
          36,
          37,
          38,
          39,
          40,
          41,
          42,
          43,
          44,
          45,
          46,
          47,
          48,
          49,
          50,
          51,
          52,
          53,
          54,
          55,
          56,
          57,
          58,
          59,
          60,
          61,
          62,
          63,
          64,
          65,
          66,
          67,
          68,
          69,
          70,
          71,
          72,
          73,
          74,
          75,
          76,
          77,
          78,
          79,
          80,
          81,
          82,
          83,
          84,
          85,
          86,
          87,
          88,
          89,
          90,
          91,
          92,
          93,
          94,
          95,
          96,
          97,
          98,
          99
         ],
         "y": [
          1.1721929351470735,
          -0.22550678449579425,
          -0.23122702155824176,
          0.6563333186487523,
          0.9213870194866701,
          -0.940057159600806,
          1.0628180142729196,
          -0.7499896102609849,
          0.30784931824423095,
          2.266399430883198,
          -0.44880797942819267,
          1.1422936229435676,
          0.09103811544473554,
          2.069523663590396,
          1.2508805902953954,
          -0.3047131602462184,
          0.9197394716886824,
          1.0057324663857043,
          -0.4333404738483218,
          1.1010416821236282,
          0.20656145868170267,
          0.26233863218323333,
          1.5060412455601153,
          -0.13402585348303264,
          -0.32697483748177253,
          1.079837128902801,
          0.004728406171932221,
          -0.6226718331405126,
          -0.4490701297158038,
          0.15225931142287583,
          0.9153052362338638,
          -0.6622649748463805,
          -0.054998896163471284,
          -1.845316075636726,
          0.01180849735745713,
          0.6209732383074823,
          -2.1112426036073337,
          -0.0821528976491328,
          -1.0224783410842313,
          0.4878918372140083,
          0.4671284655613165,
          -1.5994765830828284,
          -0.6725580152001758,
          0.44366080628539195,
          0.07415873128838171,
          -1.3249369973109828,
          1.1551445342220152,
          1.7332337195085488,
          -0.3657857984091364,
          -0.2873417734161192,
          -0.9709572050937714,
          -0.742372297830512,
          0.3794411738916534,
          0.2762755085921835,
          0.4148111210160986,
          1.004193222747808,
          1.735974995400932,
          0.17378939529727316,
          -0.39644398612996373,
          -0.2213175939757858,
          2.028025374229803,
          0.8741309031602762,
          -0.6177222409549274,
          -0.46832601837327215,
          0.8383996980225872,
          -0.13213402794172005,
          -0.7856771366004357,
          0.3907141014040696,
          0.7893113881559564,
          0.6582413953787006,
          -1.016539631599919,
          -0.7453435716771191,
          -0.020939124576196497,
          0.7032878546039067,
          -0.17619490382371217,
          -0.2779787776331174,
          -0.880442853112146,
          0.09774250949862644,
          0.6245392330085496,
          1.7064080979818954,
          1.3613379387667601,
          0.6412515175675733,
          0.1519953216329928,
          0.031348203336145526,
          -0.31098136014267036,
          0.7875720539862844,
          0.5889390839956123,
          0.4337578296750308,
          0.7171693251896951,
          -1.3440293593443675,
          -0.6736381577049158,
          -0.16567637011293324,
          0.8087465848833933,
          -0.45027639803246394,
          0.6994790917892251,
          0.5714910202749229,
          -0.32518777808721416,
          -0.8740087859949409,
          1.2355915780078561,
          0.5935130920319255
         ]
        }
       ],
       "layout": {
        "legend": {
         "bgcolor": "#F5F6F9",
         "font": {
          "color": "#4D5663"
         }
        },
        "paper_bgcolor": "#F5F6F9",
        "plot_bgcolor": "#F5F6F9",
        "template": {
         "data": {
          "bar": [
           {
            "error_x": {
             "color": "#2a3f5f"
            },
            "error_y": {
             "color": "#2a3f5f"
            },
            "marker": {
             "line": {
              "color": "#E5ECF6",
              "width": 0.5
             },
             "pattern": {
              "fillmode": "overlay",
              "size": 10,
              "solidity": 0.2
             }
            },
            "type": "bar"
           }
          ],
          "barpolar": [
           {
            "marker": {
             "line": {
              "color": "#E5ECF6",
              "width": 0.5
             },
             "pattern": {
              "fillmode": "overlay",
              "size": 10,
              "solidity": 0.2
             }
            },
            "type": "barpolar"
           }
          ],
          "carpet": [
           {
            "aaxis": {
             "endlinecolor": "#2a3f5f",
             "gridcolor": "white",
             "linecolor": "white",
             "minorgridcolor": "white",
             "startlinecolor": "#2a3f5f"
            },
            "baxis": {
             "endlinecolor": "#2a3f5f",
             "gridcolor": "white",
             "linecolor": "white",
             "minorgridcolor": "white",
             "startlinecolor": "#2a3f5f"
            },
            "type": "carpet"
           }
          ],
          "choropleth": [
           {
            "colorbar": {
             "outlinewidth": 0,
             "ticks": ""
            },
            "type": "choropleth"
           }
          ],
          "contour": [
           {
            "colorbar": {
             "outlinewidth": 0,
             "ticks": ""
            },
            "colorscale": [
             [
              0,
              "#0d0887"
             ],
             [
              0.1111111111111111,
              "#46039f"
             ],
             [
              0.2222222222222222,
              "#7201a8"
             ],
             [
              0.3333333333333333,
              "#9c179e"
             ],
             [
              0.4444444444444444,
              "#bd3786"
             ],
             [
              0.5555555555555556,
              "#d8576b"
             ],
             [
              0.6666666666666666,
              "#ed7953"
             ],
             [
              0.7777777777777778,
              "#fb9f3a"
             ],
             [
              0.8888888888888888,
              "#fdca26"
             ],
             [
              1,
              "#f0f921"
             ]
            ],
            "type": "contour"
           }
          ],
          "contourcarpet": [
           {
            "colorbar": {
             "outlinewidth": 0,
             "ticks": ""
            },
            "type": "contourcarpet"
           }
          ],
          "heatmap": [
           {
            "colorbar": {
             "outlinewidth": 0,
             "ticks": ""
            },
            "colorscale": [
             [
              0,
              "#0d0887"
             ],
             [
              0.1111111111111111,
              "#46039f"
             ],
             [
              0.2222222222222222,
              "#7201a8"
             ],
             [
              0.3333333333333333,
              "#9c179e"
             ],
             [
              0.4444444444444444,
              "#bd3786"
             ],
             [
              0.5555555555555556,
              "#d8576b"
             ],
             [
              0.6666666666666666,
              "#ed7953"
             ],
             [
              0.7777777777777778,
              "#fb9f3a"
             ],
             [
              0.8888888888888888,
              "#fdca26"
             ],
             [
              1,
              "#f0f921"
             ]
            ],
            "type": "heatmap"
           }
          ],
          "heatmapgl": [
           {
            "colorbar": {
             "outlinewidth": 0,
             "ticks": ""
            },
            "colorscale": [
             [
              0,
              "#0d0887"
             ],
             [
              0.1111111111111111,
              "#46039f"
             ],
             [
              0.2222222222222222,
              "#7201a8"
             ],
             [
              0.3333333333333333,
              "#9c179e"
             ],
             [
              0.4444444444444444,
              "#bd3786"
             ],
             [
              0.5555555555555556,
              "#d8576b"
             ],
             [
              0.6666666666666666,
              "#ed7953"
             ],
             [
              0.7777777777777778,
              "#fb9f3a"
             ],
             [
              0.8888888888888888,
              "#fdca26"
             ],
             [
              1,
              "#f0f921"
             ]
            ],
            "type": "heatmapgl"
           }
          ],
          "histogram": [
           {
            "marker": {
             "pattern": {
              "fillmode": "overlay",
              "size": 10,
              "solidity": 0.2
             }
            },
            "type": "histogram"
           }
          ],
          "histogram2d": [
           {
            "colorbar": {
             "outlinewidth": 0,
             "ticks": ""
            },
            "colorscale": [
             [
              0,
              "#0d0887"
             ],
             [
              0.1111111111111111,
              "#46039f"
             ],
             [
              0.2222222222222222,
              "#7201a8"
             ],
             [
              0.3333333333333333,
              "#9c179e"
             ],
             [
              0.4444444444444444,
              "#bd3786"
             ],
             [
              0.5555555555555556,
              "#d8576b"
             ],
             [
              0.6666666666666666,
              "#ed7953"
             ],
             [
              0.7777777777777778,
              "#fb9f3a"
             ],
             [
              0.8888888888888888,
              "#fdca26"
             ],
             [
              1,
              "#f0f921"
             ]
            ],
            "type": "histogram2d"
           }
          ],
          "histogram2dcontour": [
           {
            "colorbar": {
             "outlinewidth": 0,
             "ticks": ""
            },
            "colorscale": [
             [
              0,
              "#0d0887"
             ],
             [
              0.1111111111111111,
              "#46039f"
             ],
             [
              0.2222222222222222,
              "#7201a8"
             ],
             [
              0.3333333333333333,
              "#9c179e"
             ],
             [
              0.4444444444444444,
              "#bd3786"
             ],
             [
              0.5555555555555556,
              "#d8576b"
             ],
             [
              0.6666666666666666,
              "#ed7953"
             ],
             [
              0.7777777777777778,
              "#fb9f3a"
             ],
             [
              0.8888888888888888,
              "#fdca26"
             ],
             [
              1,
              "#f0f921"
             ]
            ],
            "type": "histogram2dcontour"
           }
          ],
          "mesh3d": [
           {
            "colorbar": {
             "outlinewidth": 0,
             "ticks": ""
            },
            "type": "mesh3d"
           }
          ],
          "parcoords": [
           {
            "line": {
             "colorbar": {
              "outlinewidth": 0,
              "ticks": ""
             }
            },
            "type": "parcoords"
           }
          ],
          "pie": [
           {
            "automargin": true,
            "type": "pie"
           }
          ],
          "scatter": [
           {
            "fillpattern": {
             "fillmode": "overlay",
             "size": 10,
             "solidity": 0.2
            },
            "type": "scatter"
           }
          ],
          "scatter3d": [
           {
            "line": {
             "colorbar": {
              "outlinewidth": 0,
              "ticks": ""
             }
            },
            "marker": {
             "colorbar": {
              "outlinewidth": 0,
              "ticks": ""
             }
            },
            "type": "scatter3d"
           }
          ],
          "scattercarpet": [
           {
            "marker": {
             "colorbar": {
              "outlinewidth": 0,
              "ticks": ""
             }
            },
            "type": "scattercarpet"
           }
          ],
          "scattergeo": [
           {
            "marker": {
             "colorbar": {
              "outlinewidth": 0,
              "ticks": ""
             }
            },
            "type": "scattergeo"
           }
          ],
          "scattergl": [
           {
            "marker": {
             "colorbar": {
              "outlinewidth": 0,
              "ticks": ""
             }
            },
            "type": "scattergl"
           }
          ],
          "scattermapbox": [
           {
            "marker": {
             "colorbar": {
              "outlinewidth": 0,
              "ticks": ""
             }
            },
            "type": "scattermapbox"
           }
          ],
          "scatterpolar": [
           {
            "marker": {
             "colorbar": {
              "outlinewidth": 0,
              "ticks": ""
             }
            },
            "type": "scatterpolar"
           }
          ],
          "scatterpolargl": [
           {
            "marker": {
             "colorbar": {
              "outlinewidth": 0,
              "ticks": ""
             }
            },
            "type": "scatterpolargl"
           }
          ],
          "scatterternary": [
           {
            "marker": {
             "colorbar": {
              "outlinewidth": 0,
              "ticks": ""
             }
            },
            "type": "scatterternary"
           }
          ],
          "surface": [
           {
            "colorbar": {
             "outlinewidth": 0,
             "ticks": ""
            },
            "colorscale": [
             [
              0,
              "#0d0887"
             ],
             [
              0.1111111111111111,
              "#46039f"
             ],
             [
              0.2222222222222222,
              "#7201a8"
             ],
             [
              0.3333333333333333,
              "#9c179e"
             ],
             [
              0.4444444444444444,
              "#bd3786"
             ],
             [
              0.5555555555555556,
              "#d8576b"
             ],
             [
              0.6666666666666666,
              "#ed7953"
             ],
             [
              0.7777777777777778,
              "#fb9f3a"
             ],
             [
              0.8888888888888888,
              "#fdca26"
             ],
             [
              1,
              "#f0f921"
             ]
            ],
            "type": "surface"
           }
          ],
          "table": [
           {
            "cells": {
             "fill": {
              "color": "#EBF0F8"
             },
             "line": {
              "color": "white"
             }
            },
            "header": {
             "fill": {
              "color": "#C8D4E3"
             },
             "line": {
              "color": "white"
             }
            },
            "type": "table"
           }
          ]
         },
         "layout": {
          "annotationdefaults": {
           "arrowcolor": "#2a3f5f",
           "arrowhead": 0,
           "arrowwidth": 1
          },
          "autotypenumbers": "strict",
          "coloraxis": {
           "colorbar": {
            "outlinewidth": 0,
            "ticks": ""
           }
          },
          "colorscale": {
           "diverging": [
            [
             0,
             "#8e0152"
            ],
            [
             0.1,
             "#c51b7d"
            ],
            [
             0.2,
             "#de77ae"
            ],
            [
             0.3,
             "#f1b6da"
            ],
            [
             0.4,
             "#fde0ef"
            ],
            [
             0.5,
             "#f7f7f7"
            ],
            [
             0.6,
             "#e6f5d0"
            ],
            [
             0.7,
             "#b8e186"
            ],
            [
             0.8,
             "#7fbc41"
            ],
            [
             0.9,
             "#4d9221"
            ],
            [
             1,
             "#276419"
            ]
           ],
           "sequential": [
            [
             0,
             "#0d0887"
            ],
            [
             0.1111111111111111,
             "#46039f"
            ],
            [
             0.2222222222222222,
             "#7201a8"
            ],
            [
             0.3333333333333333,
             "#9c179e"
            ],
            [
             0.4444444444444444,
             "#bd3786"
            ],
            [
             0.5555555555555556,
             "#d8576b"
            ],
            [
             0.6666666666666666,
             "#ed7953"
            ],
            [
             0.7777777777777778,
             "#fb9f3a"
            ],
            [
             0.8888888888888888,
             "#fdca26"
            ],
            [
             1,
             "#f0f921"
            ]
           ],
           "sequentialminus": [
            [
             0,
             "#0d0887"
            ],
            [
             0.1111111111111111,
             "#46039f"
            ],
            [
             0.2222222222222222,
             "#7201a8"
            ],
            [
             0.3333333333333333,
             "#9c179e"
            ],
            [
             0.4444444444444444,
             "#bd3786"
            ],
            [
             0.5555555555555556,
             "#d8576b"
            ],
            [
             0.6666666666666666,
             "#ed7953"
            ],
            [
             0.7777777777777778,
             "#fb9f3a"
            ],
            [
             0.8888888888888888,
             "#fdca26"
            ],
            [
             1,
             "#f0f921"
            ]
           ]
          },
          "colorway": [
           "#636efa",
           "#EF553B",
           "#00cc96",
           "#ab63fa",
           "#FFA15A",
           "#19d3f3",
           "#FF6692",
           "#B6E880",
           "#FF97FF",
           "#FECB52"
          ],
          "font": {
           "color": "#2a3f5f"
          },
          "geo": {
           "bgcolor": "white",
           "lakecolor": "white",
           "landcolor": "#E5ECF6",
           "showlakes": true,
           "showland": true,
           "subunitcolor": "white"
          },
          "hoverlabel": {
           "align": "left"
          },
          "hovermode": "closest",
          "mapbox": {
           "style": "light"
          },
          "paper_bgcolor": "white",
          "plot_bgcolor": "#E5ECF6",
          "polar": {
           "angularaxis": {
            "gridcolor": "white",
            "linecolor": "white",
            "ticks": ""
           },
           "bgcolor": "#E5ECF6",
           "radialaxis": {
            "gridcolor": "white",
            "linecolor": "white",
            "ticks": ""
           }
          },
          "scene": {
           "xaxis": {
            "backgroundcolor": "#E5ECF6",
            "gridcolor": "white",
            "gridwidth": 2,
            "linecolor": "white",
            "showbackground": true,
            "ticks": "",
            "zerolinecolor": "white"
           },
           "yaxis": {
            "backgroundcolor": "#E5ECF6",
            "gridcolor": "white",
            "gridwidth": 2,
            "linecolor": "white",
            "showbackground": true,
            "ticks": "",
            "zerolinecolor": "white"
           },
           "zaxis": {
            "backgroundcolor": "#E5ECF6",
            "gridcolor": "white",
            "gridwidth": 2,
            "linecolor": "white",
            "showbackground": true,
            "ticks": "",
            "zerolinecolor": "white"
           }
          },
          "shapedefaults": {
           "line": {
            "color": "#2a3f5f"
           }
          },
          "ternary": {
           "aaxis": {
            "gridcolor": "white",
            "linecolor": "white",
            "ticks": ""
           },
           "baxis": {
            "gridcolor": "white",
            "linecolor": "white",
            "ticks": ""
           },
           "bgcolor": "#E5ECF6",
           "caxis": {
            "gridcolor": "white",
            "linecolor": "white",
            "ticks": ""
           }
          },
          "title": {
           "x": 0.05
          },
          "xaxis": {
           "automargin": true,
           "gridcolor": "white",
           "linecolor": "white",
           "ticks": "",
           "title": {
            "standoff": 15
           },
           "zerolinecolor": "white",
           "zerolinewidth": 2
          },
          "yaxis": {
           "automargin": true,
           "gridcolor": "white",
           "linecolor": "white",
           "ticks": "",
           "title": {
            "standoff": 15
           },
           "zerolinecolor": "white",
           "zerolinewidth": 2
          }
         }
        },
        "title": {
         "font": {
          "color": "#4D5663"
         }
        },
        "xaxis": {
         "gridcolor": "#E1E5ED",
         "showgrid": true,
         "tickfont": {
          "color": "#4D5663"
         },
         "title": {
          "font": {
           "color": "#4D5663"
          },
          "text": ""
         },
         "zerolinecolor": "#E1E5ED"
        },
        "yaxis": {
         "gridcolor": "#E1E5ED",
         "showgrid": true,
         "tickfont": {
          "color": "#4D5663"
         },
         "title": {
          "font": {
           "color": "#4D5663"
          },
          "text": ""
         },
         "zerolinecolor": "#E1E5ED"
        }
       }
      },
      "text/html": [
       "<div>                            <div id=\"1194598e-fd04-4424-a68b-0db97034fdb7\" class=\"plotly-graph-div\" style=\"height:525px; width:100%;\"></div>            <script type=\"text/javascript\">                require([\"plotly\"], function(Plotly) {                    window.PLOTLYENV=window.PLOTLYENV || {};\n",
       "                    window.PLOTLYENV.BASE_URL='https://plotly.com';                                    if (document.getElementById(\"1194598e-fd04-4424-a68b-0db97034fdb7\")) {                    Plotly.newPlot(                        \"1194598e-fd04-4424-a68b-0db97034fdb7\",                        [{\"marker\":{\"color\":\"rgba(255, 153, 51, 0.6)\",\"line\":{\"color\":\"rgba(255, 153, 51, 1.0)\",\"width\":1}},\"name\":\"A\",\"orientation\":\"v\",\"text\":\"\",\"x\":[0,1,2,3,4,5,6,7,8,9,10,11,12,13,14,15,16,17,18,19,20,21,22,23,24,25,26,27,28,29,30,31,32,33,34,35,36,37,38,39,40,41,42,43,44,45,46,47,48,49,50,51,52,53,54,55,56,57,58,59,60,61,62,63,64,65,66,67,68,69,70,71,72,73,74,75,76,77,78,79,80,81,82,83,84,85,86,87,88,89,90,91,92,93,94,95,96,97,98,99],\"y\":[-0.40615102691201077,-0.47999536952712385,-0.731589452209614,0.5879553428621914,-1.8568953718148897,0.9852963397699704,-0.4565079483975351,0.8985744483888078,-1.880550197114006,-2.495067192414269,0.24318773794361037,-2.278949369698818,-0.5490311250307648,0.14532734122867813,0.16276002203759868,-1.0591320920484073,0.05372109359972695,0.2035258413077142,-2.4564801144392163,0.006562014766148572,1.8299109338952464,-0.9675701363179834,1.0541841654244393,0.20884013344601376,-1.3891116084425656,0.27161097959040503,2.1283430566163135,-0.22494485238235143,-0.09599443616592065,-0.47463986288576715,-1.7001685826280957,-1.339622451274522,0.14880307684214328,-1.502406867092294,0.6697628491897455,1.6736896598940452,-1.1242305900000233,1.2716030457108993,-0.020503495668329225,-0.6004282275431292,-1.610798298038356,-0.7126845047666951,-0.25276036273175184,-0.31036598996075493,0.27657442247611386,0.36475971678819463,-0.3032001827072675,0.28120037852816376,-1.057923800745797,-0.7299540132790762,-1.0364219628836993,2.4916267759664805,1.1629521913280154,2.0054327257594626,-0.23891835735830366,-0.08667481619810505,0.1821673126387374,-0.9087506411647428,-0.2175223804697042,1.0366653428718404,-1.1387376153306084,-1.3134795663116043,-0.3109333372518202,-0.11731364062957415,-0.10397752332154095,0.17357286910884961,1.125123233663803,-0.18371208575837503,0.7475189213297856,-1.8732934204335845,0.3349278560198267,1.626356126253646,0.04965422963422056,-0.4617720171349,0.25881350378239626,-0.6898896998105463,0.7647345988279457,0.44480407531461874,0.09985660770502092,0.1461906720821347,0.04340642890250446,-0.10569764171165204,-2.5186919527957294,0.402553363843015,-1.1885416932522634,1.7141212243739197,0.6790642180576574,1.1679009178651383,-1.0087877679657051,-0.19813583121524153,0.9851166891438866,-0.0118683102180748,-0.44242679362729026,-0.05957237410520343,-0.8011467122356221,-0.27444702043341096,-1.8845227330028054,0.663868967586431,-0.29563990016503844,0.018384161821900682],\"type\":\"bar\"},{\"marker\":{\"color\":\"rgba(55, 128, 191, 0.6)\",\"line\":{\"color\":\"rgba(55, 128, 191, 1.0)\",\"width\":1}},\"name\":\"B\",\"orientation\":\"v\",\"text\":\"\",\"x\":[0,1,2,3,4,5,6,7,8,9,10,11,12,13,14,15,16,17,18,19,20,21,22,23,24,25,26,27,28,29,30,31,32,33,34,35,36,37,38,39,40,41,42,43,44,45,46,47,48,49,50,51,52,53,54,55,56,57,58,59,60,61,62,63,64,65,66,67,68,69,70,71,72,73,74,75,76,77,78,79,80,81,82,83,84,85,86,87,88,89,90,91,92,93,94,95,96,97,98,99],\"y\":[0.33469028609462786,-0.4747720494047677,-0.8910492574030071,-0.6562947499843159,1.0975595283397657,-0.08492187787388085,0.834157942765214,0.8261256825901863,0.4632193771172654,0.2118406780817216,-0.18660521525359663,-0.8772109585438541,0.9001431742247843,0.43622225877058113,0.3505049904764363,0.9315658697409118,-1.946983553008016,0.7644568957313809,-0.12255099035106522,0.18500821089394304,0.6312321003475739,-1.3583124190159115,0.6879322926800804,-0.340566305221331,1.10044477146272,-1.0455648116827128,0.3952180495751735,0.6896877211682053,-0.5155403800669799,1.4785314007970745,-1.0649728817509585,1.7852829028741184,0.8570954275978809,2.173712498989926,-1.0582631927924049,0.4985565174744666,-0.4473289358096288,0.4025239189309213,-0.15564462003233068,0.5381832495099379,-1.2214341198324867,-0.31187895934241877,1.024480489586102,-0.9575439080616085,1.2319230093188827,0.8433090402248943,-0.1743727135083682,-0.516081714378001,-0.05238583944339358,-0.09322087115568396,-1.3402000293873717,-2.349049257706284,-1.2853922081306273,-0.41339815261901414,-0.7700945857764542,1.6608970953042417,0.6176112005319743,-0.8202041643220608,-1.7363664986014162,0.12947655833098984,-1.2343545924493855,-0.3730297008989098,-0.3096507505421561,-0.9790966487903674,0.34996075464019377,2.380102070380568,-0.2440263432978862,0.7681940478056901,1.3570398145585194,-0.20157140820039438,0.2877302953363688,0.16851948185688861,-0.5644038341545653,0.9231079850639387,-0.944506176873885,1.054446152533765,-0.7207904072238942,0.4365114891422287,2.338324940574144,1.0257780537771517,-1.1618978051757043,-1.6327091540232865,0.9509386746206595,1.0231396871331329,0.3118062700792768,-2.4097800983317152,0.7571883722250382,0.4131747981644347,-1.455075148971204,-0.21915229540259684,0.4578621056720926,0.16564240034126468,-1.237646345341587,-1.8175037223783308,-0.7467476602610285,-0.08434524550962558,-1.9690707808886958,-1.160972757919005,-0.23118107997338297,-0.6316562531717944],\"type\":\"bar\"},{\"marker\":{\"color\":\"rgba(50, 171, 96, 0.6)\",\"line\":{\"color\":\"rgba(50, 171, 96, 1.0)\",\"width\":1}},\"name\":\"C\",\"orientation\":\"v\",\"text\":\"\",\"x\":[0,1,2,3,4,5,6,7,8,9,10,11,12,13,14,15,16,17,18,19,20,21,22,23,24,25,26,27,28,29,30,31,32,33,34,35,36,37,38,39,40,41,42,43,44,45,46,47,48,49,50,51,52,53,54,55,56,57,58,59,60,61,62,63,64,65,66,67,68,69,70,71,72,73,74,75,76,77,78,79,80,81,82,83,84,85,86,87,88,89,90,91,92,93,94,95,96,97,98,99],\"y\":[1.1737362333207728,1.5562612868774497,-0.014477400798201173,-0.9949081729820747,0.9357459497680499,0.12646190131838267,-0.3954971678824292,0.3430957446539166,0.9237407892776045,-0.09657627920969948,-1.8243055412777374,0.051993637559908906,-0.2727456870221832,-0.986463898356433,0.08565836080338578,0.2595033891481982,-0.5252644450116665,-1.0606034120376318,-1.0531339863226663,2.124426303973373,0.5386756257920999,-0.007511511275262967,1.1119203435398002,-0.23992367881368432,-1.6306447669964903,3.06700850806012,-1.5686351092233557,-0.3303055960327883,-2.6799375854206735,-0.059681128683770214,2.091684394948725,-0.8967544340093194,1.09190837290732,0.6071660132691131,-0.8682215185106045,-0.5929683036738767,1.1858783986893462,0.4364224172106424,-0.5607058909568162,2.2031077947680973,-2.0009293881751598,0.7424893040701714,0.8393707588892446,-0.816004938619743,-1.4229672866936136,0.16767953911777858,-0.3836304305107007,-0.6530503240203627,-0.4032092701394886,0.49550149133083987,-1.2219788650504726,-2.01711399525827,-1.3501399942480863,-0.3340565386962628,1.6208031740714461,-0.81865148507276,-0.7007388233092041,0.5136785611995491,0.35171848335376976,0.9435753712354081,0.27369781840798585,-1.9524180893392744,-0.8624643631571148,0.8430570654922642,2.1323244795491156,-0.6288100804146632,1.3589889331060612,-0.557235992767454,-1.3792429504800554,0.130518031523595,-0.9227967429596617,0.6573125910979403,-0.23994717138183025,0.6626844035939178,0.7741461543370848,0.48579671998018553,-1.3130302860341112,-2.3704585045470785,-1.3160142246509,0.04462568929934854,-1.9574264167929238,-0.7695788548393496,-0.9140157180522013,-1.5892123568347112,0.6936677916768622,1.1210373544275518,0.7961678326691228,-0.8391943240960812,0.24015769746489576,-0.5508983796531722,1.12627939397085,0.9029350084574046,-2.432031096989011,0.7657320319014022,-0.8199738797904056,0.936354598692254,1.4219270790134204,1.3436035732956615,1.068728347985142,-0.1274801263802885],\"type\":\"bar\"},{\"marker\":{\"color\":\"rgba(128, 0, 128, 0.6)\",\"line\":{\"color\":\"rgba(128, 0, 128, 1.0)\",\"width\":1}},\"name\":\"D\",\"orientation\":\"v\",\"text\":\"\",\"x\":[0,1,2,3,4,5,6,7,8,9,10,11,12,13,14,15,16,17,18,19,20,21,22,23,24,25,26,27,28,29,30,31,32,33,34,35,36,37,38,39,40,41,42,43,44,45,46,47,48,49,50,51,52,53,54,55,56,57,58,59,60,61,62,63,64,65,66,67,68,69,70,71,72,73,74,75,76,77,78,79,80,81,82,83,84,85,86,87,88,89,90,91,92,93,94,95,96,97,98,99],\"y\":[1.1721929351470735,-0.22550678449579425,-0.23122702155824176,0.6563333186487523,0.9213870194866701,-0.940057159600806,1.0628180142729196,-0.7499896102609849,0.30784931824423095,2.266399430883198,-0.44880797942819267,1.1422936229435676,0.09103811544473554,2.069523663590396,1.2508805902953954,-0.3047131602462184,0.9197394716886824,1.0057324663857043,-0.4333404738483218,1.1010416821236282,0.20656145868170267,0.26233863218323333,1.5060412455601153,-0.13402585348303264,-0.32697483748177253,1.079837128902801,0.004728406171932221,-0.6226718331405126,-0.4490701297158038,0.15225931142287583,0.9153052362338638,-0.6622649748463805,-0.054998896163471284,-1.845316075636726,0.01180849735745713,0.6209732383074823,-2.1112426036073337,-0.0821528976491328,-1.0224783410842313,0.4878918372140083,0.4671284655613165,-1.5994765830828284,-0.6725580152001758,0.44366080628539195,0.07415873128838171,-1.3249369973109828,1.1551445342220152,1.7332337195085488,-0.3657857984091364,-0.2873417734161192,-0.9709572050937714,-0.742372297830512,0.3794411738916534,0.2762755085921835,0.4148111210160986,1.004193222747808,1.735974995400932,0.17378939529727316,-0.39644398612996373,-0.2213175939757858,2.028025374229803,0.8741309031602762,-0.6177222409549274,-0.46832601837327215,0.8383996980225872,-0.13213402794172005,-0.7856771366004357,0.3907141014040696,0.7893113881559564,0.6582413953787006,-1.016539631599919,-0.7453435716771191,-0.020939124576196497,0.7032878546039067,-0.17619490382371217,-0.2779787776331174,-0.880442853112146,0.09774250949862644,0.6245392330085496,1.7064080979818954,1.3613379387667601,0.6412515175675733,0.1519953216329928,0.031348203336145526,-0.31098136014267036,0.7875720539862844,0.5889390839956123,0.4337578296750308,0.7171693251896951,-1.3440293593443675,-0.6736381577049158,-0.16567637011293324,0.8087465848833933,-0.45027639803246394,0.6994790917892251,0.5714910202749229,-0.32518777808721416,-0.8740087859949409,1.2355915780078561,0.5935130920319255],\"type\":\"bar\"}],                        {\"legend\":{\"bgcolor\":\"#F5F6F9\",\"font\":{\"color\":\"#4D5663\"}},\"paper_bgcolor\":\"#F5F6F9\",\"plot_bgcolor\":\"#F5F6F9\",\"template\":{\"data\":{\"barpolar\":[{\"marker\":{\"line\":{\"color\":\"#E5ECF6\",\"width\":0.5},\"pattern\":{\"fillmode\":\"overlay\",\"size\":10,\"solidity\":0.2}},\"type\":\"barpolar\"}],\"bar\":[{\"error_x\":{\"color\":\"#2a3f5f\"},\"error_y\":{\"color\":\"#2a3f5f\"},\"marker\":{\"line\":{\"color\":\"#E5ECF6\",\"width\":0.5},\"pattern\":{\"fillmode\":\"overlay\",\"size\":10,\"solidity\":0.2}},\"type\":\"bar\"}],\"carpet\":[{\"aaxis\":{\"endlinecolor\":\"#2a3f5f\",\"gridcolor\":\"white\",\"linecolor\":\"white\",\"minorgridcolor\":\"white\",\"startlinecolor\":\"#2a3f5f\"},\"baxis\":{\"endlinecolor\":\"#2a3f5f\",\"gridcolor\":\"white\",\"linecolor\":\"white\",\"minorgridcolor\":\"white\",\"startlinecolor\":\"#2a3f5f\"},\"type\":\"carpet\"}],\"choropleth\":[{\"colorbar\":{\"outlinewidth\":0,\"ticks\":\"\"},\"type\":\"choropleth\"}],\"contourcarpet\":[{\"colorbar\":{\"outlinewidth\":0,\"ticks\":\"\"},\"type\":\"contourcarpet\"}],\"contour\":[{\"colorbar\":{\"outlinewidth\":0,\"ticks\":\"\"},\"colorscale\":[[0.0,\"#0d0887\"],[0.1111111111111111,\"#46039f\"],[0.2222222222222222,\"#7201a8\"],[0.3333333333333333,\"#9c179e\"],[0.4444444444444444,\"#bd3786\"],[0.5555555555555556,\"#d8576b\"],[0.6666666666666666,\"#ed7953\"],[0.7777777777777778,\"#fb9f3a\"],[0.8888888888888888,\"#fdca26\"],[1.0,\"#f0f921\"]],\"type\":\"contour\"}],\"heatmapgl\":[{\"colorbar\":{\"outlinewidth\":0,\"ticks\":\"\"},\"colorscale\":[[0.0,\"#0d0887\"],[0.1111111111111111,\"#46039f\"],[0.2222222222222222,\"#7201a8\"],[0.3333333333333333,\"#9c179e\"],[0.4444444444444444,\"#bd3786\"],[0.5555555555555556,\"#d8576b\"],[0.6666666666666666,\"#ed7953\"],[0.7777777777777778,\"#fb9f3a\"],[0.8888888888888888,\"#fdca26\"],[1.0,\"#f0f921\"]],\"type\":\"heatmapgl\"}],\"heatmap\":[{\"colorbar\":{\"outlinewidth\":0,\"ticks\":\"\"},\"colorscale\":[[0.0,\"#0d0887\"],[0.1111111111111111,\"#46039f\"],[0.2222222222222222,\"#7201a8\"],[0.3333333333333333,\"#9c179e\"],[0.4444444444444444,\"#bd3786\"],[0.5555555555555556,\"#d8576b\"],[0.6666666666666666,\"#ed7953\"],[0.7777777777777778,\"#fb9f3a\"],[0.8888888888888888,\"#fdca26\"],[1.0,\"#f0f921\"]],\"type\":\"heatmap\"}],\"histogram2dcontour\":[{\"colorbar\":{\"outlinewidth\":0,\"ticks\":\"\"},\"colorscale\":[[0.0,\"#0d0887\"],[0.1111111111111111,\"#46039f\"],[0.2222222222222222,\"#7201a8\"],[0.3333333333333333,\"#9c179e\"],[0.4444444444444444,\"#bd3786\"],[0.5555555555555556,\"#d8576b\"],[0.6666666666666666,\"#ed7953\"],[0.7777777777777778,\"#fb9f3a\"],[0.8888888888888888,\"#fdca26\"],[1.0,\"#f0f921\"]],\"type\":\"histogram2dcontour\"}],\"histogram2d\":[{\"colorbar\":{\"outlinewidth\":0,\"ticks\":\"\"},\"colorscale\":[[0.0,\"#0d0887\"],[0.1111111111111111,\"#46039f\"],[0.2222222222222222,\"#7201a8\"],[0.3333333333333333,\"#9c179e\"],[0.4444444444444444,\"#bd3786\"],[0.5555555555555556,\"#d8576b\"],[0.6666666666666666,\"#ed7953\"],[0.7777777777777778,\"#fb9f3a\"],[0.8888888888888888,\"#fdca26\"],[1.0,\"#f0f921\"]],\"type\":\"histogram2d\"}],\"histogram\":[{\"marker\":{\"pattern\":{\"fillmode\":\"overlay\",\"size\":10,\"solidity\":0.2}},\"type\":\"histogram\"}],\"mesh3d\":[{\"colorbar\":{\"outlinewidth\":0,\"ticks\":\"\"},\"type\":\"mesh3d\"}],\"parcoords\":[{\"line\":{\"colorbar\":{\"outlinewidth\":0,\"ticks\":\"\"}},\"type\":\"parcoords\"}],\"pie\":[{\"automargin\":true,\"type\":\"pie\"}],\"scatter3d\":[{\"line\":{\"colorbar\":{\"outlinewidth\":0,\"ticks\":\"\"}},\"marker\":{\"colorbar\":{\"outlinewidth\":0,\"ticks\":\"\"}},\"type\":\"scatter3d\"}],\"scattercarpet\":[{\"marker\":{\"colorbar\":{\"outlinewidth\":0,\"ticks\":\"\"}},\"type\":\"scattercarpet\"}],\"scattergeo\":[{\"marker\":{\"colorbar\":{\"outlinewidth\":0,\"ticks\":\"\"}},\"type\":\"scattergeo\"}],\"scattergl\":[{\"marker\":{\"colorbar\":{\"outlinewidth\":0,\"ticks\":\"\"}},\"type\":\"scattergl\"}],\"scattermapbox\":[{\"marker\":{\"colorbar\":{\"outlinewidth\":0,\"ticks\":\"\"}},\"type\":\"scattermapbox\"}],\"scatterpolargl\":[{\"marker\":{\"colorbar\":{\"outlinewidth\":0,\"ticks\":\"\"}},\"type\":\"scatterpolargl\"}],\"scatterpolar\":[{\"marker\":{\"colorbar\":{\"outlinewidth\":0,\"ticks\":\"\"}},\"type\":\"scatterpolar\"}],\"scatter\":[{\"fillpattern\":{\"fillmode\":\"overlay\",\"size\":10,\"solidity\":0.2},\"type\":\"scatter\"}],\"scatterternary\":[{\"marker\":{\"colorbar\":{\"outlinewidth\":0,\"ticks\":\"\"}},\"type\":\"scatterternary\"}],\"surface\":[{\"colorbar\":{\"outlinewidth\":0,\"ticks\":\"\"},\"colorscale\":[[0.0,\"#0d0887\"],[0.1111111111111111,\"#46039f\"],[0.2222222222222222,\"#7201a8\"],[0.3333333333333333,\"#9c179e\"],[0.4444444444444444,\"#bd3786\"],[0.5555555555555556,\"#d8576b\"],[0.6666666666666666,\"#ed7953\"],[0.7777777777777778,\"#fb9f3a\"],[0.8888888888888888,\"#fdca26\"],[1.0,\"#f0f921\"]],\"type\":\"surface\"}],\"table\":[{\"cells\":{\"fill\":{\"color\":\"#EBF0F8\"},\"line\":{\"color\":\"white\"}},\"header\":{\"fill\":{\"color\":\"#C8D4E3\"},\"line\":{\"color\":\"white\"}},\"type\":\"table\"}]},\"layout\":{\"annotationdefaults\":{\"arrowcolor\":\"#2a3f5f\",\"arrowhead\":0,\"arrowwidth\":1},\"autotypenumbers\":\"strict\",\"coloraxis\":{\"colorbar\":{\"outlinewidth\":0,\"ticks\":\"\"}},\"colorscale\":{\"diverging\":[[0,\"#8e0152\"],[0.1,\"#c51b7d\"],[0.2,\"#de77ae\"],[0.3,\"#f1b6da\"],[0.4,\"#fde0ef\"],[0.5,\"#f7f7f7\"],[0.6,\"#e6f5d0\"],[0.7,\"#b8e186\"],[0.8,\"#7fbc41\"],[0.9,\"#4d9221\"],[1,\"#276419\"]],\"sequential\":[[0.0,\"#0d0887\"],[0.1111111111111111,\"#46039f\"],[0.2222222222222222,\"#7201a8\"],[0.3333333333333333,\"#9c179e\"],[0.4444444444444444,\"#bd3786\"],[0.5555555555555556,\"#d8576b\"],[0.6666666666666666,\"#ed7953\"],[0.7777777777777778,\"#fb9f3a\"],[0.8888888888888888,\"#fdca26\"],[1.0,\"#f0f921\"]],\"sequentialminus\":[[0.0,\"#0d0887\"],[0.1111111111111111,\"#46039f\"],[0.2222222222222222,\"#7201a8\"],[0.3333333333333333,\"#9c179e\"],[0.4444444444444444,\"#bd3786\"],[0.5555555555555556,\"#d8576b\"],[0.6666666666666666,\"#ed7953\"],[0.7777777777777778,\"#fb9f3a\"],[0.8888888888888888,\"#fdca26\"],[1.0,\"#f0f921\"]]},\"colorway\":[\"#636efa\",\"#EF553B\",\"#00cc96\",\"#ab63fa\",\"#FFA15A\",\"#19d3f3\",\"#FF6692\",\"#B6E880\",\"#FF97FF\",\"#FECB52\"],\"font\":{\"color\":\"#2a3f5f\"},\"geo\":{\"bgcolor\":\"white\",\"lakecolor\":\"white\",\"landcolor\":\"#E5ECF6\",\"showlakes\":true,\"showland\":true,\"subunitcolor\":\"white\"},\"hoverlabel\":{\"align\":\"left\"},\"hovermode\":\"closest\",\"mapbox\":{\"style\":\"light\"},\"paper_bgcolor\":\"white\",\"plot_bgcolor\":\"#E5ECF6\",\"polar\":{\"angularaxis\":{\"gridcolor\":\"white\",\"linecolor\":\"white\",\"ticks\":\"\"},\"bgcolor\":\"#E5ECF6\",\"radialaxis\":{\"gridcolor\":\"white\",\"linecolor\":\"white\",\"ticks\":\"\"}},\"scene\":{\"xaxis\":{\"backgroundcolor\":\"#E5ECF6\",\"gridcolor\":\"white\",\"gridwidth\":2,\"linecolor\":\"white\",\"showbackground\":true,\"ticks\":\"\",\"zerolinecolor\":\"white\"},\"yaxis\":{\"backgroundcolor\":\"#E5ECF6\",\"gridcolor\":\"white\",\"gridwidth\":2,\"linecolor\":\"white\",\"showbackground\":true,\"ticks\":\"\",\"zerolinecolor\":\"white\"},\"zaxis\":{\"backgroundcolor\":\"#E5ECF6\",\"gridcolor\":\"white\",\"gridwidth\":2,\"linecolor\":\"white\",\"showbackground\":true,\"ticks\":\"\",\"zerolinecolor\":\"white\"}},\"shapedefaults\":{\"line\":{\"color\":\"#2a3f5f\"}},\"ternary\":{\"aaxis\":{\"gridcolor\":\"white\",\"linecolor\":\"white\",\"ticks\":\"\"},\"baxis\":{\"gridcolor\":\"white\",\"linecolor\":\"white\",\"ticks\":\"\"},\"bgcolor\":\"#E5ECF6\",\"caxis\":{\"gridcolor\":\"white\",\"linecolor\":\"white\",\"ticks\":\"\"}},\"title\":{\"x\":0.05},\"xaxis\":{\"automargin\":true,\"gridcolor\":\"white\",\"linecolor\":\"white\",\"ticks\":\"\",\"title\":{\"standoff\":15},\"zerolinecolor\":\"white\",\"zerolinewidth\":2},\"yaxis\":{\"automargin\":true,\"gridcolor\":\"white\",\"linecolor\":\"white\",\"ticks\":\"\",\"title\":{\"standoff\":15},\"zerolinecolor\":\"white\",\"zerolinewidth\":2}}},\"title\":{\"font\":{\"color\":\"#4D5663\"}},\"xaxis\":{\"gridcolor\":\"#E1E5ED\",\"showgrid\":true,\"tickfont\":{\"color\":\"#4D5663\"},\"title\":{\"font\":{\"color\":\"#4D5663\"},\"text\":\"\"},\"zerolinecolor\":\"#E1E5ED\"},\"yaxis\":{\"gridcolor\":\"#E1E5ED\",\"showgrid\":true,\"tickfont\":{\"color\":\"#4D5663\"},\"title\":{\"font\":{\"color\":\"#4D5663\"},\"text\":\"\"},\"zerolinecolor\":\"#E1E5ED\"}},                        {\"showLink\": true, \"linkText\": \"Export to plotly.com\", \"plotlyServerURL\": \"https://plotly.com\", \"responsive\": true}                    ).then(function(){\n",
       "                            \n",
       "var gd = document.getElementById('1194598e-fd04-4424-a68b-0db97034fdb7');\n",
       "var x = new MutationObserver(function (mutations, observer) {{\n",
       "        var display = window.getComputedStyle(gd).display;\n",
       "        if (!display || display === 'none') {{\n",
       "            console.log([gd, 'removed!']);\n",
       "            Plotly.purge(gd);\n",
       "            observer.disconnect();\n",
       "        }}\n",
       "}});\n",
       "\n",
       "// Listen for the removal of the full notebook cells\n",
       "var notebookContainer = gd.closest('#notebook-container');\n",
       "if (notebookContainer) {{\n",
       "    x.observe(notebookContainer, {childList: true});\n",
       "}}\n",
       "\n",
       "// Listen for the clearing of the current output cell\n",
       "var outputEl = gd.closest('.output');\n",
       "if (outputEl) {{\n",
       "    x.observe(outputEl, {childList: true});\n",
       "}}\n",
       "\n",
       "                        })                };                });            </script>        </div>"
      ]
     },
     "metadata": {},
     "output_type": "display_data"
    }
   ],
   "source": [
    "df.iplot(kind='bar')"
   ]
  },
  {
   "cell_type": "code",
   "execution_count": 31,
   "id": "884b1080",
   "metadata": {},
   "outputs": [
    {
     "data": {
      "application/vnd.plotly.v1+json": {
       "config": {
        "linkText": "Export to plotly.com",
        "plotlyServerURL": "https://plotly.com",
        "showLink": true
       },
       "data": [
        {
         "marker": {
          "color": "rgba(255, 153, 51, 0.6)",
          "line": {
           "color": "rgba(255, 153, 51, 1.0)",
           "width": 1
          }
         },
         "name": "None",
         "orientation": "v",
         "text": "",
         "type": "bar",
         "x": [
          "A",
          "B",
          "C",
          "D"
         ],
         "y": [
          100,
          100,
          100,
          100
         ]
        }
       ],
       "layout": {
        "legend": {
         "bgcolor": "#F5F6F9",
         "font": {
          "color": "#4D5663"
         }
        },
        "paper_bgcolor": "#F5F6F9",
        "plot_bgcolor": "#F5F6F9",
        "template": {
         "data": {
          "bar": [
           {
            "error_x": {
             "color": "#2a3f5f"
            },
            "error_y": {
             "color": "#2a3f5f"
            },
            "marker": {
             "line": {
              "color": "#E5ECF6",
              "width": 0.5
             },
             "pattern": {
              "fillmode": "overlay",
              "size": 10,
              "solidity": 0.2
             }
            },
            "type": "bar"
           }
          ],
          "barpolar": [
           {
            "marker": {
             "line": {
              "color": "#E5ECF6",
              "width": 0.5
             },
             "pattern": {
              "fillmode": "overlay",
              "size": 10,
              "solidity": 0.2
             }
            },
            "type": "barpolar"
           }
          ],
          "carpet": [
           {
            "aaxis": {
             "endlinecolor": "#2a3f5f",
             "gridcolor": "white",
             "linecolor": "white",
             "minorgridcolor": "white",
             "startlinecolor": "#2a3f5f"
            },
            "baxis": {
             "endlinecolor": "#2a3f5f",
             "gridcolor": "white",
             "linecolor": "white",
             "minorgridcolor": "white",
             "startlinecolor": "#2a3f5f"
            },
            "type": "carpet"
           }
          ],
          "choropleth": [
           {
            "colorbar": {
             "outlinewidth": 0,
             "ticks": ""
            },
            "type": "choropleth"
           }
          ],
          "contour": [
           {
            "colorbar": {
             "outlinewidth": 0,
             "ticks": ""
            },
            "colorscale": [
             [
              0,
              "#0d0887"
             ],
             [
              0.1111111111111111,
              "#46039f"
             ],
             [
              0.2222222222222222,
              "#7201a8"
             ],
             [
              0.3333333333333333,
              "#9c179e"
             ],
             [
              0.4444444444444444,
              "#bd3786"
             ],
             [
              0.5555555555555556,
              "#d8576b"
             ],
             [
              0.6666666666666666,
              "#ed7953"
             ],
             [
              0.7777777777777778,
              "#fb9f3a"
             ],
             [
              0.8888888888888888,
              "#fdca26"
             ],
             [
              1,
              "#f0f921"
             ]
            ],
            "type": "contour"
           }
          ],
          "contourcarpet": [
           {
            "colorbar": {
             "outlinewidth": 0,
             "ticks": ""
            },
            "type": "contourcarpet"
           }
          ],
          "heatmap": [
           {
            "colorbar": {
             "outlinewidth": 0,
             "ticks": ""
            },
            "colorscale": [
             [
              0,
              "#0d0887"
             ],
             [
              0.1111111111111111,
              "#46039f"
             ],
             [
              0.2222222222222222,
              "#7201a8"
             ],
             [
              0.3333333333333333,
              "#9c179e"
             ],
             [
              0.4444444444444444,
              "#bd3786"
             ],
             [
              0.5555555555555556,
              "#d8576b"
             ],
             [
              0.6666666666666666,
              "#ed7953"
             ],
             [
              0.7777777777777778,
              "#fb9f3a"
             ],
             [
              0.8888888888888888,
              "#fdca26"
             ],
             [
              1,
              "#f0f921"
             ]
            ],
            "type": "heatmap"
           }
          ],
          "heatmapgl": [
           {
            "colorbar": {
             "outlinewidth": 0,
             "ticks": ""
            },
            "colorscale": [
             [
              0,
              "#0d0887"
             ],
             [
              0.1111111111111111,
              "#46039f"
             ],
             [
              0.2222222222222222,
              "#7201a8"
             ],
             [
              0.3333333333333333,
              "#9c179e"
             ],
             [
              0.4444444444444444,
              "#bd3786"
             ],
             [
              0.5555555555555556,
              "#d8576b"
             ],
             [
              0.6666666666666666,
              "#ed7953"
             ],
             [
              0.7777777777777778,
              "#fb9f3a"
             ],
             [
              0.8888888888888888,
              "#fdca26"
             ],
             [
              1,
              "#f0f921"
             ]
            ],
            "type": "heatmapgl"
           }
          ],
          "histogram": [
           {
            "marker": {
             "pattern": {
              "fillmode": "overlay",
              "size": 10,
              "solidity": 0.2
             }
            },
            "type": "histogram"
           }
          ],
          "histogram2d": [
           {
            "colorbar": {
             "outlinewidth": 0,
             "ticks": ""
            },
            "colorscale": [
             [
              0,
              "#0d0887"
             ],
             [
              0.1111111111111111,
              "#46039f"
             ],
             [
              0.2222222222222222,
              "#7201a8"
             ],
             [
              0.3333333333333333,
              "#9c179e"
             ],
             [
              0.4444444444444444,
              "#bd3786"
             ],
             [
              0.5555555555555556,
              "#d8576b"
             ],
             [
              0.6666666666666666,
              "#ed7953"
             ],
             [
              0.7777777777777778,
              "#fb9f3a"
             ],
             [
              0.8888888888888888,
              "#fdca26"
             ],
             [
              1,
              "#f0f921"
             ]
            ],
            "type": "histogram2d"
           }
          ],
          "histogram2dcontour": [
           {
            "colorbar": {
             "outlinewidth": 0,
             "ticks": ""
            },
            "colorscale": [
             [
              0,
              "#0d0887"
             ],
             [
              0.1111111111111111,
              "#46039f"
             ],
             [
              0.2222222222222222,
              "#7201a8"
             ],
             [
              0.3333333333333333,
              "#9c179e"
             ],
             [
              0.4444444444444444,
              "#bd3786"
             ],
             [
              0.5555555555555556,
              "#d8576b"
             ],
             [
              0.6666666666666666,
              "#ed7953"
             ],
             [
              0.7777777777777778,
              "#fb9f3a"
             ],
             [
              0.8888888888888888,
              "#fdca26"
             ],
             [
              1,
              "#f0f921"
             ]
            ],
            "type": "histogram2dcontour"
           }
          ],
          "mesh3d": [
           {
            "colorbar": {
             "outlinewidth": 0,
             "ticks": ""
            },
            "type": "mesh3d"
           }
          ],
          "parcoords": [
           {
            "line": {
             "colorbar": {
              "outlinewidth": 0,
              "ticks": ""
             }
            },
            "type": "parcoords"
           }
          ],
          "pie": [
           {
            "automargin": true,
            "type": "pie"
           }
          ],
          "scatter": [
           {
            "fillpattern": {
             "fillmode": "overlay",
             "size": 10,
             "solidity": 0.2
            },
            "type": "scatter"
           }
          ],
          "scatter3d": [
           {
            "line": {
             "colorbar": {
              "outlinewidth": 0,
              "ticks": ""
             }
            },
            "marker": {
             "colorbar": {
              "outlinewidth": 0,
              "ticks": ""
             }
            },
            "type": "scatter3d"
           }
          ],
          "scattercarpet": [
           {
            "marker": {
             "colorbar": {
              "outlinewidth": 0,
              "ticks": ""
             }
            },
            "type": "scattercarpet"
           }
          ],
          "scattergeo": [
           {
            "marker": {
             "colorbar": {
              "outlinewidth": 0,
              "ticks": ""
             }
            },
            "type": "scattergeo"
           }
          ],
          "scattergl": [
           {
            "marker": {
             "colorbar": {
              "outlinewidth": 0,
              "ticks": ""
             }
            },
            "type": "scattergl"
           }
          ],
          "scattermapbox": [
           {
            "marker": {
             "colorbar": {
              "outlinewidth": 0,
              "ticks": ""
             }
            },
            "type": "scattermapbox"
           }
          ],
          "scatterpolar": [
           {
            "marker": {
             "colorbar": {
              "outlinewidth": 0,
              "ticks": ""
             }
            },
            "type": "scatterpolar"
           }
          ],
          "scatterpolargl": [
           {
            "marker": {
             "colorbar": {
              "outlinewidth": 0,
              "ticks": ""
             }
            },
            "type": "scatterpolargl"
           }
          ],
          "scatterternary": [
           {
            "marker": {
             "colorbar": {
              "outlinewidth": 0,
              "ticks": ""
             }
            },
            "type": "scatterternary"
           }
          ],
          "surface": [
           {
            "colorbar": {
             "outlinewidth": 0,
             "ticks": ""
            },
            "colorscale": [
             [
              0,
              "#0d0887"
             ],
             [
              0.1111111111111111,
              "#46039f"
             ],
             [
              0.2222222222222222,
              "#7201a8"
             ],
             [
              0.3333333333333333,
              "#9c179e"
             ],
             [
              0.4444444444444444,
              "#bd3786"
             ],
             [
              0.5555555555555556,
              "#d8576b"
             ],
             [
              0.6666666666666666,
              "#ed7953"
             ],
             [
              0.7777777777777778,
              "#fb9f3a"
             ],
             [
              0.8888888888888888,
              "#fdca26"
             ],
             [
              1,
              "#f0f921"
             ]
            ],
            "type": "surface"
           }
          ],
          "table": [
           {
            "cells": {
             "fill": {
              "color": "#EBF0F8"
             },
             "line": {
              "color": "white"
             }
            },
            "header": {
             "fill": {
              "color": "#C8D4E3"
             },
             "line": {
              "color": "white"
             }
            },
            "type": "table"
           }
          ]
         },
         "layout": {
          "annotationdefaults": {
           "arrowcolor": "#2a3f5f",
           "arrowhead": 0,
           "arrowwidth": 1
          },
          "autotypenumbers": "strict",
          "coloraxis": {
           "colorbar": {
            "outlinewidth": 0,
            "ticks": ""
           }
          },
          "colorscale": {
           "diverging": [
            [
             0,
             "#8e0152"
            ],
            [
             0.1,
             "#c51b7d"
            ],
            [
             0.2,
             "#de77ae"
            ],
            [
             0.3,
             "#f1b6da"
            ],
            [
             0.4,
             "#fde0ef"
            ],
            [
             0.5,
             "#f7f7f7"
            ],
            [
             0.6,
             "#e6f5d0"
            ],
            [
             0.7,
             "#b8e186"
            ],
            [
             0.8,
             "#7fbc41"
            ],
            [
             0.9,
             "#4d9221"
            ],
            [
             1,
             "#276419"
            ]
           ],
           "sequential": [
            [
             0,
             "#0d0887"
            ],
            [
             0.1111111111111111,
             "#46039f"
            ],
            [
             0.2222222222222222,
             "#7201a8"
            ],
            [
             0.3333333333333333,
             "#9c179e"
            ],
            [
             0.4444444444444444,
             "#bd3786"
            ],
            [
             0.5555555555555556,
             "#d8576b"
            ],
            [
             0.6666666666666666,
             "#ed7953"
            ],
            [
             0.7777777777777778,
             "#fb9f3a"
            ],
            [
             0.8888888888888888,
             "#fdca26"
            ],
            [
             1,
             "#f0f921"
            ]
           ],
           "sequentialminus": [
            [
             0,
             "#0d0887"
            ],
            [
             0.1111111111111111,
             "#46039f"
            ],
            [
             0.2222222222222222,
             "#7201a8"
            ],
            [
             0.3333333333333333,
             "#9c179e"
            ],
            [
             0.4444444444444444,
             "#bd3786"
            ],
            [
             0.5555555555555556,
             "#d8576b"
            ],
            [
             0.6666666666666666,
             "#ed7953"
            ],
            [
             0.7777777777777778,
             "#fb9f3a"
            ],
            [
             0.8888888888888888,
             "#fdca26"
            ],
            [
             1,
             "#f0f921"
            ]
           ]
          },
          "colorway": [
           "#636efa",
           "#EF553B",
           "#00cc96",
           "#ab63fa",
           "#FFA15A",
           "#19d3f3",
           "#FF6692",
           "#B6E880",
           "#FF97FF",
           "#FECB52"
          ],
          "font": {
           "color": "#2a3f5f"
          },
          "geo": {
           "bgcolor": "white",
           "lakecolor": "white",
           "landcolor": "#E5ECF6",
           "showlakes": true,
           "showland": true,
           "subunitcolor": "white"
          },
          "hoverlabel": {
           "align": "left"
          },
          "hovermode": "closest",
          "mapbox": {
           "style": "light"
          },
          "paper_bgcolor": "white",
          "plot_bgcolor": "#E5ECF6",
          "polar": {
           "angularaxis": {
            "gridcolor": "white",
            "linecolor": "white",
            "ticks": ""
           },
           "bgcolor": "#E5ECF6",
           "radialaxis": {
            "gridcolor": "white",
            "linecolor": "white",
            "ticks": ""
           }
          },
          "scene": {
           "xaxis": {
            "backgroundcolor": "#E5ECF6",
            "gridcolor": "white",
            "gridwidth": 2,
            "linecolor": "white",
            "showbackground": true,
            "ticks": "",
            "zerolinecolor": "white"
           },
           "yaxis": {
            "backgroundcolor": "#E5ECF6",
            "gridcolor": "white",
            "gridwidth": 2,
            "linecolor": "white",
            "showbackground": true,
            "ticks": "",
            "zerolinecolor": "white"
           },
           "zaxis": {
            "backgroundcolor": "#E5ECF6",
            "gridcolor": "white",
            "gridwidth": 2,
            "linecolor": "white",
            "showbackground": true,
            "ticks": "",
            "zerolinecolor": "white"
           }
          },
          "shapedefaults": {
           "line": {
            "color": "#2a3f5f"
           }
          },
          "ternary": {
           "aaxis": {
            "gridcolor": "white",
            "linecolor": "white",
            "ticks": ""
           },
           "baxis": {
            "gridcolor": "white",
            "linecolor": "white",
            "ticks": ""
           },
           "bgcolor": "#E5ECF6",
           "caxis": {
            "gridcolor": "white",
            "linecolor": "white",
            "ticks": ""
           }
          },
          "title": {
           "x": 0.05
          },
          "xaxis": {
           "automargin": true,
           "gridcolor": "white",
           "linecolor": "white",
           "ticks": "",
           "title": {
            "standoff": 15
           },
           "zerolinecolor": "white",
           "zerolinewidth": 2
          },
          "yaxis": {
           "automargin": true,
           "gridcolor": "white",
           "linecolor": "white",
           "ticks": "",
           "title": {
            "standoff": 15
           },
           "zerolinecolor": "white",
           "zerolinewidth": 2
          }
         }
        },
        "title": {
         "font": {
          "color": "#4D5663"
         }
        },
        "xaxis": {
         "gridcolor": "#E1E5ED",
         "showgrid": true,
         "tickfont": {
          "color": "#4D5663"
         },
         "title": {
          "font": {
           "color": "#4D5663"
          },
          "text": ""
         },
         "zerolinecolor": "#E1E5ED"
        },
        "yaxis": {
         "gridcolor": "#E1E5ED",
         "showgrid": true,
         "tickfont": {
          "color": "#4D5663"
         },
         "title": {
          "font": {
           "color": "#4D5663"
          },
          "text": ""
         },
         "zerolinecolor": "#E1E5ED"
        }
       }
      },
      "text/html": [
       "<div>                            <div id=\"5f97b949-b61a-48c2-88aa-169c3dace07e\" class=\"plotly-graph-div\" style=\"height:525px; width:100%;\"></div>            <script type=\"text/javascript\">                require([\"plotly\"], function(Plotly) {                    window.PLOTLYENV=window.PLOTLYENV || {};\n",
       "                    window.PLOTLYENV.BASE_URL='https://plotly.com';                                    if (document.getElementById(\"5f97b949-b61a-48c2-88aa-169c3dace07e\")) {                    Plotly.newPlot(                        \"5f97b949-b61a-48c2-88aa-169c3dace07e\",                        [{\"marker\":{\"color\":\"rgba(255, 153, 51, 0.6)\",\"line\":{\"color\":\"rgba(255, 153, 51, 1.0)\",\"width\":1}},\"name\":\"None\",\"orientation\":\"v\",\"text\":\"\",\"x\":[\"A\",\"B\",\"C\",\"D\"],\"y\":[100,100,100,100],\"type\":\"bar\"}],                        {\"legend\":{\"bgcolor\":\"#F5F6F9\",\"font\":{\"color\":\"#4D5663\"}},\"paper_bgcolor\":\"#F5F6F9\",\"plot_bgcolor\":\"#F5F6F9\",\"template\":{\"data\":{\"barpolar\":[{\"marker\":{\"line\":{\"color\":\"#E5ECF6\",\"width\":0.5},\"pattern\":{\"fillmode\":\"overlay\",\"size\":10,\"solidity\":0.2}},\"type\":\"barpolar\"}],\"bar\":[{\"error_x\":{\"color\":\"#2a3f5f\"},\"error_y\":{\"color\":\"#2a3f5f\"},\"marker\":{\"line\":{\"color\":\"#E5ECF6\",\"width\":0.5},\"pattern\":{\"fillmode\":\"overlay\",\"size\":10,\"solidity\":0.2}},\"type\":\"bar\"}],\"carpet\":[{\"aaxis\":{\"endlinecolor\":\"#2a3f5f\",\"gridcolor\":\"white\",\"linecolor\":\"white\",\"minorgridcolor\":\"white\",\"startlinecolor\":\"#2a3f5f\"},\"baxis\":{\"endlinecolor\":\"#2a3f5f\",\"gridcolor\":\"white\",\"linecolor\":\"white\",\"minorgridcolor\":\"white\",\"startlinecolor\":\"#2a3f5f\"},\"type\":\"carpet\"}],\"choropleth\":[{\"colorbar\":{\"outlinewidth\":0,\"ticks\":\"\"},\"type\":\"choropleth\"}],\"contourcarpet\":[{\"colorbar\":{\"outlinewidth\":0,\"ticks\":\"\"},\"type\":\"contourcarpet\"}],\"contour\":[{\"colorbar\":{\"outlinewidth\":0,\"ticks\":\"\"},\"colorscale\":[[0.0,\"#0d0887\"],[0.1111111111111111,\"#46039f\"],[0.2222222222222222,\"#7201a8\"],[0.3333333333333333,\"#9c179e\"],[0.4444444444444444,\"#bd3786\"],[0.5555555555555556,\"#d8576b\"],[0.6666666666666666,\"#ed7953\"],[0.7777777777777778,\"#fb9f3a\"],[0.8888888888888888,\"#fdca26\"],[1.0,\"#f0f921\"]],\"type\":\"contour\"}],\"heatmapgl\":[{\"colorbar\":{\"outlinewidth\":0,\"ticks\":\"\"},\"colorscale\":[[0.0,\"#0d0887\"],[0.1111111111111111,\"#46039f\"],[0.2222222222222222,\"#7201a8\"],[0.3333333333333333,\"#9c179e\"],[0.4444444444444444,\"#bd3786\"],[0.5555555555555556,\"#d8576b\"],[0.6666666666666666,\"#ed7953\"],[0.7777777777777778,\"#fb9f3a\"],[0.8888888888888888,\"#fdca26\"],[1.0,\"#f0f921\"]],\"type\":\"heatmapgl\"}],\"heatmap\":[{\"colorbar\":{\"outlinewidth\":0,\"ticks\":\"\"},\"colorscale\":[[0.0,\"#0d0887\"],[0.1111111111111111,\"#46039f\"],[0.2222222222222222,\"#7201a8\"],[0.3333333333333333,\"#9c179e\"],[0.4444444444444444,\"#bd3786\"],[0.5555555555555556,\"#d8576b\"],[0.6666666666666666,\"#ed7953\"],[0.7777777777777778,\"#fb9f3a\"],[0.8888888888888888,\"#fdca26\"],[1.0,\"#f0f921\"]],\"type\":\"heatmap\"}],\"histogram2dcontour\":[{\"colorbar\":{\"outlinewidth\":0,\"ticks\":\"\"},\"colorscale\":[[0.0,\"#0d0887\"],[0.1111111111111111,\"#46039f\"],[0.2222222222222222,\"#7201a8\"],[0.3333333333333333,\"#9c179e\"],[0.4444444444444444,\"#bd3786\"],[0.5555555555555556,\"#d8576b\"],[0.6666666666666666,\"#ed7953\"],[0.7777777777777778,\"#fb9f3a\"],[0.8888888888888888,\"#fdca26\"],[1.0,\"#f0f921\"]],\"type\":\"histogram2dcontour\"}],\"histogram2d\":[{\"colorbar\":{\"outlinewidth\":0,\"ticks\":\"\"},\"colorscale\":[[0.0,\"#0d0887\"],[0.1111111111111111,\"#46039f\"],[0.2222222222222222,\"#7201a8\"],[0.3333333333333333,\"#9c179e\"],[0.4444444444444444,\"#bd3786\"],[0.5555555555555556,\"#d8576b\"],[0.6666666666666666,\"#ed7953\"],[0.7777777777777778,\"#fb9f3a\"],[0.8888888888888888,\"#fdca26\"],[1.0,\"#f0f921\"]],\"type\":\"histogram2d\"}],\"histogram\":[{\"marker\":{\"pattern\":{\"fillmode\":\"overlay\",\"size\":10,\"solidity\":0.2}},\"type\":\"histogram\"}],\"mesh3d\":[{\"colorbar\":{\"outlinewidth\":0,\"ticks\":\"\"},\"type\":\"mesh3d\"}],\"parcoords\":[{\"line\":{\"colorbar\":{\"outlinewidth\":0,\"ticks\":\"\"}},\"type\":\"parcoords\"}],\"pie\":[{\"automargin\":true,\"type\":\"pie\"}],\"scatter3d\":[{\"line\":{\"colorbar\":{\"outlinewidth\":0,\"ticks\":\"\"}},\"marker\":{\"colorbar\":{\"outlinewidth\":0,\"ticks\":\"\"}},\"type\":\"scatter3d\"}],\"scattercarpet\":[{\"marker\":{\"colorbar\":{\"outlinewidth\":0,\"ticks\":\"\"}},\"type\":\"scattercarpet\"}],\"scattergeo\":[{\"marker\":{\"colorbar\":{\"outlinewidth\":0,\"ticks\":\"\"}},\"type\":\"scattergeo\"}],\"scattergl\":[{\"marker\":{\"colorbar\":{\"outlinewidth\":0,\"ticks\":\"\"}},\"type\":\"scattergl\"}],\"scattermapbox\":[{\"marker\":{\"colorbar\":{\"outlinewidth\":0,\"ticks\":\"\"}},\"type\":\"scattermapbox\"}],\"scatterpolargl\":[{\"marker\":{\"colorbar\":{\"outlinewidth\":0,\"ticks\":\"\"}},\"type\":\"scatterpolargl\"}],\"scatterpolar\":[{\"marker\":{\"colorbar\":{\"outlinewidth\":0,\"ticks\":\"\"}},\"type\":\"scatterpolar\"}],\"scatter\":[{\"fillpattern\":{\"fillmode\":\"overlay\",\"size\":10,\"solidity\":0.2},\"type\":\"scatter\"}],\"scatterternary\":[{\"marker\":{\"colorbar\":{\"outlinewidth\":0,\"ticks\":\"\"}},\"type\":\"scatterternary\"}],\"surface\":[{\"colorbar\":{\"outlinewidth\":0,\"ticks\":\"\"},\"colorscale\":[[0.0,\"#0d0887\"],[0.1111111111111111,\"#46039f\"],[0.2222222222222222,\"#7201a8\"],[0.3333333333333333,\"#9c179e\"],[0.4444444444444444,\"#bd3786\"],[0.5555555555555556,\"#d8576b\"],[0.6666666666666666,\"#ed7953\"],[0.7777777777777778,\"#fb9f3a\"],[0.8888888888888888,\"#fdca26\"],[1.0,\"#f0f921\"]],\"type\":\"surface\"}],\"table\":[{\"cells\":{\"fill\":{\"color\":\"#EBF0F8\"},\"line\":{\"color\":\"white\"}},\"header\":{\"fill\":{\"color\":\"#C8D4E3\"},\"line\":{\"color\":\"white\"}},\"type\":\"table\"}]},\"layout\":{\"annotationdefaults\":{\"arrowcolor\":\"#2a3f5f\",\"arrowhead\":0,\"arrowwidth\":1},\"autotypenumbers\":\"strict\",\"coloraxis\":{\"colorbar\":{\"outlinewidth\":0,\"ticks\":\"\"}},\"colorscale\":{\"diverging\":[[0,\"#8e0152\"],[0.1,\"#c51b7d\"],[0.2,\"#de77ae\"],[0.3,\"#f1b6da\"],[0.4,\"#fde0ef\"],[0.5,\"#f7f7f7\"],[0.6,\"#e6f5d0\"],[0.7,\"#b8e186\"],[0.8,\"#7fbc41\"],[0.9,\"#4d9221\"],[1,\"#276419\"]],\"sequential\":[[0.0,\"#0d0887\"],[0.1111111111111111,\"#46039f\"],[0.2222222222222222,\"#7201a8\"],[0.3333333333333333,\"#9c179e\"],[0.4444444444444444,\"#bd3786\"],[0.5555555555555556,\"#d8576b\"],[0.6666666666666666,\"#ed7953\"],[0.7777777777777778,\"#fb9f3a\"],[0.8888888888888888,\"#fdca26\"],[1.0,\"#f0f921\"]],\"sequentialminus\":[[0.0,\"#0d0887\"],[0.1111111111111111,\"#46039f\"],[0.2222222222222222,\"#7201a8\"],[0.3333333333333333,\"#9c179e\"],[0.4444444444444444,\"#bd3786\"],[0.5555555555555556,\"#d8576b\"],[0.6666666666666666,\"#ed7953\"],[0.7777777777777778,\"#fb9f3a\"],[0.8888888888888888,\"#fdca26\"],[1.0,\"#f0f921\"]]},\"colorway\":[\"#636efa\",\"#EF553B\",\"#00cc96\",\"#ab63fa\",\"#FFA15A\",\"#19d3f3\",\"#FF6692\",\"#B6E880\",\"#FF97FF\",\"#FECB52\"],\"font\":{\"color\":\"#2a3f5f\"},\"geo\":{\"bgcolor\":\"white\",\"lakecolor\":\"white\",\"landcolor\":\"#E5ECF6\",\"showlakes\":true,\"showland\":true,\"subunitcolor\":\"white\"},\"hoverlabel\":{\"align\":\"left\"},\"hovermode\":\"closest\",\"mapbox\":{\"style\":\"light\"},\"paper_bgcolor\":\"white\",\"plot_bgcolor\":\"#E5ECF6\",\"polar\":{\"angularaxis\":{\"gridcolor\":\"white\",\"linecolor\":\"white\",\"ticks\":\"\"},\"bgcolor\":\"#E5ECF6\",\"radialaxis\":{\"gridcolor\":\"white\",\"linecolor\":\"white\",\"ticks\":\"\"}},\"scene\":{\"xaxis\":{\"backgroundcolor\":\"#E5ECF6\",\"gridcolor\":\"white\",\"gridwidth\":2,\"linecolor\":\"white\",\"showbackground\":true,\"ticks\":\"\",\"zerolinecolor\":\"white\"},\"yaxis\":{\"backgroundcolor\":\"#E5ECF6\",\"gridcolor\":\"white\",\"gridwidth\":2,\"linecolor\":\"white\",\"showbackground\":true,\"ticks\":\"\",\"zerolinecolor\":\"white\"},\"zaxis\":{\"backgroundcolor\":\"#E5ECF6\",\"gridcolor\":\"white\",\"gridwidth\":2,\"linecolor\":\"white\",\"showbackground\":true,\"ticks\":\"\",\"zerolinecolor\":\"white\"}},\"shapedefaults\":{\"line\":{\"color\":\"#2a3f5f\"}},\"ternary\":{\"aaxis\":{\"gridcolor\":\"white\",\"linecolor\":\"white\",\"ticks\":\"\"},\"baxis\":{\"gridcolor\":\"white\",\"linecolor\":\"white\",\"ticks\":\"\"},\"bgcolor\":\"#E5ECF6\",\"caxis\":{\"gridcolor\":\"white\",\"linecolor\":\"white\",\"ticks\":\"\"}},\"title\":{\"x\":0.05},\"xaxis\":{\"automargin\":true,\"gridcolor\":\"white\",\"linecolor\":\"white\",\"ticks\":\"\",\"title\":{\"standoff\":15},\"zerolinecolor\":\"white\",\"zerolinewidth\":2},\"yaxis\":{\"automargin\":true,\"gridcolor\":\"white\",\"linecolor\":\"white\",\"ticks\":\"\",\"title\":{\"standoff\":15},\"zerolinecolor\":\"white\",\"zerolinewidth\":2}}},\"title\":{\"font\":{\"color\":\"#4D5663\"}},\"xaxis\":{\"gridcolor\":\"#E1E5ED\",\"showgrid\":true,\"tickfont\":{\"color\":\"#4D5663\"},\"title\":{\"font\":{\"color\":\"#4D5663\"},\"text\":\"\"},\"zerolinecolor\":\"#E1E5ED\"},\"yaxis\":{\"gridcolor\":\"#E1E5ED\",\"showgrid\":true,\"tickfont\":{\"color\":\"#4D5663\"},\"title\":{\"font\":{\"color\":\"#4D5663\"},\"text\":\"\"},\"zerolinecolor\":\"#E1E5ED\"}},                        {\"showLink\": true, \"linkText\": \"Export to plotly.com\", \"plotlyServerURL\": \"https://plotly.com\", \"responsive\": true}                    ).then(function(){\n",
       "                            \n",
       "var gd = document.getElementById('5f97b949-b61a-48c2-88aa-169c3dace07e');\n",
       "var x = new MutationObserver(function (mutations, observer) {{\n",
       "        var display = window.getComputedStyle(gd).display;\n",
       "        if (!display || display === 'none') {{\n",
       "            console.log([gd, 'removed!']);\n",
       "            Plotly.purge(gd);\n",
       "            observer.disconnect();\n",
       "        }}\n",
       "}});\n",
       "\n",
       "// Listen for the removal of the full notebook cells\n",
       "var notebookContainer = gd.closest('#notebook-container');\n",
       "if (notebookContainer) {{\n",
       "    x.observe(notebookContainer, {childList: true});\n",
       "}}\n",
       "\n",
       "// Listen for the clearing of the current output cell\n",
       "var outputEl = gd.closest('.output');\n",
       "if (outputEl) {{\n",
       "    x.observe(outputEl, {childList: true});\n",
       "}}\n",
       "\n",
       "                        })                };                });            </script>        </div>"
      ]
     },
     "metadata": {},
     "output_type": "display_data"
    }
   ],
   "source": [
    "df.count().iplot(kind='bar')"
   ]
  },
  {
   "cell_type": "code",
   "execution_count": 32,
   "id": "f3ecc49d",
   "metadata": {},
   "outputs": [
    {
     "data": {
      "application/vnd.plotly.v1+json": {
       "config": {
        "linkText": "Export to plotly.com",
        "plotlyServerURL": "https://plotly.com",
        "showLink": true
       },
       "data": [
        {
         "marker": {
          "color": "rgba(255, 153, 51, 0.6)",
          "line": {
           "color": "rgba(255, 153, 51, 1.0)",
           "width": 1
          }
         },
         "name": "None",
         "orientation": "v",
         "text": "",
         "type": "bar",
         "x": [
          "A",
          "B",
          "C",
          "D"
         ],
         "y": [
          -14.74752770283508,
          -4.346312896802012,
          -6.955011668355196,
          17.914654133175514
         ]
        }
       ],
       "layout": {
        "legend": {
         "bgcolor": "#F5F6F9",
         "font": {
          "color": "#4D5663"
         }
        },
        "paper_bgcolor": "#F5F6F9",
        "plot_bgcolor": "#F5F6F9",
        "template": {
         "data": {
          "bar": [
           {
            "error_x": {
             "color": "#2a3f5f"
            },
            "error_y": {
             "color": "#2a3f5f"
            },
            "marker": {
             "line": {
              "color": "#E5ECF6",
              "width": 0.5
             },
             "pattern": {
              "fillmode": "overlay",
              "size": 10,
              "solidity": 0.2
             }
            },
            "type": "bar"
           }
          ],
          "barpolar": [
           {
            "marker": {
             "line": {
              "color": "#E5ECF6",
              "width": 0.5
             },
             "pattern": {
              "fillmode": "overlay",
              "size": 10,
              "solidity": 0.2
             }
            },
            "type": "barpolar"
           }
          ],
          "carpet": [
           {
            "aaxis": {
             "endlinecolor": "#2a3f5f",
             "gridcolor": "white",
             "linecolor": "white",
             "minorgridcolor": "white",
             "startlinecolor": "#2a3f5f"
            },
            "baxis": {
             "endlinecolor": "#2a3f5f",
             "gridcolor": "white",
             "linecolor": "white",
             "minorgridcolor": "white",
             "startlinecolor": "#2a3f5f"
            },
            "type": "carpet"
           }
          ],
          "choropleth": [
           {
            "colorbar": {
             "outlinewidth": 0,
             "ticks": ""
            },
            "type": "choropleth"
           }
          ],
          "contour": [
           {
            "colorbar": {
             "outlinewidth": 0,
             "ticks": ""
            },
            "colorscale": [
             [
              0,
              "#0d0887"
             ],
             [
              0.1111111111111111,
              "#46039f"
             ],
             [
              0.2222222222222222,
              "#7201a8"
             ],
             [
              0.3333333333333333,
              "#9c179e"
             ],
             [
              0.4444444444444444,
              "#bd3786"
             ],
             [
              0.5555555555555556,
              "#d8576b"
             ],
             [
              0.6666666666666666,
              "#ed7953"
             ],
             [
              0.7777777777777778,
              "#fb9f3a"
             ],
             [
              0.8888888888888888,
              "#fdca26"
             ],
             [
              1,
              "#f0f921"
             ]
            ],
            "type": "contour"
           }
          ],
          "contourcarpet": [
           {
            "colorbar": {
             "outlinewidth": 0,
             "ticks": ""
            },
            "type": "contourcarpet"
           }
          ],
          "heatmap": [
           {
            "colorbar": {
             "outlinewidth": 0,
             "ticks": ""
            },
            "colorscale": [
             [
              0,
              "#0d0887"
             ],
             [
              0.1111111111111111,
              "#46039f"
             ],
             [
              0.2222222222222222,
              "#7201a8"
             ],
             [
              0.3333333333333333,
              "#9c179e"
             ],
             [
              0.4444444444444444,
              "#bd3786"
             ],
             [
              0.5555555555555556,
              "#d8576b"
             ],
             [
              0.6666666666666666,
              "#ed7953"
             ],
             [
              0.7777777777777778,
              "#fb9f3a"
             ],
             [
              0.8888888888888888,
              "#fdca26"
             ],
             [
              1,
              "#f0f921"
             ]
            ],
            "type": "heatmap"
           }
          ],
          "heatmapgl": [
           {
            "colorbar": {
             "outlinewidth": 0,
             "ticks": ""
            },
            "colorscale": [
             [
              0,
              "#0d0887"
             ],
             [
              0.1111111111111111,
              "#46039f"
             ],
             [
              0.2222222222222222,
              "#7201a8"
             ],
             [
              0.3333333333333333,
              "#9c179e"
             ],
             [
              0.4444444444444444,
              "#bd3786"
             ],
             [
              0.5555555555555556,
              "#d8576b"
             ],
             [
              0.6666666666666666,
              "#ed7953"
             ],
             [
              0.7777777777777778,
              "#fb9f3a"
             ],
             [
              0.8888888888888888,
              "#fdca26"
             ],
             [
              1,
              "#f0f921"
             ]
            ],
            "type": "heatmapgl"
           }
          ],
          "histogram": [
           {
            "marker": {
             "pattern": {
              "fillmode": "overlay",
              "size": 10,
              "solidity": 0.2
             }
            },
            "type": "histogram"
           }
          ],
          "histogram2d": [
           {
            "colorbar": {
             "outlinewidth": 0,
             "ticks": ""
            },
            "colorscale": [
             [
              0,
              "#0d0887"
             ],
             [
              0.1111111111111111,
              "#46039f"
             ],
             [
              0.2222222222222222,
              "#7201a8"
             ],
             [
              0.3333333333333333,
              "#9c179e"
             ],
             [
              0.4444444444444444,
              "#bd3786"
             ],
             [
              0.5555555555555556,
              "#d8576b"
             ],
             [
              0.6666666666666666,
              "#ed7953"
             ],
             [
              0.7777777777777778,
              "#fb9f3a"
             ],
             [
              0.8888888888888888,
              "#fdca26"
             ],
             [
              1,
              "#f0f921"
             ]
            ],
            "type": "histogram2d"
           }
          ],
          "histogram2dcontour": [
           {
            "colorbar": {
             "outlinewidth": 0,
             "ticks": ""
            },
            "colorscale": [
             [
              0,
              "#0d0887"
             ],
             [
              0.1111111111111111,
              "#46039f"
             ],
             [
              0.2222222222222222,
              "#7201a8"
             ],
             [
              0.3333333333333333,
              "#9c179e"
             ],
             [
              0.4444444444444444,
              "#bd3786"
             ],
             [
              0.5555555555555556,
              "#d8576b"
             ],
             [
              0.6666666666666666,
              "#ed7953"
             ],
             [
              0.7777777777777778,
              "#fb9f3a"
             ],
             [
              0.8888888888888888,
              "#fdca26"
             ],
             [
              1,
              "#f0f921"
             ]
            ],
            "type": "histogram2dcontour"
           }
          ],
          "mesh3d": [
           {
            "colorbar": {
             "outlinewidth": 0,
             "ticks": ""
            },
            "type": "mesh3d"
           }
          ],
          "parcoords": [
           {
            "line": {
             "colorbar": {
              "outlinewidth": 0,
              "ticks": ""
             }
            },
            "type": "parcoords"
           }
          ],
          "pie": [
           {
            "automargin": true,
            "type": "pie"
           }
          ],
          "scatter": [
           {
            "fillpattern": {
             "fillmode": "overlay",
             "size": 10,
             "solidity": 0.2
            },
            "type": "scatter"
           }
          ],
          "scatter3d": [
           {
            "line": {
             "colorbar": {
              "outlinewidth": 0,
              "ticks": ""
             }
            },
            "marker": {
             "colorbar": {
              "outlinewidth": 0,
              "ticks": ""
             }
            },
            "type": "scatter3d"
           }
          ],
          "scattercarpet": [
           {
            "marker": {
             "colorbar": {
              "outlinewidth": 0,
              "ticks": ""
             }
            },
            "type": "scattercarpet"
           }
          ],
          "scattergeo": [
           {
            "marker": {
             "colorbar": {
              "outlinewidth": 0,
              "ticks": ""
             }
            },
            "type": "scattergeo"
           }
          ],
          "scattergl": [
           {
            "marker": {
             "colorbar": {
              "outlinewidth": 0,
              "ticks": ""
             }
            },
            "type": "scattergl"
           }
          ],
          "scattermapbox": [
           {
            "marker": {
             "colorbar": {
              "outlinewidth": 0,
              "ticks": ""
             }
            },
            "type": "scattermapbox"
           }
          ],
          "scatterpolar": [
           {
            "marker": {
             "colorbar": {
              "outlinewidth": 0,
              "ticks": ""
             }
            },
            "type": "scatterpolar"
           }
          ],
          "scatterpolargl": [
           {
            "marker": {
             "colorbar": {
              "outlinewidth": 0,
              "ticks": ""
             }
            },
            "type": "scatterpolargl"
           }
          ],
          "scatterternary": [
           {
            "marker": {
             "colorbar": {
              "outlinewidth": 0,
              "ticks": ""
             }
            },
            "type": "scatterternary"
           }
          ],
          "surface": [
           {
            "colorbar": {
             "outlinewidth": 0,
             "ticks": ""
            },
            "colorscale": [
             [
              0,
              "#0d0887"
             ],
             [
              0.1111111111111111,
              "#46039f"
             ],
             [
              0.2222222222222222,
              "#7201a8"
             ],
             [
              0.3333333333333333,
              "#9c179e"
             ],
             [
              0.4444444444444444,
              "#bd3786"
             ],
             [
              0.5555555555555556,
              "#d8576b"
             ],
             [
              0.6666666666666666,
              "#ed7953"
             ],
             [
              0.7777777777777778,
              "#fb9f3a"
             ],
             [
              0.8888888888888888,
              "#fdca26"
             ],
             [
              1,
              "#f0f921"
             ]
            ],
            "type": "surface"
           }
          ],
          "table": [
           {
            "cells": {
             "fill": {
              "color": "#EBF0F8"
             },
             "line": {
              "color": "white"
             }
            },
            "header": {
             "fill": {
              "color": "#C8D4E3"
             },
             "line": {
              "color": "white"
             }
            },
            "type": "table"
           }
          ]
         },
         "layout": {
          "annotationdefaults": {
           "arrowcolor": "#2a3f5f",
           "arrowhead": 0,
           "arrowwidth": 1
          },
          "autotypenumbers": "strict",
          "coloraxis": {
           "colorbar": {
            "outlinewidth": 0,
            "ticks": ""
           }
          },
          "colorscale": {
           "diverging": [
            [
             0,
             "#8e0152"
            ],
            [
             0.1,
             "#c51b7d"
            ],
            [
             0.2,
             "#de77ae"
            ],
            [
             0.3,
             "#f1b6da"
            ],
            [
             0.4,
             "#fde0ef"
            ],
            [
             0.5,
             "#f7f7f7"
            ],
            [
             0.6,
             "#e6f5d0"
            ],
            [
             0.7,
             "#b8e186"
            ],
            [
             0.8,
             "#7fbc41"
            ],
            [
             0.9,
             "#4d9221"
            ],
            [
             1,
             "#276419"
            ]
           ],
           "sequential": [
            [
             0,
             "#0d0887"
            ],
            [
             0.1111111111111111,
             "#46039f"
            ],
            [
             0.2222222222222222,
             "#7201a8"
            ],
            [
             0.3333333333333333,
             "#9c179e"
            ],
            [
             0.4444444444444444,
             "#bd3786"
            ],
            [
             0.5555555555555556,
             "#d8576b"
            ],
            [
             0.6666666666666666,
             "#ed7953"
            ],
            [
             0.7777777777777778,
             "#fb9f3a"
            ],
            [
             0.8888888888888888,
             "#fdca26"
            ],
            [
             1,
             "#f0f921"
            ]
           ],
           "sequentialminus": [
            [
             0,
             "#0d0887"
            ],
            [
             0.1111111111111111,
             "#46039f"
            ],
            [
             0.2222222222222222,
             "#7201a8"
            ],
            [
             0.3333333333333333,
             "#9c179e"
            ],
            [
             0.4444444444444444,
             "#bd3786"
            ],
            [
             0.5555555555555556,
             "#d8576b"
            ],
            [
             0.6666666666666666,
             "#ed7953"
            ],
            [
             0.7777777777777778,
             "#fb9f3a"
            ],
            [
             0.8888888888888888,
             "#fdca26"
            ],
            [
             1,
             "#f0f921"
            ]
           ]
          },
          "colorway": [
           "#636efa",
           "#EF553B",
           "#00cc96",
           "#ab63fa",
           "#FFA15A",
           "#19d3f3",
           "#FF6692",
           "#B6E880",
           "#FF97FF",
           "#FECB52"
          ],
          "font": {
           "color": "#2a3f5f"
          },
          "geo": {
           "bgcolor": "white",
           "lakecolor": "white",
           "landcolor": "#E5ECF6",
           "showlakes": true,
           "showland": true,
           "subunitcolor": "white"
          },
          "hoverlabel": {
           "align": "left"
          },
          "hovermode": "closest",
          "mapbox": {
           "style": "light"
          },
          "paper_bgcolor": "white",
          "plot_bgcolor": "#E5ECF6",
          "polar": {
           "angularaxis": {
            "gridcolor": "white",
            "linecolor": "white",
            "ticks": ""
           },
           "bgcolor": "#E5ECF6",
           "radialaxis": {
            "gridcolor": "white",
            "linecolor": "white",
            "ticks": ""
           }
          },
          "scene": {
           "xaxis": {
            "backgroundcolor": "#E5ECF6",
            "gridcolor": "white",
            "gridwidth": 2,
            "linecolor": "white",
            "showbackground": true,
            "ticks": "",
            "zerolinecolor": "white"
           },
           "yaxis": {
            "backgroundcolor": "#E5ECF6",
            "gridcolor": "white",
            "gridwidth": 2,
            "linecolor": "white",
            "showbackground": true,
            "ticks": "",
            "zerolinecolor": "white"
           },
           "zaxis": {
            "backgroundcolor": "#E5ECF6",
            "gridcolor": "white",
            "gridwidth": 2,
            "linecolor": "white",
            "showbackground": true,
            "ticks": "",
            "zerolinecolor": "white"
           }
          },
          "shapedefaults": {
           "line": {
            "color": "#2a3f5f"
           }
          },
          "ternary": {
           "aaxis": {
            "gridcolor": "white",
            "linecolor": "white",
            "ticks": ""
           },
           "baxis": {
            "gridcolor": "white",
            "linecolor": "white",
            "ticks": ""
           },
           "bgcolor": "#E5ECF6",
           "caxis": {
            "gridcolor": "white",
            "linecolor": "white",
            "ticks": ""
           }
          },
          "title": {
           "x": 0.05
          },
          "xaxis": {
           "automargin": true,
           "gridcolor": "white",
           "linecolor": "white",
           "ticks": "",
           "title": {
            "standoff": 15
           },
           "zerolinecolor": "white",
           "zerolinewidth": 2
          },
          "yaxis": {
           "automargin": true,
           "gridcolor": "white",
           "linecolor": "white",
           "ticks": "",
           "title": {
            "standoff": 15
           },
           "zerolinecolor": "white",
           "zerolinewidth": 2
          }
         }
        },
        "title": {
         "font": {
          "color": "#4D5663"
         }
        },
        "xaxis": {
         "gridcolor": "#E1E5ED",
         "showgrid": true,
         "tickfont": {
          "color": "#4D5663"
         },
         "title": {
          "font": {
           "color": "#4D5663"
          },
          "text": ""
         },
         "zerolinecolor": "#E1E5ED"
        },
        "yaxis": {
         "gridcolor": "#E1E5ED",
         "showgrid": true,
         "tickfont": {
          "color": "#4D5663"
         },
         "title": {
          "font": {
           "color": "#4D5663"
          },
          "text": ""
         },
         "zerolinecolor": "#E1E5ED"
        }
       }
      },
      "text/html": [
       "<div>                            <div id=\"4483a6cc-fc73-40c0-8ef0-b853b3efed1c\" class=\"plotly-graph-div\" style=\"height:525px; width:100%;\"></div>            <script type=\"text/javascript\">                require([\"plotly\"], function(Plotly) {                    window.PLOTLYENV=window.PLOTLYENV || {};\n",
       "                    window.PLOTLYENV.BASE_URL='https://plotly.com';                                    if (document.getElementById(\"4483a6cc-fc73-40c0-8ef0-b853b3efed1c\")) {                    Plotly.newPlot(                        \"4483a6cc-fc73-40c0-8ef0-b853b3efed1c\",                        [{\"marker\":{\"color\":\"rgba(255, 153, 51, 0.6)\",\"line\":{\"color\":\"rgba(255, 153, 51, 1.0)\",\"width\":1}},\"name\":\"None\",\"orientation\":\"v\",\"text\":\"\",\"x\":[\"A\",\"B\",\"C\",\"D\"],\"y\":[-14.74752770283508,-4.346312896802012,-6.955011668355196,17.914654133175514],\"type\":\"bar\"}],                        {\"legend\":{\"bgcolor\":\"#F5F6F9\",\"font\":{\"color\":\"#4D5663\"}},\"paper_bgcolor\":\"#F5F6F9\",\"plot_bgcolor\":\"#F5F6F9\",\"template\":{\"data\":{\"barpolar\":[{\"marker\":{\"line\":{\"color\":\"#E5ECF6\",\"width\":0.5},\"pattern\":{\"fillmode\":\"overlay\",\"size\":10,\"solidity\":0.2}},\"type\":\"barpolar\"}],\"bar\":[{\"error_x\":{\"color\":\"#2a3f5f\"},\"error_y\":{\"color\":\"#2a3f5f\"},\"marker\":{\"line\":{\"color\":\"#E5ECF6\",\"width\":0.5},\"pattern\":{\"fillmode\":\"overlay\",\"size\":10,\"solidity\":0.2}},\"type\":\"bar\"}],\"carpet\":[{\"aaxis\":{\"endlinecolor\":\"#2a3f5f\",\"gridcolor\":\"white\",\"linecolor\":\"white\",\"minorgridcolor\":\"white\",\"startlinecolor\":\"#2a3f5f\"},\"baxis\":{\"endlinecolor\":\"#2a3f5f\",\"gridcolor\":\"white\",\"linecolor\":\"white\",\"minorgridcolor\":\"white\",\"startlinecolor\":\"#2a3f5f\"},\"type\":\"carpet\"}],\"choropleth\":[{\"colorbar\":{\"outlinewidth\":0,\"ticks\":\"\"},\"type\":\"choropleth\"}],\"contourcarpet\":[{\"colorbar\":{\"outlinewidth\":0,\"ticks\":\"\"},\"type\":\"contourcarpet\"}],\"contour\":[{\"colorbar\":{\"outlinewidth\":0,\"ticks\":\"\"},\"colorscale\":[[0.0,\"#0d0887\"],[0.1111111111111111,\"#46039f\"],[0.2222222222222222,\"#7201a8\"],[0.3333333333333333,\"#9c179e\"],[0.4444444444444444,\"#bd3786\"],[0.5555555555555556,\"#d8576b\"],[0.6666666666666666,\"#ed7953\"],[0.7777777777777778,\"#fb9f3a\"],[0.8888888888888888,\"#fdca26\"],[1.0,\"#f0f921\"]],\"type\":\"contour\"}],\"heatmapgl\":[{\"colorbar\":{\"outlinewidth\":0,\"ticks\":\"\"},\"colorscale\":[[0.0,\"#0d0887\"],[0.1111111111111111,\"#46039f\"],[0.2222222222222222,\"#7201a8\"],[0.3333333333333333,\"#9c179e\"],[0.4444444444444444,\"#bd3786\"],[0.5555555555555556,\"#d8576b\"],[0.6666666666666666,\"#ed7953\"],[0.7777777777777778,\"#fb9f3a\"],[0.8888888888888888,\"#fdca26\"],[1.0,\"#f0f921\"]],\"type\":\"heatmapgl\"}],\"heatmap\":[{\"colorbar\":{\"outlinewidth\":0,\"ticks\":\"\"},\"colorscale\":[[0.0,\"#0d0887\"],[0.1111111111111111,\"#46039f\"],[0.2222222222222222,\"#7201a8\"],[0.3333333333333333,\"#9c179e\"],[0.4444444444444444,\"#bd3786\"],[0.5555555555555556,\"#d8576b\"],[0.6666666666666666,\"#ed7953\"],[0.7777777777777778,\"#fb9f3a\"],[0.8888888888888888,\"#fdca26\"],[1.0,\"#f0f921\"]],\"type\":\"heatmap\"}],\"histogram2dcontour\":[{\"colorbar\":{\"outlinewidth\":0,\"ticks\":\"\"},\"colorscale\":[[0.0,\"#0d0887\"],[0.1111111111111111,\"#46039f\"],[0.2222222222222222,\"#7201a8\"],[0.3333333333333333,\"#9c179e\"],[0.4444444444444444,\"#bd3786\"],[0.5555555555555556,\"#d8576b\"],[0.6666666666666666,\"#ed7953\"],[0.7777777777777778,\"#fb9f3a\"],[0.8888888888888888,\"#fdca26\"],[1.0,\"#f0f921\"]],\"type\":\"histogram2dcontour\"}],\"histogram2d\":[{\"colorbar\":{\"outlinewidth\":0,\"ticks\":\"\"},\"colorscale\":[[0.0,\"#0d0887\"],[0.1111111111111111,\"#46039f\"],[0.2222222222222222,\"#7201a8\"],[0.3333333333333333,\"#9c179e\"],[0.4444444444444444,\"#bd3786\"],[0.5555555555555556,\"#d8576b\"],[0.6666666666666666,\"#ed7953\"],[0.7777777777777778,\"#fb9f3a\"],[0.8888888888888888,\"#fdca26\"],[1.0,\"#f0f921\"]],\"type\":\"histogram2d\"}],\"histogram\":[{\"marker\":{\"pattern\":{\"fillmode\":\"overlay\",\"size\":10,\"solidity\":0.2}},\"type\":\"histogram\"}],\"mesh3d\":[{\"colorbar\":{\"outlinewidth\":0,\"ticks\":\"\"},\"type\":\"mesh3d\"}],\"parcoords\":[{\"line\":{\"colorbar\":{\"outlinewidth\":0,\"ticks\":\"\"}},\"type\":\"parcoords\"}],\"pie\":[{\"automargin\":true,\"type\":\"pie\"}],\"scatter3d\":[{\"line\":{\"colorbar\":{\"outlinewidth\":0,\"ticks\":\"\"}},\"marker\":{\"colorbar\":{\"outlinewidth\":0,\"ticks\":\"\"}},\"type\":\"scatter3d\"}],\"scattercarpet\":[{\"marker\":{\"colorbar\":{\"outlinewidth\":0,\"ticks\":\"\"}},\"type\":\"scattercarpet\"}],\"scattergeo\":[{\"marker\":{\"colorbar\":{\"outlinewidth\":0,\"ticks\":\"\"}},\"type\":\"scattergeo\"}],\"scattergl\":[{\"marker\":{\"colorbar\":{\"outlinewidth\":0,\"ticks\":\"\"}},\"type\":\"scattergl\"}],\"scattermapbox\":[{\"marker\":{\"colorbar\":{\"outlinewidth\":0,\"ticks\":\"\"}},\"type\":\"scattermapbox\"}],\"scatterpolargl\":[{\"marker\":{\"colorbar\":{\"outlinewidth\":0,\"ticks\":\"\"}},\"type\":\"scatterpolargl\"}],\"scatterpolar\":[{\"marker\":{\"colorbar\":{\"outlinewidth\":0,\"ticks\":\"\"}},\"type\":\"scatterpolar\"}],\"scatter\":[{\"fillpattern\":{\"fillmode\":\"overlay\",\"size\":10,\"solidity\":0.2},\"type\":\"scatter\"}],\"scatterternary\":[{\"marker\":{\"colorbar\":{\"outlinewidth\":0,\"ticks\":\"\"}},\"type\":\"scatterternary\"}],\"surface\":[{\"colorbar\":{\"outlinewidth\":0,\"ticks\":\"\"},\"colorscale\":[[0.0,\"#0d0887\"],[0.1111111111111111,\"#46039f\"],[0.2222222222222222,\"#7201a8\"],[0.3333333333333333,\"#9c179e\"],[0.4444444444444444,\"#bd3786\"],[0.5555555555555556,\"#d8576b\"],[0.6666666666666666,\"#ed7953\"],[0.7777777777777778,\"#fb9f3a\"],[0.8888888888888888,\"#fdca26\"],[1.0,\"#f0f921\"]],\"type\":\"surface\"}],\"table\":[{\"cells\":{\"fill\":{\"color\":\"#EBF0F8\"},\"line\":{\"color\":\"white\"}},\"header\":{\"fill\":{\"color\":\"#C8D4E3\"},\"line\":{\"color\":\"white\"}},\"type\":\"table\"}]},\"layout\":{\"annotationdefaults\":{\"arrowcolor\":\"#2a3f5f\",\"arrowhead\":0,\"arrowwidth\":1},\"autotypenumbers\":\"strict\",\"coloraxis\":{\"colorbar\":{\"outlinewidth\":0,\"ticks\":\"\"}},\"colorscale\":{\"diverging\":[[0,\"#8e0152\"],[0.1,\"#c51b7d\"],[0.2,\"#de77ae\"],[0.3,\"#f1b6da\"],[0.4,\"#fde0ef\"],[0.5,\"#f7f7f7\"],[0.6,\"#e6f5d0\"],[0.7,\"#b8e186\"],[0.8,\"#7fbc41\"],[0.9,\"#4d9221\"],[1,\"#276419\"]],\"sequential\":[[0.0,\"#0d0887\"],[0.1111111111111111,\"#46039f\"],[0.2222222222222222,\"#7201a8\"],[0.3333333333333333,\"#9c179e\"],[0.4444444444444444,\"#bd3786\"],[0.5555555555555556,\"#d8576b\"],[0.6666666666666666,\"#ed7953\"],[0.7777777777777778,\"#fb9f3a\"],[0.8888888888888888,\"#fdca26\"],[1.0,\"#f0f921\"]],\"sequentialminus\":[[0.0,\"#0d0887\"],[0.1111111111111111,\"#46039f\"],[0.2222222222222222,\"#7201a8\"],[0.3333333333333333,\"#9c179e\"],[0.4444444444444444,\"#bd3786\"],[0.5555555555555556,\"#d8576b\"],[0.6666666666666666,\"#ed7953\"],[0.7777777777777778,\"#fb9f3a\"],[0.8888888888888888,\"#fdca26\"],[1.0,\"#f0f921\"]]},\"colorway\":[\"#636efa\",\"#EF553B\",\"#00cc96\",\"#ab63fa\",\"#FFA15A\",\"#19d3f3\",\"#FF6692\",\"#B6E880\",\"#FF97FF\",\"#FECB52\"],\"font\":{\"color\":\"#2a3f5f\"},\"geo\":{\"bgcolor\":\"white\",\"lakecolor\":\"white\",\"landcolor\":\"#E5ECF6\",\"showlakes\":true,\"showland\":true,\"subunitcolor\":\"white\"},\"hoverlabel\":{\"align\":\"left\"},\"hovermode\":\"closest\",\"mapbox\":{\"style\":\"light\"},\"paper_bgcolor\":\"white\",\"plot_bgcolor\":\"#E5ECF6\",\"polar\":{\"angularaxis\":{\"gridcolor\":\"white\",\"linecolor\":\"white\",\"ticks\":\"\"},\"bgcolor\":\"#E5ECF6\",\"radialaxis\":{\"gridcolor\":\"white\",\"linecolor\":\"white\",\"ticks\":\"\"}},\"scene\":{\"xaxis\":{\"backgroundcolor\":\"#E5ECF6\",\"gridcolor\":\"white\",\"gridwidth\":2,\"linecolor\":\"white\",\"showbackground\":true,\"ticks\":\"\",\"zerolinecolor\":\"white\"},\"yaxis\":{\"backgroundcolor\":\"#E5ECF6\",\"gridcolor\":\"white\",\"gridwidth\":2,\"linecolor\":\"white\",\"showbackground\":true,\"ticks\":\"\",\"zerolinecolor\":\"white\"},\"zaxis\":{\"backgroundcolor\":\"#E5ECF6\",\"gridcolor\":\"white\",\"gridwidth\":2,\"linecolor\":\"white\",\"showbackground\":true,\"ticks\":\"\",\"zerolinecolor\":\"white\"}},\"shapedefaults\":{\"line\":{\"color\":\"#2a3f5f\"}},\"ternary\":{\"aaxis\":{\"gridcolor\":\"white\",\"linecolor\":\"white\",\"ticks\":\"\"},\"baxis\":{\"gridcolor\":\"white\",\"linecolor\":\"white\",\"ticks\":\"\"},\"bgcolor\":\"#E5ECF6\",\"caxis\":{\"gridcolor\":\"white\",\"linecolor\":\"white\",\"ticks\":\"\"}},\"title\":{\"x\":0.05},\"xaxis\":{\"automargin\":true,\"gridcolor\":\"white\",\"linecolor\":\"white\",\"ticks\":\"\",\"title\":{\"standoff\":15},\"zerolinecolor\":\"white\",\"zerolinewidth\":2},\"yaxis\":{\"automargin\":true,\"gridcolor\":\"white\",\"linecolor\":\"white\",\"ticks\":\"\",\"title\":{\"standoff\":15},\"zerolinecolor\":\"white\",\"zerolinewidth\":2}}},\"title\":{\"font\":{\"color\":\"#4D5663\"}},\"xaxis\":{\"gridcolor\":\"#E1E5ED\",\"showgrid\":true,\"tickfont\":{\"color\":\"#4D5663\"},\"title\":{\"font\":{\"color\":\"#4D5663\"},\"text\":\"\"},\"zerolinecolor\":\"#E1E5ED\"},\"yaxis\":{\"gridcolor\":\"#E1E5ED\",\"showgrid\":true,\"tickfont\":{\"color\":\"#4D5663\"},\"title\":{\"font\":{\"color\":\"#4D5663\"},\"text\":\"\"},\"zerolinecolor\":\"#E1E5ED\"}},                        {\"showLink\": true, \"linkText\": \"Export to plotly.com\", \"plotlyServerURL\": \"https://plotly.com\", \"responsive\": true}                    ).then(function(){\n",
       "                            \n",
       "var gd = document.getElementById('4483a6cc-fc73-40c0-8ef0-b853b3efed1c');\n",
       "var x = new MutationObserver(function (mutations, observer) {{\n",
       "        var display = window.getComputedStyle(gd).display;\n",
       "        if (!display || display === 'none') {{\n",
       "            console.log([gd, 'removed!']);\n",
       "            Plotly.purge(gd);\n",
       "            observer.disconnect();\n",
       "        }}\n",
       "}});\n",
       "\n",
       "// Listen for the removal of the full notebook cells\n",
       "var notebookContainer = gd.closest('#notebook-container');\n",
       "if (notebookContainer) {{\n",
       "    x.observe(notebookContainer, {childList: true});\n",
       "}}\n",
       "\n",
       "// Listen for the clearing of the current output cell\n",
       "var outputEl = gd.closest('.output');\n",
       "if (outputEl) {{\n",
       "    x.observe(outputEl, {childList: true});\n",
       "}}\n",
       "\n",
       "                        })                };                });            </script>        </div>"
      ]
     },
     "metadata": {},
     "output_type": "display_data"
    }
   ],
   "source": [
    "df.sum().iplot(kind='bar')"
   ]
  },
  {
   "cell_type": "code",
   "execution_count": 33,
   "id": "c9637b84",
   "metadata": {},
   "outputs": [
    {
     "data": {
      "application/vnd.plotly.v1+json": {
       "config": {
        "linkText": "Export to plotly.com",
        "plotlyServerURL": "https://plotly.com",
        "showLink": true
       },
       "data": [
        {
         "boxpoints": false,
         "line": {
          "width": 1.3
         },
         "marker": {
          "color": "rgba(255, 153, 51, 1.0)"
         },
         "name": "A",
         "orientation": "v",
         "type": "box",
         "y": [
          -0.40615102691201077,
          -0.47999536952712385,
          -0.731589452209614,
          0.5879553428621914,
          -1.8568953718148897,
          0.9852963397699704,
          -0.4565079483975351,
          0.8985744483888078,
          -1.880550197114006,
          -2.495067192414269,
          0.24318773794361037,
          -2.278949369698818,
          -0.5490311250307648,
          0.14532734122867813,
          0.16276002203759868,
          -1.0591320920484073,
          0.05372109359972695,
          0.2035258413077142,
          -2.4564801144392163,
          0.006562014766148572,
          1.8299109338952464,
          -0.9675701363179834,
          1.0541841654244393,
          0.20884013344601376,
          -1.3891116084425656,
          0.27161097959040503,
          2.1283430566163135,
          -0.22494485238235143,
          -0.09599443616592065,
          -0.47463986288576715,
          -1.7001685826280957,
          -1.339622451274522,
          0.14880307684214328,
          -1.502406867092294,
          0.6697628491897455,
          1.6736896598940452,
          -1.1242305900000233,
          1.2716030457108993,
          -0.020503495668329225,
          -0.6004282275431292,
          -1.610798298038356,
          -0.7126845047666951,
          -0.25276036273175184,
          -0.31036598996075493,
          0.27657442247611386,
          0.36475971678819463,
          -0.3032001827072675,
          0.28120037852816376,
          -1.057923800745797,
          -0.7299540132790762,
          -1.0364219628836993,
          2.4916267759664805,
          1.1629521913280154,
          2.0054327257594626,
          -0.23891835735830366,
          -0.08667481619810505,
          0.1821673126387374,
          -0.9087506411647428,
          -0.2175223804697042,
          1.0366653428718404,
          -1.1387376153306084,
          -1.3134795663116043,
          -0.3109333372518202,
          -0.11731364062957415,
          -0.10397752332154095,
          0.17357286910884961,
          1.125123233663803,
          -0.18371208575837503,
          0.7475189213297856,
          -1.8732934204335845,
          0.3349278560198267,
          1.626356126253646,
          0.04965422963422056,
          -0.4617720171349,
          0.25881350378239626,
          -0.6898896998105463,
          0.7647345988279457,
          0.44480407531461874,
          0.09985660770502092,
          0.1461906720821347,
          0.04340642890250446,
          -0.10569764171165204,
          -2.5186919527957294,
          0.402553363843015,
          -1.1885416932522634,
          1.7141212243739197,
          0.6790642180576574,
          1.1679009178651383,
          -1.0087877679657051,
          -0.19813583121524153,
          0.9851166891438866,
          -0.0118683102180748,
          -0.44242679362729026,
          -0.05957237410520343,
          -0.8011467122356221,
          -0.27444702043341096,
          -1.8845227330028054,
          0.663868967586431,
          -0.29563990016503844,
          0.018384161821900682
         ]
        },
        {
         "boxpoints": false,
         "line": {
          "width": 1.3
         },
         "marker": {
          "color": "rgba(55, 128, 191, 1.0)"
         },
         "name": "B",
         "orientation": "v",
         "type": "box",
         "y": [
          0.33469028609462786,
          -0.4747720494047677,
          -0.8910492574030071,
          -0.6562947499843159,
          1.0975595283397657,
          -0.08492187787388085,
          0.834157942765214,
          0.8261256825901863,
          0.4632193771172654,
          0.2118406780817216,
          -0.18660521525359663,
          -0.8772109585438541,
          0.9001431742247843,
          0.43622225877058113,
          0.3505049904764363,
          0.9315658697409118,
          -1.946983553008016,
          0.7644568957313809,
          -0.12255099035106522,
          0.18500821089394304,
          0.6312321003475739,
          -1.3583124190159115,
          0.6879322926800804,
          -0.340566305221331,
          1.10044477146272,
          -1.0455648116827128,
          0.3952180495751735,
          0.6896877211682053,
          -0.5155403800669799,
          1.4785314007970745,
          -1.0649728817509585,
          1.7852829028741184,
          0.8570954275978809,
          2.173712498989926,
          -1.0582631927924049,
          0.4985565174744666,
          -0.4473289358096288,
          0.4025239189309213,
          -0.15564462003233068,
          0.5381832495099379,
          -1.2214341198324867,
          -0.31187895934241877,
          1.024480489586102,
          -0.9575439080616085,
          1.2319230093188827,
          0.8433090402248943,
          -0.1743727135083682,
          -0.516081714378001,
          -0.05238583944339358,
          -0.09322087115568396,
          -1.3402000293873717,
          -2.349049257706284,
          -1.2853922081306273,
          -0.41339815261901414,
          -0.7700945857764542,
          1.6608970953042417,
          0.6176112005319743,
          -0.8202041643220608,
          -1.7363664986014162,
          0.12947655833098984,
          -1.2343545924493855,
          -0.3730297008989098,
          -0.3096507505421561,
          -0.9790966487903674,
          0.34996075464019377,
          2.380102070380568,
          -0.2440263432978862,
          0.7681940478056901,
          1.3570398145585194,
          -0.20157140820039438,
          0.2877302953363688,
          0.16851948185688861,
          -0.5644038341545653,
          0.9231079850639387,
          -0.944506176873885,
          1.054446152533765,
          -0.7207904072238942,
          0.4365114891422287,
          2.338324940574144,
          1.0257780537771517,
          -1.1618978051757043,
          -1.6327091540232865,
          0.9509386746206595,
          1.0231396871331329,
          0.3118062700792768,
          -2.4097800983317152,
          0.7571883722250382,
          0.4131747981644347,
          -1.455075148971204,
          -0.21915229540259684,
          0.4578621056720926,
          0.16564240034126468,
          -1.237646345341587,
          -1.8175037223783308,
          -0.7467476602610285,
          -0.08434524550962558,
          -1.9690707808886958,
          -1.160972757919005,
          -0.23118107997338297,
          -0.6316562531717944
         ]
        },
        {
         "boxpoints": false,
         "line": {
          "width": 1.3
         },
         "marker": {
          "color": "rgba(50, 171, 96, 1.0)"
         },
         "name": "C",
         "orientation": "v",
         "type": "box",
         "y": [
          1.1737362333207728,
          1.5562612868774497,
          -0.014477400798201173,
          -0.9949081729820747,
          0.9357459497680499,
          0.12646190131838267,
          -0.3954971678824292,
          0.3430957446539166,
          0.9237407892776045,
          -0.09657627920969948,
          -1.8243055412777374,
          0.051993637559908906,
          -0.2727456870221832,
          -0.986463898356433,
          0.08565836080338578,
          0.2595033891481982,
          -0.5252644450116665,
          -1.0606034120376318,
          -1.0531339863226663,
          2.124426303973373,
          0.5386756257920999,
          -0.007511511275262967,
          1.1119203435398002,
          -0.23992367881368432,
          -1.6306447669964903,
          3.06700850806012,
          -1.5686351092233557,
          -0.3303055960327883,
          -2.6799375854206735,
          -0.059681128683770214,
          2.091684394948725,
          -0.8967544340093194,
          1.09190837290732,
          0.6071660132691131,
          -0.8682215185106045,
          -0.5929683036738767,
          1.1858783986893462,
          0.4364224172106424,
          -0.5607058909568162,
          2.2031077947680973,
          -2.0009293881751598,
          0.7424893040701714,
          0.8393707588892446,
          -0.816004938619743,
          -1.4229672866936136,
          0.16767953911777858,
          -0.3836304305107007,
          -0.6530503240203627,
          -0.4032092701394886,
          0.49550149133083987,
          -1.2219788650504726,
          -2.01711399525827,
          -1.3501399942480863,
          -0.3340565386962628,
          1.6208031740714461,
          -0.81865148507276,
          -0.7007388233092041,
          0.5136785611995491,
          0.35171848335376976,
          0.9435753712354081,
          0.27369781840798585,
          -1.9524180893392744,
          -0.8624643631571148,
          0.8430570654922642,
          2.1323244795491156,
          -0.6288100804146632,
          1.3589889331060612,
          -0.557235992767454,
          -1.3792429504800554,
          0.130518031523595,
          -0.9227967429596617,
          0.6573125910979403,
          -0.23994717138183025,
          0.6626844035939178,
          0.7741461543370848,
          0.48579671998018553,
          -1.3130302860341112,
          -2.3704585045470785,
          -1.3160142246509,
          0.04462568929934854,
          -1.9574264167929238,
          -0.7695788548393496,
          -0.9140157180522013,
          -1.5892123568347112,
          0.6936677916768622,
          1.1210373544275518,
          0.7961678326691228,
          -0.8391943240960812,
          0.24015769746489576,
          -0.5508983796531722,
          1.12627939397085,
          0.9029350084574046,
          -2.432031096989011,
          0.7657320319014022,
          -0.8199738797904056,
          0.936354598692254,
          1.4219270790134204,
          1.3436035732956615,
          1.068728347985142,
          -0.1274801263802885
         ]
        },
        {
         "boxpoints": false,
         "line": {
          "width": 1.3
         },
         "marker": {
          "color": "rgba(128, 0, 128, 1.0)"
         },
         "name": "D",
         "orientation": "v",
         "type": "box",
         "y": [
          1.1721929351470735,
          -0.22550678449579425,
          -0.23122702155824176,
          0.6563333186487523,
          0.9213870194866701,
          -0.940057159600806,
          1.0628180142729196,
          -0.7499896102609849,
          0.30784931824423095,
          2.266399430883198,
          -0.44880797942819267,
          1.1422936229435676,
          0.09103811544473554,
          2.069523663590396,
          1.2508805902953954,
          -0.3047131602462184,
          0.9197394716886824,
          1.0057324663857043,
          -0.4333404738483218,
          1.1010416821236282,
          0.20656145868170267,
          0.26233863218323333,
          1.5060412455601153,
          -0.13402585348303264,
          -0.32697483748177253,
          1.079837128902801,
          0.004728406171932221,
          -0.6226718331405126,
          -0.4490701297158038,
          0.15225931142287583,
          0.9153052362338638,
          -0.6622649748463805,
          -0.054998896163471284,
          -1.845316075636726,
          0.01180849735745713,
          0.6209732383074823,
          -2.1112426036073337,
          -0.0821528976491328,
          -1.0224783410842313,
          0.4878918372140083,
          0.4671284655613165,
          -1.5994765830828284,
          -0.6725580152001758,
          0.44366080628539195,
          0.07415873128838171,
          -1.3249369973109828,
          1.1551445342220152,
          1.7332337195085488,
          -0.3657857984091364,
          -0.2873417734161192,
          -0.9709572050937714,
          -0.742372297830512,
          0.3794411738916534,
          0.2762755085921835,
          0.4148111210160986,
          1.004193222747808,
          1.735974995400932,
          0.17378939529727316,
          -0.39644398612996373,
          -0.2213175939757858,
          2.028025374229803,
          0.8741309031602762,
          -0.6177222409549274,
          -0.46832601837327215,
          0.8383996980225872,
          -0.13213402794172005,
          -0.7856771366004357,
          0.3907141014040696,
          0.7893113881559564,
          0.6582413953787006,
          -1.016539631599919,
          -0.7453435716771191,
          -0.020939124576196497,
          0.7032878546039067,
          -0.17619490382371217,
          -0.2779787776331174,
          -0.880442853112146,
          0.09774250949862644,
          0.6245392330085496,
          1.7064080979818954,
          1.3613379387667601,
          0.6412515175675733,
          0.1519953216329928,
          0.031348203336145526,
          -0.31098136014267036,
          0.7875720539862844,
          0.5889390839956123,
          0.4337578296750308,
          0.7171693251896951,
          -1.3440293593443675,
          -0.6736381577049158,
          -0.16567637011293324,
          0.8087465848833933,
          -0.45027639803246394,
          0.6994790917892251,
          0.5714910202749229,
          -0.32518777808721416,
          -0.8740087859949409,
          1.2355915780078561,
          0.5935130920319255
         ]
        }
       ],
       "layout": {
        "legend": {
         "bgcolor": "#F5F6F9",
         "font": {
          "color": "#4D5663"
         }
        },
        "paper_bgcolor": "#F5F6F9",
        "plot_bgcolor": "#F5F6F9",
        "template": {
         "data": {
          "bar": [
           {
            "error_x": {
             "color": "#2a3f5f"
            },
            "error_y": {
             "color": "#2a3f5f"
            },
            "marker": {
             "line": {
              "color": "#E5ECF6",
              "width": 0.5
             },
             "pattern": {
              "fillmode": "overlay",
              "size": 10,
              "solidity": 0.2
             }
            },
            "type": "bar"
           }
          ],
          "barpolar": [
           {
            "marker": {
             "line": {
              "color": "#E5ECF6",
              "width": 0.5
             },
             "pattern": {
              "fillmode": "overlay",
              "size": 10,
              "solidity": 0.2
             }
            },
            "type": "barpolar"
           }
          ],
          "carpet": [
           {
            "aaxis": {
             "endlinecolor": "#2a3f5f",
             "gridcolor": "white",
             "linecolor": "white",
             "minorgridcolor": "white",
             "startlinecolor": "#2a3f5f"
            },
            "baxis": {
             "endlinecolor": "#2a3f5f",
             "gridcolor": "white",
             "linecolor": "white",
             "minorgridcolor": "white",
             "startlinecolor": "#2a3f5f"
            },
            "type": "carpet"
           }
          ],
          "choropleth": [
           {
            "colorbar": {
             "outlinewidth": 0,
             "ticks": ""
            },
            "type": "choropleth"
           }
          ],
          "contour": [
           {
            "colorbar": {
             "outlinewidth": 0,
             "ticks": ""
            },
            "colorscale": [
             [
              0,
              "#0d0887"
             ],
             [
              0.1111111111111111,
              "#46039f"
             ],
             [
              0.2222222222222222,
              "#7201a8"
             ],
             [
              0.3333333333333333,
              "#9c179e"
             ],
             [
              0.4444444444444444,
              "#bd3786"
             ],
             [
              0.5555555555555556,
              "#d8576b"
             ],
             [
              0.6666666666666666,
              "#ed7953"
             ],
             [
              0.7777777777777778,
              "#fb9f3a"
             ],
             [
              0.8888888888888888,
              "#fdca26"
             ],
             [
              1,
              "#f0f921"
             ]
            ],
            "type": "contour"
           }
          ],
          "contourcarpet": [
           {
            "colorbar": {
             "outlinewidth": 0,
             "ticks": ""
            },
            "type": "contourcarpet"
           }
          ],
          "heatmap": [
           {
            "colorbar": {
             "outlinewidth": 0,
             "ticks": ""
            },
            "colorscale": [
             [
              0,
              "#0d0887"
             ],
             [
              0.1111111111111111,
              "#46039f"
             ],
             [
              0.2222222222222222,
              "#7201a8"
             ],
             [
              0.3333333333333333,
              "#9c179e"
             ],
             [
              0.4444444444444444,
              "#bd3786"
             ],
             [
              0.5555555555555556,
              "#d8576b"
             ],
             [
              0.6666666666666666,
              "#ed7953"
             ],
             [
              0.7777777777777778,
              "#fb9f3a"
             ],
             [
              0.8888888888888888,
              "#fdca26"
             ],
             [
              1,
              "#f0f921"
             ]
            ],
            "type": "heatmap"
           }
          ],
          "heatmapgl": [
           {
            "colorbar": {
             "outlinewidth": 0,
             "ticks": ""
            },
            "colorscale": [
             [
              0,
              "#0d0887"
             ],
             [
              0.1111111111111111,
              "#46039f"
             ],
             [
              0.2222222222222222,
              "#7201a8"
             ],
             [
              0.3333333333333333,
              "#9c179e"
             ],
             [
              0.4444444444444444,
              "#bd3786"
             ],
             [
              0.5555555555555556,
              "#d8576b"
             ],
             [
              0.6666666666666666,
              "#ed7953"
             ],
             [
              0.7777777777777778,
              "#fb9f3a"
             ],
             [
              0.8888888888888888,
              "#fdca26"
             ],
             [
              1,
              "#f0f921"
             ]
            ],
            "type": "heatmapgl"
           }
          ],
          "histogram": [
           {
            "marker": {
             "pattern": {
              "fillmode": "overlay",
              "size": 10,
              "solidity": 0.2
             }
            },
            "type": "histogram"
           }
          ],
          "histogram2d": [
           {
            "colorbar": {
             "outlinewidth": 0,
             "ticks": ""
            },
            "colorscale": [
             [
              0,
              "#0d0887"
             ],
             [
              0.1111111111111111,
              "#46039f"
             ],
             [
              0.2222222222222222,
              "#7201a8"
             ],
             [
              0.3333333333333333,
              "#9c179e"
             ],
             [
              0.4444444444444444,
              "#bd3786"
             ],
             [
              0.5555555555555556,
              "#d8576b"
             ],
             [
              0.6666666666666666,
              "#ed7953"
             ],
             [
              0.7777777777777778,
              "#fb9f3a"
             ],
             [
              0.8888888888888888,
              "#fdca26"
             ],
             [
              1,
              "#f0f921"
             ]
            ],
            "type": "histogram2d"
           }
          ],
          "histogram2dcontour": [
           {
            "colorbar": {
             "outlinewidth": 0,
             "ticks": ""
            },
            "colorscale": [
             [
              0,
              "#0d0887"
             ],
             [
              0.1111111111111111,
              "#46039f"
             ],
             [
              0.2222222222222222,
              "#7201a8"
             ],
             [
              0.3333333333333333,
              "#9c179e"
             ],
             [
              0.4444444444444444,
              "#bd3786"
             ],
             [
              0.5555555555555556,
              "#d8576b"
             ],
             [
              0.6666666666666666,
              "#ed7953"
             ],
             [
              0.7777777777777778,
              "#fb9f3a"
             ],
             [
              0.8888888888888888,
              "#fdca26"
             ],
             [
              1,
              "#f0f921"
             ]
            ],
            "type": "histogram2dcontour"
           }
          ],
          "mesh3d": [
           {
            "colorbar": {
             "outlinewidth": 0,
             "ticks": ""
            },
            "type": "mesh3d"
           }
          ],
          "parcoords": [
           {
            "line": {
             "colorbar": {
              "outlinewidth": 0,
              "ticks": ""
             }
            },
            "type": "parcoords"
           }
          ],
          "pie": [
           {
            "automargin": true,
            "type": "pie"
           }
          ],
          "scatter": [
           {
            "fillpattern": {
             "fillmode": "overlay",
             "size": 10,
             "solidity": 0.2
            },
            "type": "scatter"
           }
          ],
          "scatter3d": [
           {
            "line": {
             "colorbar": {
              "outlinewidth": 0,
              "ticks": ""
             }
            },
            "marker": {
             "colorbar": {
              "outlinewidth": 0,
              "ticks": ""
             }
            },
            "type": "scatter3d"
           }
          ],
          "scattercarpet": [
           {
            "marker": {
             "colorbar": {
              "outlinewidth": 0,
              "ticks": ""
             }
            },
            "type": "scattercarpet"
           }
          ],
          "scattergeo": [
           {
            "marker": {
             "colorbar": {
              "outlinewidth": 0,
              "ticks": ""
             }
            },
            "type": "scattergeo"
           }
          ],
          "scattergl": [
           {
            "marker": {
             "colorbar": {
              "outlinewidth": 0,
              "ticks": ""
             }
            },
            "type": "scattergl"
           }
          ],
          "scattermapbox": [
           {
            "marker": {
             "colorbar": {
              "outlinewidth": 0,
              "ticks": ""
             }
            },
            "type": "scattermapbox"
           }
          ],
          "scatterpolar": [
           {
            "marker": {
             "colorbar": {
              "outlinewidth": 0,
              "ticks": ""
             }
            },
            "type": "scatterpolar"
           }
          ],
          "scatterpolargl": [
           {
            "marker": {
             "colorbar": {
              "outlinewidth": 0,
              "ticks": ""
             }
            },
            "type": "scatterpolargl"
           }
          ],
          "scatterternary": [
           {
            "marker": {
             "colorbar": {
              "outlinewidth": 0,
              "ticks": ""
             }
            },
            "type": "scatterternary"
           }
          ],
          "surface": [
           {
            "colorbar": {
             "outlinewidth": 0,
             "ticks": ""
            },
            "colorscale": [
             [
              0,
              "#0d0887"
             ],
             [
              0.1111111111111111,
              "#46039f"
             ],
             [
              0.2222222222222222,
              "#7201a8"
             ],
             [
              0.3333333333333333,
              "#9c179e"
             ],
             [
              0.4444444444444444,
              "#bd3786"
             ],
             [
              0.5555555555555556,
              "#d8576b"
             ],
             [
              0.6666666666666666,
              "#ed7953"
             ],
             [
              0.7777777777777778,
              "#fb9f3a"
             ],
             [
              0.8888888888888888,
              "#fdca26"
             ],
             [
              1,
              "#f0f921"
             ]
            ],
            "type": "surface"
           }
          ],
          "table": [
           {
            "cells": {
             "fill": {
              "color": "#EBF0F8"
             },
             "line": {
              "color": "white"
             }
            },
            "header": {
             "fill": {
              "color": "#C8D4E3"
             },
             "line": {
              "color": "white"
             }
            },
            "type": "table"
           }
          ]
         },
         "layout": {
          "annotationdefaults": {
           "arrowcolor": "#2a3f5f",
           "arrowhead": 0,
           "arrowwidth": 1
          },
          "autotypenumbers": "strict",
          "coloraxis": {
           "colorbar": {
            "outlinewidth": 0,
            "ticks": ""
           }
          },
          "colorscale": {
           "diverging": [
            [
             0,
             "#8e0152"
            ],
            [
             0.1,
             "#c51b7d"
            ],
            [
             0.2,
             "#de77ae"
            ],
            [
             0.3,
             "#f1b6da"
            ],
            [
             0.4,
             "#fde0ef"
            ],
            [
             0.5,
             "#f7f7f7"
            ],
            [
             0.6,
             "#e6f5d0"
            ],
            [
             0.7,
             "#b8e186"
            ],
            [
             0.8,
             "#7fbc41"
            ],
            [
             0.9,
             "#4d9221"
            ],
            [
             1,
             "#276419"
            ]
           ],
           "sequential": [
            [
             0,
             "#0d0887"
            ],
            [
             0.1111111111111111,
             "#46039f"
            ],
            [
             0.2222222222222222,
             "#7201a8"
            ],
            [
             0.3333333333333333,
             "#9c179e"
            ],
            [
             0.4444444444444444,
             "#bd3786"
            ],
            [
             0.5555555555555556,
             "#d8576b"
            ],
            [
             0.6666666666666666,
             "#ed7953"
            ],
            [
             0.7777777777777778,
             "#fb9f3a"
            ],
            [
             0.8888888888888888,
             "#fdca26"
            ],
            [
             1,
             "#f0f921"
            ]
           ],
           "sequentialminus": [
            [
             0,
             "#0d0887"
            ],
            [
             0.1111111111111111,
             "#46039f"
            ],
            [
             0.2222222222222222,
             "#7201a8"
            ],
            [
             0.3333333333333333,
             "#9c179e"
            ],
            [
             0.4444444444444444,
             "#bd3786"
            ],
            [
             0.5555555555555556,
             "#d8576b"
            ],
            [
             0.6666666666666666,
             "#ed7953"
            ],
            [
             0.7777777777777778,
             "#fb9f3a"
            ],
            [
             0.8888888888888888,
             "#fdca26"
            ],
            [
             1,
             "#f0f921"
            ]
           ]
          },
          "colorway": [
           "#636efa",
           "#EF553B",
           "#00cc96",
           "#ab63fa",
           "#FFA15A",
           "#19d3f3",
           "#FF6692",
           "#B6E880",
           "#FF97FF",
           "#FECB52"
          ],
          "font": {
           "color": "#2a3f5f"
          },
          "geo": {
           "bgcolor": "white",
           "lakecolor": "white",
           "landcolor": "#E5ECF6",
           "showlakes": true,
           "showland": true,
           "subunitcolor": "white"
          },
          "hoverlabel": {
           "align": "left"
          },
          "hovermode": "closest",
          "mapbox": {
           "style": "light"
          },
          "paper_bgcolor": "white",
          "plot_bgcolor": "#E5ECF6",
          "polar": {
           "angularaxis": {
            "gridcolor": "white",
            "linecolor": "white",
            "ticks": ""
           },
           "bgcolor": "#E5ECF6",
           "radialaxis": {
            "gridcolor": "white",
            "linecolor": "white",
            "ticks": ""
           }
          },
          "scene": {
           "xaxis": {
            "backgroundcolor": "#E5ECF6",
            "gridcolor": "white",
            "gridwidth": 2,
            "linecolor": "white",
            "showbackground": true,
            "ticks": "",
            "zerolinecolor": "white"
           },
           "yaxis": {
            "backgroundcolor": "#E5ECF6",
            "gridcolor": "white",
            "gridwidth": 2,
            "linecolor": "white",
            "showbackground": true,
            "ticks": "",
            "zerolinecolor": "white"
           },
           "zaxis": {
            "backgroundcolor": "#E5ECF6",
            "gridcolor": "white",
            "gridwidth": 2,
            "linecolor": "white",
            "showbackground": true,
            "ticks": "",
            "zerolinecolor": "white"
           }
          },
          "shapedefaults": {
           "line": {
            "color": "#2a3f5f"
           }
          },
          "ternary": {
           "aaxis": {
            "gridcolor": "white",
            "linecolor": "white",
            "ticks": ""
           },
           "baxis": {
            "gridcolor": "white",
            "linecolor": "white",
            "ticks": ""
           },
           "bgcolor": "#E5ECF6",
           "caxis": {
            "gridcolor": "white",
            "linecolor": "white",
            "ticks": ""
           }
          },
          "title": {
           "x": 0.05
          },
          "xaxis": {
           "automargin": true,
           "gridcolor": "white",
           "linecolor": "white",
           "ticks": "",
           "title": {
            "standoff": 15
           },
           "zerolinecolor": "white",
           "zerolinewidth": 2
          },
          "yaxis": {
           "automargin": true,
           "gridcolor": "white",
           "linecolor": "white",
           "ticks": "",
           "title": {
            "standoff": 15
           },
           "zerolinecolor": "white",
           "zerolinewidth": 2
          }
         }
        },
        "title": {
         "font": {
          "color": "#4D5663"
         }
        },
        "xaxis": {
         "gridcolor": "#E1E5ED",
         "showgrid": true,
         "tickfont": {
          "color": "#4D5663"
         },
         "title": {
          "font": {
           "color": "#4D5663"
          },
          "text": ""
         },
         "zerolinecolor": "#E1E5ED"
        },
        "yaxis": {
         "gridcolor": "#E1E5ED",
         "showgrid": true,
         "tickfont": {
          "color": "#4D5663"
         },
         "title": {
          "font": {
           "color": "#4D5663"
          },
          "text": ""
         },
         "zerolinecolor": "#E1E5ED"
        }
       }
      },
      "text/html": [
       "<div>                            <div id=\"04ee9326-71ab-49b3-9d2a-a32aa424fb11\" class=\"plotly-graph-div\" style=\"height:525px; width:100%;\"></div>            <script type=\"text/javascript\">                require([\"plotly\"], function(Plotly) {                    window.PLOTLYENV=window.PLOTLYENV || {};\n",
       "                    window.PLOTLYENV.BASE_URL='https://plotly.com';                                    if (document.getElementById(\"04ee9326-71ab-49b3-9d2a-a32aa424fb11\")) {                    Plotly.newPlot(                        \"04ee9326-71ab-49b3-9d2a-a32aa424fb11\",                        [{\"boxpoints\":false,\"line\":{\"width\":1.3},\"marker\":{\"color\":\"rgba(255, 153, 51, 1.0)\"},\"name\":\"A\",\"orientation\":\"v\",\"y\":[-0.40615102691201077,-0.47999536952712385,-0.731589452209614,0.5879553428621914,-1.8568953718148897,0.9852963397699704,-0.4565079483975351,0.8985744483888078,-1.880550197114006,-2.495067192414269,0.24318773794361037,-2.278949369698818,-0.5490311250307648,0.14532734122867813,0.16276002203759868,-1.0591320920484073,0.05372109359972695,0.2035258413077142,-2.4564801144392163,0.006562014766148572,1.8299109338952464,-0.9675701363179834,1.0541841654244393,0.20884013344601376,-1.3891116084425656,0.27161097959040503,2.1283430566163135,-0.22494485238235143,-0.09599443616592065,-0.47463986288576715,-1.7001685826280957,-1.339622451274522,0.14880307684214328,-1.502406867092294,0.6697628491897455,1.6736896598940452,-1.1242305900000233,1.2716030457108993,-0.020503495668329225,-0.6004282275431292,-1.610798298038356,-0.7126845047666951,-0.25276036273175184,-0.31036598996075493,0.27657442247611386,0.36475971678819463,-0.3032001827072675,0.28120037852816376,-1.057923800745797,-0.7299540132790762,-1.0364219628836993,2.4916267759664805,1.1629521913280154,2.0054327257594626,-0.23891835735830366,-0.08667481619810505,0.1821673126387374,-0.9087506411647428,-0.2175223804697042,1.0366653428718404,-1.1387376153306084,-1.3134795663116043,-0.3109333372518202,-0.11731364062957415,-0.10397752332154095,0.17357286910884961,1.125123233663803,-0.18371208575837503,0.7475189213297856,-1.8732934204335845,0.3349278560198267,1.626356126253646,0.04965422963422056,-0.4617720171349,0.25881350378239626,-0.6898896998105463,0.7647345988279457,0.44480407531461874,0.09985660770502092,0.1461906720821347,0.04340642890250446,-0.10569764171165204,-2.5186919527957294,0.402553363843015,-1.1885416932522634,1.7141212243739197,0.6790642180576574,1.1679009178651383,-1.0087877679657051,-0.19813583121524153,0.9851166891438866,-0.0118683102180748,-0.44242679362729026,-0.05957237410520343,-0.8011467122356221,-0.27444702043341096,-1.8845227330028054,0.663868967586431,-0.29563990016503844,0.018384161821900682],\"type\":\"box\"},{\"boxpoints\":false,\"line\":{\"width\":1.3},\"marker\":{\"color\":\"rgba(55, 128, 191, 1.0)\"},\"name\":\"B\",\"orientation\":\"v\",\"y\":[0.33469028609462786,-0.4747720494047677,-0.8910492574030071,-0.6562947499843159,1.0975595283397657,-0.08492187787388085,0.834157942765214,0.8261256825901863,0.4632193771172654,0.2118406780817216,-0.18660521525359663,-0.8772109585438541,0.9001431742247843,0.43622225877058113,0.3505049904764363,0.9315658697409118,-1.946983553008016,0.7644568957313809,-0.12255099035106522,0.18500821089394304,0.6312321003475739,-1.3583124190159115,0.6879322926800804,-0.340566305221331,1.10044477146272,-1.0455648116827128,0.3952180495751735,0.6896877211682053,-0.5155403800669799,1.4785314007970745,-1.0649728817509585,1.7852829028741184,0.8570954275978809,2.173712498989926,-1.0582631927924049,0.4985565174744666,-0.4473289358096288,0.4025239189309213,-0.15564462003233068,0.5381832495099379,-1.2214341198324867,-0.31187895934241877,1.024480489586102,-0.9575439080616085,1.2319230093188827,0.8433090402248943,-0.1743727135083682,-0.516081714378001,-0.05238583944339358,-0.09322087115568396,-1.3402000293873717,-2.349049257706284,-1.2853922081306273,-0.41339815261901414,-0.7700945857764542,1.6608970953042417,0.6176112005319743,-0.8202041643220608,-1.7363664986014162,0.12947655833098984,-1.2343545924493855,-0.3730297008989098,-0.3096507505421561,-0.9790966487903674,0.34996075464019377,2.380102070380568,-0.2440263432978862,0.7681940478056901,1.3570398145585194,-0.20157140820039438,0.2877302953363688,0.16851948185688861,-0.5644038341545653,0.9231079850639387,-0.944506176873885,1.054446152533765,-0.7207904072238942,0.4365114891422287,2.338324940574144,1.0257780537771517,-1.1618978051757043,-1.6327091540232865,0.9509386746206595,1.0231396871331329,0.3118062700792768,-2.4097800983317152,0.7571883722250382,0.4131747981644347,-1.455075148971204,-0.21915229540259684,0.4578621056720926,0.16564240034126468,-1.237646345341587,-1.8175037223783308,-0.7467476602610285,-0.08434524550962558,-1.9690707808886958,-1.160972757919005,-0.23118107997338297,-0.6316562531717944],\"type\":\"box\"},{\"boxpoints\":false,\"line\":{\"width\":1.3},\"marker\":{\"color\":\"rgba(50, 171, 96, 1.0)\"},\"name\":\"C\",\"orientation\":\"v\",\"y\":[1.1737362333207728,1.5562612868774497,-0.014477400798201173,-0.9949081729820747,0.9357459497680499,0.12646190131838267,-0.3954971678824292,0.3430957446539166,0.9237407892776045,-0.09657627920969948,-1.8243055412777374,0.051993637559908906,-0.2727456870221832,-0.986463898356433,0.08565836080338578,0.2595033891481982,-0.5252644450116665,-1.0606034120376318,-1.0531339863226663,2.124426303973373,0.5386756257920999,-0.007511511275262967,1.1119203435398002,-0.23992367881368432,-1.6306447669964903,3.06700850806012,-1.5686351092233557,-0.3303055960327883,-2.6799375854206735,-0.059681128683770214,2.091684394948725,-0.8967544340093194,1.09190837290732,0.6071660132691131,-0.8682215185106045,-0.5929683036738767,1.1858783986893462,0.4364224172106424,-0.5607058909568162,2.2031077947680973,-2.0009293881751598,0.7424893040701714,0.8393707588892446,-0.816004938619743,-1.4229672866936136,0.16767953911777858,-0.3836304305107007,-0.6530503240203627,-0.4032092701394886,0.49550149133083987,-1.2219788650504726,-2.01711399525827,-1.3501399942480863,-0.3340565386962628,1.6208031740714461,-0.81865148507276,-0.7007388233092041,0.5136785611995491,0.35171848335376976,0.9435753712354081,0.27369781840798585,-1.9524180893392744,-0.8624643631571148,0.8430570654922642,2.1323244795491156,-0.6288100804146632,1.3589889331060612,-0.557235992767454,-1.3792429504800554,0.130518031523595,-0.9227967429596617,0.6573125910979403,-0.23994717138183025,0.6626844035939178,0.7741461543370848,0.48579671998018553,-1.3130302860341112,-2.3704585045470785,-1.3160142246509,0.04462568929934854,-1.9574264167929238,-0.7695788548393496,-0.9140157180522013,-1.5892123568347112,0.6936677916768622,1.1210373544275518,0.7961678326691228,-0.8391943240960812,0.24015769746489576,-0.5508983796531722,1.12627939397085,0.9029350084574046,-2.432031096989011,0.7657320319014022,-0.8199738797904056,0.936354598692254,1.4219270790134204,1.3436035732956615,1.068728347985142,-0.1274801263802885],\"type\":\"box\"},{\"boxpoints\":false,\"line\":{\"width\":1.3},\"marker\":{\"color\":\"rgba(128, 0, 128, 1.0)\"},\"name\":\"D\",\"orientation\":\"v\",\"y\":[1.1721929351470735,-0.22550678449579425,-0.23122702155824176,0.6563333186487523,0.9213870194866701,-0.940057159600806,1.0628180142729196,-0.7499896102609849,0.30784931824423095,2.266399430883198,-0.44880797942819267,1.1422936229435676,0.09103811544473554,2.069523663590396,1.2508805902953954,-0.3047131602462184,0.9197394716886824,1.0057324663857043,-0.4333404738483218,1.1010416821236282,0.20656145868170267,0.26233863218323333,1.5060412455601153,-0.13402585348303264,-0.32697483748177253,1.079837128902801,0.004728406171932221,-0.6226718331405126,-0.4490701297158038,0.15225931142287583,0.9153052362338638,-0.6622649748463805,-0.054998896163471284,-1.845316075636726,0.01180849735745713,0.6209732383074823,-2.1112426036073337,-0.0821528976491328,-1.0224783410842313,0.4878918372140083,0.4671284655613165,-1.5994765830828284,-0.6725580152001758,0.44366080628539195,0.07415873128838171,-1.3249369973109828,1.1551445342220152,1.7332337195085488,-0.3657857984091364,-0.2873417734161192,-0.9709572050937714,-0.742372297830512,0.3794411738916534,0.2762755085921835,0.4148111210160986,1.004193222747808,1.735974995400932,0.17378939529727316,-0.39644398612996373,-0.2213175939757858,2.028025374229803,0.8741309031602762,-0.6177222409549274,-0.46832601837327215,0.8383996980225872,-0.13213402794172005,-0.7856771366004357,0.3907141014040696,0.7893113881559564,0.6582413953787006,-1.016539631599919,-0.7453435716771191,-0.020939124576196497,0.7032878546039067,-0.17619490382371217,-0.2779787776331174,-0.880442853112146,0.09774250949862644,0.6245392330085496,1.7064080979818954,1.3613379387667601,0.6412515175675733,0.1519953216329928,0.031348203336145526,-0.31098136014267036,0.7875720539862844,0.5889390839956123,0.4337578296750308,0.7171693251896951,-1.3440293593443675,-0.6736381577049158,-0.16567637011293324,0.8087465848833933,-0.45027639803246394,0.6994790917892251,0.5714910202749229,-0.32518777808721416,-0.8740087859949409,1.2355915780078561,0.5935130920319255],\"type\":\"box\"}],                        {\"legend\":{\"bgcolor\":\"#F5F6F9\",\"font\":{\"color\":\"#4D5663\"}},\"paper_bgcolor\":\"#F5F6F9\",\"plot_bgcolor\":\"#F5F6F9\",\"template\":{\"data\":{\"barpolar\":[{\"marker\":{\"line\":{\"color\":\"#E5ECF6\",\"width\":0.5},\"pattern\":{\"fillmode\":\"overlay\",\"size\":10,\"solidity\":0.2}},\"type\":\"barpolar\"}],\"bar\":[{\"error_x\":{\"color\":\"#2a3f5f\"},\"error_y\":{\"color\":\"#2a3f5f\"},\"marker\":{\"line\":{\"color\":\"#E5ECF6\",\"width\":0.5},\"pattern\":{\"fillmode\":\"overlay\",\"size\":10,\"solidity\":0.2}},\"type\":\"bar\"}],\"carpet\":[{\"aaxis\":{\"endlinecolor\":\"#2a3f5f\",\"gridcolor\":\"white\",\"linecolor\":\"white\",\"minorgridcolor\":\"white\",\"startlinecolor\":\"#2a3f5f\"},\"baxis\":{\"endlinecolor\":\"#2a3f5f\",\"gridcolor\":\"white\",\"linecolor\":\"white\",\"minorgridcolor\":\"white\",\"startlinecolor\":\"#2a3f5f\"},\"type\":\"carpet\"}],\"choropleth\":[{\"colorbar\":{\"outlinewidth\":0,\"ticks\":\"\"},\"type\":\"choropleth\"}],\"contourcarpet\":[{\"colorbar\":{\"outlinewidth\":0,\"ticks\":\"\"},\"type\":\"contourcarpet\"}],\"contour\":[{\"colorbar\":{\"outlinewidth\":0,\"ticks\":\"\"},\"colorscale\":[[0.0,\"#0d0887\"],[0.1111111111111111,\"#46039f\"],[0.2222222222222222,\"#7201a8\"],[0.3333333333333333,\"#9c179e\"],[0.4444444444444444,\"#bd3786\"],[0.5555555555555556,\"#d8576b\"],[0.6666666666666666,\"#ed7953\"],[0.7777777777777778,\"#fb9f3a\"],[0.8888888888888888,\"#fdca26\"],[1.0,\"#f0f921\"]],\"type\":\"contour\"}],\"heatmapgl\":[{\"colorbar\":{\"outlinewidth\":0,\"ticks\":\"\"},\"colorscale\":[[0.0,\"#0d0887\"],[0.1111111111111111,\"#46039f\"],[0.2222222222222222,\"#7201a8\"],[0.3333333333333333,\"#9c179e\"],[0.4444444444444444,\"#bd3786\"],[0.5555555555555556,\"#d8576b\"],[0.6666666666666666,\"#ed7953\"],[0.7777777777777778,\"#fb9f3a\"],[0.8888888888888888,\"#fdca26\"],[1.0,\"#f0f921\"]],\"type\":\"heatmapgl\"}],\"heatmap\":[{\"colorbar\":{\"outlinewidth\":0,\"ticks\":\"\"},\"colorscale\":[[0.0,\"#0d0887\"],[0.1111111111111111,\"#46039f\"],[0.2222222222222222,\"#7201a8\"],[0.3333333333333333,\"#9c179e\"],[0.4444444444444444,\"#bd3786\"],[0.5555555555555556,\"#d8576b\"],[0.6666666666666666,\"#ed7953\"],[0.7777777777777778,\"#fb9f3a\"],[0.8888888888888888,\"#fdca26\"],[1.0,\"#f0f921\"]],\"type\":\"heatmap\"}],\"histogram2dcontour\":[{\"colorbar\":{\"outlinewidth\":0,\"ticks\":\"\"},\"colorscale\":[[0.0,\"#0d0887\"],[0.1111111111111111,\"#46039f\"],[0.2222222222222222,\"#7201a8\"],[0.3333333333333333,\"#9c179e\"],[0.4444444444444444,\"#bd3786\"],[0.5555555555555556,\"#d8576b\"],[0.6666666666666666,\"#ed7953\"],[0.7777777777777778,\"#fb9f3a\"],[0.8888888888888888,\"#fdca26\"],[1.0,\"#f0f921\"]],\"type\":\"histogram2dcontour\"}],\"histogram2d\":[{\"colorbar\":{\"outlinewidth\":0,\"ticks\":\"\"},\"colorscale\":[[0.0,\"#0d0887\"],[0.1111111111111111,\"#46039f\"],[0.2222222222222222,\"#7201a8\"],[0.3333333333333333,\"#9c179e\"],[0.4444444444444444,\"#bd3786\"],[0.5555555555555556,\"#d8576b\"],[0.6666666666666666,\"#ed7953\"],[0.7777777777777778,\"#fb9f3a\"],[0.8888888888888888,\"#fdca26\"],[1.0,\"#f0f921\"]],\"type\":\"histogram2d\"}],\"histogram\":[{\"marker\":{\"pattern\":{\"fillmode\":\"overlay\",\"size\":10,\"solidity\":0.2}},\"type\":\"histogram\"}],\"mesh3d\":[{\"colorbar\":{\"outlinewidth\":0,\"ticks\":\"\"},\"type\":\"mesh3d\"}],\"parcoords\":[{\"line\":{\"colorbar\":{\"outlinewidth\":0,\"ticks\":\"\"}},\"type\":\"parcoords\"}],\"pie\":[{\"automargin\":true,\"type\":\"pie\"}],\"scatter3d\":[{\"line\":{\"colorbar\":{\"outlinewidth\":0,\"ticks\":\"\"}},\"marker\":{\"colorbar\":{\"outlinewidth\":0,\"ticks\":\"\"}},\"type\":\"scatter3d\"}],\"scattercarpet\":[{\"marker\":{\"colorbar\":{\"outlinewidth\":0,\"ticks\":\"\"}},\"type\":\"scattercarpet\"}],\"scattergeo\":[{\"marker\":{\"colorbar\":{\"outlinewidth\":0,\"ticks\":\"\"}},\"type\":\"scattergeo\"}],\"scattergl\":[{\"marker\":{\"colorbar\":{\"outlinewidth\":0,\"ticks\":\"\"}},\"type\":\"scattergl\"}],\"scattermapbox\":[{\"marker\":{\"colorbar\":{\"outlinewidth\":0,\"ticks\":\"\"}},\"type\":\"scattermapbox\"}],\"scatterpolargl\":[{\"marker\":{\"colorbar\":{\"outlinewidth\":0,\"ticks\":\"\"}},\"type\":\"scatterpolargl\"}],\"scatterpolar\":[{\"marker\":{\"colorbar\":{\"outlinewidth\":0,\"ticks\":\"\"}},\"type\":\"scatterpolar\"}],\"scatter\":[{\"fillpattern\":{\"fillmode\":\"overlay\",\"size\":10,\"solidity\":0.2},\"type\":\"scatter\"}],\"scatterternary\":[{\"marker\":{\"colorbar\":{\"outlinewidth\":0,\"ticks\":\"\"}},\"type\":\"scatterternary\"}],\"surface\":[{\"colorbar\":{\"outlinewidth\":0,\"ticks\":\"\"},\"colorscale\":[[0.0,\"#0d0887\"],[0.1111111111111111,\"#46039f\"],[0.2222222222222222,\"#7201a8\"],[0.3333333333333333,\"#9c179e\"],[0.4444444444444444,\"#bd3786\"],[0.5555555555555556,\"#d8576b\"],[0.6666666666666666,\"#ed7953\"],[0.7777777777777778,\"#fb9f3a\"],[0.8888888888888888,\"#fdca26\"],[1.0,\"#f0f921\"]],\"type\":\"surface\"}],\"table\":[{\"cells\":{\"fill\":{\"color\":\"#EBF0F8\"},\"line\":{\"color\":\"white\"}},\"header\":{\"fill\":{\"color\":\"#C8D4E3\"},\"line\":{\"color\":\"white\"}},\"type\":\"table\"}]},\"layout\":{\"annotationdefaults\":{\"arrowcolor\":\"#2a3f5f\",\"arrowhead\":0,\"arrowwidth\":1},\"autotypenumbers\":\"strict\",\"coloraxis\":{\"colorbar\":{\"outlinewidth\":0,\"ticks\":\"\"}},\"colorscale\":{\"diverging\":[[0,\"#8e0152\"],[0.1,\"#c51b7d\"],[0.2,\"#de77ae\"],[0.3,\"#f1b6da\"],[0.4,\"#fde0ef\"],[0.5,\"#f7f7f7\"],[0.6,\"#e6f5d0\"],[0.7,\"#b8e186\"],[0.8,\"#7fbc41\"],[0.9,\"#4d9221\"],[1,\"#276419\"]],\"sequential\":[[0.0,\"#0d0887\"],[0.1111111111111111,\"#46039f\"],[0.2222222222222222,\"#7201a8\"],[0.3333333333333333,\"#9c179e\"],[0.4444444444444444,\"#bd3786\"],[0.5555555555555556,\"#d8576b\"],[0.6666666666666666,\"#ed7953\"],[0.7777777777777778,\"#fb9f3a\"],[0.8888888888888888,\"#fdca26\"],[1.0,\"#f0f921\"]],\"sequentialminus\":[[0.0,\"#0d0887\"],[0.1111111111111111,\"#46039f\"],[0.2222222222222222,\"#7201a8\"],[0.3333333333333333,\"#9c179e\"],[0.4444444444444444,\"#bd3786\"],[0.5555555555555556,\"#d8576b\"],[0.6666666666666666,\"#ed7953\"],[0.7777777777777778,\"#fb9f3a\"],[0.8888888888888888,\"#fdca26\"],[1.0,\"#f0f921\"]]},\"colorway\":[\"#636efa\",\"#EF553B\",\"#00cc96\",\"#ab63fa\",\"#FFA15A\",\"#19d3f3\",\"#FF6692\",\"#B6E880\",\"#FF97FF\",\"#FECB52\"],\"font\":{\"color\":\"#2a3f5f\"},\"geo\":{\"bgcolor\":\"white\",\"lakecolor\":\"white\",\"landcolor\":\"#E5ECF6\",\"showlakes\":true,\"showland\":true,\"subunitcolor\":\"white\"},\"hoverlabel\":{\"align\":\"left\"},\"hovermode\":\"closest\",\"mapbox\":{\"style\":\"light\"},\"paper_bgcolor\":\"white\",\"plot_bgcolor\":\"#E5ECF6\",\"polar\":{\"angularaxis\":{\"gridcolor\":\"white\",\"linecolor\":\"white\",\"ticks\":\"\"},\"bgcolor\":\"#E5ECF6\",\"radialaxis\":{\"gridcolor\":\"white\",\"linecolor\":\"white\",\"ticks\":\"\"}},\"scene\":{\"xaxis\":{\"backgroundcolor\":\"#E5ECF6\",\"gridcolor\":\"white\",\"gridwidth\":2,\"linecolor\":\"white\",\"showbackground\":true,\"ticks\":\"\",\"zerolinecolor\":\"white\"},\"yaxis\":{\"backgroundcolor\":\"#E5ECF6\",\"gridcolor\":\"white\",\"gridwidth\":2,\"linecolor\":\"white\",\"showbackground\":true,\"ticks\":\"\",\"zerolinecolor\":\"white\"},\"zaxis\":{\"backgroundcolor\":\"#E5ECF6\",\"gridcolor\":\"white\",\"gridwidth\":2,\"linecolor\":\"white\",\"showbackground\":true,\"ticks\":\"\",\"zerolinecolor\":\"white\"}},\"shapedefaults\":{\"line\":{\"color\":\"#2a3f5f\"}},\"ternary\":{\"aaxis\":{\"gridcolor\":\"white\",\"linecolor\":\"white\",\"ticks\":\"\"},\"baxis\":{\"gridcolor\":\"white\",\"linecolor\":\"white\",\"ticks\":\"\"},\"bgcolor\":\"#E5ECF6\",\"caxis\":{\"gridcolor\":\"white\",\"linecolor\":\"white\",\"ticks\":\"\"}},\"title\":{\"x\":0.05},\"xaxis\":{\"automargin\":true,\"gridcolor\":\"white\",\"linecolor\":\"white\",\"ticks\":\"\",\"title\":{\"standoff\":15},\"zerolinecolor\":\"white\",\"zerolinewidth\":2},\"yaxis\":{\"automargin\":true,\"gridcolor\":\"white\",\"linecolor\":\"white\",\"ticks\":\"\",\"title\":{\"standoff\":15},\"zerolinecolor\":\"white\",\"zerolinewidth\":2}}},\"title\":{\"font\":{\"color\":\"#4D5663\"}},\"xaxis\":{\"gridcolor\":\"#E1E5ED\",\"showgrid\":true,\"tickfont\":{\"color\":\"#4D5663\"},\"title\":{\"font\":{\"color\":\"#4D5663\"},\"text\":\"\"},\"zerolinecolor\":\"#E1E5ED\"},\"yaxis\":{\"gridcolor\":\"#E1E5ED\",\"showgrid\":true,\"tickfont\":{\"color\":\"#4D5663\"},\"title\":{\"font\":{\"color\":\"#4D5663\"},\"text\":\"\"},\"zerolinecolor\":\"#E1E5ED\"}},                        {\"showLink\": true, \"linkText\": \"Export to plotly.com\", \"plotlyServerURL\": \"https://plotly.com\", \"responsive\": true}                    ).then(function(){\n",
       "                            \n",
       "var gd = document.getElementById('04ee9326-71ab-49b3-9d2a-a32aa424fb11');\n",
       "var x = new MutationObserver(function (mutations, observer) {{\n",
       "        var display = window.getComputedStyle(gd).display;\n",
       "        if (!display || display === 'none') {{\n",
       "            console.log([gd, 'removed!']);\n",
       "            Plotly.purge(gd);\n",
       "            observer.disconnect();\n",
       "        }}\n",
       "}});\n",
       "\n",
       "// Listen for the removal of the full notebook cells\n",
       "var notebookContainer = gd.closest('#notebook-container');\n",
       "if (notebookContainer) {{\n",
       "    x.observe(notebookContainer, {childList: true});\n",
       "}}\n",
       "\n",
       "// Listen for the clearing of the current output cell\n",
       "var outputEl = gd.closest('.output');\n",
       "if (outputEl) {{\n",
       "    x.observe(outputEl, {childList: true});\n",
       "}}\n",
       "\n",
       "                        })                };                });            </script>        </div>"
      ]
     },
     "metadata": {},
     "output_type": "display_data"
    }
   ],
   "source": [
    "#box plot\n",
    "df.iplot(kind='box')"
   ]
  },
  {
   "cell_type": "code",
   "execution_count": 35,
   "id": "ca7c6432",
   "metadata": {},
   "outputs": [],
   "source": [
    "#3D surface plot\n",
    "df3 = pd.DataFrame({'x':[1,2,3,4,5], 'y':[10,20,30,40,50], 'z':[5,4,3,2,1]})"
   ]
  },
  {
   "cell_type": "code",
   "execution_count": 36,
   "id": "87a578b6",
   "metadata": {},
   "outputs": [
    {
     "data": {
      "text/html": [
       "<div>\n",
       "<style scoped>\n",
       "    .dataframe tbody tr th:only-of-type {\n",
       "        vertical-align: middle;\n",
       "    }\n",
       "\n",
       "    .dataframe tbody tr th {\n",
       "        vertical-align: top;\n",
       "    }\n",
       "\n",
       "    .dataframe thead th {\n",
       "        text-align: right;\n",
       "    }\n",
       "</style>\n",
       "<table border=\"1\" class=\"dataframe\">\n",
       "  <thead>\n",
       "    <tr style=\"text-align: right;\">\n",
       "      <th></th>\n",
       "      <th>x</th>\n",
       "      <th>y</th>\n",
       "      <th>z</th>\n",
       "    </tr>\n",
       "  </thead>\n",
       "  <tbody>\n",
       "    <tr>\n",
       "      <th>0</th>\n",
       "      <td>1</td>\n",
       "      <td>10</td>\n",
       "      <td>5</td>\n",
       "    </tr>\n",
       "    <tr>\n",
       "      <th>1</th>\n",
       "      <td>2</td>\n",
       "      <td>20</td>\n",
       "      <td>4</td>\n",
       "    </tr>\n",
       "    <tr>\n",
       "      <th>2</th>\n",
       "      <td>3</td>\n",
       "      <td>30</td>\n",
       "      <td>3</td>\n",
       "    </tr>\n",
       "    <tr>\n",
       "      <th>3</th>\n",
       "      <td>4</td>\n",
       "      <td>40</td>\n",
       "      <td>2</td>\n",
       "    </tr>\n",
       "    <tr>\n",
       "      <th>4</th>\n",
       "      <td>5</td>\n",
       "      <td>50</td>\n",
       "      <td>1</td>\n",
       "    </tr>\n",
       "  </tbody>\n",
       "</table>\n",
       "</div>"
      ],
      "text/plain": [
       "   x   y  z\n",
       "0  1  10  5\n",
       "1  2  20  4\n",
       "2  3  30  3\n",
       "3  4  40  2\n",
       "4  5  50  1"
      ]
     },
     "execution_count": 36,
     "metadata": {},
     "output_type": "execute_result"
    }
   ],
   "source": [
    "df3"
   ]
  },
  {
   "cell_type": "code",
   "execution_count": 39,
   "id": "be06e830",
   "metadata": {},
   "outputs": [
    {
     "data": {
      "application/vnd.plotly.v1+json": {
       "config": {
        "linkText": "Export to plotly.com",
        "plotlyServerURL": "https://plotly.com",
        "showLink": true
       },
       "data": [
        {
         "colorscale": [
          [
           0,
           "rgb(165,0,38)"
          ],
          [
           0.1,
           "rgb(215,48,39)"
          ],
          [
           0.2,
           "rgb(244,109,67)"
          ],
          [
           0.3,
           "rgb(253,174,97)"
          ],
          [
           0.4,
           "rgb(254,224,144)"
          ],
          [
           0.5,
           "rgb(255,255,191)"
          ],
          [
           0.6,
           "rgb(224,243,248)"
          ],
          [
           0.7,
           "rgb(171,217,233)"
          ],
          [
           0.8,
           "rgb(116,173,209)"
          ],
          [
           0.9,
           "rgb(69,117,180)"
          ],
          [
           1,
           "rgb(49,54,149)"
          ]
         ],
         "type": "surface",
         "x": [
          0,
          1,
          2,
          3,
          4
         ],
         "y": [
          "x",
          "y",
          "z"
         ],
         "z": [
          [
           1,
           2,
           3,
           4,
           5
          ],
          [
           10,
           20,
           30,
           40,
           50
          ],
          [
           5,
           4,
           3,
           2,
           1
          ]
         ]
        }
       ],
       "layout": {
        "legend": {
         "bgcolor": "#F5F6F9",
         "font": {
          "color": "#4D5663"
         }
        },
        "paper_bgcolor": "#F5F6F9",
        "plot_bgcolor": "#F5F6F9",
        "template": {
         "data": {
          "bar": [
           {
            "error_x": {
             "color": "#2a3f5f"
            },
            "error_y": {
             "color": "#2a3f5f"
            },
            "marker": {
             "line": {
              "color": "#E5ECF6",
              "width": 0.5
             },
             "pattern": {
              "fillmode": "overlay",
              "size": 10,
              "solidity": 0.2
             }
            },
            "type": "bar"
           }
          ],
          "barpolar": [
           {
            "marker": {
             "line": {
              "color": "#E5ECF6",
              "width": 0.5
             },
             "pattern": {
              "fillmode": "overlay",
              "size": 10,
              "solidity": 0.2
             }
            },
            "type": "barpolar"
           }
          ],
          "carpet": [
           {
            "aaxis": {
             "endlinecolor": "#2a3f5f",
             "gridcolor": "white",
             "linecolor": "white",
             "minorgridcolor": "white",
             "startlinecolor": "#2a3f5f"
            },
            "baxis": {
             "endlinecolor": "#2a3f5f",
             "gridcolor": "white",
             "linecolor": "white",
             "minorgridcolor": "white",
             "startlinecolor": "#2a3f5f"
            },
            "type": "carpet"
           }
          ],
          "choropleth": [
           {
            "colorbar": {
             "outlinewidth": 0,
             "ticks": ""
            },
            "type": "choropleth"
           }
          ],
          "contour": [
           {
            "colorbar": {
             "outlinewidth": 0,
             "ticks": ""
            },
            "colorscale": [
             [
              0,
              "#0d0887"
             ],
             [
              0.1111111111111111,
              "#46039f"
             ],
             [
              0.2222222222222222,
              "#7201a8"
             ],
             [
              0.3333333333333333,
              "#9c179e"
             ],
             [
              0.4444444444444444,
              "#bd3786"
             ],
             [
              0.5555555555555556,
              "#d8576b"
             ],
             [
              0.6666666666666666,
              "#ed7953"
             ],
             [
              0.7777777777777778,
              "#fb9f3a"
             ],
             [
              0.8888888888888888,
              "#fdca26"
             ],
             [
              1,
              "#f0f921"
             ]
            ],
            "type": "contour"
           }
          ],
          "contourcarpet": [
           {
            "colorbar": {
             "outlinewidth": 0,
             "ticks": ""
            },
            "type": "contourcarpet"
           }
          ],
          "heatmap": [
           {
            "colorbar": {
             "outlinewidth": 0,
             "ticks": ""
            },
            "colorscale": [
             [
              0,
              "#0d0887"
             ],
             [
              0.1111111111111111,
              "#46039f"
             ],
             [
              0.2222222222222222,
              "#7201a8"
             ],
             [
              0.3333333333333333,
              "#9c179e"
             ],
             [
              0.4444444444444444,
              "#bd3786"
             ],
             [
              0.5555555555555556,
              "#d8576b"
             ],
             [
              0.6666666666666666,
              "#ed7953"
             ],
             [
              0.7777777777777778,
              "#fb9f3a"
             ],
             [
              0.8888888888888888,
              "#fdca26"
             ],
             [
              1,
              "#f0f921"
             ]
            ],
            "type": "heatmap"
           }
          ],
          "heatmapgl": [
           {
            "colorbar": {
             "outlinewidth": 0,
             "ticks": ""
            },
            "colorscale": [
             [
              0,
              "#0d0887"
             ],
             [
              0.1111111111111111,
              "#46039f"
             ],
             [
              0.2222222222222222,
              "#7201a8"
             ],
             [
              0.3333333333333333,
              "#9c179e"
             ],
             [
              0.4444444444444444,
              "#bd3786"
             ],
             [
              0.5555555555555556,
              "#d8576b"
             ],
             [
              0.6666666666666666,
              "#ed7953"
             ],
             [
              0.7777777777777778,
              "#fb9f3a"
             ],
             [
              0.8888888888888888,
              "#fdca26"
             ],
             [
              1,
              "#f0f921"
             ]
            ],
            "type": "heatmapgl"
           }
          ],
          "histogram": [
           {
            "marker": {
             "pattern": {
              "fillmode": "overlay",
              "size": 10,
              "solidity": 0.2
             }
            },
            "type": "histogram"
           }
          ],
          "histogram2d": [
           {
            "colorbar": {
             "outlinewidth": 0,
             "ticks": ""
            },
            "colorscale": [
             [
              0,
              "#0d0887"
             ],
             [
              0.1111111111111111,
              "#46039f"
             ],
             [
              0.2222222222222222,
              "#7201a8"
             ],
             [
              0.3333333333333333,
              "#9c179e"
             ],
             [
              0.4444444444444444,
              "#bd3786"
             ],
             [
              0.5555555555555556,
              "#d8576b"
             ],
             [
              0.6666666666666666,
              "#ed7953"
             ],
             [
              0.7777777777777778,
              "#fb9f3a"
             ],
             [
              0.8888888888888888,
              "#fdca26"
             ],
             [
              1,
              "#f0f921"
             ]
            ],
            "type": "histogram2d"
           }
          ],
          "histogram2dcontour": [
           {
            "colorbar": {
             "outlinewidth": 0,
             "ticks": ""
            },
            "colorscale": [
             [
              0,
              "#0d0887"
             ],
             [
              0.1111111111111111,
              "#46039f"
             ],
             [
              0.2222222222222222,
              "#7201a8"
             ],
             [
              0.3333333333333333,
              "#9c179e"
             ],
             [
              0.4444444444444444,
              "#bd3786"
             ],
             [
              0.5555555555555556,
              "#d8576b"
             ],
             [
              0.6666666666666666,
              "#ed7953"
             ],
             [
              0.7777777777777778,
              "#fb9f3a"
             ],
             [
              0.8888888888888888,
              "#fdca26"
             ],
             [
              1,
              "#f0f921"
             ]
            ],
            "type": "histogram2dcontour"
           }
          ],
          "mesh3d": [
           {
            "colorbar": {
             "outlinewidth": 0,
             "ticks": ""
            },
            "type": "mesh3d"
           }
          ],
          "parcoords": [
           {
            "line": {
             "colorbar": {
              "outlinewidth": 0,
              "ticks": ""
             }
            },
            "type": "parcoords"
           }
          ],
          "pie": [
           {
            "automargin": true,
            "type": "pie"
           }
          ],
          "scatter": [
           {
            "fillpattern": {
             "fillmode": "overlay",
             "size": 10,
             "solidity": 0.2
            },
            "type": "scatter"
           }
          ],
          "scatter3d": [
           {
            "line": {
             "colorbar": {
              "outlinewidth": 0,
              "ticks": ""
             }
            },
            "marker": {
             "colorbar": {
              "outlinewidth": 0,
              "ticks": ""
             }
            },
            "type": "scatter3d"
           }
          ],
          "scattercarpet": [
           {
            "marker": {
             "colorbar": {
              "outlinewidth": 0,
              "ticks": ""
             }
            },
            "type": "scattercarpet"
           }
          ],
          "scattergeo": [
           {
            "marker": {
             "colorbar": {
              "outlinewidth": 0,
              "ticks": ""
             }
            },
            "type": "scattergeo"
           }
          ],
          "scattergl": [
           {
            "marker": {
             "colorbar": {
              "outlinewidth": 0,
              "ticks": ""
             }
            },
            "type": "scattergl"
           }
          ],
          "scattermapbox": [
           {
            "marker": {
             "colorbar": {
              "outlinewidth": 0,
              "ticks": ""
             }
            },
            "type": "scattermapbox"
           }
          ],
          "scatterpolar": [
           {
            "marker": {
             "colorbar": {
              "outlinewidth": 0,
              "ticks": ""
             }
            },
            "type": "scatterpolar"
           }
          ],
          "scatterpolargl": [
           {
            "marker": {
             "colorbar": {
              "outlinewidth": 0,
              "ticks": ""
             }
            },
            "type": "scatterpolargl"
           }
          ],
          "scatterternary": [
           {
            "marker": {
             "colorbar": {
              "outlinewidth": 0,
              "ticks": ""
             }
            },
            "type": "scatterternary"
           }
          ],
          "surface": [
           {
            "colorbar": {
             "outlinewidth": 0,
             "ticks": ""
            },
            "colorscale": [
             [
              0,
              "#0d0887"
             ],
             [
              0.1111111111111111,
              "#46039f"
             ],
             [
              0.2222222222222222,
              "#7201a8"
             ],
             [
              0.3333333333333333,
              "#9c179e"
             ],
             [
              0.4444444444444444,
              "#bd3786"
             ],
             [
              0.5555555555555556,
              "#d8576b"
             ],
             [
              0.6666666666666666,
              "#ed7953"
             ],
             [
              0.7777777777777778,
              "#fb9f3a"
             ],
             [
              0.8888888888888888,
              "#fdca26"
             ],
             [
              1,
              "#f0f921"
             ]
            ],
            "type": "surface"
           }
          ],
          "table": [
           {
            "cells": {
             "fill": {
              "color": "#EBF0F8"
             },
             "line": {
              "color": "white"
             }
            },
            "header": {
             "fill": {
              "color": "#C8D4E3"
             },
             "line": {
              "color": "white"
             }
            },
            "type": "table"
           }
          ]
         },
         "layout": {
          "annotationdefaults": {
           "arrowcolor": "#2a3f5f",
           "arrowhead": 0,
           "arrowwidth": 1
          },
          "autotypenumbers": "strict",
          "coloraxis": {
           "colorbar": {
            "outlinewidth": 0,
            "ticks": ""
           }
          },
          "colorscale": {
           "diverging": [
            [
             0,
             "#8e0152"
            ],
            [
             0.1,
             "#c51b7d"
            ],
            [
             0.2,
             "#de77ae"
            ],
            [
             0.3,
             "#f1b6da"
            ],
            [
             0.4,
             "#fde0ef"
            ],
            [
             0.5,
             "#f7f7f7"
            ],
            [
             0.6,
             "#e6f5d0"
            ],
            [
             0.7,
             "#b8e186"
            ],
            [
             0.8,
             "#7fbc41"
            ],
            [
             0.9,
             "#4d9221"
            ],
            [
             1,
             "#276419"
            ]
           ],
           "sequential": [
            [
             0,
             "#0d0887"
            ],
            [
             0.1111111111111111,
             "#46039f"
            ],
            [
             0.2222222222222222,
             "#7201a8"
            ],
            [
             0.3333333333333333,
             "#9c179e"
            ],
            [
             0.4444444444444444,
             "#bd3786"
            ],
            [
             0.5555555555555556,
             "#d8576b"
            ],
            [
             0.6666666666666666,
             "#ed7953"
            ],
            [
             0.7777777777777778,
             "#fb9f3a"
            ],
            [
             0.8888888888888888,
             "#fdca26"
            ],
            [
             1,
             "#f0f921"
            ]
           ],
           "sequentialminus": [
            [
             0,
             "#0d0887"
            ],
            [
             0.1111111111111111,
             "#46039f"
            ],
            [
             0.2222222222222222,
             "#7201a8"
            ],
            [
             0.3333333333333333,
             "#9c179e"
            ],
            [
             0.4444444444444444,
             "#bd3786"
            ],
            [
             0.5555555555555556,
             "#d8576b"
            ],
            [
             0.6666666666666666,
             "#ed7953"
            ],
            [
             0.7777777777777778,
             "#fb9f3a"
            ],
            [
             0.8888888888888888,
             "#fdca26"
            ],
            [
             1,
             "#f0f921"
            ]
           ]
          },
          "colorway": [
           "#636efa",
           "#EF553B",
           "#00cc96",
           "#ab63fa",
           "#FFA15A",
           "#19d3f3",
           "#FF6692",
           "#B6E880",
           "#FF97FF",
           "#FECB52"
          ],
          "font": {
           "color": "#2a3f5f"
          },
          "geo": {
           "bgcolor": "white",
           "lakecolor": "white",
           "landcolor": "#E5ECF6",
           "showlakes": true,
           "showland": true,
           "subunitcolor": "white"
          },
          "hoverlabel": {
           "align": "left"
          },
          "hovermode": "closest",
          "mapbox": {
           "style": "light"
          },
          "paper_bgcolor": "white",
          "plot_bgcolor": "#E5ECF6",
          "polar": {
           "angularaxis": {
            "gridcolor": "white",
            "linecolor": "white",
            "ticks": ""
           },
           "bgcolor": "#E5ECF6",
           "radialaxis": {
            "gridcolor": "white",
            "linecolor": "white",
            "ticks": ""
           }
          },
          "scene": {
           "xaxis": {
            "backgroundcolor": "#E5ECF6",
            "gridcolor": "white",
            "gridwidth": 2,
            "linecolor": "white",
            "showbackground": true,
            "ticks": "",
            "zerolinecolor": "white"
           },
           "yaxis": {
            "backgroundcolor": "#E5ECF6",
            "gridcolor": "white",
            "gridwidth": 2,
            "linecolor": "white",
            "showbackground": true,
            "ticks": "",
            "zerolinecolor": "white"
           },
           "zaxis": {
            "backgroundcolor": "#E5ECF6",
            "gridcolor": "white",
            "gridwidth": 2,
            "linecolor": "white",
            "showbackground": true,
            "ticks": "",
            "zerolinecolor": "white"
           }
          },
          "shapedefaults": {
           "line": {
            "color": "#2a3f5f"
           }
          },
          "ternary": {
           "aaxis": {
            "gridcolor": "white",
            "linecolor": "white",
            "ticks": ""
           },
           "baxis": {
            "gridcolor": "white",
            "linecolor": "white",
            "ticks": ""
           },
           "bgcolor": "#E5ECF6",
           "caxis": {
            "gridcolor": "white",
            "linecolor": "white",
            "ticks": ""
           }
          },
          "title": {
           "x": 0.05
          },
          "xaxis": {
           "automargin": true,
           "gridcolor": "white",
           "linecolor": "white",
           "ticks": "",
           "title": {
            "standoff": 15
           },
           "zerolinecolor": "white",
           "zerolinewidth": 2
          },
          "yaxis": {
           "automargin": true,
           "gridcolor": "white",
           "linecolor": "white",
           "ticks": "",
           "title": {
            "standoff": 15
           },
           "zerolinecolor": "white",
           "zerolinewidth": 2
          }
         }
        },
        "title": {
         "font": {
          "color": "#4D5663"
         }
        },
        "xaxis": {
         "gridcolor": "#E1E5ED",
         "showgrid": true,
         "tickfont": {
          "color": "#4D5663"
         },
         "title": {
          "font": {
           "color": "#4D5663"
          },
          "text": ""
         },
         "zerolinecolor": "#E1E5ED"
        },
        "yaxis": {
         "gridcolor": "#E1E5ED",
         "showgrid": true,
         "tickfont": {
          "color": "#4D5663"
         },
         "title": {
          "font": {
           "color": "#4D5663"
          },
          "text": ""
         },
         "zerolinecolor": "#E1E5ED"
        }
       }
      },
      "text/html": [
       "<div>                            <div id=\"9a566815-4694-4380-9507-aa529d92993c\" class=\"plotly-graph-div\" style=\"height:525px; width:100%;\"></div>            <script type=\"text/javascript\">                require([\"plotly\"], function(Plotly) {                    window.PLOTLYENV=window.PLOTLYENV || {};\n",
       "                    window.PLOTLYENV.BASE_URL='https://plotly.com';                                    if (document.getElementById(\"9a566815-4694-4380-9507-aa529d92993c\")) {                    Plotly.newPlot(                        \"9a566815-4694-4380-9507-aa529d92993c\",                        [{\"colorscale\":[[0.0,\"rgb(165,0,38)\"],[0.1,\"rgb(215,48,39)\"],[0.2,\"rgb(244,109,67)\"],[0.3,\"rgb(253,174,97)\"],[0.4,\"rgb(254,224,144)\"],[0.5,\"rgb(255,255,191)\"],[0.6,\"rgb(224,243,248)\"],[0.7,\"rgb(171,217,233)\"],[0.8,\"rgb(116,173,209)\"],[0.9,\"rgb(69,117,180)\"],[1.0,\"rgb(49,54,149)\"]],\"x\":[0,1,2,3,4],\"y\":[\"x\",\"y\",\"z\"],\"z\":[[1,2,3,4,5],[10,20,30,40,50],[5,4,3,2,1]],\"type\":\"surface\"}],                        {\"legend\":{\"bgcolor\":\"#F5F6F9\",\"font\":{\"color\":\"#4D5663\"}},\"paper_bgcolor\":\"#F5F6F9\",\"plot_bgcolor\":\"#F5F6F9\",\"template\":{\"data\":{\"barpolar\":[{\"marker\":{\"line\":{\"color\":\"#E5ECF6\",\"width\":0.5},\"pattern\":{\"fillmode\":\"overlay\",\"size\":10,\"solidity\":0.2}},\"type\":\"barpolar\"}],\"bar\":[{\"error_x\":{\"color\":\"#2a3f5f\"},\"error_y\":{\"color\":\"#2a3f5f\"},\"marker\":{\"line\":{\"color\":\"#E5ECF6\",\"width\":0.5},\"pattern\":{\"fillmode\":\"overlay\",\"size\":10,\"solidity\":0.2}},\"type\":\"bar\"}],\"carpet\":[{\"aaxis\":{\"endlinecolor\":\"#2a3f5f\",\"gridcolor\":\"white\",\"linecolor\":\"white\",\"minorgridcolor\":\"white\",\"startlinecolor\":\"#2a3f5f\"},\"baxis\":{\"endlinecolor\":\"#2a3f5f\",\"gridcolor\":\"white\",\"linecolor\":\"white\",\"minorgridcolor\":\"white\",\"startlinecolor\":\"#2a3f5f\"},\"type\":\"carpet\"}],\"choropleth\":[{\"colorbar\":{\"outlinewidth\":0,\"ticks\":\"\"},\"type\":\"choropleth\"}],\"contourcarpet\":[{\"colorbar\":{\"outlinewidth\":0,\"ticks\":\"\"},\"type\":\"contourcarpet\"}],\"contour\":[{\"colorbar\":{\"outlinewidth\":0,\"ticks\":\"\"},\"colorscale\":[[0.0,\"#0d0887\"],[0.1111111111111111,\"#46039f\"],[0.2222222222222222,\"#7201a8\"],[0.3333333333333333,\"#9c179e\"],[0.4444444444444444,\"#bd3786\"],[0.5555555555555556,\"#d8576b\"],[0.6666666666666666,\"#ed7953\"],[0.7777777777777778,\"#fb9f3a\"],[0.8888888888888888,\"#fdca26\"],[1.0,\"#f0f921\"]],\"type\":\"contour\"}],\"heatmapgl\":[{\"colorbar\":{\"outlinewidth\":0,\"ticks\":\"\"},\"colorscale\":[[0.0,\"#0d0887\"],[0.1111111111111111,\"#46039f\"],[0.2222222222222222,\"#7201a8\"],[0.3333333333333333,\"#9c179e\"],[0.4444444444444444,\"#bd3786\"],[0.5555555555555556,\"#d8576b\"],[0.6666666666666666,\"#ed7953\"],[0.7777777777777778,\"#fb9f3a\"],[0.8888888888888888,\"#fdca26\"],[1.0,\"#f0f921\"]],\"type\":\"heatmapgl\"}],\"heatmap\":[{\"colorbar\":{\"outlinewidth\":0,\"ticks\":\"\"},\"colorscale\":[[0.0,\"#0d0887\"],[0.1111111111111111,\"#46039f\"],[0.2222222222222222,\"#7201a8\"],[0.3333333333333333,\"#9c179e\"],[0.4444444444444444,\"#bd3786\"],[0.5555555555555556,\"#d8576b\"],[0.6666666666666666,\"#ed7953\"],[0.7777777777777778,\"#fb9f3a\"],[0.8888888888888888,\"#fdca26\"],[1.0,\"#f0f921\"]],\"type\":\"heatmap\"}],\"histogram2dcontour\":[{\"colorbar\":{\"outlinewidth\":0,\"ticks\":\"\"},\"colorscale\":[[0.0,\"#0d0887\"],[0.1111111111111111,\"#46039f\"],[0.2222222222222222,\"#7201a8\"],[0.3333333333333333,\"#9c179e\"],[0.4444444444444444,\"#bd3786\"],[0.5555555555555556,\"#d8576b\"],[0.6666666666666666,\"#ed7953\"],[0.7777777777777778,\"#fb9f3a\"],[0.8888888888888888,\"#fdca26\"],[1.0,\"#f0f921\"]],\"type\":\"histogram2dcontour\"}],\"histogram2d\":[{\"colorbar\":{\"outlinewidth\":0,\"ticks\":\"\"},\"colorscale\":[[0.0,\"#0d0887\"],[0.1111111111111111,\"#46039f\"],[0.2222222222222222,\"#7201a8\"],[0.3333333333333333,\"#9c179e\"],[0.4444444444444444,\"#bd3786\"],[0.5555555555555556,\"#d8576b\"],[0.6666666666666666,\"#ed7953\"],[0.7777777777777778,\"#fb9f3a\"],[0.8888888888888888,\"#fdca26\"],[1.0,\"#f0f921\"]],\"type\":\"histogram2d\"}],\"histogram\":[{\"marker\":{\"pattern\":{\"fillmode\":\"overlay\",\"size\":10,\"solidity\":0.2}},\"type\":\"histogram\"}],\"mesh3d\":[{\"colorbar\":{\"outlinewidth\":0,\"ticks\":\"\"},\"type\":\"mesh3d\"}],\"parcoords\":[{\"line\":{\"colorbar\":{\"outlinewidth\":0,\"ticks\":\"\"}},\"type\":\"parcoords\"}],\"pie\":[{\"automargin\":true,\"type\":\"pie\"}],\"scatter3d\":[{\"line\":{\"colorbar\":{\"outlinewidth\":0,\"ticks\":\"\"}},\"marker\":{\"colorbar\":{\"outlinewidth\":0,\"ticks\":\"\"}},\"type\":\"scatter3d\"}],\"scattercarpet\":[{\"marker\":{\"colorbar\":{\"outlinewidth\":0,\"ticks\":\"\"}},\"type\":\"scattercarpet\"}],\"scattergeo\":[{\"marker\":{\"colorbar\":{\"outlinewidth\":0,\"ticks\":\"\"}},\"type\":\"scattergeo\"}],\"scattergl\":[{\"marker\":{\"colorbar\":{\"outlinewidth\":0,\"ticks\":\"\"}},\"type\":\"scattergl\"}],\"scattermapbox\":[{\"marker\":{\"colorbar\":{\"outlinewidth\":0,\"ticks\":\"\"}},\"type\":\"scattermapbox\"}],\"scatterpolargl\":[{\"marker\":{\"colorbar\":{\"outlinewidth\":0,\"ticks\":\"\"}},\"type\":\"scatterpolargl\"}],\"scatterpolar\":[{\"marker\":{\"colorbar\":{\"outlinewidth\":0,\"ticks\":\"\"}},\"type\":\"scatterpolar\"}],\"scatter\":[{\"fillpattern\":{\"fillmode\":\"overlay\",\"size\":10,\"solidity\":0.2},\"type\":\"scatter\"}],\"scatterternary\":[{\"marker\":{\"colorbar\":{\"outlinewidth\":0,\"ticks\":\"\"}},\"type\":\"scatterternary\"}],\"surface\":[{\"colorbar\":{\"outlinewidth\":0,\"ticks\":\"\"},\"colorscale\":[[0.0,\"#0d0887\"],[0.1111111111111111,\"#46039f\"],[0.2222222222222222,\"#7201a8\"],[0.3333333333333333,\"#9c179e\"],[0.4444444444444444,\"#bd3786\"],[0.5555555555555556,\"#d8576b\"],[0.6666666666666666,\"#ed7953\"],[0.7777777777777778,\"#fb9f3a\"],[0.8888888888888888,\"#fdca26\"],[1.0,\"#f0f921\"]],\"type\":\"surface\"}],\"table\":[{\"cells\":{\"fill\":{\"color\":\"#EBF0F8\"},\"line\":{\"color\":\"white\"}},\"header\":{\"fill\":{\"color\":\"#C8D4E3\"},\"line\":{\"color\":\"white\"}},\"type\":\"table\"}]},\"layout\":{\"annotationdefaults\":{\"arrowcolor\":\"#2a3f5f\",\"arrowhead\":0,\"arrowwidth\":1},\"autotypenumbers\":\"strict\",\"coloraxis\":{\"colorbar\":{\"outlinewidth\":0,\"ticks\":\"\"}},\"colorscale\":{\"diverging\":[[0,\"#8e0152\"],[0.1,\"#c51b7d\"],[0.2,\"#de77ae\"],[0.3,\"#f1b6da\"],[0.4,\"#fde0ef\"],[0.5,\"#f7f7f7\"],[0.6,\"#e6f5d0\"],[0.7,\"#b8e186\"],[0.8,\"#7fbc41\"],[0.9,\"#4d9221\"],[1,\"#276419\"]],\"sequential\":[[0.0,\"#0d0887\"],[0.1111111111111111,\"#46039f\"],[0.2222222222222222,\"#7201a8\"],[0.3333333333333333,\"#9c179e\"],[0.4444444444444444,\"#bd3786\"],[0.5555555555555556,\"#d8576b\"],[0.6666666666666666,\"#ed7953\"],[0.7777777777777778,\"#fb9f3a\"],[0.8888888888888888,\"#fdca26\"],[1.0,\"#f0f921\"]],\"sequentialminus\":[[0.0,\"#0d0887\"],[0.1111111111111111,\"#46039f\"],[0.2222222222222222,\"#7201a8\"],[0.3333333333333333,\"#9c179e\"],[0.4444444444444444,\"#bd3786\"],[0.5555555555555556,\"#d8576b\"],[0.6666666666666666,\"#ed7953\"],[0.7777777777777778,\"#fb9f3a\"],[0.8888888888888888,\"#fdca26\"],[1.0,\"#f0f921\"]]},\"colorway\":[\"#636efa\",\"#EF553B\",\"#00cc96\",\"#ab63fa\",\"#FFA15A\",\"#19d3f3\",\"#FF6692\",\"#B6E880\",\"#FF97FF\",\"#FECB52\"],\"font\":{\"color\":\"#2a3f5f\"},\"geo\":{\"bgcolor\":\"white\",\"lakecolor\":\"white\",\"landcolor\":\"#E5ECF6\",\"showlakes\":true,\"showland\":true,\"subunitcolor\":\"white\"},\"hoverlabel\":{\"align\":\"left\"},\"hovermode\":\"closest\",\"mapbox\":{\"style\":\"light\"},\"paper_bgcolor\":\"white\",\"plot_bgcolor\":\"#E5ECF6\",\"polar\":{\"angularaxis\":{\"gridcolor\":\"white\",\"linecolor\":\"white\",\"ticks\":\"\"},\"bgcolor\":\"#E5ECF6\",\"radialaxis\":{\"gridcolor\":\"white\",\"linecolor\":\"white\",\"ticks\":\"\"}},\"scene\":{\"xaxis\":{\"backgroundcolor\":\"#E5ECF6\",\"gridcolor\":\"white\",\"gridwidth\":2,\"linecolor\":\"white\",\"showbackground\":true,\"ticks\":\"\",\"zerolinecolor\":\"white\"},\"yaxis\":{\"backgroundcolor\":\"#E5ECF6\",\"gridcolor\":\"white\",\"gridwidth\":2,\"linecolor\":\"white\",\"showbackground\":true,\"ticks\":\"\",\"zerolinecolor\":\"white\"},\"zaxis\":{\"backgroundcolor\":\"#E5ECF6\",\"gridcolor\":\"white\",\"gridwidth\":2,\"linecolor\":\"white\",\"showbackground\":true,\"ticks\":\"\",\"zerolinecolor\":\"white\"}},\"shapedefaults\":{\"line\":{\"color\":\"#2a3f5f\"}},\"ternary\":{\"aaxis\":{\"gridcolor\":\"white\",\"linecolor\":\"white\",\"ticks\":\"\"},\"baxis\":{\"gridcolor\":\"white\",\"linecolor\":\"white\",\"ticks\":\"\"},\"bgcolor\":\"#E5ECF6\",\"caxis\":{\"gridcolor\":\"white\",\"linecolor\":\"white\",\"ticks\":\"\"}},\"title\":{\"x\":0.05},\"xaxis\":{\"automargin\":true,\"gridcolor\":\"white\",\"linecolor\":\"white\",\"ticks\":\"\",\"title\":{\"standoff\":15},\"zerolinecolor\":\"white\",\"zerolinewidth\":2},\"yaxis\":{\"automargin\":true,\"gridcolor\":\"white\",\"linecolor\":\"white\",\"ticks\":\"\",\"title\":{\"standoff\":15},\"zerolinecolor\":\"white\",\"zerolinewidth\":2}}},\"title\":{\"font\":{\"color\":\"#4D5663\"}},\"xaxis\":{\"gridcolor\":\"#E1E5ED\",\"showgrid\":true,\"tickfont\":{\"color\":\"#4D5663\"},\"title\":{\"font\":{\"color\":\"#4D5663\"},\"text\":\"\"},\"zerolinecolor\":\"#E1E5ED\"},\"yaxis\":{\"gridcolor\":\"#E1E5ED\",\"showgrid\":true,\"tickfont\":{\"color\":\"#4D5663\"},\"title\":{\"font\":{\"color\":\"#4D5663\"},\"text\":\"\"},\"zerolinecolor\":\"#E1E5ED\"}},                        {\"showLink\": true, \"linkText\": \"Export to plotly.com\", \"plotlyServerURL\": \"https://plotly.com\", \"responsive\": true}                    ).then(function(){\n",
       "                            \n",
       "var gd = document.getElementById('9a566815-4694-4380-9507-aa529d92993c');\n",
       "var x = new MutationObserver(function (mutations, observer) {{\n",
       "        var display = window.getComputedStyle(gd).display;\n",
       "        if (!display || display === 'none') {{\n",
       "            console.log([gd, 'removed!']);\n",
       "            Plotly.purge(gd);\n",
       "            observer.disconnect();\n",
       "        }}\n",
       "}});\n",
       "\n",
       "// Listen for the removal of the full notebook cells\n",
       "var notebookContainer = gd.closest('#notebook-container');\n",
       "if (notebookContainer) {{\n",
       "    x.observe(notebookContainer, {childList: true});\n",
       "}}\n",
       "\n",
       "// Listen for the clearing of the current output cell\n",
       "var outputEl = gd.closest('.output');\n",
       "if (outputEl) {{\n",
       "    x.observe(outputEl, {childList: true});\n",
       "}}\n",
       "\n",
       "                        })                };                });            </script>        </div>"
      ]
     },
     "metadata": {},
     "output_type": "display_data"
    }
   ],
   "source": [
    "df3.iplot(kind='surface', colorscale='rdylbu')"
   ]
  },
  {
   "cell_type": "code",
   "execution_count": 41,
   "id": "bee82b75",
   "metadata": {},
   "outputs": [
    {
     "data": {
      "application/vnd.plotly.v1+json": {
       "config": {
        "linkText": "Export to plotly.com",
        "plotlyServerURL": "https://plotly.com",
        "showLink": true
       },
       "data": [
        {
         "histfunc": "count",
         "histnorm": "",
         "marker": {
          "color": "rgba(255, 153, 51, 1.0)",
          "line": {
           "color": "#4D5663",
           "width": 1.3
          }
         },
         "name": "A",
         "nbinsx": 50,
         "opacity": 0.8,
         "orientation": "v",
         "type": "histogram",
         "x": [
          -0.40615102691201077,
          -0.47999536952712385,
          -0.731589452209614,
          0.5879553428621914,
          -1.8568953718148897,
          0.9852963397699704,
          -0.4565079483975351,
          0.8985744483888078,
          -1.880550197114006,
          -2.495067192414269,
          0.24318773794361037,
          -2.278949369698818,
          -0.5490311250307648,
          0.14532734122867813,
          0.16276002203759868,
          -1.0591320920484073,
          0.05372109359972695,
          0.2035258413077142,
          -2.4564801144392163,
          0.006562014766148572,
          1.8299109338952464,
          -0.9675701363179834,
          1.0541841654244393,
          0.20884013344601376,
          -1.3891116084425656,
          0.27161097959040503,
          2.1283430566163135,
          -0.22494485238235143,
          -0.09599443616592065,
          -0.47463986288576715,
          -1.7001685826280957,
          -1.339622451274522,
          0.14880307684214328,
          -1.502406867092294,
          0.6697628491897455,
          1.6736896598940452,
          -1.1242305900000233,
          1.2716030457108993,
          -0.020503495668329225,
          -0.6004282275431292,
          -1.610798298038356,
          -0.7126845047666951,
          -0.25276036273175184,
          -0.31036598996075493,
          0.27657442247611386,
          0.36475971678819463,
          -0.3032001827072675,
          0.28120037852816376,
          -1.057923800745797,
          -0.7299540132790762,
          -1.0364219628836993,
          2.4916267759664805,
          1.1629521913280154,
          2.0054327257594626,
          -0.23891835735830366,
          -0.08667481619810505,
          0.1821673126387374,
          -0.9087506411647428,
          -0.2175223804697042,
          1.0366653428718404,
          -1.1387376153306084,
          -1.3134795663116043,
          -0.3109333372518202,
          -0.11731364062957415,
          -0.10397752332154095,
          0.17357286910884961,
          1.125123233663803,
          -0.18371208575837503,
          0.7475189213297856,
          -1.8732934204335845,
          0.3349278560198267,
          1.626356126253646,
          0.04965422963422056,
          -0.4617720171349,
          0.25881350378239626,
          -0.6898896998105463,
          0.7647345988279457,
          0.44480407531461874,
          0.09985660770502092,
          0.1461906720821347,
          0.04340642890250446,
          -0.10569764171165204,
          -2.5186919527957294,
          0.402553363843015,
          -1.1885416932522634,
          1.7141212243739197,
          0.6790642180576574,
          1.1679009178651383,
          -1.0087877679657051,
          -0.19813583121524153,
          0.9851166891438866,
          -0.0118683102180748,
          -0.44242679362729026,
          -0.05957237410520343,
          -0.8011467122356221,
          -0.27444702043341096,
          -1.8845227330028054,
          0.663868967586431,
          -0.29563990016503844,
          0.018384161821900682
         ]
        }
       ],
       "layout": {
        "barmode": "overlay",
        "legend": {
         "bgcolor": "#F5F6F9",
         "font": {
          "color": "#4D5663"
         }
        },
        "paper_bgcolor": "#F5F6F9",
        "plot_bgcolor": "#F5F6F9",
        "template": {
         "data": {
          "bar": [
           {
            "error_x": {
             "color": "#2a3f5f"
            },
            "error_y": {
             "color": "#2a3f5f"
            },
            "marker": {
             "line": {
              "color": "#E5ECF6",
              "width": 0.5
             },
             "pattern": {
              "fillmode": "overlay",
              "size": 10,
              "solidity": 0.2
             }
            },
            "type": "bar"
           }
          ],
          "barpolar": [
           {
            "marker": {
             "line": {
              "color": "#E5ECF6",
              "width": 0.5
             },
             "pattern": {
              "fillmode": "overlay",
              "size": 10,
              "solidity": 0.2
             }
            },
            "type": "barpolar"
           }
          ],
          "carpet": [
           {
            "aaxis": {
             "endlinecolor": "#2a3f5f",
             "gridcolor": "white",
             "linecolor": "white",
             "minorgridcolor": "white",
             "startlinecolor": "#2a3f5f"
            },
            "baxis": {
             "endlinecolor": "#2a3f5f",
             "gridcolor": "white",
             "linecolor": "white",
             "minorgridcolor": "white",
             "startlinecolor": "#2a3f5f"
            },
            "type": "carpet"
           }
          ],
          "choropleth": [
           {
            "colorbar": {
             "outlinewidth": 0,
             "ticks": ""
            },
            "type": "choropleth"
           }
          ],
          "contour": [
           {
            "colorbar": {
             "outlinewidth": 0,
             "ticks": ""
            },
            "colorscale": [
             [
              0,
              "#0d0887"
             ],
             [
              0.1111111111111111,
              "#46039f"
             ],
             [
              0.2222222222222222,
              "#7201a8"
             ],
             [
              0.3333333333333333,
              "#9c179e"
             ],
             [
              0.4444444444444444,
              "#bd3786"
             ],
             [
              0.5555555555555556,
              "#d8576b"
             ],
             [
              0.6666666666666666,
              "#ed7953"
             ],
             [
              0.7777777777777778,
              "#fb9f3a"
             ],
             [
              0.8888888888888888,
              "#fdca26"
             ],
             [
              1,
              "#f0f921"
             ]
            ],
            "type": "contour"
           }
          ],
          "contourcarpet": [
           {
            "colorbar": {
             "outlinewidth": 0,
             "ticks": ""
            },
            "type": "contourcarpet"
           }
          ],
          "heatmap": [
           {
            "colorbar": {
             "outlinewidth": 0,
             "ticks": ""
            },
            "colorscale": [
             [
              0,
              "#0d0887"
             ],
             [
              0.1111111111111111,
              "#46039f"
             ],
             [
              0.2222222222222222,
              "#7201a8"
             ],
             [
              0.3333333333333333,
              "#9c179e"
             ],
             [
              0.4444444444444444,
              "#bd3786"
             ],
             [
              0.5555555555555556,
              "#d8576b"
             ],
             [
              0.6666666666666666,
              "#ed7953"
             ],
             [
              0.7777777777777778,
              "#fb9f3a"
             ],
             [
              0.8888888888888888,
              "#fdca26"
             ],
             [
              1,
              "#f0f921"
             ]
            ],
            "type": "heatmap"
           }
          ],
          "heatmapgl": [
           {
            "colorbar": {
             "outlinewidth": 0,
             "ticks": ""
            },
            "colorscale": [
             [
              0,
              "#0d0887"
             ],
             [
              0.1111111111111111,
              "#46039f"
             ],
             [
              0.2222222222222222,
              "#7201a8"
             ],
             [
              0.3333333333333333,
              "#9c179e"
             ],
             [
              0.4444444444444444,
              "#bd3786"
             ],
             [
              0.5555555555555556,
              "#d8576b"
             ],
             [
              0.6666666666666666,
              "#ed7953"
             ],
             [
              0.7777777777777778,
              "#fb9f3a"
             ],
             [
              0.8888888888888888,
              "#fdca26"
             ],
             [
              1,
              "#f0f921"
             ]
            ],
            "type": "heatmapgl"
           }
          ],
          "histogram": [
           {
            "marker": {
             "pattern": {
              "fillmode": "overlay",
              "size": 10,
              "solidity": 0.2
             }
            },
            "type": "histogram"
           }
          ],
          "histogram2d": [
           {
            "colorbar": {
             "outlinewidth": 0,
             "ticks": ""
            },
            "colorscale": [
             [
              0,
              "#0d0887"
             ],
             [
              0.1111111111111111,
              "#46039f"
             ],
             [
              0.2222222222222222,
              "#7201a8"
             ],
             [
              0.3333333333333333,
              "#9c179e"
             ],
             [
              0.4444444444444444,
              "#bd3786"
             ],
             [
              0.5555555555555556,
              "#d8576b"
             ],
             [
              0.6666666666666666,
              "#ed7953"
             ],
             [
              0.7777777777777778,
              "#fb9f3a"
             ],
             [
              0.8888888888888888,
              "#fdca26"
             ],
             [
              1,
              "#f0f921"
             ]
            ],
            "type": "histogram2d"
           }
          ],
          "histogram2dcontour": [
           {
            "colorbar": {
             "outlinewidth": 0,
             "ticks": ""
            },
            "colorscale": [
             [
              0,
              "#0d0887"
             ],
             [
              0.1111111111111111,
              "#46039f"
             ],
             [
              0.2222222222222222,
              "#7201a8"
             ],
             [
              0.3333333333333333,
              "#9c179e"
             ],
             [
              0.4444444444444444,
              "#bd3786"
             ],
             [
              0.5555555555555556,
              "#d8576b"
             ],
             [
              0.6666666666666666,
              "#ed7953"
             ],
             [
              0.7777777777777778,
              "#fb9f3a"
             ],
             [
              0.8888888888888888,
              "#fdca26"
             ],
             [
              1,
              "#f0f921"
             ]
            ],
            "type": "histogram2dcontour"
           }
          ],
          "mesh3d": [
           {
            "colorbar": {
             "outlinewidth": 0,
             "ticks": ""
            },
            "type": "mesh3d"
           }
          ],
          "parcoords": [
           {
            "line": {
             "colorbar": {
              "outlinewidth": 0,
              "ticks": ""
             }
            },
            "type": "parcoords"
           }
          ],
          "pie": [
           {
            "automargin": true,
            "type": "pie"
           }
          ],
          "scatter": [
           {
            "fillpattern": {
             "fillmode": "overlay",
             "size": 10,
             "solidity": 0.2
            },
            "type": "scatter"
           }
          ],
          "scatter3d": [
           {
            "line": {
             "colorbar": {
              "outlinewidth": 0,
              "ticks": ""
             }
            },
            "marker": {
             "colorbar": {
              "outlinewidth": 0,
              "ticks": ""
             }
            },
            "type": "scatter3d"
           }
          ],
          "scattercarpet": [
           {
            "marker": {
             "colorbar": {
              "outlinewidth": 0,
              "ticks": ""
             }
            },
            "type": "scattercarpet"
           }
          ],
          "scattergeo": [
           {
            "marker": {
             "colorbar": {
              "outlinewidth": 0,
              "ticks": ""
             }
            },
            "type": "scattergeo"
           }
          ],
          "scattergl": [
           {
            "marker": {
             "colorbar": {
              "outlinewidth": 0,
              "ticks": ""
             }
            },
            "type": "scattergl"
           }
          ],
          "scattermapbox": [
           {
            "marker": {
             "colorbar": {
              "outlinewidth": 0,
              "ticks": ""
             }
            },
            "type": "scattermapbox"
           }
          ],
          "scatterpolar": [
           {
            "marker": {
             "colorbar": {
              "outlinewidth": 0,
              "ticks": ""
             }
            },
            "type": "scatterpolar"
           }
          ],
          "scatterpolargl": [
           {
            "marker": {
             "colorbar": {
              "outlinewidth": 0,
              "ticks": ""
             }
            },
            "type": "scatterpolargl"
           }
          ],
          "scatterternary": [
           {
            "marker": {
             "colorbar": {
              "outlinewidth": 0,
              "ticks": ""
             }
            },
            "type": "scatterternary"
           }
          ],
          "surface": [
           {
            "colorbar": {
             "outlinewidth": 0,
             "ticks": ""
            },
            "colorscale": [
             [
              0,
              "#0d0887"
             ],
             [
              0.1111111111111111,
              "#46039f"
             ],
             [
              0.2222222222222222,
              "#7201a8"
             ],
             [
              0.3333333333333333,
              "#9c179e"
             ],
             [
              0.4444444444444444,
              "#bd3786"
             ],
             [
              0.5555555555555556,
              "#d8576b"
             ],
             [
              0.6666666666666666,
              "#ed7953"
             ],
             [
              0.7777777777777778,
              "#fb9f3a"
             ],
             [
              0.8888888888888888,
              "#fdca26"
             ],
             [
              1,
              "#f0f921"
             ]
            ],
            "type": "surface"
           }
          ],
          "table": [
           {
            "cells": {
             "fill": {
              "color": "#EBF0F8"
             },
             "line": {
              "color": "white"
             }
            },
            "header": {
             "fill": {
              "color": "#C8D4E3"
             },
             "line": {
              "color": "white"
             }
            },
            "type": "table"
           }
          ]
         },
         "layout": {
          "annotationdefaults": {
           "arrowcolor": "#2a3f5f",
           "arrowhead": 0,
           "arrowwidth": 1
          },
          "autotypenumbers": "strict",
          "coloraxis": {
           "colorbar": {
            "outlinewidth": 0,
            "ticks": ""
           }
          },
          "colorscale": {
           "diverging": [
            [
             0,
             "#8e0152"
            ],
            [
             0.1,
             "#c51b7d"
            ],
            [
             0.2,
             "#de77ae"
            ],
            [
             0.3,
             "#f1b6da"
            ],
            [
             0.4,
             "#fde0ef"
            ],
            [
             0.5,
             "#f7f7f7"
            ],
            [
             0.6,
             "#e6f5d0"
            ],
            [
             0.7,
             "#b8e186"
            ],
            [
             0.8,
             "#7fbc41"
            ],
            [
             0.9,
             "#4d9221"
            ],
            [
             1,
             "#276419"
            ]
           ],
           "sequential": [
            [
             0,
             "#0d0887"
            ],
            [
             0.1111111111111111,
             "#46039f"
            ],
            [
             0.2222222222222222,
             "#7201a8"
            ],
            [
             0.3333333333333333,
             "#9c179e"
            ],
            [
             0.4444444444444444,
             "#bd3786"
            ],
            [
             0.5555555555555556,
             "#d8576b"
            ],
            [
             0.6666666666666666,
             "#ed7953"
            ],
            [
             0.7777777777777778,
             "#fb9f3a"
            ],
            [
             0.8888888888888888,
             "#fdca26"
            ],
            [
             1,
             "#f0f921"
            ]
           ],
           "sequentialminus": [
            [
             0,
             "#0d0887"
            ],
            [
             0.1111111111111111,
             "#46039f"
            ],
            [
             0.2222222222222222,
             "#7201a8"
            ],
            [
             0.3333333333333333,
             "#9c179e"
            ],
            [
             0.4444444444444444,
             "#bd3786"
            ],
            [
             0.5555555555555556,
             "#d8576b"
            ],
            [
             0.6666666666666666,
             "#ed7953"
            ],
            [
             0.7777777777777778,
             "#fb9f3a"
            ],
            [
             0.8888888888888888,
             "#fdca26"
            ],
            [
             1,
             "#f0f921"
            ]
           ]
          },
          "colorway": [
           "#636efa",
           "#EF553B",
           "#00cc96",
           "#ab63fa",
           "#FFA15A",
           "#19d3f3",
           "#FF6692",
           "#B6E880",
           "#FF97FF",
           "#FECB52"
          ],
          "font": {
           "color": "#2a3f5f"
          },
          "geo": {
           "bgcolor": "white",
           "lakecolor": "white",
           "landcolor": "#E5ECF6",
           "showlakes": true,
           "showland": true,
           "subunitcolor": "white"
          },
          "hoverlabel": {
           "align": "left"
          },
          "hovermode": "closest",
          "mapbox": {
           "style": "light"
          },
          "paper_bgcolor": "white",
          "plot_bgcolor": "#E5ECF6",
          "polar": {
           "angularaxis": {
            "gridcolor": "white",
            "linecolor": "white",
            "ticks": ""
           },
           "bgcolor": "#E5ECF6",
           "radialaxis": {
            "gridcolor": "white",
            "linecolor": "white",
            "ticks": ""
           }
          },
          "scene": {
           "xaxis": {
            "backgroundcolor": "#E5ECF6",
            "gridcolor": "white",
            "gridwidth": 2,
            "linecolor": "white",
            "showbackground": true,
            "ticks": "",
            "zerolinecolor": "white"
           },
           "yaxis": {
            "backgroundcolor": "#E5ECF6",
            "gridcolor": "white",
            "gridwidth": 2,
            "linecolor": "white",
            "showbackground": true,
            "ticks": "",
            "zerolinecolor": "white"
           },
           "zaxis": {
            "backgroundcolor": "#E5ECF6",
            "gridcolor": "white",
            "gridwidth": 2,
            "linecolor": "white",
            "showbackground": true,
            "ticks": "",
            "zerolinecolor": "white"
           }
          },
          "shapedefaults": {
           "line": {
            "color": "#2a3f5f"
           }
          },
          "ternary": {
           "aaxis": {
            "gridcolor": "white",
            "linecolor": "white",
            "ticks": ""
           },
           "baxis": {
            "gridcolor": "white",
            "linecolor": "white",
            "ticks": ""
           },
           "bgcolor": "#E5ECF6",
           "caxis": {
            "gridcolor": "white",
            "linecolor": "white",
            "ticks": ""
           }
          },
          "title": {
           "x": 0.05
          },
          "xaxis": {
           "automargin": true,
           "gridcolor": "white",
           "linecolor": "white",
           "ticks": "",
           "title": {
            "standoff": 15
           },
           "zerolinecolor": "white",
           "zerolinewidth": 2
          },
          "yaxis": {
           "automargin": true,
           "gridcolor": "white",
           "linecolor": "white",
           "ticks": "",
           "title": {
            "standoff": 15
           },
           "zerolinecolor": "white",
           "zerolinewidth": 2
          }
         }
        },
        "title": {
         "font": {
          "color": "#4D5663"
         }
        },
        "xaxis": {
         "gridcolor": "#E1E5ED",
         "showgrid": true,
         "tickfont": {
          "color": "#4D5663"
         },
         "title": {
          "font": {
           "color": "#4D5663"
          },
          "text": ""
         },
         "zerolinecolor": "#E1E5ED"
        },
        "yaxis": {
         "gridcolor": "#E1E5ED",
         "showgrid": true,
         "tickfont": {
          "color": "#4D5663"
         },
         "title": {
          "font": {
           "color": "#4D5663"
          },
          "text": ""
         },
         "zerolinecolor": "#E1E5ED"
        }
       }
      },
      "text/html": [
       "<div>                            <div id=\"d9ef53b6-f037-4a67-966a-69b368e6d55d\" class=\"plotly-graph-div\" style=\"height:525px; width:100%;\"></div>            <script type=\"text/javascript\">                require([\"plotly\"], function(Plotly) {                    window.PLOTLYENV=window.PLOTLYENV || {};\n",
       "                    window.PLOTLYENV.BASE_URL='https://plotly.com';                                    if (document.getElementById(\"d9ef53b6-f037-4a67-966a-69b368e6d55d\")) {                    Plotly.newPlot(                        \"d9ef53b6-f037-4a67-966a-69b368e6d55d\",                        [{\"histfunc\":\"count\",\"histnorm\":\"\",\"marker\":{\"color\":\"rgba(255, 153, 51, 1.0)\",\"line\":{\"color\":\"#4D5663\",\"width\":1.3}},\"name\":\"A\",\"nbinsx\":50,\"opacity\":0.8,\"orientation\":\"v\",\"x\":[-0.40615102691201077,-0.47999536952712385,-0.731589452209614,0.5879553428621914,-1.8568953718148897,0.9852963397699704,-0.4565079483975351,0.8985744483888078,-1.880550197114006,-2.495067192414269,0.24318773794361037,-2.278949369698818,-0.5490311250307648,0.14532734122867813,0.16276002203759868,-1.0591320920484073,0.05372109359972695,0.2035258413077142,-2.4564801144392163,0.006562014766148572,1.8299109338952464,-0.9675701363179834,1.0541841654244393,0.20884013344601376,-1.3891116084425656,0.27161097959040503,2.1283430566163135,-0.22494485238235143,-0.09599443616592065,-0.47463986288576715,-1.7001685826280957,-1.339622451274522,0.14880307684214328,-1.502406867092294,0.6697628491897455,1.6736896598940452,-1.1242305900000233,1.2716030457108993,-0.020503495668329225,-0.6004282275431292,-1.610798298038356,-0.7126845047666951,-0.25276036273175184,-0.31036598996075493,0.27657442247611386,0.36475971678819463,-0.3032001827072675,0.28120037852816376,-1.057923800745797,-0.7299540132790762,-1.0364219628836993,2.4916267759664805,1.1629521913280154,2.0054327257594626,-0.23891835735830366,-0.08667481619810505,0.1821673126387374,-0.9087506411647428,-0.2175223804697042,1.0366653428718404,-1.1387376153306084,-1.3134795663116043,-0.3109333372518202,-0.11731364062957415,-0.10397752332154095,0.17357286910884961,1.125123233663803,-0.18371208575837503,0.7475189213297856,-1.8732934204335845,0.3349278560198267,1.626356126253646,0.04965422963422056,-0.4617720171349,0.25881350378239626,-0.6898896998105463,0.7647345988279457,0.44480407531461874,0.09985660770502092,0.1461906720821347,0.04340642890250446,-0.10569764171165204,-2.5186919527957294,0.402553363843015,-1.1885416932522634,1.7141212243739197,0.6790642180576574,1.1679009178651383,-1.0087877679657051,-0.19813583121524153,0.9851166891438866,-0.0118683102180748,-0.44242679362729026,-0.05957237410520343,-0.8011467122356221,-0.27444702043341096,-1.8845227330028054,0.663868967586431,-0.29563990016503844,0.018384161821900682],\"type\":\"histogram\"}],                        {\"barmode\":\"overlay\",\"legend\":{\"bgcolor\":\"#F5F6F9\",\"font\":{\"color\":\"#4D5663\"}},\"paper_bgcolor\":\"#F5F6F9\",\"plot_bgcolor\":\"#F5F6F9\",\"template\":{\"data\":{\"barpolar\":[{\"marker\":{\"line\":{\"color\":\"#E5ECF6\",\"width\":0.5},\"pattern\":{\"fillmode\":\"overlay\",\"size\":10,\"solidity\":0.2}},\"type\":\"barpolar\"}],\"bar\":[{\"error_x\":{\"color\":\"#2a3f5f\"},\"error_y\":{\"color\":\"#2a3f5f\"},\"marker\":{\"line\":{\"color\":\"#E5ECF6\",\"width\":0.5},\"pattern\":{\"fillmode\":\"overlay\",\"size\":10,\"solidity\":0.2}},\"type\":\"bar\"}],\"carpet\":[{\"aaxis\":{\"endlinecolor\":\"#2a3f5f\",\"gridcolor\":\"white\",\"linecolor\":\"white\",\"minorgridcolor\":\"white\",\"startlinecolor\":\"#2a3f5f\"},\"baxis\":{\"endlinecolor\":\"#2a3f5f\",\"gridcolor\":\"white\",\"linecolor\":\"white\",\"minorgridcolor\":\"white\",\"startlinecolor\":\"#2a3f5f\"},\"type\":\"carpet\"}],\"choropleth\":[{\"colorbar\":{\"outlinewidth\":0,\"ticks\":\"\"},\"type\":\"choropleth\"}],\"contourcarpet\":[{\"colorbar\":{\"outlinewidth\":0,\"ticks\":\"\"},\"type\":\"contourcarpet\"}],\"contour\":[{\"colorbar\":{\"outlinewidth\":0,\"ticks\":\"\"},\"colorscale\":[[0.0,\"#0d0887\"],[0.1111111111111111,\"#46039f\"],[0.2222222222222222,\"#7201a8\"],[0.3333333333333333,\"#9c179e\"],[0.4444444444444444,\"#bd3786\"],[0.5555555555555556,\"#d8576b\"],[0.6666666666666666,\"#ed7953\"],[0.7777777777777778,\"#fb9f3a\"],[0.8888888888888888,\"#fdca26\"],[1.0,\"#f0f921\"]],\"type\":\"contour\"}],\"heatmapgl\":[{\"colorbar\":{\"outlinewidth\":0,\"ticks\":\"\"},\"colorscale\":[[0.0,\"#0d0887\"],[0.1111111111111111,\"#46039f\"],[0.2222222222222222,\"#7201a8\"],[0.3333333333333333,\"#9c179e\"],[0.4444444444444444,\"#bd3786\"],[0.5555555555555556,\"#d8576b\"],[0.6666666666666666,\"#ed7953\"],[0.7777777777777778,\"#fb9f3a\"],[0.8888888888888888,\"#fdca26\"],[1.0,\"#f0f921\"]],\"type\":\"heatmapgl\"}],\"heatmap\":[{\"colorbar\":{\"outlinewidth\":0,\"ticks\":\"\"},\"colorscale\":[[0.0,\"#0d0887\"],[0.1111111111111111,\"#46039f\"],[0.2222222222222222,\"#7201a8\"],[0.3333333333333333,\"#9c179e\"],[0.4444444444444444,\"#bd3786\"],[0.5555555555555556,\"#d8576b\"],[0.6666666666666666,\"#ed7953\"],[0.7777777777777778,\"#fb9f3a\"],[0.8888888888888888,\"#fdca26\"],[1.0,\"#f0f921\"]],\"type\":\"heatmap\"}],\"histogram2dcontour\":[{\"colorbar\":{\"outlinewidth\":0,\"ticks\":\"\"},\"colorscale\":[[0.0,\"#0d0887\"],[0.1111111111111111,\"#46039f\"],[0.2222222222222222,\"#7201a8\"],[0.3333333333333333,\"#9c179e\"],[0.4444444444444444,\"#bd3786\"],[0.5555555555555556,\"#d8576b\"],[0.6666666666666666,\"#ed7953\"],[0.7777777777777778,\"#fb9f3a\"],[0.8888888888888888,\"#fdca26\"],[1.0,\"#f0f921\"]],\"type\":\"histogram2dcontour\"}],\"histogram2d\":[{\"colorbar\":{\"outlinewidth\":0,\"ticks\":\"\"},\"colorscale\":[[0.0,\"#0d0887\"],[0.1111111111111111,\"#46039f\"],[0.2222222222222222,\"#7201a8\"],[0.3333333333333333,\"#9c179e\"],[0.4444444444444444,\"#bd3786\"],[0.5555555555555556,\"#d8576b\"],[0.6666666666666666,\"#ed7953\"],[0.7777777777777778,\"#fb9f3a\"],[0.8888888888888888,\"#fdca26\"],[1.0,\"#f0f921\"]],\"type\":\"histogram2d\"}],\"histogram\":[{\"marker\":{\"pattern\":{\"fillmode\":\"overlay\",\"size\":10,\"solidity\":0.2}},\"type\":\"histogram\"}],\"mesh3d\":[{\"colorbar\":{\"outlinewidth\":0,\"ticks\":\"\"},\"type\":\"mesh3d\"}],\"parcoords\":[{\"line\":{\"colorbar\":{\"outlinewidth\":0,\"ticks\":\"\"}},\"type\":\"parcoords\"}],\"pie\":[{\"automargin\":true,\"type\":\"pie\"}],\"scatter3d\":[{\"line\":{\"colorbar\":{\"outlinewidth\":0,\"ticks\":\"\"}},\"marker\":{\"colorbar\":{\"outlinewidth\":0,\"ticks\":\"\"}},\"type\":\"scatter3d\"}],\"scattercarpet\":[{\"marker\":{\"colorbar\":{\"outlinewidth\":0,\"ticks\":\"\"}},\"type\":\"scattercarpet\"}],\"scattergeo\":[{\"marker\":{\"colorbar\":{\"outlinewidth\":0,\"ticks\":\"\"}},\"type\":\"scattergeo\"}],\"scattergl\":[{\"marker\":{\"colorbar\":{\"outlinewidth\":0,\"ticks\":\"\"}},\"type\":\"scattergl\"}],\"scattermapbox\":[{\"marker\":{\"colorbar\":{\"outlinewidth\":0,\"ticks\":\"\"}},\"type\":\"scattermapbox\"}],\"scatterpolargl\":[{\"marker\":{\"colorbar\":{\"outlinewidth\":0,\"ticks\":\"\"}},\"type\":\"scatterpolargl\"}],\"scatterpolar\":[{\"marker\":{\"colorbar\":{\"outlinewidth\":0,\"ticks\":\"\"}},\"type\":\"scatterpolar\"}],\"scatter\":[{\"fillpattern\":{\"fillmode\":\"overlay\",\"size\":10,\"solidity\":0.2},\"type\":\"scatter\"}],\"scatterternary\":[{\"marker\":{\"colorbar\":{\"outlinewidth\":0,\"ticks\":\"\"}},\"type\":\"scatterternary\"}],\"surface\":[{\"colorbar\":{\"outlinewidth\":0,\"ticks\":\"\"},\"colorscale\":[[0.0,\"#0d0887\"],[0.1111111111111111,\"#46039f\"],[0.2222222222222222,\"#7201a8\"],[0.3333333333333333,\"#9c179e\"],[0.4444444444444444,\"#bd3786\"],[0.5555555555555556,\"#d8576b\"],[0.6666666666666666,\"#ed7953\"],[0.7777777777777778,\"#fb9f3a\"],[0.8888888888888888,\"#fdca26\"],[1.0,\"#f0f921\"]],\"type\":\"surface\"}],\"table\":[{\"cells\":{\"fill\":{\"color\":\"#EBF0F8\"},\"line\":{\"color\":\"white\"}},\"header\":{\"fill\":{\"color\":\"#C8D4E3\"},\"line\":{\"color\":\"white\"}},\"type\":\"table\"}]},\"layout\":{\"annotationdefaults\":{\"arrowcolor\":\"#2a3f5f\",\"arrowhead\":0,\"arrowwidth\":1},\"autotypenumbers\":\"strict\",\"coloraxis\":{\"colorbar\":{\"outlinewidth\":0,\"ticks\":\"\"}},\"colorscale\":{\"diverging\":[[0,\"#8e0152\"],[0.1,\"#c51b7d\"],[0.2,\"#de77ae\"],[0.3,\"#f1b6da\"],[0.4,\"#fde0ef\"],[0.5,\"#f7f7f7\"],[0.6,\"#e6f5d0\"],[0.7,\"#b8e186\"],[0.8,\"#7fbc41\"],[0.9,\"#4d9221\"],[1,\"#276419\"]],\"sequential\":[[0.0,\"#0d0887\"],[0.1111111111111111,\"#46039f\"],[0.2222222222222222,\"#7201a8\"],[0.3333333333333333,\"#9c179e\"],[0.4444444444444444,\"#bd3786\"],[0.5555555555555556,\"#d8576b\"],[0.6666666666666666,\"#ed7953\"],[0.7777777777777778,\"#fb9f3a\"],[0.8888888888888888,\"#fdca26\"],[1.0,\"#f0f921\"]],\"sequentialminus\":[[0.0,\"#0d0887\"],[0.1111111111111111,\"#46039f\"],[0.2222222222222222,\"#7201a8\"],[0.3333333333333333,\"#9c179e\"],[0.4444444444444444,\"#bd3786\"],[0.5555555555555556,\"#d8576b\"],[0.6666666666666666,\"#ed7953\"],[0.7777777777777778,\"#fb9f3a\"],[0.8888888888888888,\"#fdca26\"],[1.0,\"#f0f921\"]]},\"colorway\":[\"#636efa\",\"#EF553B\",\"#00cc96\",\"#ab63fa\",\"#FFA15A\",\"#19d3f3\",\"#FF6692\",\"#B6E880\",\"#FF97FF\",\"#FECB52\"],\"font\":{\"color\":\"#2a3f5f\"},\"geo\":{\"bgcolor\":\"white\",\"lakecolor\":\"white\",\"landcolor\":\"#E5ECF6\",\"showlakes\":true,\"showland\":true,\"subunitcolor\":\"white\"},\"hoverlabel\":{\"align\":\"left\"},\"hovermode\":\"closest\",\"mapbox\":{\"style\":\"light\"},\"paper_bgcolor\":\"white\",\"plot_bgcolor\":\"#E5ECF6\",\"polar\":{\"angularaxis\":{\"gridcolor\":\"white\",\"linecolor\":\"white\",\"ticks\":\"\"},\"bgcolor\":\"#E5ECF6\",\"radialaxis\":{\"gridcolor\":\"white\",\"linecolor\":\"white\",\"ticks\":\"\"}},\"scene\":{\"xaxis\":{\"backgroundcolor\":\"#E5ECF6\",\"gridcolor\":\"white\",\"gridwidth\":2,\"linecolor\":\"white\",\"showbackground\":true,\"ticks\":\"\",\"zerolinecolor\":\"white\"},\"yaxis\":{\"backgroundcolor\":\"#E5ECF6\",\"gridcolor\":\"white\",\"gridwidth\":2,\"linecolor\":\"white\",\"showbackground\":true,\"ticks\":\"\",\"zerolinecolor\":\"white\"},\"zaxis\":{\"backgroundcolor\":\"#E5ECF6\",\"gridcolor\":\"white\",\"gridwidth\":2,\"linecolor\":\"white\",\"showbackground\":true,\"ticks\":\"\",\"zerolinecolor\":\"white\"}},\"shapedefaults\":{\"line\":{\"color\":\"#2a3f5f\"}},\"ternary\":{\"aaxis\":{\"gridcolor\":\"white\",\"linecolor\":\"white\",\"ticks\":\"\"},\"baxis\":{\"gridcolor\":\"white\",\"linecolor\":\"white\",\"ticks\":\"\"},\"bgcolor\":\"#E5ECF6\",\"caxis\":{\"gridcolor\":\"white\",\"linecolor\":\"white\",\"ticks\":\"\"}},\"title\":{\"x\":0.05},\"xaxis\":{\"automargin\":true,\"gridcolor\":\"white\",\"linecolor\":\"white\",\"ticks\":\"\",\"title\":{\"standoff\":15},\"zerolinecolor\":\"white\",\"zerolinewidth\":2},\"yaxis\":{\"automargin\":true,\"gridcolor\":\"white\",\"linecolor\":\"white\",\"ticks\":\"\",\"title\":{\"standoff\":15},\"zerolinecolor\":\"white\",\"zerolinewidth\":2}}},\"title\":{\"font\":{\"color\":\"#4D5663\"}},\"xaxis\":{\"gridcolor\":\"#E1E5ED\",\"showgrid\":true,\"tickfont\":{\"color\":\"#4D5663\"},\"title\":{\"font\":{\"color\":\"#4D5663\"},\"text\":\"\"},\"zerolinecolor\":\"#E1E5ED\"},\"yaxis\":{\"gridcolor\":\"#E1E5ED\",\"showgrid\":true,\"tickfont\":{\"color\":\"#4D5663\"},\"title\":{\"font\":{\"color\":\"#4D5663\"},\"text\":\"\"},\"zerolinecolor\":\"#E1E5ED\"}},                        {\"showLink\": true, \"linkText\": \"Export to plotly.com\", \"plotlyServerURL\": \"https://plotly.com\", \"responsive\": true}                    ).then(function(){\n",
       "                            \n",
       "var gd = document.getElementById('d9ef53b6-f037-4a67-966a-69b368e6d55d');\n",
       "var x = new MutationObserver(function (mutations, observer) {{\n",
       "        var display = window.getComputedStyle(gd).display;\n",
       "        if (!display || display === 'none') {{\n",
       "            console.log([gd, 'removed!']);\n",
       "            Plotly.purge(gd);\n",
       "            observer.disconnect();\n",
       "        }}\n",
       "}});\n",
       "\n",
       "// Listen for the removal of the full notebook cells\n",
       "var notebookContainer = gd.closest('#notebook-container');\n",
       "if (notebookContainer) {{\n",
       "    x.observe(notebookContainer, {childList: true});\n",
       "}}\n",
       "\n",
       "// Listen for the clearing of the current output cell\n",
       "var outputEl = gd.closest('.output');\n",
       "if (outputEl) {{\n",
       "    x.observe(outputEl, {childList: true});\n",
       "}}\n",
       "\n",
       "                        })                };                });            </script>        </div>"
      ]
     },
     "metadata": {},
     "output_type": "display_data"
    }
   ],
   "source": [
    "#histagram\n",
    "df['A'].iplot(kind='hist', bins=50)"
   ]
  },
  {
   "cell_type": "code",
   "execution_count": 42,
   "id": "5b9274ce",
   "metadata": {},
   "outputs": [
    {
     "data": {
      "application/vnd.plotly.v1+json": {
       "config": {
        "linkText": "Export to plotly.com",
        "plotlyServerURL": "https://plotly.com",
        "showLink": true
       },
       "data": [
        {
         "histfunc": "count",
         "histnorm": "",
         "marker": {
          "color": "rgba(255, 153, 51, 1.0)",
          "line": {
           "color": "#4D5663",
           "width": 1.3
          }
         },
         "name": "A",
         "nbinsx": 50,
         "opacity": 0.8,
         "orientation": "v",
         "type": "histogram",
         "x": [
          -0.40615102691201077,
          -0.47999536952712385,
          -0.731589452209614,
          0.5879553428621914,
          -1.8568953718148897,
          0.9852963397699704,
          -0.4565079483975351,
          0.8985744483888078,
          -1.880550197114006,
          -2.495067192414269,
          0.24318773794361037,
          -2.278949369698818,
          -0.5490311250307648,
          0.14532734122867813,
          0.16276002203759868,
          -1.0591320920484073,
          0.05372109359972695,
          0.2035258413077142,
          -2.4564801144392163,
          0.006562014766148572,
          1.8299109338952464,
          -0.9675701363179834,
          1.0541841654244393,
          0.20884013344601376,
          -1.3891116084425656,
          0.27161097959040503,
          2.1283430566163135,
          -0.22494485238235143,
          -0.09599443616592065,
          -0.47463986288576715,
          -1.7001685826280957,
          -1.339622451274522,
          0.14880307684214328,
          -1.502406867092294,
          0.6697628491897455,
          1.6736896598940452,
          -1.1242305900000233,
          1.2716030457108993,
          -0.020503495668329225,
          -0.6004282275431292,
          -1.610798298038356,
          -0.7126845047666951,
          -0.25276036273175184,
          -0.31036598996075493,
          0.27657442247611386,
          0.36475971678819463,
          -0.3032001827072675,
          0.28120037852816376,
          -1.057923800745797,
          -0.7299540132790762,
          -1.0364219628836993,
          2.4916267759664805,
          1.1629521913280154,
          2.0054327257594626,
          -0.23891835735830366,
          -0.08667481619810505,
          0.1821673126387374,
          -0.9087506411647428,
          -0.2175223804697042,
          1.0366653428718404,
          -1.1387376153306084,
          -1.3134795663116043,
          -0.3109333372518202,
          -0.11731364062957415,
          -0.10397752332154095,
          0.17357286910884961,
          1.125123233663803,
          -0.18371208575837503,
          0.7475189213297856,
          -1.8732934204335845,
          0.3349278560198267,
          1.626356126253646,
          0.04965422963422056,
          -0.4617720171349,
          0.25881350378239626,
          -0.6898896998105463,
          0.7647345988279457,
          0.44480407531461874,
          0.09985660770502092,
          0.1461906720821347,
          0.04340642890250446,
          -0.10569764171165204,
          -2.5186919527957294,
          0.402553363843015,
          -1.1885416932522634,
          1.7141212243739197,
          0.6790642180576574,
          1.1679009178651383,
          -1.0087877679657051,
          -0.19813583121524153,
          0.9851166891438866,
          -0.0118683102180748,
          -0.44242679362729026,
          -0.05957237410520343,
          -0.8011467122356221,
          -0.27444702043341096,
          -1.8845227330028054,
          0.663868967586431,
          -0.29563990016503844,
          0.018384161821900682
         ]
        },
        {
         "histfunc": "count",
         "histnorm": "",
         "marker": {
          "color": "rgba(55, 128, 191, 1.0)",
          "line": {
           "color": "#4D5663",
           "width": 1.3
          }
         },
         "name": "B",
         "nbinsx": 50,
         "opacity": 0.8,
         "orientation": "v",
         "type": "histogram",
         "x": [
          0.33469028609462786,
          -0.4747720494047677,
          -0.8910492574030071,
          -0.6562947499843159,
          1.0975595283397657,
          -0.08492187787388085,
          0.834157942765214,
          0.8261256825901863,
          0.4632193771172654,
          0.2118406780817216,
          -0.18660521525359663,
          -0.8772109585438541,
          0.9001431742247843,
          0.43622225877058113,
          0.3505049904764363,
          0.9315658697409118,
          -1.946983553008016,
          0.7644568957313809,
          -0.12255099035106522,
          0.18500821089394304,
          0.6312321003475739,
          -1.3583124190159115,
          0.6879322926800804,
          -0.340566305221331,
          1.10044477146272,
          -1.0455648116827128,
          0.3952180495751735,
          0.6896877211682053,
          -0.5155403800669799,
          1.4785314007970745,
          -1.0649728817509585,
          1.7852829028741184,
          0.8570954275978809,
          2.173712498989926,
          -1.0582631927924049,
          0.4985565174744666,
          -0.4473289358096288,
          0.4025239189309213,
          -0.15564462003233068,
          0.5381832495099379,
          -1.2214341198324867,
          -0.31187895934241877,
          1.024480489586102,
          -0.9575439080616085,
          1.2319230093188827,
          0.8433090402248943,
          -0.1743727135083682,
          -0.516081714378001,
          -0.05238583944339358,
          -0.09322087115568396,
          -1.3402000293873717,
          -2.349049257706284,
          -1.2853922081306273,
          -0.41339815261901414,
          -0.7700945857764542,
          1.6608970953042417,
          0.6176112005319743,
          -0.8202041643220608,
          -1.7363664986014162,
          0.12947655833098984,
          -1.2343545924493855,
          -0.3730297008989098,
          -0.3096507505421561,
          -0.9790966487903674,
          0.34996075464019377,
          2.380102070380568,
          -0.2440263432978862,
          0.7681940478056901,
          1.3570398145585194,
          -0.20157140820039438,
          0.2877302953363688,
          0.16851948185688861,
          -0.5644038341545653,
          0.9231079850639387,
          -0.944506176873885,
          1.054446152533765,
          -0.7207904072238942,
          0.4365114891422287,
          2.338324940574144,
          1.0257780537771517,
          -1.1618978051757043,
          -1.6327091540232865,
          0.9509386746206595,
          1.0231396871331329,
          0.3118062700792768,
          -2.4097800983317152,
          0.7571883722250382,
          0.4131747981644347,
          -1.455075148971204,
          -0.21915229540259684,
          0.4578621056720926,
          0.16564240034126468,
          -1.237646345341587,
          -1.8175037223783308,
          -0.7467476602610285,
          -0.08434524550962558,
          -1.9690707808886958,
          -1.160972757919005,
          -0.23118107997338297,
          -0.6316562531717944
         ]
        },
        {
         "histfunc": "count",
         "histnorm": "",
         "marker": {
          "color": "rgba(50, 171, 96, 1.0)",
          "line": {
           "color": "#4D5663",
           "width": 1.3
          }
         },
         "name": "C",
         "nbinsx": 50,
         "opacity": 0.8,
         "orientation": "v",
         "type": "histogram",
         "x": [
          1.1737362333207728,
          1.5562612868774497,
          -0.014477400798201173,
          -0.9949081729820747,
          0.9357459497680499,
          0.12646190131838267,
          -0.3954971678824292,
          0.3430957446539166,
          0.9237407892776045,
          -0.09657627920969948,
          -1.8243055412777374,
          0.051993637559908906,
          -0.2727456870221832,
          -0.986463898356433,
          0.08565836080338578,
          0.2595033891481982,
          -0.5252644450116665,
          -1.0606034120376318,
          -1.0531339863226663,
          2.124426303973373,
          0.5386756257920999,
          -0.007511511275262967,
          1.1119203435398002,
          -0.23992367881368432,
          -1.6306447669964903,
          3.06700850806012,
          -1.5686351092233557,
          -0.3303055960327883,
          -2.6799375854206735,
          -0.059681128683770214,
          2.091684394948725,
          -0.8967544340093194,
          1.09190837290732,
          0.6071660132691131,
          -0.8682215185106045,
          -0.5929683036738767,
          1.1858783986893462,
          0.4364224172106424,
          -0.5607058909568162,
          2.2031077947680973,
          -2.0009293881751598,
          0.7424893040701714,
          0.8393707588892446,
          -0.816004938619743,
          -1.4229672866936136,
          0.16767953911777858,
          -0.3836304305107007,
          -0.6530503240203627,
          -0.4032092701394886,
          0.49550149133083987,
          -1.2219788650504726,
          -2.01711399525827,
          -1.3501399942480863,
          -0.3340565386962628,
          1.6208031740714461,
          -0.81865148507276,
          -0.7007388233092041,
          0.5136785611995491,
          0.35171848335376976,
          0.9435753712354081,
          0.27369781840798585,
          -1.9524180893392744,
          -0.8624643631571148,
          0.8430570654922642,
          2.1323244795491156,
          -0.6288100804146632,
          1.3589889331060612,
          -0.557235992767454,
          -1.3792429504800554,
          0.130518031523595,
          -0.9227967429596617,
          0.6573125910979403,
          -0.23994717138183025,
          0.6626844035939178,
          0.7741461543370848,
          0.48579671998018553,
          -1.3130302860341112,
          -2.3704585045470785,
          -1.3160142246509,
          0.04462568929934854,
          -1.9574264167929238,
          -0.7695788548393496,
          -0.9140157180522013,
          -1.5892123568347112,
          0.6936677916768622,
          1.1210373544275518,
          0.7961678326691228,
          -0.8391943240960812,
          0.24015769746489576,
          -0.5508983796531722,
          1.12627939397085,
          0.9029350084574046,
          -2.432031096989011,
          0.7657320319014022,
          -0.8199738797904056,
          0.936354598692254,
          1.4219270790134204,
          1.3436035732956615,
          1.068728347985142,
          -0.1274801263802885
         ]
        },
        {
         "histfunc": "count",
         "histnorm": "",
         "marker": {
          "color": "rgba(128, 0, 128, 1.0)",
          "line": {
           "color": "#4D5663",
           "width": 1.3
          }
         },
         "name": "D",
         "nbinsx": 50,
         "opacity": 0.8,
         "orientation": "v",
         "type": "histogram",
         "x": [
          1.1721929351470735,
          -0.22550678449579425,
          -0.23122702155824176,
          0.6563333186487523,
          0.9213870194866701,
          -0.940057159600806,
          1.0628180142729196,
          -0.7499896102609849,
          0.30784931824423095,
          2.266399430883198,
          -0.44880797942819267,
          1.1422936229435676,
          0.09103811544473554,
          2.069523663590396,
          1.2508805902953954,
          -0.3047131602462184,
          0.9197394716886824,
          1.0057324663857043,
          -0.4333404738483218,
          1.1010416821236282,
          0.20656145868170267,
          0.26233863218323333,
          1.5060412455601153,
          -0.13402585348303264,
          -0.32697483748177253,
          1.079837128902801,
          0.004728406171932221,
          -0.6226718331405126,
          -0.4490701297158038,
          0.15225931142287583,
          0.9153052362338638,
          -0.6622649748463805,
          -0.054998896163471284,
          -1.845316075636726,
          0.01180849735745713,
          0.6209732383074823,
          -2.1112426036073337,
          -0.0821528976491328,
          -1.0224783410842313,
          0.4878918372140083,
          0.4671284655613165,
          -1.5994765830828284,
          -0.6725580152001758,
          0.44366080628539195,
          0.07415873128838171,
          -1.3249369973109828,
          1.1551445342220152,
          1.7332337195085488,
          -0.3657857984091364,
          -0.2873417734161192,
          -0.9709572050937714,
          -0.742372297830512,
          0.3794411738916534,
          0.2762755085921835,
          0.4148111210160986,
          1.004193222747808,
          1.735974995400932,
          0.17378939529727316,
          -0.39644398612996373,
          -0.2213175939757858,
          2.028025374229803,
          0.8741309031602762,
          -0.6177222409549274,
          -0.46832601837327215,
          0.8383996980225872,
          -0.13213402794172005,
          -0.7856771366004357,
          0.3907141014040696,
          0.7893113881559564,
          0.6582413953787006,
          -1.016539631599919,
          -0.7453435716771191,
          -0.020939124576196497,
          0.7032878546039067,
          -0.17619490382371217,
          -0.2779787776331174,
          -0.880442853112146,
          0.09774250949862644,
          0.6245392330085496,
          1.7064080979818954,
          1.3613379387667601,
          0.6412515175675733,
          0.1519953216329928,
          0.031348203336145526,
          -0.31098136014267036,
          0.7875720539862844,
          0.5889390839956123,
          0.4337578296750308,
          0.7171693251896951,
          -1.3440293593443675,
          -0.6736381577049158,
          -0.16567637011293324,
          0.8087465848833933,
          -0.45027639803246394,
          0.6994790917892251,
          0.5714910202749229,
          -0.32518777808721416,
          -0.8740087859949409,
          1.2355915780078561,
          0.5935130920319255
         ]
        }
       ],
       "layout": {
        "barmode": "overlay",
        "legend": {
         "bgcolor": "#F5F6F9",
         "font": {
          "color": "#4D5663"
         }
        },
        "paper_bgcolor": "#F5F6F9",
        "plot_bgcolor": "#F5F6F9",
        "template": {
         "data": {
          "bar": [
           {
            "error_x": {
             "color": "#2a3f5f"
            },
            "error_y": {
             "color": "#2a3f5f"
            },
            "marker": {
             "line": {
              "color": "#E5ECF6",
              "width": 0.5
             },
             "pattern": {
              "fillmode": "overlay",
              "size": 10,
              "solidity": 0.2
             }
            },
            "type": "bar"
           }
          ],
          "barpolar": [
           {
            "marker": {
             "line": {
              "color": "#E5ECF6",
              "width": 0.5
             },
             "pattern": {
              "fillmode": "overlay",
              "size": 10,
              "solidity": 0.2
             }
            },
            "type": "barpolar"
           }
          ],
          "carpet": [
           {
            "aaxis": {
             "endlinecolor": "#2a3f5f",
             "gridcolor": "white",
             "linecolor": "white",
             "minorgridcolor": "white",
             "startlinecolor": "#2a3f5f"
            },
            "baxis": {
             "endlinecolor": "#2a3f5f",
             "gridcolor": "white",
             "linecolor": "white",
             "minorgridcolor": "white",
             "startlinecolor": "#2a3f5f"
            },
            "type": "carpet"
           }
          ],
          "choropleth": [
           {
            "colorbar": {
             "outlinewidth": 0,
             "ticks": ""
            },
            "type": "choropleth"
           }
          ],
          "contour": [
           {
            "colorbar": {
             "outlinewidth": 0,
             "ticks": ""
            },
            "colorscale": [
             [
              0,
              "#0d0887"
             ],
             [
              0.1111111111111111,
              "#46039f"
             ],
             [
              0.2222222222222222,
              "#7201a8"
             ],
             [
              0.3333333333333333,
              "#9c179e"
             ],
             [
              0.4444444444444444,
              "#bd3786"
             ],
             [
              0.5555555555555556,
              "#d8576b"
             ],
             [
              0.6666666666666666,
              "#ed7953"
             ],
             [
              0.7777777777777778,
              "#fb9f3a"
             ],
             [
              0.8888888888888888,
              "#fdca26"
             ],
             [
              1,
              "#f0f921"
             ]
            ],
            "type": "contour"
           }
          ],
          "contourcarpet": [
           {
            "colorbar": {
             "outlinewidth": 0,
             "ticks": ""
            },
            "type": "contourcarpet"
           }
          ],
          "heatmap": [
           {
            "colorbar": {
             "outlinewidth": 0,
             "ticks": ""
            },
            "colorscale": [
             [
              0,
              "#0d0887"
             ],
             [
              0.1111111111111111,
              "#46039f"
             ],
             [
              0.2222222222222222,
              "#7201a8"
             ],
             [
              0.3333333333333333,
              "#9c179e"
             ],
             [
              0.4444444444444444,
              "#bd3786"
             ],
             [
              0.5555555555555556,
              "#d8576b"
             ],
             [
              0.6666666666666666,
              "#ed7953"
             ],
             [
              0.7777777777777778,
              "#fb9f3a"
             ],
             [
              0.8888888888888888,
              "#fdca26"
             ],
             [
              1,
              "#f0f921"
             ]
            ],
            "type": "heatmap"
           }
          ],
          "heatmapgl": [
           {
            "colorbar": {
             "outlinewidth": 0,
             "ticks": ""
            },
            "colorscale": [
             [
              0,
              "#0d0887"
             ],
             [
              0.1111111111111111,
              "#46039f"
             ],
             [
              0.2222222222222222,
              "#7201a8"
             ],
             [
              0.3333333333333333,
              "#9c179e"
             ],
             [
              0.4444444444444444,
              "#bd3786"
             ],
             [
              0.5555555555555556,
              "#d8576b"
             ],
             [
              0.6666666666666666,
              "#ed7953"
             ],
             [
              0.7777777777777778,
              "#fb9f3a"
             ],
             [
              0.8888888888888888,
              "#fdca26"
             ],
             [
              1,
              "#f0f921"
             ]
            ],
            "type": "heatmapgl"
           }
          ],
          "histogram": [
           {
            "marker": {
             "pattern": {
              "fillmode": "overlay",
              "size": 10,
              "solidity": 0.2
             }
            },
            "type": "histogram"
           }
          ],
          "histogram2d": [
           {
            "colorbar": {
             "outlinewidth": 0,
             "ticks": ""
            },
            "colorscale": [
             [
              0,
              "#0d0887"
             ],
             [
              0.1111111111111111,
              "#46039f"
             ],
             [
              0.2222222222222222,
              "#7201a8"
             ],
             [
              0.3333333333333333,
              "#9c179e"
             ],
             [
              0.4444444444444444,
              "#bd3786"
             ],
             [
              0.5555555555555556,
              "#d8576b"
             ],
             [
              0.6666666666666666,
              "#ed7953"
             ],
             [
              0.7777777777777778,
              "#fb9f3a"
             ],
             [
              0.8888888888888888,
              "#fdca26"
             ],
             [
              1,
              "#f0f921"
             ]
            ],
            "type": "histogram2d"
           }
          ],
          "histogram2dcontour": [
           {
            "colorbar": {
             "outlinewidth": 0,
             "ticks": ""
            },
            "colorscale": [
             [
              0,
              "#0d0887"
             ],
             [
              0.1111111111111111,
              "#46039f"
             ],
             [
              0.2222222222222222,
              "#7201a8"
             ],
             [
              0.3333333333333333,
              "#9c179e"
             ],
             [
              0.4444444444444444,
              "#bd3786"
             ],
             [
              0.5555555555555556,
              "#d8576b"
             ],
             [
              0.6666666666666666,
              "#ed7953"
             ],
             [
              0.7777777777777778,
              "#fb9f3a"
             ],
             [
              0.8888888888888888,
              "#fdca26"
             ],
             [
              1,
              "#f0f921"
             ]
            ],
            "type": "histogram2dcontour"
           }
          ],
          "mesh3d": [
           {
            "colorbar": {
             "outlinewidth": 0,
             "ticks": ""
            },
            "type": "mesh3d"
           }
          ],
          "parcoords": [
           {
            "line": {
             "colorbar": {
              "outlinewidth": 0,
              "ticks": ""
             }
            },
            "type": "parcoords"
           }
          ],
          "pie": [
           {
            "automargin": true,
            "type": "pie"
           }
          ],
          "scatter": [
           {
            "fillpattern": {
             "fillmode": "overlay",
             "size": 10,
             "solidity": 0.2
            },
            "type": "scatter"
           }
          ],
          "scatter3d": [
           {
            "line": {
             "colorbar": {
              "outlinewidth": 0,
              "ticks": ""
             }
            },
            "marker": {
             "colorbar": {
              "outlinewidth": 0,
              "ticks": ""
             }
            },
            "type": "scatter3d"
           }
          ],
          "scattercarpet": [
           {
            "marker": {
             "colorbar": {
              "outlinewidth": 0,
              "ticks": ""
             }
            },
            "type": "scattercarpet"
           }
          ],
          "scattergeo": [
           {
            "marker": {
             "colorbar": {
              "outlinewidth": 0,
              "ticks": ""
             }
            },
            "type": "scattergeo"
           }
          ],
          "scattergl": [
           {
            "marker": {
             "colorbar": {
              "outlinewidth": 0,
              "ticks": ""
             }
            },
            "type": "scattergl"
           }
          ],
          "scattermapbox": [
           {
            "marker": {
             "colorbar": {
              "outlinewidth": 0,
              "ticks": ""
             }
            },
            "type": "scattermapbox"
           }
          ],
          "scatterpolar": [
           {
            "marker": {
             "colorbar": {
              "outlinewidth": 0,
              "ticks": ""
             }
            },
            "type": "scatterpolar"
           }
          ],
          "scatterpolargl": [
           {
            "marker": {
             "colorbar": {
              "outlinewidth": 0,
              "ticks": ""
             }
            },
            "type": "scatterpolargl"
           }
          ],
          "scatterternary": [
           {
            "marker": {
             "colorbar": {
              "outlinewidth": 0,
              "ticks": ""
             }
            },
            "type": "scatterternary"
           }
          ],
          "surface": [
           {
            "colorbar": {
             "outlinewidth": 0,
             "ticks": ""
            },
            "colorscale": [
             [
              0,
              "#0d0887"
             ],
             [
              0.1111111111111111,
              "#46039f"
             ],
             [
              0.2222222222222222,
              "#7201a8"
             ],
             [
              0.3333333333333333,
              "#9c179e"
             ],
             [
              0.4444444444444444,
              "#bd3786"
             ],
             [
              0.5555555555555556,
              "#d8576b"
             ],
             [
              0.6666666666666666,
              "#ed7953"
             ],
             [
              0.7777777777777778,
              "#fb9f3a"
             ],
             [
              0.8888888888888888,
              "#fdca26"
             ],
             [
              1,
              "#f0f921"
             ]
            ],
            "type": "surface"
           }
          ],
          "table": [
           {
            "cells": {
             "fill": {
              "color": "#EBF0F8"
             },
             "line": {
              "color": "white"
             }
            },
            "header": {
             "fill": {
              "color": "#C8D4E3"
             },
             "line": {
              "color": "white"
             }
            },
            "type": "table"
           }
          ]
         },
         "layout": {
          "annotationdefaults": {
           "arrowcolor": "#2a3f5f",
           "arrowhead": 0,
           "arrowwidth": 1
          },
          "autotypenumbers": "strict",
          "coloraxis": {
           "colorbar": {
            "outlinewidth": 0,
            "ticks": ""
           }
          },
          "colorscale": {
           "diverging": [
            [
             0,
             "#8e0152"
            ],
            [
             0.1,
             "#c51b7d"
            ],
            [
             0.2,
             "#de77ae"
            ],
            [
             0.3,
             "#f1b6da"
            ],
            [
             0.4,
             "#fde0ef"
            ],
            [
             0.5,
             "#f7f7f7"
            ],
            [
             0.6,
             "#e6f5d0"
            ],
            [
             0.7,
             "#b8e186"
            ],
            [
             0.8,
             "#7fbc41"
            ],
            [
             0.9,
             "#4d9221"
            ],
            [
             1,
             "#276419"
            ]
           ],
           "sequential": [
            [
             0,
             "#0d0887"
            ],
            [
             0.1111111111111111,
             "#46039f"
            ],
            [
             0.2222222222222222,
             "#7201a8"
            ],
            [
             0.3333333333333333,
             "#9c179e"
            ],
            [
             0.4444444444444444,
             "#bd3786"
            ],
            [
             0.5555555555555556,
             "#d8576b"
            ],
            [
             0.6666666666666666,
             "#ed7953"
            ],
            [
             0.7777777777777778,
             "#fb9f3a"
            ],
            [
             0.8888888888888888,
             "#fdca26"
            ],
            [
             1,
             "#f0f921"
            ]
           ],
           "sequentialminus": [
            [
             0,
             "#0d0887"
            ],
            [
             0.1111111111111111,
             "#46039f"
            ],
            [
             0.2222222222222222,
             "#7201a8"
            ],
            [
             0.3333333333333333,
             "#9c179e"
            ],
            [
             0.4444444444444444,
             "#bd3786"
            ],
            [
             0.5555555555555556,
             "#d8576b"
            ],
            [
             0.6666666666666666,
             "#ed7953"
            ],
            [
             0.7777777777777778,
             "#fb9f3a"
            ],
            [
             0.8888888888888888,
             "#fdca26"
            ],
            [
             1,
             "#f0f921"
            ]
           ]
          },
          "colorway": [
           "#636efa",
           "#EF553B",
           "#00cc96",
           "#ab63fa",
           "#FFA15A",
           "#19d3f3",
           "#FF6692",
           "#B6E880",
           "#FF97FF",
           "#FECB52"
          ],
          "font": {
           "color": "#2a3f5f"
          },
          "geo": {
           "bgcolor": "white",
           "lakecolor": "white",
           "landcolor": "#E5ECF6",
           "showlakes": true,
           "showland": true,
           "subunitcolor": "white"
          },
          "hoverlabel": {
           "align": "left"
          },
          "hovermode": "closest",
          "mapbox": {
           "style": "light"
          },
          "paper_bgcolor": "white",
          "plot_bgcolor": "#E5ECF6",
          "polar": {
           "angularaxis": {
            "gridcolor": "white",
            "linecolor": "white",
            "ticks": ""
           },
           "bgcolor": "#E5ECF6",
           "radialaxis": {
            "gridcolor": "white",
            "linecolor": "white",
            "ticks": ""
           }
          },
          "scene": {
           "xaxis": {
            "backgroundcolor": "#E5ECF6",
            "gridcolor": "white",
            "gridwidth": 2,
            "linecolor": "white",
            "showbackground": true,
            "ticks": "",
            "zerolinecolor": "white"
           },
           "yaxis": {
            "backgroundcolor": "#E5ECF6",
            "gridcolor": "white",
            "gridwidth": 2,
            "linecolor": "white",
            "showbackground": true,
            "ticks": "",
            "zerolinecolor": "white"
           },
           "zaxis": {
            "backgroundcolor": "#E5ECF6",
            "gridcolor": "white",
            "gridwidth": 2,
            "linecolor": "white",
            "showbackground": true,
            "ticks": "",
            "zerolinecolor": "white"
           }
          },
          "shapedefaults": {
           "line": {
            "color": "#2a3f5f"
           }
          },
          "ternary": {
           "aaxis": {
            "gridcolor": "white",
            "linecolor": "white",
            "ticks": ""
           },
           "baxis": {
            "gridcolor": "white",
            "linecolor": "white",
            "ticks": ""
           },
           "bgcolor": "#E5ECF6",
           "caxis": {
            "gridcolor": "white",
            "linecolor": "white",
            "ticks": ""
           }
          },
          "title": {
           "x": 0.05
          },
          "xaxis": {
           "automargin": true,
           "gridcolor": "white",
           "linecolor": "white",
           "ticks": "",
           "title": {
            "standoff": 15
           },
           "zerolinecolor": "white",
           "zerolinewidth": 2
          },
          "yaxis": {
           "automargin": true,
           "gridcolor": "white",
           "linecolor": "white",
           "ticks": "",
           "title": {
            "standoff": 15
           },
           "zerolinecolor": "white",
           "zerolinewidth": 2
          }
         }
        },
        "title": {
         "font": {
          "color": "#4D5663"
         }
        },
        "xaxis": {
         "gridcolor": "#E1E5ED",
         "showgrid": true,
         "tickfont": {
          "color": "#4D5663"
         },
         "title": {
          "font": {
           "color": "#4D5663"
          },
          "text": ""
         },
         "zerolinecolor": "#E1E5ED"
        },
        "yaxis": {
         "gridcolor": "#E1E5ED",
         "showgrid": true,
         "tickfont": {
          "color": "#4D5663"
         },
         "title": {
          "font": {
           "color": "#4D5663"
          },
          "text": ""
         },
         "zerolinecolor": "#E1E5ED"
        }
       }
      },
      "text/html": [
       "<div>                            <div id=\"9dd5a312-7e7a-47dc-80a2-e7fb3be17d4d\" class=\"plotly-graph-div\" style=\"height:525px; width:100%;\"></div>            <script type=\"text/javascript\">                require([\"plotly\"], function(Plotly) {                    window.PLOTLYENV=window.PLOTLYENV || {};\n",
       "                    window.PLOTLYENV.BASE_URL='https://plotly.com';                                    if (document.getElementById(\"9dd5a312-7e7a-47dc-80a2-e7fb3be17d4d\")) {                    Plotly.newPlot(                        \"9dd5a312-7e7a-47dc-80a2-e7fb3be17d4d\",                        [{\"histfunc\":\"count\",\"histnorm\":\"\",\"marker\":{\"color\":\"rgba(255, 153, 51, 1.0)\",\"line\":{\"color\":\"#4D5663\",\"width\":1.3}},\"name\":\"A\",\"nbinsx\":50,\"opacity\":0.8,\"orientation\":\"v\",\"x\":[-0.40615102691201077,-0.47999536952712385,-0.731589452209614,0.5879553428621914,-1.8568953718148897,0.9852963397699704,-0.4565079483975351,0.8985744483888078,-1.880550197114006,-2.495067192414269,0.24318773794361037,-2.278949369698818,-0.5490311250307648,0.14532734122867813,0.16276002203759868,-1.0591320920484073,0.05372109359972695,0.2035258413077142,-2.4564801144392163,0.006562014766148572,1.8299109338952464,-0.9675701363179834,1.0541841654244393,0.20884013344601376,-1.3891116084425656,0.27161097959040503,2.1283430566163135,-0.22494485238235143,-0.09599443616592065,-0.47463986288576715,-1.7001685826280957,-1.339622451274522,0.14880307684214328,-1.502406867092294,0.6697628491897455,1.6736896598940452,-1.1242305900000233,1.2716030457108993,-0.020503495668329225,-0.6004282275431292,-1.610798298038356,-0.7126845047666951,-0.25276036273175184,-0.31036598996075493,0.27657442247611386,0.36475971678819463,-0.3032001827072675,0.28120037852816376,-1.057923800745797,-0.7299540132790762,-1.0364219628836993,2.4916267759664805,1.1629521913280154,2.0054327257594626,-0.23891835735830366,-0.08667481619810505,0.1821673126387374,-0.9087506411647428,-0.2175223804697042,1.0366653428718404,-1.1387376153306084,-1.3134795663116043,-0.3109333372518202,-0.11731364062957415,-0.10397752332154095,0.17357286910884961,1.125123233663803,-0.18371208575837503,0.7475189213297856,-1.8732934204335845,0.3349278560198267,1.626356126253646,0.04965422963422056,-0.4617720171349,0.25881350378239626,-0.6898896998105463,0.7647345988279457,0.44480407531461874,0.09985660770502092,0.1461906720821347,0.04340642890250446,-0.10569764171165204,-2.5186919527957294,0.402553363843015,-1.1885416932522634,1.7141212243739197,0.6790642180576574,1.1679009178651383,-1.0087877679657051,-0.19813583121524153,0.9851166891438866,-0.0118683102180748,-0.44242679362729026,-0.05957237410520343,-0.8011467122356221,-0.27444702043341096,-1.8845227330028054,0.663868967586431,-0.29563990016503844,0.018384161821900682],\"type\":\"histogram\"},{\"histfunc\":\"count\",\"histnorm\":\"\",\"marker\":{\"color\":\"rgba(55, 128, 191, 1.0)\",\"line\":{\"color\":\"#4D5663\",\"width\":1.3}},\"name\":\"B\",\"nbinsx\":50,\"opacity\":0.8,\"orientation\":\"v\",\"x\":[0.33469028609462786,-0.4747720494047677,-0.8910492574030071,-0.6562947499843159,1.0975595283397657,-0.08492187787388085,0.834157942765214,0.8261256825901863,0.4632193771172654,0.2118406780817216,-0.18660521525359663,-0.8772109585438541,0.9001431742247843,0.43622225877058113,0.3505049904764363,0.9315658697409118,-1.946983553008016,0.7644568957313809,-0.12255099035106522,0.18500821089394304,0.6312321003475739,-1.3583124190159115,0.6879322926800804,-0.340566305221331,1.10044477146272,-1.0455648116827128,0.3952180495751735,0.6896877211682053,-0.5155403800669799,1.4785314007970745,-1.0649728817509585,1.7852829028741184,0.8570954275978809,2.173712498989926,-1.0582631927924049,0.4985565174744666,-0.4473289358096288,0.4025239189309213,-0.15564462003233068,0.5381832495099379,-1.2214341198324867,-0.31187895934241877,1.024480489586102,-0.9575439080616085,1.2319230093188827,0.8433090402248943,-0.1743727135083682,-0.516081714378001,-0.05238583944339358,-0.09322087115568396,-1.3402000293873717,-2.349049257706284,-1.2853922081306273,-0.41339815261901414,-0.7700945857764542,1.6608970953042417,0.6176112005319743,-0.8202041643220608,-1.7363664986014162,0.12947655833098984,-1.2343545924493855,-0.3730297008989098,-0.3096507505421561,-0.9790966487903674,0.34996075464019377,2.380102070380568,-0.2440263432978862,0.7681940478056901,1.3570398145585194,-0.20157140820039438,0.2877302953363688,0.16851948185688861,-0.5644038341545653,0.9231079850639387,-0.944506176873885,1.054446152533765,-0.7207904072238942,0.4365114891422287,2.338324940574144,1.0257780537771517,-1.1618978051757043,-1.6327091540232865,0.9509386746206595,1.0231396871331329,0.3118062700792768,-2.4097800983317152,0.7571883722250382,0.4131747981644347,-1.455075148971204,-0.21915229540259684,0.4578621056720926,0.16564240034126468,-1.237646345341587,-1.8175037223783308,-0.7467476602610285,-0.08434524550962558,-1.9690707808886958,-1.160972757919005,-0.23118107997338297,-0.6316562531717944],\"type\":\"histogram\"},{\"histfunc\":\"count\",\"histnorm\":\"\",\"marker\":{\"color\":\"rgba(50, 171, 96, 1.0)\",\"line\":{\"color\":\"#4D5663\",\"width\":1.3}},\"name\":\"C\",\"nbinsx\":50,\"opacity\":0.8,\"orientation\":\"v\",\"x\":[1.1737362333207728,1.5562612868774497,-0.014477400798201173,-0.9949081729820747,0.9357459497680499,0.12646190131838267,-0.3954971678824292,0.3430957446539166,0.9237407892776045,-0.09657627920969948,-1.8243055412777374,0.051993637559908906,-0.2727456870221832,-0.986463898356433,0.08565836080338578,0.2595033891481982,-0.5252644450116665,-1.0606034120376318,-1.0531339863226663,2.124426303973373,0.5386756257920999,-0.007511511275262967,1.1119203435398002,-0.23992367881368432,-1.6306447669964903,3.06700850806012,-1.5686351092233557,-0.3303055960327883,-2.6799375854206735,-0.059681128683770214,2.091684394948725,-0.8967544340093194,1.09190837290732,0.6071660132691131,-0.8682215185106045,-0.5929683036738767,1.1858783986893462,0.4364224172106424,-0.5607058909568162,2.2031077947680973,-2.0009293881751598,0.7424893040701714,0.8393707588892446,-0.816004938619743,-1.4229672866936136,0.16767953911777858,-0.3836304305107007,-0.6530503240203627,-0.4032092701394886,0.49550149133083987,-1.2219788650504726,-2.01711399525827,-1.3501399942480863,-0.3340565386962628,1.6208031740714461,-0.81865148507276,-0.7007388233092041,0.5136785611995491,0.35171848335376976,0.9435753712354081,0.27369781840798585,-1.9524180893392744,-0.8624643631571148,0.8430570654922642,2.1323244795491156,-0.6288100804146632,1.3589889331060612,-0.557235992767454,-1.3792429504800554,0.130518031523595,-0.9227967429596617,0.6573125910979403,-0.23994717138183025,0.6626844035939178,0.7741461543370848,0.48579671998018553,-1.3130302860341112,-2.3704585045470785,-1.3160142246509,0.04462568929934854,-1.9574264167929238,-0.7695788548393496,-0.9140157180522013,-1.5892123568347112,0.6936677916768622,1.1210373544275518,0.7961678326691228,-0.8391943240960812,0.24015769746489576,-0.5508983796531722,1.12627939397085,0.9029350084574046,-2.432031096989011,0.7657320319014022,-0.8199738797904056,0.936354598692254,1.4219270790134204,1.3436035732956615,1.068728347985142,-0.1274801263802885],\"type\":\"histogram\"},{\"histfunc\":\"count\",\"histnorm\":\"\",\"marker\":{\"color\":\"rgba(128, 0, 128, 1.0)\",\"line\":{\"color\":\"#4D5663\",\"width\":1.3}},\"name\":\"D\",\"nbinsx\":50,\"opacity\":0.8,\"orientation\":\"v\",\"x\":[1.1721929351470735,-0.22550678449579425,-0.23122702155824176,0.6563333186487523,0.9213870194866701,-0.940057159600806,1.0628180142729196,-0.7499896102609849,0.30784931824423095,2.266399430883198,-0.44880797942819267,1.1422936229435676,0.09103811544473554,2.069523663590396,1.2508805902953954,-0.3047131602462184,0.9197394716886824,1.0057324663857043,-0.4333404738483218,1.1010416821236282,0.20656145868170267,0.26233863218323333,1.5060412455601153,-0.13402585348303264,-0.32697483748177253,1.079837128902801,0.004728406171932221,-0.6226718331405126,-0.4490701297158038,0.15225931142287583,0.9153052362338638,-0.6622649748463805,-0.054998896163471284,-1.845316075636726,0.01180849735745713,0.6209732383074823,-2.1112426036073337,-0.0821528976491328,-1.0224783410842313,0.4878918372140083,0.4671284655613165,-1.5994765830828284,-0.6725580152001758,0.44366080628539195,0.07415873128838171,-1.3249369973109828,1.1551445342220152,1.7332337195085488,-0.3657857984091364,-0.2873417734161192,-0.9709572050937714,-0.742372297830512,0.3794411738916534,0.2762755085921835,0.4148111210160986,1.004193222747808,1.735974995400932,0.17378939529727316,-0.39644398612996373,-0.2213175939757858,2.028025374229803,0.8741309031602762,-0.6177222409549274,-0.46832601837327215,0.8383996980225872,-0.13213402794172005,-0.7856771366004357,0.3907141014040696,0.7893113881559564,0.6582413953787006,-1.016539631599919,-0.7453435716771191,-0.020939124576196497,0.7032878546039067,-0.17619490382371217,-0.2779787776331174,-0.880442853112146,0.09774250949862644,0.6245392330085496,1.7064080979818954,1.3613379387667601,0.6412515175675733,0.1519953216329928,0.031348203336145526,-0.31098136014267036,0.7875720539862844,0.5889390839956123,0.4337578296750308,0.7171693251896951,-1.3440293593443675,-0.6736381577049158,-0.16567637011293324,0.8087465848833933,-0.45027639803246394,0.6994790917892251,0.5714910202749229,-0.32518777808721416,-0.8740087859949409,1.2355915780078561,0.5935130920319255],\"type\":\"histogram\"}],                        {\"barmode\":\"overlay\",\"legend\":{\"bgcolor\":\"#F5F6F9\",\"font\":{\"color\":\"#4D5663\"}},\"paper_bgcolor\":\"#F5F6F9\",\"plot_bgcolor\":\"#F5F6F9\",\"template\":{\"data\":{\"barpolar\":[{\"marker\":{\"line\":{\"color\":\"#E5ECF6\",\"width\":0.5},\"pattern\":{\"fillmode\":\"overlay\",\"size\":10,\"solidity\":0.2}},\"type\":\"barpolar\"}],\"bar\":[{\"error_x\":{\"color\":\"#2a3f5f\"},\"error_y\":{\"color\":\"#2a3f5f\"},\"marker\":{\"line\":{\"color\":\"#E5ECF6\",\"width\":0.5},\"pattern\":{\"fillmode\":\"overlay\",\"size\":10,\"solidity\":0.2}},\"type\":\"bar\"}],\"carpet\":[{\"aaxis\":{\"endlinecolor\":\"#2a3f5f\",\"gridcolor\":\"white\",\"linecolor\":\"white\",\"minorgridcolor\":\"white\",\"startlinecolor\":\"#2a3f5f\"},\"baxis\":{\"endlinecolor\":\"#2a3f5f\",\"gridcolor\":\"white\",\"linecolor\":\"white\",\"minorgridcolor\":\"white\",\"startlinecolor\":\"#2a3f5f\"},\"type\":\"carpet\"}],\"choropleth\":[{\"colorbar\":{\"outlinewidth\":0,\"ticks\":\"\"},\"type\":\"choropleth\"}],\"contourcarpet\":[{\"colorbar\":{\"outlinewidth\":0,\"ticks\":\"\"},\"type\":\"contourcarpet\"}],\"contour\":[{\"colorbar\":{\"outlinewidth\":0,\"ticks\":\"\"},\"colorscale\":[[0.0,\"#0d0887\"],[0.1111111111111111,\"#46039f\"],[0.2222222222222222,\"#7201a8\"],[0.3333333333333333,\"#9c179e\"],[0.4444444444444444,\"#bd3786\"],[0.5555555555555556,\"#d8576b\"],[0.6666666666666666,\"#ed7953\"],[0.7777777777777778,\"#fb9f3a\"],[0.8888888888888888,\"#fdca26\"],[1.0,\"#f0f921\"]],\"type\":\"contour\"}],\"heatmapgl\":[{\"colorbar\":{\"outlinewidth\":0,\"ticks\":\"\"},\"colorscale\":[[0.0,\"#0d0887\"],[0.1111111111111111,\"#46039f\"],[0.2222222222222222,\"#7201a8\"],[0.3333333333333333,\"#9c179e\"],[0.4444444444444444,\"#bd3786\"],[0.5555555555555556,\"#d8576b\"],[0.6666666666666666,\"#ed7953\"],[0.7777777777777778,\"#fb9f3a\"],[0.8888888888888888,\"#fdca26\"],[1.0,\"#f0f921\"]],\"type\":\"heatmapgl\"}],\"heatmap\":[{\"colorbar\":{\"outlinewidth\":0,\"ticks\":\"\"},\"colorscale\":[[0.0,\"#0d0887\"],[0.1111111111111111,\"#46039f\"],[0.2222222222222222,\"#7201a8\"],[0.3333333333333333,\"#9c179e\"],[0.4444444444444444,\"#bd3786\"],[0.5555555555555556,\"#d8576b\"],[0.6666666666666666,\"#ed7953\"],[0.7777777777777778,\"#fb9f3a\"],[0.8888888888888888,\"#fdca26\"],[1.0,\"#f0f921\"]],\"type\":\"heatmap\"}],\"histogram2dcontour\":[{\"colorbar\":{\"outlinewidth\":0,\"ticks\":\"\"},\"colorscale\":[[0.0,\"#0d0887\"],[0.1111111111111111,\"#46039f\"],[0.2222222222222222,\"#7201a8\"],[0.3333333333333333,\"#9c179e\"],[0.4444444444444444,\"#bd3786\"],[0.5555555555555556,\"#d8576b\"],[0.6666666666666666,\"#ed7953\"],[0.7777777777777778,\"#fb9f3a\"],[0.8888888888888888,\"#fdca26\"],[1.0,\"#f0f921\"]],\"type\":\"histogram2dcontour\"}],\"histogram2d\":[{\"colorbar\":{\"outlinewidth\":0,\"ticks\":\"\"},\"colorscale\":[[0.0,\"#0d0887\"],[0.1111111111111111,\"#46039f\"],[0.2222222222222222,\"#7201a8\"],[0.3333333333333333,\"#9c179e\"],[0.4444444444444444,\"#bd3786\"],[0.5555555555555556,\"#d8576b\"],[0.6666666666666666,\"#ed7953\"],[0.7777777777777778,\"#fb9f3a\"],[0.8888888888888888,\"#fdca26\"],[1.0,\"#f0f921\"]],\"type\":\"histogram2d\"}],\"histogram\":[{\"marker\":{\"pattern\":{\"fillmode\":\"overlay\",\"size\":10,\"solidity\":0.2}},\"type\":\"histogram\"}],\"mesh3d\":[{\"colorbar\":{\"outlinewidth\":0,\"ticks\":\"\"},\"type\":\"mesh3d\"}],\"parcoords\":[{\"line\":{\"colorbar\":{\"outlinewidth\":0,\"ticks\":\"\"}},\"type\":\"parcoords\"}],\"pie\":[{\"automargin\":true,\"type\":\"pie\"}],\"scatter3d\":[{\"line\":{\"colorbar\":{\"outlinewidth\":0,\"ticks\":\"\"}},\"marker\":{\"colorbar\":{\"outlinewidth\":0,\"ticks\":\"\"}},\"type\":\"scatter3d\"}],\"scattercarpet\":[{\"marker\":{\"colorbar\":{\"outlinewidth\":0,\"ticks\":\"\"}},\"type\":\"scattercarpet\"}],\"scattergeo\":[{\"marker\":{\"colorbar\":{\"outlinewidth\":0,\"ticks\":\"\"}},\"type\":\"scattergeo\"}],\"scattergl\":[{\"marker\":{\"colorbar\":{\"outlinewidth\":0,\"ticks\":\"\"}},\"type\":\"scattergl\"}],\"scattermapbox\":[{\"marker\":{\"colorbar\":{\"outlinewidth\":0,\"ticks\":\"\"}},\"type\":\"scattermapbox\"}],\"scatterpolargl\":[{\"marker\":{\"colorbar\":{\"outlinewidth\":0,\"ticks\":\"\"}},\"type\":\"scatterpolargl\"}],\"scatterpolar\":[{\"marker\":{\"colorbar\":{\"outlinewidth\":0,\"ticks\":\"\"}},\"type\":\"scatterpolar\"}],\"scatter\":[{\"fillpattern\":{\"fillmode\":\"overlay\",\"size\":10,\"solidity\":0.2},\"type\":\"scatter\"}],\"scatterternary\":[{\"marker\":{\"colorbar\":{\"outlinewidth\":0,\"ticks\":\"\"}},\"type\":\"scatterternary\"}],\"surface\":[{\"colorbar\":{\"outlinewidth\":0,\"ticks\":\"\"},\"colorscale\":[[0.0,\"#0d0887\"],[0.1111111111111111,\"#46039f\"],[0.2222222222222222,\"#7201a8\"],[0.3333333333333333,\"#9c179e\"],[0.4444444444444444,\"#bd3786\"],[0.5555555555555556,\"#d8576b\"],[0.6666666666666666,\"#ed7953\"],[0.7777777777777778,\"#fb9f3a\"],[0.8888888888888888,\"#fdca26\"],[1.0,\"#f0f921\"]],\"type\":\"surface\"}],\"table\":[{\"cells\":{\"fill\":{\"color\":\"#EBF0F8\"},\"line\":{\"color\":\"white\"}},\"header\":{\"fill\":{\"color\":\"#C8D4E3\"},\"line\":{\"color\":\"white\"}},\"type\":\"table\"}]},\"layout\":{\"annotationdefaults\":{\"arrowcolor\":\"#2a3f5f\",\"arrowhead\":0,\"arrowwidth\":1},\"autotypenumbers\":\"strict\",\"coloraxis\":{\"colorbar\":{\"outlinewidth\":0,\"ticks\":\"\"}},\"colorscale\":{\"diverging\":[[0,\"#8e0152\"],[0.1,\"#c51b7d\"],[0.2,\"#de77ae\"],[0.3,\"#f1b6da\"],[0.4,\"#fde0ef\"],[0.5,\"#f7f7f7\"],[0.6,\"#e6f5d0\"],[0.7,\"#b8e186\"],[0.8,\"#7fbc41\"],[0.9,\"#4d9221\"],[1,\"#276419\"]],\"sequential\":[[0.0,\"#0d0887\"],[0.1111111111111111,\"#46039f\"],[0.2222222222222222,\"#7201a8\"],[0.3333333333333333,\"#9c179e\"],[0.4444444444444444,\"#bd3786\"],[0.5555555555555556,\"#d8576b\"],[0.6666666666666666,\"#ed7953\"],[0.7777777777777778,\"#fb9f3a\"],[0.8888888888888888,\"#fdca26\"],[1.0,\"#f0f921\"]],\"sequentialminus\":[[0.0,\"#0d0887\"],[0.1111111111111111,\"#46039f\"],[0.2222222222222222,\"#7201a8\"],[0.3333333333333333,\"#9c179e\"],[0.4444444444444444,\"#bd3786\"],[0.5555555555555556,\"#d8576b\"],[0.6666666666666666,\"#ed7953\"],[0.7777777777777778,\"#fb9f3a\"],[0.8888888888888888,\"#fdca26\"],[1.0,\"#f0f921\"]]},\"colorway\":[\"#636efa\",\"#EF553B\",\"#00cc96\",\"#ab63fa\",\"#FFA15A\",\"#19d3f3\",\"#FF6692\",\"#B6E880\",\"#FF97FF\",\"#FECB52\"],\"font\":{\"color\":\"#2a3f5f\"},\"geo\":{\"bgcolor\":\"white\",\"lakecolor\":\"white\",\"landcolor\":\"#E5ECF6\",\"showlakes\":true,\"showland\":true,\"subunitcolor\":\"white\"},\"hoverlabel\":{\"align\":\"left\"},\"hovermode\":\"closest\",\"mapbox\":{\"style\":\"light\"},\"paper_bgcolor\":\"white\",\"plot_bgcolor\":\"#E5ECF6\",\"polar\":{\"angularaxis\":{\"gridcolor\":\"white\",\"linecolor\":\"white\",\"ticks\":\"\"},\"bgcolor\":\"#E5ECF6\",\"radialaxis\":{\"gridcolor\":\"white\",\"linecolor\":\"white\",\"ticks\":\"\"}},\"scene\":{\"xaxis\":{\"backgroundcolor\":\"#E5ECF6\",\"gridcolor\":\"white\",\"gridwidth\":2,\"linecolor\":\"white\",\"showbackground\":true,\"ticks\":\"\",\"zerolinecolor\":\"white\"},\"yaxis\":{\"backgroundcolor\":\"#E5ECF6\",\"gridcolor\":\"white\",\"gridwidth\":2,\"linecolor\":\"white\",\"showbackground\":true,\"ticks\":\"\",\"zerolinecolor\":\"white\"},\"zaxis\":{\"backgroundcolor\":\"#E5ECF6\",\"gridcolor\":\"white\",\"gridwidth\":2,\"linecolor\":\"white\",\"showbackground\":true,\"ticks\":\"\",\"zerolinecolor\":\"white\"}},\"shapedefaults\":{\"line\":{\"color\":\"#2a3f5f\"}},\"ternary\":{\"aaxis\":{\"gridcolor\":\"white\",\"linecolor\":\"white\",\"ticks\":\"\"},\"baxis\":{\"gridcolor\":\"white\",\"linecolor\":\"white\",\"ticks\":\"\"},\"bgcolor\":\"#E5ECF6\",\"caxis\":{\"gridcolor\":\"white\",\"linecolor\":\"white\",\"ticks\":\"\"}},\"title\":{\"x\":0.05},\"xaxis\":{\"automargin\":true,\"gridcolor\":\"white\",\"linecolor\":\"white\",\"ticks\":\"\",\"title\":{\"standoff\":15},\"zerolinecolor\":\"white\",\"zerolinewidth\":2},\"yaxis\":{\"automargin\":true,\"gridcolor\":\"white\",\"linecolor\":\"white\",\"ticks\":\"\",\"title\":{\"standoff\":15},\"zerolinecolor\":\"white\",\"zerolinewidth\":2}}},\"title\":{\"font\":{\"color\":\"#4D5663\"}},\"xaxis\":{\"gridcolor\":\"#E1E5ED\",\"showgrid\":true,\"tickfont\":{\"color\":\"#4D5663\"},\"title\":{\"font\":{\"color\":\"#4D5663\"},\"text\":\"\"},\"zerolinecolor\":\"#E1E5ED\"},\"yaxis\":{\"gridcolor\":\"#E1E5ED\",\"showgrid\":true,\"tickfont\":{\"color\":\"#4D5663\"},\"title\":{\"font\":{\"color\":\"#4D5663\"},\"text\":\"\"},\"zerolinecolor\":\"#E1E5ED\"}},                        {\"showLink\": true, \"linkText\": \"Export to plotly.com\", \"plotlyServerURL\": \"https://plotly.com\", \"responsive\": true}                    ).then(function(){\n",
       "                            \n",
       "var gd = document.getElementById('9dd5a312-7e7a-47dc-80a2-e7fb3be17d4d');\n",
       "var x = new MutationObserver(function (mutations, observer) {{\n",
       "        var display = window.getComputedStyle(gd).display;\n",
       "        if (!display || display === 'none') {{\n",
       "            console.log([gd, 'removed!']);\n",
       "            Plotly.purge(gd);\n",
       "            observer.disconnect();\n",
       "        }}\n",
       "}});\n",
       "\n",
       "// Listen for the removal of the full notebook cells\n",
       "var notebookContainer = gd.closest('#notebook-container');\n",
       "if (notebookContainer) {{\n",
       "    x.observe(notebookContainer, {childList: true});\n",
       "}}\n",
       "\n",
       "// Listen for the clearing of the current output cell\n",
       "var outputEl = gd.closest('.output');\n",
       "if (outputEl) {{\n",
       "    x.observe(outputEl, {childList: true});\n",
       "}}\n",
       "\n",
       "                        })                };                });            </script>        </div>"
      ]
     },
     "metadata": {},
     "output_type": "display_data"
    }
   ],
   "source": [
    "#histagram\n",
    "df.iplot(kind='hist', bins=50)"
   ]
  },
  {
   "cell_type": "code",
   "execution_count": 44,
   "id": "a914cea2",
   "metadata": {},
   "outputs": [
    {
     "name": "stderr",
     "output_type": "stream",
     "text": [
      "C:\\Users\\divya\\anaconda3\\lib\\site-packages\\cufflinks\\plotlytools.py:849: FutureWarning:\n",
      "\n",
      "The pandas.np module is deprecated and will be removed from pandas in a future version. Import numpy directly instead\n",
      "\n",
      "C:\\Users\\divya\\anaconda3\\lib\\site-packages\\cufflinks\\plotlytools.py:850: FutureWarning:\n",
      "\n",
      "The pandas.np module is deprecated and will be removed from pandas in a future version. Import numpy directly instead\n",
      "\n"
     ]
    },
    {
     "data": {
      "application/vnd.plotly.v1+json": {
       "config": {
        "linkText": "Export to plotly.com",
        "plotlyServerURL": "https://plotly.com",
        "showLink": true
       },
       "data": [
        {
         "line": {
          "color": "rgba(255, 153, 51, 1.0)",
          "dash": "solid",
          "shape": "linear",
          "width": 1.3
         },
         "mode": "lines",
         "name": "A",
         "text": "",
         "type": "scatter",
         "x": [
          0,
          1,
          2,
          3,
          4,
          5,
          6,
          7,
          8,
          9,
          10,
          11,
          12,
          13,
          14,
          15,
          16,
          17,
          18,
          19,
          20,
          21,
          22,
          23,
          24,
          25,
          26,
          27,
          28,
          29,
          30,
          31,
          32,
          33,
          34,
          35,
          36,
          37,
          38,
          39,
          40,
          41,
          42,
          43,
          44,
          45,
          46,
          47,
          48,
          49,
          50,
          51,
          52,
          53,
          54,
          55,
          56,
          57,
          58,
          59,
          60,
          61,
          62,
          63,
          64,
          65,
          66,
          67,
          68,
          69,
          70,
          71,
          72,
          73,
          74,
          75,
          76,
          77,
          78,
          79,
          80,
          81,
          82,
          83,
          84,
          85,
          86,
          87,
          88,
          89,
          90,
          91,
          92,
          93,
          94,
          95,
          96,
          97,
          98,
          99
         ],
         "y": [
          -0.40615102691201077,
          -0.47999536952712385,
          -0.731589452209614,
          0.5879553428621914,
          -1.8568953718148897,
          0.9852963397699704,
          -0.4565079483975351,
          0.8985744483888078,
          -1.880550197114006,
          -2.495067192414269,
          0.24318773794361037,
          -2.278949369698818,
          -0.5490311250307648,
          0.14532734122867813,
          0.16276002203759868,
          -1.0591320920484073,
          0.05372109359972695,
          0.2035258413077142,
          -2.4564801144392163,
          0.006562014766148572,
          1.8299109338952464,
          -0.9675701363179834,
          1.0541841654244393,
          0.20884013344601376,
          -1.3891116084425656,
          0.27161097959040503,
          2.1283430566163135,
          -0.22494485238235143,
          -0.09599443616592065,
          -0.47463986288576715,
          -1.7001685826280957,
          -1.339622451274522,
          0.14880307684214328,
          -1.502406867092294,
          0.6697628491897455,
          1.6736896598940452,
          -1.1242305900000233,
          1.2716030457108993,
          -0.020503495668329225,
          -0.6004282275431292,
          -1.610798298038356,
          -0.7126845047666951,
          -0.25276036273175184,
          -0.31036598996075493,
          0.27657442247611386,
          0.36475971678819463,
          -0.3032001827072675,
          0.28120037852816376,
          -1.057923800745797,
          -0.7299540132790762,
          -1.0364219628836993,
          2.4916267759664805,
          1.1629521913280154,
          2.0054327257594626,
          -0.23891835735830366,
          -0.08667481619810505,
          0.1821673126387374,
          -0.9087506411647428,
          -0.2175223804697042,
          1.0366653428718404,
          -1.1387376153306084,
          -1.3134795663116043,
          -0.3109333372518202,
          -0.11731364062957415,
          -0.10397752332154095,
          0.17357286910884961,
          1.125123233663803,
          -0.18371208575837503,
          0.7475189213297856,
          -1.8732934204335845,
          0.3349278560198267,
          1.626356126253646,
          0.04965422963422056,
          -0.4617720171349,
          0.25881350378239626,
          -0.6898896998105463,
          0.7647345988279457,
          0.44480407531461874,
          0.09985660770502092,
          0.1461906720821347,
          0.04340642890250446,
          -0.10569764171165204,
          -2.5186919527957294,
          0.402553363843015,
          -1.1885416932522634,
          1.7141212243739197,
          0.6790642180576574,
          1.1679009178651383,
          -1.0087877679657051,
          -0.19813583121524153,
          0.9851166891438866,
          -0.0118683102180748,
          -0.44242679362729026,
          -0.05957237410520343,
          -0.8011467122356221,
          -0.27444702043341096,
          -1.8845227330028054,
          0.663868967586431,
          -0.29563990016503844,
          0.018384161821900682
         ]
        },
        {
         "line": {
          "color": "rgba(55, 128, 191, 1.0)",
          "dash": "solid",
          "shape": "linear",
          "width": 1.3
         },
         "mode": "lines",
         "name": "B",
         "text": "",
         "type": "scatter",
         "x": [
          0,
          1,
          2,
          3,
          4,
          5,
          6,
          7,
          8,
          9,
          10,
          11,
          12,
          13,
          14,
          15,
          16,
          17,
          18,
          19,
          20,
          21,
          22,
          23,
          24,
          25,
          26,
          27,
          28,
          29,
          30,
          31,
          32,
          33,
          34,
          35,
          36,
          37,
          38,
          39,
          40,
          41,
          42,
          43,
          44,
          45,
          46,
          47,
          48,
          49,
          50,
          51,
          52,
          53,
          54,
          55,
          56,
          57,
          58,
          59,
          60,
          61,
          62,
          63,
          64,
          65,
          66,
          67,
          68,
          69,
          70,
          71,
          72,
          73,
          74,
          75,
          76,
          77,
          78,
          79,
          80,
          81,
          82,
          83,
          84,
          85,
          86,
          87,
          88,
          89,
          90,
          91,
          92,
          93,
          94,
          95,
          96,
          97,
          98,
          99
         ],
         "y": [
          0.33469028609462786,
          -0.4747720494047677,
          -0.8910492574030071,
          -0.6562947499843159,
          1.0975595283397657,
          -0.08492187787388085,
          0.834157942765214,
          0.8261256825901863,
          0.4632193771172654,
          0.2118406780817216,
          -0.18660521525359663,
          -0.8772109585438541,
          0.9001431742247843,
          0.43622225877058113,
          0.3505049904764363,
          0.9315658697409118,
          -1.946983553008016,
          0.7644568957313809,
          -0.12255099035106522,
          0.18500821089394304,
          0.6312321003475739,
          -1.3583124190159115,
          0.6879322926800804,
          -0.340566305221331,
          1.10044477146272,
          -1.0455648116827128,
          0.3952180495751735,
          0.6896877211682053,
          -0.5155403800669799,
          1.4785314007970745,
          -1.0649728817509585,
          1.7852829028741184,
          0.8570954275978809,
          2.173712498989926,
          -1.0582631927924049,
          0.4985565174744666,
          -0.4473289358096288,
          0.4025239189309213,
          -0.15564462003233068,
          0.5381832495099379,
          -1.2214341198324867,
          -0.31187895934241877,
          1.024480489586102,
          -0.9575439080616085,
          1.2319230093188827,
          0.8433090402248943,
          -0.1743727135083682,
          -0.516081714378001,
          -0.05238583944339358,
          -0.09322087115568396,
          -1.3402000293873717,
          -2.349049257706284,
          -1.2853922081306273,
          -0.41339815261901414,
          -0.7700945857764542,
          1.6608970953042417,
          0.6176112005319743,
          -0.8202041643220608,
          -1.7363664986014162,
          0.12947655833098984,
          -1.2343545924493855,
          -0.3730297008989098,
          -0.3096507505421561,
          -0.9790966487903674,
          0.34996075464019377,
          2.380102070380568,
          -0.2440263432978862,
          0.7681940478056901,
          1.3570398145585194,
          -0.20157140820039438,
          0.2877302953363688,
          0.16851948185688861,
          -0.5644038341545653,
          0.9231079850639387,
          -0.944506176873885,
          1.054446152533765,
          -0.7207904072238942,
          0.4365114891422287,
          2.338324940574144,
          1.0257780537771517,
          -1.1618978051757043,
          -1.6327091540232865,
          0.9509386746206595,
          1.0231396871331329,
          0.3118062700792768,
          -2.4097800983317152,
          0.7571883722250382,
          0.4131747981644347,
          -1.455075148971204,
          -0.21915229540259684,
          0.4578621056720926,
          0.16564240034126468,
          -1.237646345341587,
          -1.8175037223783308,
          -0.7467476602610285,
          -0.08434524550962558,
          -1.9690707808886958,
          -1.160972757919005,
          -0.23118107997338297,
          -0.6316562531717944
         ]
        },
        {
         "connectgaps": false,
         "fill": "tozeroy",
         "line": {
          "color": "green",
          "dash": "solid",
          "shape": "linear",
          "width": 0.5
         },
         "mode": "lines",
         "name": "Spread",
         "showlegend": false,
         "type": "scatter",
         "x": [
          0,
          1,
          2,
          3,
          4,
          5,
          6,
          7,
          8,
          9,
          10,
          11,
          12,
          13,
          14,
          15,
          16,
          17,
          18,
          19,
          20,
          21,
          22,
          23,
          24,
          25,
          26,
          27,
          28,
          29,
          30,
          31,
          32,
          33,
          34,
          35,
          36,
          37,
          38,
          39,
          40,
          41,
          42,
          43,
          44,
          45,
          46,
          47,
          48,
          49,
          50,
          51,
          52,
          53,
          54,
          55,
          56,
          57,
          58,
          59,
          60,
          61,
          62,
          63,
          64,
          65,
          66,
          67,
          68,
          69,
          70,
          71,
          72,
          73,
          74,
          75,
          76,
          77,
          78,
          79,
          80,
          81,
          82,
          83,
          84,
          85,
          86,
          87,
          88,
          89,
          90,
          91,
          92,
          93,
          94,
          95,
          96,
          97,
          98,
          99
         ],
         "xaxis": "x2",
         "y": [
          "",
          "",
          0.1594598051933931,
          1.2442500928465074,
          "",
          1.0702182176438513,
          "",
          0.07244876579862158,
          "",
          "",
          0.429792953197207,
          "",
          "",
          "",
          "",
          "",
          2.0007046466077427,
          "",
          "",
          "",
          1.1986788335476724,
          0.3907422826979281,
          0.3662518727443589,
          0.5494064386673447,
          "",
          1.317175791273118,
          1.73312500704114,
          "",
          0.41954594390105926,
          "",
          "",
          "",
          "",
          "",
          1.7280260419821505,
          1.1751331424195786,
          "",
          0.869079126779978,
          0.13514112436400144,
          "",
          "",
          "",
          "",
          0.6471779181008536,
          "",
          "",
          "",
          0.7972820929061648,
          "",
          "",
          0.30377806650367245,
          4.840676033672764,
          2.4483443994586427,
          2.418830878378477,
          0.5311762284181505,
          "",
          "",
          "",
          1.518844118131712,
          0.9071887845408506,
          0.09561697711877715,
          "",
          "",
          0.8617830081607932,
          "",
          "",
          1.3691495769616893,
          "",
          "",
          "",
          0.04719756068345793,
          1.4578366443967572,
          0.6140580637887858,
          "",
          1.2033196806562814,
          "",
          1.48552500605184,
          0.008292586172390037,
          "",
          "",
          1.2053042340782087,
          1.5270115123116346,
          "",
          "",
          "",
          4.123901322705635,
          "",
          0.7547261197007036,
          0.4462873810054988,
          0.02101646418735531,
          0.527254583471794,
          "",
          0.7952195517142966,
          1.7579313482731274,
          "",
          "",
          0.08454804788589043,
          1.8248417255054359,
          "",
          0.6500404149936951
         ],
         "yaxis": "y2"
        },
        {
         "connectgaps": false,
         "fill": "tozeroy",
         "line": {
          "color": "red",
          "dash": "solid",
          "shape": "linear",
          "width": 0.5
         },
         "mode": "lines",
         "name": "Spread",
         "showlegend": false,
         "type": "scatter",
         "x": [
          0,
          1,
          2,
          3,
          4,
          5,
          6,
          7,
          8,
          9,
          10,
          11,
          12,
          13,
          14,
          15,
          16,
          17,
          18,
          19,
          20,
          21,
          22,
          23,
          24,
          25,
          26,
          27,
          28,
          29,
          30,
          31,
          32,
          33,
          34,
          35,
          36,
          37,
          38,
          39,
          40,
          41,
          42,
          43,
          44,
          45,
          46,
          47,
          48,
          49,
          50,
          51,
          52,
          53,
          54,
          55,
          56,
          57,
          58,
          59,
          60,
          61,
          62,
          63,
          64,
          65,
          66,
          67,
          68,
          69,
          70,
          71,
          72,
          73,
          74,
          75,
          76,
          77,
          78,
          79,
          80,
          81,
          82,
          83,
          84,
          85,
          86,
          87,
          88,
          89,
          90,
          91,
          92,
          93,
          94,
          95,
          96,
          97,
          98,
          99
         ],
         "xaxis": "x2",
         "y": [
          -0.7408413130066387,
          -0.0052233201223561565,
          "",
          "",
          -2.9544549001546554,
          "",
          -1.290665891162749,
          "",
          -2.3437695742312714,
          -2.7069078704959906,
          "",
          -1.401738411154964,
          -1.449174299255549,
          -0.290894917541903,
          -0.18774496843883762,
          -1.9906979617893192,
          "",
          -0.5609310544236666,
          -2.3339291240881512,
          -0.17844619612779447,
          "",
          "",
          "",
          "",
          -2.4895563799052853,
          "",
          "",
          -0.9146325735505567,
          "",
          -1.9531712636828416,
          -0.6351957008771372,
          -3.1249053541486402,
          -0.7082923507557377,
          -3.67611936608222,
          "",
          "",
          -0.6769016541903945,
          "",
          "",
          -1.138611477053067,
          -0.3893641782058692,
          -0.4008055454242763,
          -1.2772408523178538,
          "",
          -0.9553485868427688,
          -0.47854932343669965,
          -0.1288274691988993,
          "",
          -1.0055379613024034,
          -0.6367331421233922,
          "",
          "",
          "",
          "",
          "",
          -1.7475719115023467,
          -0.43544388789323685,
          -0.08854647684268202,
          "",
          "",
          "",
          -0.9404498654126945,
          -0.0012825867096641352,
          "",
          -0.4539382779617347,
          -2.206529201271718,
          "",
          -0.9519061335640652,
          -0.6095208932287338,
          -1.6717220122331902,
          "",
          "",
          "",
          -1.3848800021988388,
          "",
          -1.744335852344311,
          "",
          "",
          -2.238468332869123,
          -0.879587381695017,
          "",
          "",
          -3.469630627416389,
          -0.6205863232901179,
          -1.5003479633315402,
          "",
          -0.07812415416738083,
          "",
          "",
          "",
          "",
          -0.17751071055933948,
          "",
          "",
          -0.054399051974593604,
          -0.19010177492378538,
          "",
          "",
          -0.06445882019165547,
          ""
         ],
         "yaxis": "y2"
        }
       ],
       "layout": {
        "hovermode": "x",
        "legend": {
         "bgcolor": "#F5F6F9",
         "font": {
          "color": "#4D5663"
         }
        },
        "paper_bgcolor": "#F5F6F9",
        "plot_bgcolor": "#F5F6F9",
        "template": {
         "data": {
          "bar": [
           {
            "error_x": {
             "color": "#2a3f5f"
            },
            "error_y": {
             "color": "#2a3f5f"
            },
            "marker": {
             "line": {
              "color": "#E5ECF6",
              "width": 0.5
             },
             "pattern": {
              "fillmode": "overlay",
              "size": 10,
              "solidity": 0.2
             }
            },
            "type": "bar"
           }
          ],
          "barpolar": [
           {
            "marker": {
             "line": {
              "color": "#E5ECF6",
              "width": 0.5
             },
             "pattern": {
              "fillmode": "overlay",
              "size": 10,
              "solidity": 0.2
             }
            },
            "type": "barpolar"
           }
          ],
          "carpet": [
           {
            "aaxis": {
             "endlinecolor": "#2a3f5f",
             "gridcolor": "white",
             "linecolor": "white",
             "minorgridcolor": "white",
             "startlinecolor": "#2a3f5f"
            },
            "baxis": {
             "endlinecolor": "#2a3f5f",
             "gridcolor": "white",
             "linecolor": "white",
             "minorgridcolor": "white",
             "startlinecolor": "#2a3f5f"
            },
            "type": "carpet"
           }
          ],
          "choropleth": [
           {
            "colorbar": {
             "outlinewidth": 0,
             "ticks": ""
            },
            "type": "choropleth"
           }
          ],
          "contour": [
           {
            "colorbar": {
             "outlinewidth": 0,
             "ticks": ""
            },
            "colorscale": [
             [
              0,
              "#0d0887"
             ],
             [
              0.1111111111111111,
              "#46039f"
             ],
             [
              0.2222222222222222,
              "#7201a8"
             ],
             [
              0.3333333333333333,
              "#9c179e"
             ],
             [
              0.4444444444444444,
              "#bd3786"
             ],
             [
              0.5555555555555556,
              "#d8576b"
             ],
             [
              0.6666666666666666,
              "#ed7953"
             ],
             [
              0.7777777777777778,
              "#fb9f3a"
             ],
             [
              0.8888888888888888,
              "#fdca26"
             ],
             [
              1,
              "#f0f921"
             ]
            ],
            "type": "contour"
           }
          ],
          "contourcarpet": [
           {
            "colorbar": {
             "outlinewidth": 0,
             "ticks": ""
            },
            "type": "contourcarpet"
           }
          ],
          "heatmap": [
           {
            "colorbar": {
             "outlinewidth": 0,
             "ticks": ""
            },
            "colorscale": [
             [
              0,
              "#0d0887"
             ],
             [
              0.1111111111111111,
              "#46039f"
             ],
             [
              0.2222222222222222,
              "#7201a8"
             ],
             [
              0.3333333333333333,
              "#9c179e"
             ],
             [
              0.4444444444444444,
              "#bd3786"
             ],
             [
              0.5555555555555556,
              "#d8576b"
             ],
             [
              0.6666666666666666,
              "#ed7953"
             ],
             [
              0.7777777777777778,
              "#fb9f3a"
             ],
             [
              0.8888888888888888,
              "#fdca26"
             ],
             [
              1,
              "#f0f921"
             ]
            ],
            "type": "heatmap"
           }
          ],
          "heatmapgl": [
           {
            "colorbar": {
             "outlinewidth": 0,
             "ticks": ""
            },
            "colorscale": [
             [
              0,
              "#0d0887"
             ],
             [
              0.1111111111111111,
              "#46039f"
             ],
             [
              0.2222222222222222,
              "#7201a8"
             ],
             [
              0.3333333333333333,
              "#9c179e"
             ],
             [
              0.4444444444444444,
              "#bd3786"
             ],
             [
              0.5555555555555556,
              "#d8576b"
             ],
             [
              0.6666666666666666,
              "#ed7953"
             ],
             [
              0.7777777777777778,
              "#fb9f3a"
             ],
             [
              0.8888888888888888,
              "#fdca26"
             ],
             [
              1,
              "#f0f921"
             ]
            ],
            "type": "heatmapgl"
           }
          ],
          "histogram": [
           {
            "marker": {
             "pattern": {
              "fillmode": "overlay",
              "size": 10,
              "solidity": 0.2
             }
            },
            "type": "histogram"
           }
          ],
          "histogram2d": [
           {
            "colorbar": {
             "outlinewidth": 0,
             "ticks": ""
            },
            "colorscale": [
             [
              0,
              "#0d0887"
             ],
             [
              0.1111111111111111,
              "#46039f"
             ],
             [
              0.2222222222222222,
              "#7201a8"
             ],
             [
              0.3333333333333333,
              "#9c179e"
             ],
             [
              0.4444444444444444,
              "#bd3786"
             ],
             [
              0.5555555555555556,
              "#d8576b"
             ],
             [
              0.6666666666666666,
              "#ed7953"
             ],
             [
              0.7777777777777778,
              "#fb9f3a"
             ],
             [
              0.8888888888888888,
              "#fdca26"
             ],
             [
              1,
              "#f0f921"
             ]
            ],
            "type": "histogram2d"
           }
          ],
          "histogram2dcontour": [
           {
            "colorbar": {
             "outlinewidth": 0,
             "ticks": ""
            },
            "colorscale": [
             [
              0,
              "#0d0887"
             ],
             [
              0.1111111111111111,
              "#46039f"
             ],
             [
              0.2222222222222222,
              "#7201a8"
             ],
             [
              0.3333333333333333,
              "#9c179e"
             ],
             [
              0.4444444444444444,
              "#bd3786"
             ],
             [
              0.5555555555555556,
              "#d8576b"
             ],
             [
              0.6666666666666666,
              "#ed7953"
             ],
             [
              0.7777777777777778,
              "#fb9f3a"
             ],
             [
              0.8888888888888888,
              "#fdca26"
             ],
             [
              1,
              "#f0f921"
             ]
            ],
            "type": "histogram2dcontour"
           }
          ],
          "mesh3d": [
           {
            "colorbar": {
             "outlinewidth": 0,
             "ticks": ""
            },
            "type": "mesh3d"
           }
          ],
          "parcoords": [
           {
            "line": {
             "colorbar": {
              "outlinewidth": 0,
              "ticks": ""
             }
            },
            "type": "parcoords"
           }
          ],
          "pie": [
           {
            "automargin": true,
            "type": "pie"
           }
          ],
          "scatter": [
           {
            "fillpattern": {
             "fillmode": "overlay",
             "size": 10,
             "solidity": 0.2
            },
            "type": "scatter"
           }
          ],
          "scatter3d": [
           {
            "line": {
             "colorbar": {
              "outlinewidth": 0,
              "ticks": ""
             }
            },
            "marker": {
             "colorbar": {
              "outlinewidth": 0,
              "ticks": ""
             }
            },
            "type": "scatter3d"
           }
          ],
          "scattercarpet": [
           {
            "marker": {
             "colorbar": {
              "outlinewidth": 0,
              "ticks": ""
             }
            },
            "type": "scattercarpet"
           }
          ],
          "scattergeo": [
           {
            "marker": {
             "colorbar": {
              "outlinewidth": 0,
              "ticks": ""
             }
            },
            "type": "scattergeo"
           }
          ],
          "scattergl": [
           {
            "marker": {
             "colorbar": {
              "outlinewidth": 0,
              "ticks": ""
             }
            },
            "type": "scattergl"
           }
          ],
          "scattermapbox": [
           {
            "marker": {
             "colorbar": {
              "outlinewidth": 0,
              "ticks": ""
             }
            },
            "type": "scattermapbox"
           }
          ],
          "scatterpolar": [
           {
            "marker": {
             "colorbar": {
              "outlinewidth": 0,
              "ticks": ""
             }
            },
            "type": "scatterpolar"
           }
          ],
          "scatterpolargl": [
           {
            "marker": {
             "colorbar": {
              "outlinewidth": 0,
              "ticks": ""
             }
            },
            "type": "scatterpolargl"
           }
          ],
          "scatterternary": [
           {
            "marker": {
             "colorbar": {
              "outlinewidth": 0,
              "ticks": ""
             }
            },
            "type": "scatterternary"
           }
          ],
          "surface": [
           {
            "colorbar": {
             "outlinewidth": 0,
             "ticks": ""
            },
            "colorscale": [
             [
              0,
              "#0d0887"
             ],
             [
              0.1111111111111111,
              "#46039f"
             ],
             [
              0.2222222222222222,
              "#7201a8"
             ],
             [
              0.3333333333333333,
              "#9c179e"
             ],
             [
              0.4444444444444444,
              "#bd3786"
             ],
             [
              0.5555555555555556,
              "#d8576b"
             ],
             [
              0.6666666666666666,
              "#ed7953"
             ],
             [
              0.7777777777777778,
              "#fb9f3a"
             ],
             [
              0.8888888888888888,
              "#fdca26"
             ],
             [
              1,
              "#f0f921"
             ]
            ],
            "type": "surface"
           }
          ],
          "table": [
           {
            "cells": {
             "fill": {
              "color": "#EBF0F8"
             },
             "line": {
              "color": "white"
             }
            },
            "header": {
             "fill": {
              "color": "#C8D4E3"
             },
             "line": {
              "color": "white"
             }
            },
            "type": "table"
           }
          ]
         },
         "layout": {
          "annotationdefaults": {
           "arrowcolor": "#2a3f5f",
           "arrowhead": 0,
           "arrowwidth": 1
          },
          "autotypenumbers": "strict",
          "coloraxis": {
           "colorbar": {
            "outlinewidth": 0,
            "ticks": ""
           }
          },
          "colorscale": {
           "diverging": [
            [
             0,
             "#8e0152"
            ],
            [
             0.1,
             "#c51b7d"
            ],
            [
             0.2,
             "#de77ae"
            ],
            [
             0.3,
             "#f1b6da"
            ],
            [
             0.4,
             "#fde0ef"
            ],
            [
             0.5,
             "#f7f7f7"
            ],
            [
             0.6,
             "#e6f5d0"
            ],
            [
             0.7,
             "#b8e186"
            ],
            [
             0.8,
             "#7fbc41"
            ],
            [
             0.9,
             "#4d9221"
            ],
            [
             1,
             "#276419"
            ]
           ],
           "sequential": [
            [
             0,
             "#0d0887"
            ],
            [
             0.1111111111111111,
             "#46039f"
            ],
            [
             0.2222222222222222,
             "#7201a8"
            ],
            [
             0.3333333333333333,
             "#9c179e"
            ],
            [
             0.4444444444444444,
             "#bd3786"
            ],
            [
             0.5555555555555556,
             "#d8576b"
            ],
            [
             0.6666666666666666,
             "#ed7953"
            ],
            [
             0.7777777777777778,
             "#fb9f3a"
            ],
            [
             0.8888888888888888,
             "#fdca26"
            ],
            [
             1,
             "#f0f921"
            ]
           ],
           "sequentialminus": [
            [
             0,
             "#0d0887"
            ],
            [
             0.1111111111111111,
             "#46039f"
            ],
            [
             0.2222222222222222,
             "#7201a8"
            ],
            [
             0.3333333333333333,
             "#9c179e"
            ],
            [
             0.4444444444444444,
             "#bd3786"
            ],
            [
             0.5555555555555556,
             "#d8576b"
            ],
            [
             0.6666666666666666,
             "#ed7953"
            ],
            [
             0.7777777777777778,
             "#fb9f3a"
            ],
            [
             0.8888888888888888,
             "#fdca26"
            ],
            [
             1,
             "#f0f921"
            ]
           ]
          },
          "colorway": [
           "#636efa",
           "#EF553B",
           "#00cc96",
           "#ab63fa",
           "#FFA15A",
           "#19d3f3",
           "#FF6692",
           "#B6E880",
           "#FF97FF",
           "#FECB52"
          ],
          "font": {
           "color": "#2a3f5f"
          },
          "geo": {
           "bgcolor": "white",
           "lakecolor": "white",
           "landcolor": "#E5ECF6",
           "showlakes": true,
           "showland": true,
           "subunitcolor": "white"
          },
          "hoverlabel": {
           "align": "left"
          },
          "hovermode": "closest",
          "mapbox": {
           "style": "light"
          },
          "paper_bgcolor": "white",
          "plot_bgcolor": "#E5ECF6",
          "polar": {
           "angularaxis": {
            "gridcolor": "white",
            "linecolor": "white",
            "ticks": ""
           },
           "bgcolor": "#E5ECF6",
           "radialaxis": {
            "gridcolor": "white",
            "linecolor": "white",
            "ticks": ""
           }
          },
          "scene": {
           "xaxis": {
            "backgroundcolor": "#E5ECF6",
            "gridcolor": "white",
            "gridwidth": 2,
            "linecolor": "white",
            "showbackground": true,
            "ticks": "",
            "zerolinecolor": "white"
           },
           "yaxis": {
            "backgroundcolor": "#E5ECF6",
            "gridcolor": "white",
            "gridwidth": 2,
            "linecolor": "white",
            "showbackground": true,
            "ticks": "",
            "zerolinecolor": "white"
           },
           "zaxis": {
            "backgroundcolor": "#E5ECF6",
            "gridcolor": "white",
            "gridwidth": 2,
            "linecolor": "white",
            "showbackground": true,
            "ticks": "",
            "zerolinecolor": "white"
           }
          },
          "shapedefaults": {
           "line": {
            "color": "#2a3f5f"
           }
          },
          "ternary": {
           "aaxis": {
            "gridcolor": "white",
            "linecolor": "white",
            "ticks": ""
           },
           "baxis": {
            "gridcolor": "white",
            "linecolor": "white",
            "ticks": ""
           },
           "bgcolor": "#E5ECF6",
           "caxis": {
            "gridcolor": "white",
            "linecolor": "white",
            "ticks": ""
           }
          },
          "title": {
           "x": 0.05
          },
          "xaxis": {
           "automargin": true,
           "gridcolor": "white",
           "linecolor": "white",
           "ticks": "",
           "title": {
            "standoff": 15
           },
           "zerolinecolor": "white",
           "zerolinewidth": 2
          },
          "yaxis": {
           "automargin": true,
           "gridcolor": "white",
           "linecolor": "white",
           "ticks": "",
           "title": {
            "standoff": 15
           },
           "zerolinecolor": "white",
           "zerolinewidth": 2
          }
         }
        },
        "title": {
         "font": {
          "color": "#4D5663"
         }
        },
        "xaxis": {
         "gridcolor": "#E1E5ED",
         "showgrid": true,
         "tickfont": {
          "color": "#4D5663"
         },
         "title": {
          "font": {
           "color": "#4D5663"
          },
          "text": ""
         },
         "zerolinecolor": "#E1E5ED"
        },
        "xaxis2": {
         "anchor": "y2",
         "gridcolor": "#E1E5ED",
         "showgrid": true,
         "showticklabels": false,
         "tickfont": {
          "color": "#4D5663"
         },
         "title": {
          "font": {
           "color": "#4D5663"
          },
          "text": ""
         },
         "zerolinecolor": "#E1E5ED"
        },
        "yaxis": {
         "domain": [
          0.3,
          1
         ],
         "gridcolor": "#E1E5ED",
         "showgrid": true,
         "tickfont": {
          "color": "#4D5663"
         },
         "title": {
          "font": {
           "color": "#4D5663"
          },
          "text": ""
         },
         "zerolinecolor": "#E1E5ED"
        },
        "yaxis2": {
         "domain": [
          0,
          0.25
         ],
         "gridcolor": "#E1E5ED",
         "showgrid": true,
         "tickfont": {
          "color": "#4D5663"
         },
         "title": {
          "font": {
           "color": "#4D5663"
          },
          "text": "Spread"
         },
         "zerolinecolor": "#E1E5ED"
        }
       }
      },
      "text/html": [
       "<div>                            <div id=\"cd0bebe0-c1e9-4deb-942d-ec53042de70f\" class=\"plotly-graph-div\" style=\"height:525px; width:100%;\"></div>            <script type=\"text/javascript\">                require([\"plotly\"], function(Plotly) {                    window.PLOTLYENV=window.PLOTLYENV || {};\n",
       "                    window.PLOTLYENV.BASE_URL='https://plotly.com';                                    if (document.getElementById(\"cd0bebe0-c1e9-4deb-942d-ec53042de70f\")) {                    Plotly.newPlot(                        \"cd0bebe0-c1e9-4deb-942d-ec53042de70f\",                        [{\"line\":{\"color\":\"rgba(255, 153, 51, 1.0)\",\"dash\":\"solid\",\"shape\":\"linear\",\"width\":1.3},\"mode\":\"lines\",\"name\":\"A\",\"text\":\"\",\"x\":[0,1,2,3,4,5,6,7,8,9,10,11,12,13,14,15,16,17,18,19,20,21,22,23,24,25,26,27,28,29,30,31,32,33,34,35,36,37,38,39,40,41,42,43,44,45,46,47,48,49,50,51,52,53,54,55,56,57,58,59,60,61,62,63,64,65,66,67,68,69,70,71,72,73,74,75,76,77,78,79,80,81,82,83,84,85,86,87,88,89,90,91,92,93,94,95,96,97,98,99],\"y\":[-0.40615102691201077,-0.47999536952712385,-0.731589452209614,0.5879553428621914,-1.8568953718148897,0.9852963397699704,-0.4565079483975351,0.8985744483888078,-1.880550197114006,-2.495067192414269,0.24318773794361037,-2.278949369698818,-0.5490311250307648,0.14532734122867813,0.16276002203759868,-1.0591320920484073,0.05372109359972695,0.2035258413077142,-2.4564801144392163,0.006562014766148572,1.8299109338952464,-0.9675701363179834,1.0541841654244393,0.20884013344601376,-1.3891116084425656,0.27161097959040503,2.1283430566163135,-0.22494485238235143,-0.09599443616592065,-0.47463986288576715,-1.7001685826280957,-1.339622451274522,0.14880307684214328,-1.502406867092294,0.6697628491897455,1.6736896598940452,-1.1242305900000233,1.2716030457108993,-0.020503495668329225,-0.6004282275431292,-1.610798298038356,-0.7126845047666951,-0.25276036273175184,-0.31036598996075493,0.27657442247611386,0.36475971678819463,-0.3032001827072675,0.28120037852816376,-1.057923800745797,-0.7299540132790762,-1.0364219628836993,2.4916267759664805,1.1629521913280154,2.0054327257594626,-0.23891835735830366,-0.08667481619810505,0.1821673126387374,-0.9087506411647428,-0.2175223804697042,1.0366653428718404,-1.1387376153306084,-1.3134795663116043,-0.3109333372518202,-0.11731364062957415,-0.10397752332154095,0.17357286910884961,1.125123233663803,-0.18371208575837503,0.7475189213297856,-1.8732934204335845,0.3349278560198267,1.626356126253646,0.04965422963422056,-0.4617720171349,0.25881350378239626,-0.6898896998105463,0.7647345988279457,0.44480407531461874,0.09985660770502092,0.1461906720821347,0.04340642890250446,-0.10569764171165204,-2.5186919527957294,0.402553363843015,-1.1885416932522634,1.7141212243739197,0.6790642180576574,1.1679009178651383,-1.0087877679657051,-0.19813583121524153,0.9851166891438866,-0.0118683102180748,-0.44242679362729026,-0.05957237410520343,-0.8011467122356221,-0.27444702043341096,-1.8845227330028054,0.663868967586431,-0.29563990016503844,0.018384161821900682],\"type\":\"scatter\"},{\"line\":{\"color\":\"rgba(55, 128, 191, 1.0)\",\"dash\":\"solid\",\"shape\":\"linear\",\"width\":1.3},\"mode\":\"lines\",\"name\":\"B\",\"text\":\"\",\"x\":[0,1,2,3,4,5,6,7,8,9,10,11,12,13,14,15,16,17,18,19,20,21,22,23,24,25,26,27,28,29,30,31,32,33,34,35,36,37,38,39,40,41,42,43,44,45,46,47,48,49,50,51,52,53,54,55,56,57,58,59,60,61,62,63,64,65,66,67,68,69,70,71,72,73,74,75,76,77,78,79,80,81,82,83,84,85,86,87,88,89,90,91,92,93,94,95,96,97,98,99],\"y\":[0.33469028609462786,-0.4747720494047677,-0.8910492574030071,-0.6562947499843159,1.0975595283397657,-0.08492187787388085,0.834157942765214,0.8261256825901863,0.4632193771172654,0.2118406780817216,-0.18660521525359663,-0.8772109585438541,0.9001431742247843,0.43622225877058113,0.3505049904764363,0.9315658697409118,-1.946983553008016,0.7644568957313809,-0.12255099035106522,0.18500821089394304,0.6312321003475739,-1.3583124190159115,0.6879322926800804,-0.340566305221331,1.10044477146272,-1.0455648116827128,0.3952180495751735,0.6896877211682053,-0.5155403800669799,1.4785314007970745,-1.0649728817509585,1.7852829028741184,0.8570954275978809,2.173712498989926,-1.0582631927924049,0.4985565174744666,-0.4473289358096288,0.4025239189309213,-0.15564462003233068,0.5381832495099379,-1.2214341198324867,-0.31187895934241877,1.024480489586102,-0.9575439080616085,1.2319230093188827,0.8433090402248943,-0.1743727135083682,-0.516081714378001,-0.05238583944339358,-0.09322087115568396,-1.3402000293873717,-2.349049257706284,-1.2853922081306273,-0.41339815261901414,-0.7700945857764542,1.6608970953042417,0.6176112005319743,-0.8202041643220608,-1.7363664986014162,0.12947655833098984,-1.2343545924493855,-0.3730297008989098,-0.3096507505421561,-0.9790966487903674,0.34996075464019377,2.380102070380568,-0.2440263432978862,0.7681940478056901,1.3570398145585194,-0.20157140820039438,0.2877302953363688,0.16851948185688861,-0.5644038341545653,0.9231079850639387,-0.944506176873885,1.054446152533765,-0.7207904072238942,0.4365114891422287,2.338324940574144,1.0257780537771517,-1.1618978051757043,-1.6327091540232865,0.9509386746206595,1.0231396871331329,0.3118062700792768,-2.4097800983317152,0.7571883722250382,0.4131747981644347,-1.455075148971204,-0.21915229540259684,0.4578621056720926,0.16564240034126468,-1.237646345341587,-1.8175037223783308,-0.7467476602610285,-0.08434524550962558,-1.9690707808886958,-1.160972757919005,-0.23118107997338297,-0.6316562531717944],\"type\":\"scatter\"},{\"connectgaps\":false,\"fill\":\"tozeroy\",\"line\":{\"color\":\"green\",\"dash\":\"solid\",\"shape\":\"linear\",\"width\":0.5},\"mode\":\"lines\",\"name\":\"Spread\",\"showlegend\":false,\"x\":[0,1,2,3,4,5,6,7,8,9,10,11,12,13,14,15,16,17,18,19,20,21,22,23,24,25,26,27,28,29,30,31,32,33,34,35,36,37,38,39,40,41,42,43,44,45,46,47,48,49,50,51,52,53,54,55,56,57,58,59,60,61,62,63,64,65,66,67,68,69,70,71,72,73,74,75,76,77,78,79,80,81,82,83,84,85,86,87,88,89,90,91,92,93,94,95,96,97,98,99],\"xaxis\":\"x2\",\"y\":[\"\",\"\",0.1594598051933931,1.2442500928465074,\"\",1.0702182176438513,\"\",0.07244876579862158,\"\",\"\",0.429792953197207,\"\",\"\",\"\",\"\",\"\",2.0007046466077427,\"\",\"\",\"\",1.1986788335476724,0.3907422826979281,0.3662518727443589,0.5494064386673447,\"\",1.317175791273118,1.73312500704114,\"\",0.41954594390105926,\"\",\"\",\"\",\"\",\"\",1.7280260419821505,1.1751331424195786,\"\",0.869079126779978,0.13514112436400144,\"\",\"\",\"\",\"\",0.6471779181008536,\"\",\"\",\"\",0.7972820929061648,\"\",\"\",0.30377806650367245,4.840676033672764,2.4483443994586427,2.418830878378477,0.5311762284181505,\"\",\"\",\"\",1.518844118131712,0.9071887845408506,0.09561697711877715,\"\",\"\",0.8617830081607932,\"\",\"\",1.3691495769616893,\"\",\"\",\"\",0.04719756068345793,1.4578366443967572,0.6140580637887858,\"\",1.2033196806562814,\"\",1.48552500605184,0.008292586172390037,\"\",\"\",1.2053042340782087,1.5270115123116346,\"\",\"\",\"\",4.123901322705635,\"\",0.7547261197007036,0.4462873810054988,0.02101646418735531,0.527254583471794,\"\",0.7952195517142966,1.7579313482731274,\"\",\"\",0.08454804788589043,1.8248417255054359,\"\",0.6500404149936951],\"yaxis\":\"y2\",\"type\":\"scatter\"},{\"connectgaps\":false,\"fill\":\"tozeroy\",\"line\":{\"color\":\"red\",\"dash\":\"solid\",\"shape\":\"linear\",\"width\":0.5},\"mode\":\"lines\",\"name\":\"Spread\",\"showlegend\":false,\"x\":[0,1,2,3,4,5,6,7,8,9,10,11,12,13,14,15,16,17,18,19,20,21,22,23,24,25,26,27,28,29,30,31,32,33,34,35,36,37,38,39,40,41,42,43,44,45,46,47,48,49,50,51,52,53,54,55,56,57,58,59,60,61,62,63,64,65,66,67,68,69,70,71,72,73,74,75,76,77,78,79,80,81,82,83,84,85,86,87,88,89,90,91,92,93,94,95,96,97,98,99],\"xaxis\":\"x2\",\"y\":[-0.7408413130066387,-0.0052233201223561565,\"\",\"\",-2.9544549001546554,\"\",-1.290665891162749,\"\",-2.3437695742312714,-2.7069078704959906,\"\",-1.401738411154964,-1.449174299255549,-0.290894917541903,-0.18774496843883762,-1.9906979617893192,\"\",-0.5609310544236666,-2.3339291240881512,-0.17844619612779447,\"\",\"\",\"\",\"\",-2.4895563799052853,\"\",\"\",-0.9146325735505567,\"\",-1.9531712636828416,-0.6351957008771372,-3.1249053541486402,-0.7082923507557377,-3.67611936608222,\"\",\"\",-0.6769016541903945,\"\",\"\",-1.138611477053067,-0.3893641782058692,-0.4008055454242763,-1.2772408523178538,\"\",-0.9553485868427688,-0.47854932343669965,-0.1288274691988993,\"\",-1.0055379613024034,-0.6367331421233922,\"\",\"\",\"\",\"\",\"\",-1.7475719115023467,-0.43544388789323685,-0.08854647684268202,\"\",\"\",\"\",-0.9404498654126945,-0.0012825867096641352,\"\",-0.4539382779617347,-2.206529201271718,\"\",-0.9519061335640652,-0.6095208932287338,-1.6717220122331902,\"\",\"\",\"\",-1.3848800021988388,\"\",-1.744335852344311,\"\",\"\",-2.238468332869123,-0.879587381695017,\"\",\"\",-3.469630627416389,-0.6205863232901179,-1.5003479633315402,\"\",-0.07812415416738083,\"\",\"\",\"\",\"\",-0.17751071055933948,\"\",\"\",-0.054399051974593604,-0.19010177492378538,\"\",\"\",-0.06445882019165547,\"\"],\"yaxis\":\"y2\",\"type\":\"scatter\"}],                        {\"hovermode\":\"x\",\"legend\":{\"bgcolor\":\"#F5F6F9\",\"font\":{\"color\":\"#4D5663\"}},\"paper_bgcolor\":\"#F5F6F9\",\"plot_bgcolor\":\"#F5F6F9\",\"template\":{\"data\":{\"barpolar\":[{\"marker\":{\"line\":{\"color\":\"#E5ECF6\",\"width\":0.5},\"pattern\":{\"fillmode\":\"overlay\",\"size\":10,\"solidity\":0.2}},\"type\":\"barpolar\"}],\"bar\":[{\"error_x\":{\"color\":\"#2a3f5f\"},\"error_y\":{\"color\":\"#2a3f5f\"},\"marker\":{\"line\":{\"color\":\"#E5ECF6\",\"width\":0.5},\"pattern\":{\"fillmode\":\"overlay\",\"size\":10,\"solidity\":0.2}},\"type\":\"bar\"}],\"carpet\":[{\"aaxis\":{\"endlinecolor\":\"#2a3f5f\",\"gridcolor\":\"white\",\"linecolor\":\"white\",\"minorgridcolor\":\"white\",\"startlinecolor\":\"#2a3f5f\"},\"baxis\":{\"endlinecolor\":\"#2a3f5f\",\"gridcolor\":\"white\",\"linecolor\":\"white\",\"minorgridcolor\":\"white\",\"startlinecolor\":\"#2a3f5f\"},\"type\":\"carpet\"}],\"choropleth\":[{\"colorbar\":{\"outlinewidth\":0,\"ticks\":\"\"},\"type\":\"choropleth\"}],\"contourcarpet\":[{\"colorbar\":{\"outlinewidth\":0,\"ticks\":\"\"},\"type\":\"contourcarpet\"}],\"contour\":[{\"colorbar\":{\"outlinewidth\":0,\"ticks\":\"\"},\"colorscale\":[[0.0,\"#0d0887\"],[0.1111111111111111,\"#46039f\"],[0.2222222222222222,\"#7201a8\"],[0.3333333333333333,\"#9c179e\"],[0.4444444444444444,\"#bd3786\"],[0.5555555555555556,\"#d8576b\"],[0.6666666666666666,\"#ed7953\"],[0.7777777777777778,\"#fb9f3a\"],[0.8888888888888888,\"#fdca26\"],[1.0,\"#f0f921\"]],\"type\":\"contour\"}],\"heatmapgl\":[{\"colorbar\":{\"outlinewidth\":0,\"ticks\":\"\"},\"colorscale\":[[0.0,\"#0d0887\"],[0.1111111111111111,\"#46039f\"],[0.2222222222222222,\"#7201a8\"],[0.3333333333333333,\"#9c179e\"],[0.4444444444444444,\"#bd3786\"],[0.5555555555555556,\"#d8576b\"],[0.6666666666666666,\"#ed7953\"],[0.7777777777777778,\"#fb9f3a\"],[0.8888888888888888,\"#fdca26\"],[1.0,\"#f0f921\"]],\"type\":\"heatmapgl\"}],\"heatmap\":[{\"colorbar\":{\"outlinewidth\":0,\"ticks\":\"\"},\"colorscale\":[[0.0,\"#0d0887\"],[0.1111111111111111,\"#46039f\"],[0.2222222222222222,\"#7201a8\"],[0.3333333333333333,\"#9c179e\"],[0.4444444444444444,\"#bd3786\"],[0.5555555555555556,\"#d8576b\"],[0.6666666666666666,\"#ed7953\"],[0.7777777777777778,\"#fb9f3a\"],[0.8888888888888888,\"#fdca26\"],[1.0,\"#f0f921\"]],\"type\":\"heatmap\"}],\"histogram2dcontour\":[{\"colorbar\":{\"outlinewidth\":0,\"ticks\":\"\"},\"colorscale\":[[0.0,\"#0d0887\"],[0.1111111111111111,\"#46039f\"],[0.2222222222222222,\"#7201a8\"],[0.3333333333333333,\"#9c179e\"],[0.4444444444444444,\"#bd3786\"],[0.5555555555555556,\"#d8576b\"],[0.6666666666666666,\"#ed7953\"],[0.7777777777777778,\"#fb9f3a\"],[0.8888888888888888,\"#fdca26\"],[1.0,\"#f0f921\"]],\"type\":\"histogram2dcontour\"}],\"histogram2d\":[{\"colorbar\":{\"outlinewidth\":0,\"ticks\":\"\"},\"colorscale\":[[0.0,\"#0d0887\"],[0.1111111111111111,\"#46039f\"],[0.2222222222222222,\"#7201a8\"],[0.3333333333333333,\"#9c179e\"],[0.4444444444444444,\"#bd3786\"],[0.5555555555555556,\"#d8576b\"],[0.6666666666666666,\"#ed7953\"],[0.7777777777777778,\"#fb9f3a\"],[0.8888888888888888,\"#fdca26\"],[1.0,\"#f0f921\"]],\"type\":\"histogram2d\"}],\"histogram\":[{\"marker\":{\"pattern\":{\"fillmode\":\"overlay\",\"size\":10,\"solidity\":0.2}},\"type\":\"histogram\"}],\"mesh3d\":[{\"colorbar\":{\"outlinewidth\":0,\"ticks\":\"\"},\"type\":\"mesh3d\"}],\"parcoords\":[{\"line\":{\"colorbar\":{\"outlinewidth\":0,\"ticks\":\"\"}},\"type\":\"parcoords\"}],\"pie\":[{\"automargin\":true,\"type\":\"pie\"}],\"scatter3d\":[{\"line\":{\"colorbar\":{\"outlinewidth\":0,\"ticks\":\"\"}},\"marker\":{\"colorbar\":{\"outlinewidth\":0,\"ticks\":\"\"}},\"type\":\"scatter3d\"}],\"scattercarpet\":[{\"marker\":{\"colorbar\":{\"outlinewidth\":0,\"ticks\":\"\"}},\"type\":\"scattercarpet\"}],\"scattergeo\":[{\"marker\":{\"colorbar\":{\"outlinewidth\":0,\"ticks\":\"\"}},\"type\":\"scattergeo\"}],\"scattergl\":[{\"marker\":{\"colorbar\":{\"outlinewidth\":0,\"ticks\":\"\"}},\"type\":\"scattergl\"}],\"scattermapbox\":[{\"marker\":{\"colorbar\":{\"outlinewidth\":0,\"ticks\":\"\"}},\"type\":\"scattermapbox\"}],\"scatterpolargl\":[{\"marker\":{\"colorbar\":{\"outlinewidth\":0,\"ticks\":\"\"}},\"type\":\"scatterpolargl\"}],\"scatterpolar\":[{\"marker\":{\"colorbar\":{\"outlinewidth\":0,\"ticks\":\"\"}},\"type\":\"scatterpolar\"}],\"scatter\":[{\"fillpattern\":{\"fillmode\":\"overlay\",\"size\":10,\"solidity\":0.2},\"type\":\"scatter\"}],\"scatterternary\":[{\"marker\":{\"colorbar\":{\"outlinewidth\":0,\"ticks\":\"\"}},\"type\":\"scatterternary\"}],\"surface\":[{\"colorbar\":{\"outlinewidth\":0,\"ticks\":\"\"},\"colorscale\":[[0.0,\"#0d0887\"],[0.1111111111111111,\"#46039f\"],[0.2222222222222222,\"#7201a8\"],[0.3333333333333333,\"#9c179e\"],[0.4444444444444444,\"#bd3786\"],[0.5555555555555556,\"#d8576b\"],[0.6666666666666666,\"#ed7953\"],[0.7777777777777778,\"#fb9f3a\"],[0.8888888888888888,\"#fdca26\"],[1.0,\"#f0f921\"]],\"type\":\"surface\"}],\"table\":[{\"cells\":{\"fill\":{\"color\":\"#EBF0F8\"},\"line\":{\"color\":\"white\"}},\"header\":{\"fill\":{\"color\":\"#C8D4E3\"},\"line\":{\"color\":\"white\"}},\"type\":\"table\"}]},\"layout\":{\"annotationdefaults\":{\"arrowcolor\":\"#2a3f5f\",\"arrowhead\":0,\"arrowwidth\":1},\"autotypenumbers\":\"strict\",\"coloraxis\":{\"colorbar\":{\"outlinewidth\":0,\"ticks\":\"\"}},\"colorscale\":{\"diverging\":[[0,\"#8e0152\"],[0.1,\"#c51b7d\"],[0.2,\"#de77ae\"],[0.3,\"#f1b6da\"],[0.4,\"#fde0ef\"],[0.5,\"#f7f7f7\"],[0.6,\"#e6f5d0\"],[0.7,\"#b8e186\"],[0.8,\"#7fbc41\"],[0.9,\"#4d9221\"],[1,\"#276419\"]],\"sequential\":[[0.0,\"#0d0887\"],[0.1111111111111111,\"#46039f\"],[0.2222222222222222,\"#7201a8\"],[0.3333333333333333,\"#9c179e\"],[0.4444444444444444,\"#bd3786\"],[0.5555555555555556,\"#d8576b\"],[0.6666666666666666,\"#ed7953\"],[0.7777777777777778,\"#fb9f3a\"],[0.8888888888888888,\"#fdca26\"],[1.0,\"#f0f921\"]],\"sequentialminus\":[[0.0,\"#0d0887\"],[0.1111111111111111,\"#46039f\"],[0.2222222222222222,\"#7201a8\"],[0.3333333333333333,\"#9c179e\"],[0.4444444444444444,\"#bd3786\"],[0.5555555555555556,\"#d8576b\"],[0.6666666666666666,\"#ed7953\"],[0.7777777777777778,\"#fb9f3a\"],[0.8888888888888888,\"#fdca26\"],[1.0,\"#f0f921\"]]},\"colorway\":[\"#636efa\",\"#EF553B\",\"#00cc96\",\"#ab63fa\",\"#FFA15A\",\"#19d3f3\",\"#FF6692\",\"#B6E880\",\"#FF97FF\",\"#FECB52\"],\"font\":{\"color\":\"#2a3f5f\"},\"geo\":{\"bgcolor\":\"white\",\"lakecolor\":\"white\",\"landcolor\":\"#E5ECF6\",\"showlakes\":true,\"showland\":true,\"subunitcolor\":\"white\"},\"hoverlabel\":{\"align\":\"left\"},\"hovermode\":\"closest\",\"mapbox\":{\"style\":\"light\"},\"paper_bgcolor\":\"white\",\"plot_bgcolor\":\"#E5ECF6\",\"polar\":{\"angularaxis\":{\"gridcolor\":\"white\",\"linecolor\":\"white\",\"ticks\":\"\"},\"bgcolor\":\"#E5ECF6\",\"radialaxis\":{\"gridcolor\":\"white\",\"linecolor\":\"white\",\"ticks\":\"\"}},\"scene\":{\"xaxis\":{\"backgroundcolor\":\"#E5ECF6\",\"gridcolor\":\"white\",\"gridwidth\":2,\"linecolor\":\"white\",\"showbackground\":true,\"ticks\":\"\",\"zerolinecolor\":\"white\"},\"yaxis\":{\"backgroundcolor\":\"#E5ECF6\",\"gridcolor\":\"white\",\"gridwidth\":2,\"linecolor\":\"white\",\"showbackground\":true,\"ticks\":\"\",\"zerolinecolor\":\"white\"},\"zaxis\":{\"backgroundcolor\":\"#E5ECF6\",\"gridcolor\":\"white\",\"gridwidth\":2,\"linecolor\":\"white\",\"showbackground\":true,\"ticks\":\"\",\"zerolinecolor\":\"white\"}},\"shapedefaults\":{\"line\":{\"color\":\"#2a3f5f\"}},\"ternary\":{\"aaxis\":{\"gridcolor\":\"white\",\"linecolor\":\"white\",\"ticks\":\"\"},\"baxis\":{\"gridcolor\":\"white\",\"linecolor\":\"white\",\"ticks\":\"\"},\"bgcolor\":\"#E5ECF6\",\"caxis\":{\"gridcolor\":\"white\",\"linecolor\":\"white\",\"ticks\":\"\"}},\"title\":{\"x\":0.05},\"xaxis\":{\"automargin\":true,\"gridcolor\":\"white\",\"linecolor\":\"white\",\"ticks\":\"\",\"title\":{\"standoff\":15},\"zerolinecolor\":\"white\",\"zerolinewidth\":2},\"yaxis\":{\"automargin\":true,\"gridcolor\":\"white\",\"linecolor\":\"white\",\"ticks\":\"\",\"title\":{\"standoff\":15},\"zerolinecolor\":\"white\",\"zerolinewidth\":2}}},\"title\":{\"font\":{\"color\":\"#4D5663\"}},\"xaxis\":{\"gridcolor\":\"#E1E5ED\",\"showgrid\":true,\"tickfont\":{\"color\":\"#4D5663\"},\"title\":{\"font\":{\"color\":\"#4D5663\"},\"text\":\"\"},\"zerolinecolor\":\"#E1E5ED\"},\"yaxis\":{\"domain\":[0.3,1],\"gridcolor\":\"#E1E5ED\",\"showgrid\":true,\"tickfont\":{\"color\":\"#4D5663\"},\"title\":{\"font\":{\"color\":\"#4D5663\"},\"text\":\"\"},\"zerolinecolor\":\"#E1E5ED\"},\"yaxis2\":{\"domain\":[0,0.25],\"gridcolor\":\"#E1E5ED\",\"showgrid\":true,\"tickfont\":{\"color\":\"#4D5663\"},\"title\":{\"font\":{\"color\":\"#4D5663\"},\"text\":\"Spread\"},\"zerolinecolor\":\"#E1E5ED\"},\"xaxis2\":{\"anchor\":\"y2\",\"gridcolor\":\"#E1E5ED\",\"showgrid\":true,\"showticklabels\":false,\"tickfont\":{\"color\":\"#4D5663\"},\"title\":{\"font\":{\"color\":\"#4D5663\"},\"text\":\"\"},\"zerolinecolor\":\"#E1E5ED\"}},                        {\"showLink\": true, \"linkText\": \"Export to plotly.com\", \"plotlyServerURL\": \"https://plotly.com\", \"responsive\": true}                    ).then(function(){\n",
       "                            \n",
       "var gd = document.getElementById('cd0bebe0-c1e9-4deb-942d-ec53042de70f');\n",
       "var x = new MutationObserver(function (mutations, observer) {{\n",
       "        var display = window.getComputedStyle(gd).display;\n",
       "        if (!display || display === 'none') {{\n",
       "            console.log([gd, 'removed!']);\n",
       "            Plotly.purge(gd);\n",
       "            observer.disconnect();\n",
       "        }}\n",
       "}});\n",
       "\n",
       "// Listen for the removal of the full notebook cells\n",
       "var notebookContainer = gd.closest('#notebook-container');\n",
       "if (notebookContainer) {{\n",
       "    x.observe(notebookContainer, {childList: true});\n",
       "}}\n",
       "\n",
       "// Listen for the clearing of the current output cell\n",
       "var outputEl = gd.closest('.output');\n",
       "if (outputEl) {{\n",
       "    x.observe(outputEl, {childList: true});\n",
       "}}\n",
       "\n",
       "                        })                };                });            </script>        </div>"
      ]
     },
     "metadata": {},
     "output_type": "display_data"
    }
   ],
   "source": [
    "#spread\n",
    "df[['A','B']].iplot(kind='spread')"
   ]
  },
  {
   "cell_type": "code",
   "execution_count": 47,
   "id": "6d7a3875",
   "metadata": {},
   "outputs": [
    {
     "data": {
      "application/vnd.plotly.v1+json": {
       "config": {
        "linkText": "Export to plotly.com",
        "plotlyServerURL": "https://plotly.com",
        "showLink": true
       },
       "data": [
        {
         "marker": {
          "color": [
           "rgb(255, 153, 51)",
           "rgb(55, 128, 191)",
           "rgb(50, 171, 96)",
           "rgb(128, 0, 128)",
           "rgb(219, 64, 82)",
           "rgb(0, 128, 128)",
           "rgb(255, 255, 51)",
           "rgb(128, 128, 0)",
           "rgb(251, 128, 114)",
           "rgb(128, 177, 211)"
          ],
          "line": {
           "width": 1.3
          },
          "size": [
           79,
           85,
           58,
           41,
           74,
           60,
           51,
           64,
           74,
           56,
           26,
           59,
           53,
           41,
           60,
           63,
           49,
           40,
           40,
           95,
           68,
           58,
           77,
           54,
           30,
           112,
           31,
           52,
           12,
           57,
           95,
           43,
           77,
           69,
           43,
           48,
           79,
           66,
           48,
           96,
           23,
           71,
           73,
           44,
           33,
           61,
           51,
           47,
           51,
           67,
           37,
           23,
           35,
           52,
           86,
           44,
           46,
           67,
           64,
           75,
           63,
           24,
           43,
           73,
           95,
           47,
           82,
           48,
           34,
           60,
           42,
           70,
           54,
           70,
           72,
           67,
           35,
           17,
           35,
           59,
           24,
           45,
           42,
           30,
           70,
           78,
           72,
           44,
           62,
           49,
           78,
           74,
           16,
           71,
           44,
           74,
           83,
           82,
           77,
           56
          ],
          "symbol": "circle"
         },
         "mode": "markers",
         "text": "",
         "type": "scatter",
         "x": [
          -0.40615102691201077,
          -0.47999536952712385,
          -0.731589452209614,
          0.5879553428621914,
          -1.8568953718148897,
          0.9852963397699704,
          -0.4565079483975351,
          0.8985744483888078,
          -1.880550197114006,
          -2.495067192414269,
          0.24318773794361037,
          -2.278949369698818,
          -0.5490311250307648,
          0.14532734122867813,
          0.16276002203759868,
          -1.0591320920484073,
          0.05372109359972695,
          0.2035258413077142,
          -2.4564801144392163,
          0.006562014766148572,
          1.8299109338952464,
          -0.9675701363179834,
          1.0541841654244393,
          0.20884013344601376,
          -1.3891116084425656,
          0.27161097959040503,
          2.1283430566163135,
          -0.22494485238235143,
          -0.09599443616592065,
          -0.47463986288576715,
          -1.7001685826280957,
          -1.339622451274522,
          0.14880307684214328,
          -1.502406867092294,
          0.6697628491897455,
          1.6736896598940452,
          -1.1242305900000233,
          1.2716030457108993,
          -0.020503495668329225,
          -0.6004282275431292,
          -1.610798298038356,
          -0.7126845047666951,
          -0.25276036273175184,
          -0.31036598996075493,
          0.27657442247611386,
          0.36475971678819463,
          -0.3032001827072675,
          0.28120037852816376,
          -1.057923800745797,
          -0.7299540132790762,
          -1.0364219628836993,
          2.4916267759664805,
          1.1629521913280154,
          2.0054327257594626,
          -0.23891835735830366,
          -0.08667481619810505,
          0.1821673126387374,
          -0.9087506411647428,
          -0.2175223804697042,
          1.0366653428718404,
          -1.1387376153306084,
          -1.3134795663116043,
          -0.3109333372518202,
          -0.11731364062957415,
          -0.10397752332154095,
          0.17357286910884961,
          1.125123233663803,
          -0.18371208575837503,
          0.7475189213297856,
          -1.8732934204335845,
          0.3349278560198267,
          1.626356126253646,
          0.04965422963422056,
          -0.4617720171349,
          0.25881350378239626,
          -0.6898896998105463,
          0.7647345988279457,
          0.44480407531461874,
          0.09985660770502092,
          0.1461906720821347,
          0.04340642890250446,
          -0.10569764171165204,
          -2.5186919527957294,
          0.402553363843015,
          -1.1885416932522634,
          1.7141212243739197,
          0.6790642180576574,
          1.1679009178651383,
          -1.0087877679657051,
          -0.19813583121524153,
          0.9851166891438866,
          -0.0118683102180748,
          -0.44242679362729026,
          -0.05957237410520343,
          -0.8011467122356221,
          -0.27444702043341096,
          -1.8845227330028054,
          0.663868967586431,
          -0.29563990016503844,
          0.018384161821900682
         ],
         "y": [
          0.33469028609462786,
          -0.4747720494047677,
          -0.8910492574030071,
          -0.6562947499843159,
          1.0975595283397657,
          -0.08492187787388085,
          0.834157942765214,
          0.8261256825901863,
          0.4632193771172654,
          0.2118406780817216,
          -0.18660521525359663,
          -0.8772109585438541,
          0.9001431742247843,
          0.43622225877058113,
          0.3505049904764363,
          0.9315658697409118,
          -1.946983553008016,
          0.7644568957313809,
          -0.12255099035106522,
          0.18500821089394304,
          0.6312321003475739,
          -1.3583124190159115,
          0.6879322926800804,
          -0.340566305221331,
          1.10044477146272,
          -1.0455648116827128,
          0.3952180495751735,
          0.6896877211682053,
          -0.5155403800669799,
          1.4785314007970745,
          -1.0649728817509585,
          1.7852829028741184,
          0.8570954275978809,
          2.173712498989926,
          -1.0582631927924049,
          0.4985565174744666,
          -0.4473289358096288,
          0.4025239189309213,
          -0.15564462003233068,
          0.5381832495099379,
          -1.2214341198324867,
          -0.31187895934241877,
          1.024480489586102,
          -0.9575439080616085,
          1.2319230093188827,
          0.8433090402248943,
          -0.1743727135083682,
          -0.516081714378001,
          -0.05238583944339358,
          -0.09322087115568396,
          -1.3402000293873717,
          -2.349049257706284,
          -1.2853922081306273,
          -0.41339815261901414,
          -0.7700945857764542,
          1.6608970953042417,
          0.6176112005319743,
          -0.8202041643220608,
          -1.7363664986014162,
          0.12947655833098984,
          -1.2343545924493855,
          -0.3730297008989098,
          -0.3096507505421561,
          -0.9790966487903674,
          0.34996075464019377,
          2.380102070380568,
          -0.2440263432978862,
          0.7681940478056901,
          1.3570398145585194,
          -0.20157140820039438,
          0.2877302953363688,
          0.16851948185688861,
          -0.5644038341545653,
          0.9231079850639387,
          -0.944506176873885,
          1.054446152533765,
          -0.7207904072238942,
          0.4365114891422287,
          2.338324940574144,
          1.0257780537771517,
          -1.1618978051757043,
          -1.6327091540232865,
          0.9509386746206595,
          1.0231396871331329,
          0.3118062700792768,
          -2.4097800983317152,
          0.7571883722250382,
          0.4131747981644347,
          -1.455075148971204,
          -0.21915229540259684,
          0.4578621056720926,
          0.16564240034126468,
          -1.237646345341587,
          -1.8175037223783308,
          -0.7467476602610285,
          -0.08434524550962558,
          -1.9690707808886958,
          -1.160972757919005,
          -0.23118107997338297,
          -0.6316562531717944
         ]
        }
       ],
       "layout": {
        "legend": {
         "bgcolor": "#F5F6F9",
         "font": {
          "color": "#4D5663"
         }
        },
        "paper_bgcolor": "#F5F6F9",
        "plot_bgcolor": "#F5F6F9",
        "template": {
         "data": {
          "bar": [
           {
            "error_x": {
             "color": "#2a3f5f"
            },
            "error_y": {
             "color": "#2a3f5f"
            },
            "marker": {
             "line": {
              "color": "#E5ECF6",
              "width": 0.5
             },
             "pattern": {
              "fillmode": "overlay",
              "size": 10,
              "solidity": 0.2
             }
            },
            "type": "bar"
           }
          ],
          "barpolar": [
           {
            "marker": {
             "line": {
              "color": "#E5ECF6",
              "width": 0.5
             },
             "pattern": {
              "fillmode": "overlay",
              "size": 10,
              "solidity": 0.2
             }
            },
            "type": "barpolar"
           }
          ],
          "carpet": [
           {
            "aaxis": {
             "endlinecolor": "#2a3f5f",
             "gridcolor": "white",
             "linecolor": "white",
             "minorgridcolor": "white",
             "startlinecolor": "#2a3f5f"
            },
            "baxis": {
             "endlinecolor": "#2a3f5f",
             "gridcolor": "white",
             "linecolor": "white",
             "minorgridcolor": "white",
             "startlinecolor": "#2a3f5f"
            },
            "type": "carpet"
           }
          ],
          "choropleth": [
           {
            "colorbar": {
             "outlinewidth": 0,
             "ticks": ""
            },
            "type": "choropleth"
           }
          ],
          "contour": [
           {
            "colorbar": {
             "outlinewidth": 0,
             "ticks": ""
            },
            "colorscale": [
             [
              0,
              "#0d0887"
             ],
             [
              0.1111111111111111,
              "#46039f"
             ],
             [
              0.2222222222222222,
              "#7201a8"
             ],
             [
              0.3333333333333333,
              "#9c179e"
             ],
             [
              0.4444444444444444,
              "#bd3786"
             ],
             [
              0.5555555555555556,
              "#d8576b"
             ],
             [
              0.6666666666666666,
              "#ed7953"
             ],
             [
              0.7777777777777778,
              "#fb9f3a"
             ],
             [
              0.8888888888888888,
              "#fdca26"
             ],
             [
              1,
              "#f0f921"
             ]
            ],
            "type": "contour"
           }
          ],
          "contourcarpet": [
           {
            "colorbar": {
             "outlinewidth": 0,
             "ticks": ""
            },
            "type": "contourcarpet"
           }
          ],
          "heatmap": [
           {
            "colorbar": {
             "outlinewidth": 0,
             "ticks": ""
            },
            "colorscale": [
             [
              0,
              "#0d0887"
             ],
             [
              0.1111111111111111,
              "#46039f"
             ],
             [
              0.2222222222222222,
              "#7201a8"
             ],
             [
              0.3333333333333333,
              "#9c179e"
             ],
             [
              0.4444444444444444,
              "#bd3786"
             ],
             [
              0.5555555555555556,
              "#d8576b"
             ],
             [
              0.6666666666666666,
              "#ed7953"
             ],
             [
              0.7777777777777778,
              "#fb9f3a"
             ],
             [
              0.8888888888888888,
              "#fdca26"
             ],
             [
              1,
              "#f0f921"
             ]
            ],
            "type": "heatmap"
           }
          ],
          "heatmapgl": [
           {
            "colorbar": {
             "outlinewidth": 0,
             "ticks": ""
            },
            "colorscale": [
             [
              0,
              "#0d0887"
             ],
             [
              0.1111111111111111,
              "#46039f"
             ],
             [
              0.2222222222222222,
              "#7201a8"
             ],
             [
              0.3333333333333333,
              "#9c179e"
             ],
             [
              0.4444444444444444,
              "#bd3786"
             ],
             [
              0.5555555555555556,
              "#d8576b"
             ],
             [
              0.6666666666666666,
              "#ed7953"
             ],
             [
              0.7777777777777778,
              "#fb9f3a"
             ],
             [
              0.8888888888888888,
              "#fdca26"
             ],
             [
              1,
              "#f0f921"
             ]
            ],
            "type": "heatmapgl"
           }
          ],
          "histogram": [
           {
            "marker": {
             "pattern": {
              "fillmode": "overlay",
              "size": 10,
              "solidity": 0.2
             }
            },
            "type": "histogram"
           }
          ],
          "histogram2d": [
           {
            "colorbar": {
             "outlinewidth": 0,
             "ticks": ""
            },
            "colorscale": [
             [
              0,
              "#0d0887"
             ],
             [
              0.1111111111111111,
              "#46039f"
             ],
             [
              0.2222222222222222,
              "#7201a8"
             ],
             [
              0.3333333333333333,
              "#9c179e"
             ],
             [
              0.4444444444444444,
              "#bd3786"
             ],
             [
              0.5555555555555556,
              "#d8576b"
             ],
             [
              0.6666666666666666,
              "#ed7953"
             ],
             [
              0.7777777777777778,
              "#fb9f3a"
             ],
             [
              0.8888888888888888,
              "#fdca26"
             ],
             [
              1,
              "#f0f921"
             ]
            ],
            "type": "histogram2d"
           }
          ],
          "histogram2dcontour": [
           {
            "colorbar": {
             "outlinewidth": 0,
             "ticks": ""
            },
            "colorscale": [
             [
              0,
              "#0d0887"
             ],
             [
              0.1111111111111111,
              "#46039f"
             ],
             [
              0.2222222222222222,
              "#7201a8"
             ],
             [
              0.3333333333333333,
              "#9c179e"
             ],
             [
              0.4444444444444444,
              "#bd3786"
             ],
             [
              0.5555555555555556,
              "#d8576b"
             ],
             [
              0.6666666666666666,
              "#ed7953"
             ],
             [
              0.7777777777777778,
              "#fb9f3a"
             ],
             [
              0.8888888888888888,
              "#fdca26"
             ],
             [
              1,
              "#f0f921"
             ]
            ],
            "type": "histogram2dcontour"
           }
          ],
          "mesh3d": [
           {
            "colorbar": {
             "outlinewidth": 0,
             "ticks": ""
            },
            "type": "mesh3d"
           }
          ],
          "parcoords": [
           {
            "line": {
             "colorbar": {
              "outlinewidth": 0,
              "ticks": ""
             }
            },
            "type": "parcoords"
           }
          ],
          "pie": [
           {
            "automargin": true,
            "type": "pie"
           }
          ],
          "scatter": [
           {
            "fillpattern": {
             "fillmode": "overlay",
             "size": 10,
             "solidity": 0.2
            },
            "type": "scatter"
           }
          ],
          "scatter3d": [
           {
            "line": {
             "colorbar": {
              "outlinewidth": 0,
              "ticks": ""
             }
            },
            "marker": {
             "colorbar": {
              "outlinewidth": 0,
              "ticks": ""
             }
            },
            "type": "scatter3d"
           }
          ],
          "scattercarpet": [
           {
            "marker": {
             "colorbar": {
              "outlinewidth": 0,
              "ticks": ""
             }
            },
            "type": "scattercarpet"
           }
          ],
          "scattergeo": [
           {
            "marker": {
             "colorbar": {
              "outlinewidth": 0,
              "ticks": ""
             }
            },
            "type": "scattergeo"
           }
          ],
          "scattergl": [
           {
            "marker": {
             "colorbar": {
              "outlinewidth": 0,
              "ticks": ""
             }
            },
            "type": "scattergl"
           }
          ],
          "scattermapbox": [
           {
            "marker": {
             "colorbar": {
              "outlinewidth": 0,
              "ticks": ""
             }
            },
            "type": "scattermapbox"
           }
          ],
          "scatterpolar": [
           {
            "marker": {
             "colorbar": {
              "outlinewidth": 0,
              "ticks": ""
             }
            },
            "type": "scatterpolar"
           }
          ],
          "scatterpolargl": [
           {
            "marker": {
             "colorbar": {
              "outlinewidth": 0,
              "ticks": ""
             }
            },
            "type": "scatterpolargl"
           }
          ],
          "scatterternary": [
           {
            "marker": {
             "colorbar": {
              "outlinewidth": 0,
              "ticks": ""
             }
            },
            "type": "scatterternary"
           }
          ],
          "surface": [
           {
            "colorbar": {
             "outlinewidth": 0,
             "ticks": ""
            },
            "colorscale": [
             [
              0,
              "#0d0887"
             ],
             [
              0.1111111111111111,
              "#46039f"
             ],
             [
              0.2222222222222222,
              "#7201a8"
             ],
             [
              0.3333333333333333,
              "#9c179e"
             ],
             [
              0.4444444444444444,
              "#bd3786"
             ],
             [
              0.5555555555555556,
              "#d8576b"
             ],
             [
              0.6666666666666666,
              "#ed7953"
             ],
             [
              0.7777777777777778,
              "#fb9f3a"
             ],
             [
              0.8888888888888888,
              "#fdca26"
             ],
             [
              1,
              "#f0f921"
             ]
            ],
            "type": "surface"
           }
          ],
          "table": [
           {
            "cells": {
             "fill": {
              "color": "#EBF0F8"
             },
             "line": {
              "color": "white"
             }
            },
            "header": {
             "fill": {
              "color": "#C8D4E3"
             },
             "line": {
              "color": "white"
             }
            },
            "type": "table"
           }
          ]
         },
         "layout": {
          "annotationdefaults": {
           "arrowcolor": "#2a3f5f",
           "arrowhead": 0,
           "arrowwidth": 1
          },
          "autotypenumbers": "strict",
          "coloraxis": {
           "colorbar": {
            "outlinewidth": 0,
            "ticks": ""
           }
          },
          "colorscale": {
           "diverging": [
            [
             0,
             "#8e0152"
            ],
            [
             0.1,
             "#c51b7d"
            ],
            [
             0.2,
             "#de77ae"
            ],
            [
             0.3,
             "#f1b6da"
            ],
            [
             0.4,
             "#fde0ef"
            ],
            [
             0.5,
             "#f7f7f7"
            ],
            [
             0.6,
             "#e6f5d0"
            ],
            [
             0.7,
             "#b8e186"
            ],
            [
             0.8,
             "#7fbc41"
            ],
            [
             0.9,
             "#4d9221"
            ],
            [
             1,
             "#276419"
            ]
           ],
           "sequential": [
            [
             0,
             "#0d0887"
            ],
            [
             0.1111111111111111,
             "#46039f"
            ],
            [
             0.2222222222222222,
             "#7201a8"
            ],
            [
             0.3333333333333333,
             "#9c179e"
            ],
            [
             0.4444444444444444,
             "#bd3786"
            ],
            [
             0.5555555555555556,
             "#d8576b"
            ],
            [
             0.6666666666666666,
             "#ed7953"
            ],
            [
             0.7777777777777778,
             "#fb9f3a"
            ],
            [
             0.8888888888888888,
             "#fdca26"
            ],
            [
             1,
             "#f0f921"
            ]
           ],
           "sequentialminus": [
            [
             0,
             "#0d0887"
            ],
            [
             0.1111111111111111,
             "#46039f"
            ],
            [
             0.2222222222222222,
             "#7201a8"
            ],
            [
             0.3333333333333333,
             "#9c179e"
            ],
            [
             0.4444444444444444,
             "#bd3786"
            ],
            [
             0.5555555555555556,
             "#d8576b"
            ],
            [
             0.6666666666666666,
             "#ed7953"
            ],
            [
             0.7777777777777778,
             "#fb9f3a"
            ],
            [
             0.8888888888888888,
             "#fdca26"
            ],
            [
             1,
             "#f0f921"
            ]
           ]
          },
          "colorway": [
           "#636efa",
           "#EF553B",
           "#00cc96",
           "#ab63fa",
           "#FFA15A",
           "#19d3f3",
           "#FF6692",
           "#B6E880",
           "#FF97FF",
           "#FECB52"
          ],
          "font": {
           "color": "#2a3f5f"
          },
          "geo": {
           "bgcolor": "white",
           "lakecolor": "white",
           "landcolor": "#E5ECF6",
           "showlakes": true,
           "showland": true,
           "subunitcolor": "white"
          },
          "hoverlabel": {
           "align": "left"
          },
          "hovermode": "closest",
          "mapbox": {
           "style": "light"
          },
          "paper_bgcolor": "white",
          "plot_bgcolor": "#E5ECF6",
          "polar": {
           "angularaxis": {
            "gridcolor": "white",
            "linecolor": "white",
            "ticks": ""
           },
           "bgcolor": "#E5ECF6",
           "radialaxis": {
            "gridcolor": "white",
            "linecolor": "white",
            "ticks": ""
           }
          },
          "scene": {
           "xaxis": {
            "backgroundcolor": "#E5ECF6",
            "gridcolor": "white",
            "gridwidth": 2,
            "linecolor": "white",
            "showbackground": true,
            "ticks": "",
            "zerolinecolor": "white"
           },
           "yaxis": {
            "backgroundcolor": "#E5ECF6",
            "gridcolor": "white",
            "gridwidth": 2,
            "linecolor": "white",
            "showbackground": true,
            "ticks": "",
            "zerolinecolor": "white"
           },
           "zaxis": {
            "backgroundcolor": "#E5ECF6",
            "gridcolor": "white",
            "gridwidth": 2,
            "linecolor": "white",
            "showbackground": true,
            "ticks": "",
            "zerolinecolor": "white"
           }
          },
          "shapedefaults": {
           "line": {
            "color": "#2a3f5f"
           }
          },
          "ternary": {
           "aaxis": {
            "gridcolor": "white",
            "linecolor": "white",
            "ticks": ""
           },
           "baxis": {
            "gridcolor": "white",
            "linecolor": "white",
            "ticks": ""
           },
           "bgcolor": "#E5ECF6",
           "caxis": {
            "gridcolor": "white",
            "linecolor": "white",
            "ticks": ""
           }
          },
          "title": {
           "x": 0.05
          },
          "xaxis": {
           "automargin": true,
           "gridcolor": "white",
           "linecolor": "white",
           "ticks": "",
           "title": {
            "standoff": 15
           },
           "zerolinecolor": "white",
           "zerolinewidth": 2
          },
          "yaxis": {
           "automargin": true,
           "gridcolor": "white",
           "linecolor": "white",
           "ticks": "",
           "title": {
            "standoff": 15
           },
           "zerolinecolor": "white",
           "zerolinewidth": 2
          }
         }
        },
        "title": {
         "font": {
          "color": "#4D5663"
         }
        },
        "xaxis": {
         "gridcolor": "#E1E5ED",
         "showgrid": true,
         "tickfont": {
          "color": "#4D5663"
         },
         "title": {
          "font": {
           "color": "#4D5663"
          },
          "text": ""
         },
         "zerolinecolor": "#E1E5ED"
        },
        "yaxis": {
         "gridcolor": "#E1E5ED",
         "showgrid": true,
         "tickfont": {
          "color": "#4D5663"
         },
         "title": {
          "font": {
           "color": "#4D5663"
          },
          "text": ""
         },
         "zerolinecolor": "#E1E5ED"
        }
       }
      },
      "text/html": [
       "<div>                            <div id=\"90a2b8d2-6e65-4e27-afd9-24abef767537\" class=\"plotly-graph-div\" style=\"height:525px; width:100%;\"></div>            <script type=\"text/javascript\">                require([\"plotly\"], function(Plotly) {                    window.PLOTLYENV=window.PLOTLYENV || {};\n",
       "                    window.PLOTLYENV.BASE_URL='https://plotly.com';                                    if (document.getElementById(\"90a2b8d2-6e65-4e27-afd9-24abef767537\")) {                    Plotly.newPlot(                        \"90a2b8d2-6e65-4e27-afd9-24abef767537\",                        [{\"marker\":{\"color\":[\"rgb(255, 153, 51)\",\"rgb(55, 128, 191)\",\"rgb(50, 171, 96)\",\"rgb(128, 0, 128)\",\"rgb(219, 64, 82)\",\"rgb(0, 128, 128)\",\"rgb(255, 255, 51)\",\"rgb(128, 128, 0)\",\"rgb(251, 128, 114)\",\"rgb(128, 177, 211)\"],\"line\":{\"width\":1.3},\"size\":[79,85,58,41,74,60,51,64,74,56,26,59,53,41,60,63,49,40,40,95,68,58,77,54,30,112,31,52,12,57,95,43,77,69,43,48,79,66,48,96,23,71,73,44,33,61,51,47,51,67,37,23,35,52,86,44,46,67,64,75,63,24,43,73,95,47,82,48,34,60,42,70,54,70,72,67,35,17,35,59,24,45,42,30,70,78,72,44,62,49,78,74,16,71,44,74,83,82,77,56],\"symbol\":\"circle\"},\"mode\":\"markers\",\"text\":\"\",\"x\":[-0.40615102691201077,-0.47999536952712385,-0.731589452209614,0.5879553428621914,-1.8568953718148897,0.9852963397699704,-0.4565079483975351,0.8985744483888078,-1.880550197114006,-2.495067192414269,0.24318773794361037,-2.278949369698818,-0.5490311250307648,0.14532734122867813,0.16276002203759868,-1.0591320920484073,0.05372109359972695,0.2035258413077142,-2.4564801144392163,0.006562014766148572,1.8299109338952464,-0.9675701363179834,1.0541841654244393,0.20884013344601376,-1.3891116084425656,0.27161097959040503,2.1283430566163135,-0.22494485238235143,-0.09599443616592065,-0.47463986288576715,-1.7001685826280957,-1.339622451274522,0.14880307684214328,-1.502406867092294,0.6697628491897455,1.6736896598940452,-1.1242305900000233,1.2716030457108993,-0.020503495668329225,-0.6004282275431292,-1.610798298038356,-0.7126845047666951,-0.25276036273175184,-0.31036598996075493,0.27657442247611386,0.36475971678819463,-0.3032001827072675,0.28120037852816376,-1.057923800745797,-0.7299540132790762,-1.0364219628836993,2.4916267759664805,1.1629521913280154,2.0054327257594626,-0.23891835735830366,-0.08667481619810505,0.1821673126387374,-0.9087506411647428,-0.2175223804697042,1.0366653428718404,-1.1387376153306084,-1.3134795663116043,-0.3109333372518202,-0.11731364062957415,-0.10397752332154095,0.17357286910884961,1.125123233663803,-0.18371208575837503,0.7475189213297856,-1.8732934204335845,0.3349278560198267,1.626356126253646,0.04965422963422056,-0.4617720171349,0.25881350378239626,-0.6898896998105463,0.7647345988279457,0.44480407531461874,0.09985660770502092,0.1461906720821347,0.04340642890250446,-0.10569764171165204,-2.5186919527957294,0.402553363843015,-1.1885416932522634,1.7141212243739197,0.6790642180576574,1.1679009178651383,-1.0087877679657051,-0.19813583121524153,0.9851166891438866,-0.0118683102180748,-0.44242679362729026,-0.05957237410520343,-0.8011467122356221,-0.27444702043341096,-1.8845227330028054,0.663868967586431,-0.29563990016503844,0.018384161821900682],\"y\":[0.33469028609462786,-0.4747720494047677,-0.8910492574030071,-0.6562947499843159,1.0975595283397657,-0.08492187787388085,0.834157942765214,0.8261256825901863,0.4632193771172654,0.2118406780817216,-0.18660521525359663,-0.8772109585438541,0.9001431742247843,0.43622225877058113,0.3505049904764363,0.9315658697409118,-1.946983553008016,0.7644568957313809,-0.12255099035106522,0.18500821089394304,0.6312321003475739,-1.3583124190159115,0.6879322926800804,-0.340566305221331,1.10044477146272,-1.0455648116827128,0.3952180495751735,0.6896877211682053,-0.5155403800669799,1.4785314007970745,-1.0649728817509585,1.7852829028741184,0.8570954275978809,2.173712498989926,-1.0582631927924049,0.4985565174744666,-0.4473289358096288,0.4025239189309213,-0.15564462003233068,0.5381832495099379,-1.2214341198324867,-0.31187895934241877,1.024480489586102,-0.9575439080616085,1.2319230093188827,0.8433090402248943,-0.1743727135083682,-0.516081714378001,-0.05238583944339358,-0.09322087115568396,-1.3402000293873717,-2.349049257706284,-1.2853922081306273,-0.41339815261901414,-0.7700945857764542,1.6608970953042417,0.6176112005319743,-0.8202041643220608,-1.7363664986014162,0.12947655833098984,-1.2343545924493855,-0.3730297008989098,-0.3096507505421561,-0.9790966487903674,0.34996075464019377,2.380102070380568,-0.2440263432978862,0.7681940478056901,1.3570398145585194,-0.20157140820039438,0.2877302953363688,0.16851948185688861,-0.5644038341545653,0.9231079850639387,-0.944506176873885,1.054446152533765,-0.7207904072238942,0.4365114891422287,2.338324940574144,1.0257780537771517,-1.1618978051757043,-1.6327091540232865,0.9509386746206595,1.0231396871331329,0.3118062700792768,-2.4097800983317152,0.7571883722250382,0.4131747981644347,-1.455075148971204,-0.21915229540259684,0.4578621056720926,0.16564240034126468,-1.237646345341587,-1.8175037223783308,-0.7467476602610285,-0.08434524550962558,-1.9690707808886958,-1.160972757919005,-0.23118107997338297,-0.6316562531717944],\"type\":\"scatter\"}],                        {\"legend\":{\"bgcolor\":\"#F5F6F9\",\"font\":{\"color\":\"#4D5663\"}},\"paper_bgcolor\":\"#F5F6F9\",\"plot_bgcolor\":\"#F5F6F9\",\"template\":{\"data\":{\"barpolar\":[{\"marker\":{\"line\":{\"color\":\"#E5ECF6\",\"width\":0.5},\"pattern\":{\"fillmode\":\"overlay\",\"size\":10,\"solidity\":0.2}},\"type\":\"barpolar\"}],\"bar\":[{\"error_x\":{\"color\":\"#2a3f5f\"},\"error_y\":{\"color\":\"#2a3f5f\"},\"marker\":{\"line\":{\"color\":\"#E5ECF6\",\"width\":0.5},\"pattern\":{\"fillmode\":\"overlay\",\"size\":10,\"solidity\":0.2}},\"type\":\"bar\"}],\"carpet\":[{\"aaxis\":{\"endlinecolor\":\"#2a3f5f\",\"gridcolor\":\"white\",\"linecolor\":\"white\",\"minorgridcolor\":\"white\",\"startlinecolor\":\"#2a3f5f\"},\"baxis\":{\"endlinecolor\":\"#2a3f5f\",\"gridcolor\":\"white\",\"linecolor\":\"white\",\"minorgridcolor\":\"white\",\"startlinecolor\":\"#2a3f5f\"},\"type\":\"carpet\"}],\"choropleth\":[{\"colorbar\":{\"outlinewidth\":0,\"ticks\":\"\"},\"type\":\"choropleth\"}],\"contourcarpet\":[{\"colorbar\":{\"outlinewidth\":0,\"ticks\":\"\"},\"type\":\"contourcarpet\"}],\"contour\":[{\"colorbar\":{\"outlinewidth\":0,\"ticks\":\"\"},\"colorscale\":[[0.0,\"#0d0887\"],[0.1111111111111111,\"#46039f\"],[0.2222222222222222,\"#7201a8\"],[0.3333333333333333,\"#9c179e\"],[0.4444444444444444,\"#bd3786\"],[0.5555555555555556,\"#d8576b\"],[0.6666666666666666,\"#ed7953\"],[0.7777777777777778,\"#fb9f3a\"],[0.8888888888888888,\"#fdca26\"],[1.0,\"#f0f921\"]],\"type\":\"contour\"}],\"heatmapgl\":[{\"colorbar\":{\"outlinewidth\":0,\"ticks\":\"\"},\"colorscale\":[[0.0,\"#0d0887\"],[0.1111111111111111,\"#46039f\"],[0.2222222222222222,\"#7201a8\"],[0.3333333333333333,\"#9c179e\"],[0.4444444444444444,\"#bd3786\"],[0.5555555555555556,\"#d8576b\"],[0.6666666666666666,\"#ed7953\"],[0.7777777777777778,\"#fb9f3a\"],[0.8888888888888888,\"#fdca26\"],[1.0,\"#f0f921\"]],\"type\":\"heatmapgl\"}],\"heatmap\":[{\"colorbar\":{\"outlinewidth\":0,\"ticks\":\"\"},\"colorscale\":[[0.0,\"#0d0887\"],[0.1111111111111111,\"#46039f\"],[0.2222222222222222,\"#7201a8\"],[0.3333333333333333,\"#9c179e\"],[0.4444444444444444,\"#bd3786\"],[0.5555555555555556,\"#d8576b\"],[0.6666666666666666,\"#ed7953\"],[0.7777777777777778,\"#fb9f3a\"],[0.8888888888888888,\"#fdca26\"],[1.0,\"#f0f921\"]],\"type\":\"heatmap\"}],\"histogram2dcontour\":[{\"colorbar\":{\"outlinewidth\":0,\"ticks\":\"\"},\"colorscale\":[[0.0,\"#0d0887\"],[0.1111111111111111,\"#46039f\"],[0.2222222222222222,\"#7201a8\"],[0.3333333333333333,\"#9c179e\"],[0.4444444444444444,\"#bd3786\"],[0.5555555555555556,\"#d8576b\"],[0.6666666666666666,\"#ed7953\"],[0.7777777777777778,\"#fb9f3a\"],[0.8888888888888888,\"#fdca26\"],[1.0,\"#f0f921\"]],\"type\":\"histogram2dcontour\"}],\"histogram2d\":[{\"colorbar\":{\"outlinewidth\":0,\"ticks\":\"\"},\"colorscale\":[[0.0,\"#0d0887\"],[0.1111111111111111,\"#46039f\"],[0.2222222222222222,\"#7201a8\"],[0.3333333333333333,\"#9c179e\"],[0.4444444444444444,\"#bd3786\"],[0.5555555555555556,\"#d8576b\"],[0.6666666666666666,\"#ed7953\"],[0.7777777777777778,\"#fb9f3a\"],[0.8888888888888888,\"#fdca26\"],[1.0,\"#f0f921\"]],\"type\":\"histogram2d\"}],\"histogram\":[{\"marker\":{\"pattern\":{\"fillmode\":\"overlay\",\"size\":10,\"solidity\":0.2}},\"type\":\"histogram\"}],\"mesh3d\":[{\"colorbar\":{\"outlinewidth\":0,\"ticks\":\"\"},\"type\":\"mesh3d\"}],\"parcoords\":[{\"line\":{\"colorbar\":{\"outlinewidth\":0,\"ticks\":\"\"}},\"type\":\"parcoords\"}],\"pie\":[{\"automargin\":true,\"type\":\"pie\"}],\"scatter3d\":[{\"line\":{\"colorbar\":{\"outlinewidth\":0,\"ticks\":\"\"}},\"marker\":{\"colorbar\":{\"outlinewidth\":0,\"ticks\":\"\"}},\"type\":\"scatter3d\"}],\"scattercarpet\":[{\"marker\":{\"colorbar\":{\"outlinewidth\":0,\"ticks\":\"\"}},\"type\":\"scattercarpet\"}],\"scattergeo\":[{\"marker\":{\"colorbar\":{\"outlinewidth\":0,\"ticks\":\"\"}},\"type\":\"scattergeo\"}],\"scattergl\":[{\"marker\":{\"colorbar\":{\"outlinewidth\":0,\"ticks\":\"\"}},\"type\":\"scattergl\"}],\"scattermapbox\":[{\"marker\":{\"colorbar\":{\"outlinewidth\":0,\"ticks\":\"\"}},\"type\":\"scattermapbox\"}],\"scatterpolargl\":[{\"marker\":{\"colorbar\":{\"outlinewidth\":0,\"ticks\":\"\"}},\"type\":\"scatterpolargl\"}],\"scatterpolar\":[{\"marker\":{\"colorbar\":{\"outlinewidth\":0,\"ticks\":\"\"}},\"type\":\"scatterpolar\"}],\"scatter\":[{\"fillpattern\":{\"fillmode\":\"overlay\",\"size\":10,\"solidity\":0.2},\"type\":\"scatter\"}],\"scatterternary\":[{\"marker\":{\"colorbar\":{\"outlinewidth\":0,\"ticks\":\"\"}},\"type\":\"scatterternary\"}],\"surface\":[{\"colorbar\":{\"outlinewidth\":0,\"ticks\":\"\"},\"colorscale\":[[0.0,\"#0d0887\"],[0.1111111111111111,\"#46039f\"],[0.2222222222222222,\"#7201a8\"],[0.3333333333333333,\"#9c179e\"],[0.4444444444444444,\"#bd3786\"],[0.5555555555555556,\"#d8576b\"],[0.6666666666666666,\"#ed7953\"],[0.7777777777777778,\"#fb9f3a\"],[0.8888888888888888,\"#fdca26\"],[1.0,\"#f0f921\"]],\"type\":\"surface\"}],\"table\":[{\"cells\":{\"fill\":{\"color\":\"#EBF0F8\"},\"line\":{\"color\":\"white\"}},\"header\":{\"fill\":{\"color\":\"#C8D4E3\"},\"line\":{\"color\":\"white\"}},\"type\":\"table\"}]},\"layout\":{\"annotationdefaults\":{\"arrowcolor\":\"#2a3f5f\",\"arrowhead\":0,\"arrowwidth\":1},\"autotypenumbers\":\"strict\",\"coloraxis\":{\"colorbar\":{\"outlinewidth\":0,\"ticks\":\"\"}},\"colorscale\":{\"diverging\":[[0,\"#8e0152\"],[0.1,\"#c51b7d\"],[0.2,\"#de77ae\"],[0.3,\"#f1b6da\"],[0.4,\"#fde0ef\"],[0.5,\"#f7f7f7\"],[0.6,\"#e6f5d0\"],[0.7,\"#b8e186\"],[0.8,\"#7fbc41\"],[0.9,\"#4d9221\"],[1,\"#276419\"]],\"sequential\":[[0.0,\"#0d0887\"],[0.1111111111111111,\"#46039f\"],[0.2222222222222222,\"#7201a8\"],[0.3333333333333333,\"#9c179e\"],[0.4444444444444444,\"#bd3786\"],[0.5555555555555556,\"#d8576b\"],[0.6666666666666666,\"#ed7953\"],[0.7777777777777778,\"#fb9f3a\"],[0.8888888888888888,\"#fdca26\"],[1.0,\"#f0f921\"]],\"sequentialminus\":[[0.0,\"#0d0887\"],[0.1111111111111111,\"#46039f\"],[0.2222222222222222,\"#7201a8\"],[0.3333333333333333,\"#9c179e\"],[0.4444444444444444,\"#bd3786\"],[0.5555555555555556,\"#d8576b\"],[0.6666666666666666,\"#ed7953\"],[0.7777777777777778,\"#fb9f3a\"],[0.8888888888888888,\"#fdca26\"],[1.0,\"#f0f921\"]]},\"colorway\":[\"#636efa\",\"#EF553B\",\"#00cc96\",\"#ab63fa\",\"#FFA15A\",\"#19d3f3\",\"#FF6692\",\"#B6E880\",\"#FF97FF\",\"#FECB52\"],\"font\":{\"color\":\"#2a3f5f\"},\"geo\":{\"bgcolor\":\"white\",\"lakecolor\":\"white\",\"landcolor\":\"#E5ECF6\",\"showlakes\":true,\"showland\":true,\"subunitcolor\":\"white\"},\"hoverlabel\":{\"align\":\"left\"},\"hovermode\":\"closest\",\"mapbox\":{\"style\":\"light\"},\"paper_bgcolor\":\"white\",\"plot_bgcolor\":\"#E5ECF6\",\"polar\":{\"angularaxis\":{\"gridcolor\":\"white\",\"linecolor\":\"white\",\"ticks\":\"\"},\"bgcolor\":\"#E5ECF6\",\"radialaxis\":{\"gridcolor\":\"white\",\"linecolor\":\"white\",\"ticks\":\"\"}},\"scene\":{\"xaxis\":{\"backgroundcolor\":\"#E5ECF6\",\"gridcolor\":\"white\",\"gridwidth\":2,\"linecolor\":\"white\",\"showbackground\":true,\"ticks\":\"\",\"zerolinecolor\":\"white\"},\"yaxis\":{\"backgroundcolor\":\"#E5ECF6\",\"gridcolor\":\"white\",\"gridwidth\":2,\"linecolor\":\"white\",\"showbackground\":true,\"ticks\":\"\",\"zerolinecolor\":\"white\"},\"zaxis\":{\"backgroundcolor\":\"#E5ECF6\",\"gridcolor\":\"white\",\"gridwidth\":2,\"linecolor\":\"white\",\"showbackground\":true,\"ticks\":\"\",\"zerolinecolor\":\"white\"}},\"shapedefaults\":{\"line\":{\"color\":\"#2a3f5f\"}},\"ternary\":{\"aaxis\":{\"gridcolor\":\"white\",\"linecolor\":\"white\",\"ticks\":\"\"},\"baxis\":{\"gridcolor\":\"white\",\"linecolor\":\"white\",\"ticks\":\"\"},\"bgcolor\":\"#E5ECF6\",\"caxis\":{\"gridcolor\":\"white\",\"linecolor\":\"white\",\"ticks\":\"\"}},\"title\":{\"x\":0.05},\"xaxis\":{\"automargin\":true,\"gridcolor\":\"white\",\"linecolor\":\"white\",\"ticks\":\"\",\"title\":{\"standoff\":15},\"zerolinecolor\":\"white\",\"zerolinewidth\":2},\"yaxis\":{\"automargin\":true,\"gridcolor\":\"white\",\"linecolor\":\"white\",\"ticks\":\"\",\"title\":{\"standoff\":15},\"zerolinecolor\":\"white\",\"zerolinewidth\":2}}},\"title\":{\"font\":{\"color\":\"#4D5663\"}},\"xaxis\":{\"gridcolor\":\"#E1E5ED\",\"showgrid\":true,\"tickfont\":{\"color\":\"#4D5663\"},\"title\":{\"font\":{\"color\":\"#4D5663\"},\"text\":\"\"},\"zerolinecolor\":\"#E1E5ED\"},\"yaxis\":{\"gridcolor\":\"#E1E5ED\",\"showgrid\":true,\"tickfont\":{\"color\":\"#4D5663\"},\"title\":{\"font\":{\"color\":\"#4D5663\"},\"text\":\"\"},\"zerolinecolor\":\"#E1E5ED\"}},                        {\"showLink\": true, \"linkText\": \"Export to plotly.com\", \"plotlyServerURL\": \"https://plotly.com\", \"responsive\": true}                    ).then(function(){\n",
       "                            \n",
       "var gd = document.getElementById('90a2b8d2-6e65-4e27-afd9-24abef767537');\n",
       "var x = new MutationObserver(function (mutations, observer) {{\n",
       "        var display = window.getComputedStyle(gd).display;\n",
       "        if (!display || display === 'none') {{\n",
       "            console.log([gd, 'removed!']);\n",
       "            Plotly.purge(gd);\n",
       "            observer.disconnect();\n",
       "        }}\n",
       "}});\n",
       "\n",
       "// Listen for the removal of the full notebook cells\n",
       "var notebookContainer = gd.closest('#notebook-container');\n",
       "if (notebookContainer) {{\n",
       "    x.observe(notebookContainer, {childList: true});\n",
       "}}\n",
       "\n",
       "// Listen for the clearing of the current output cell\n",
       "var outputEl = gd.closest('.output');\n",
       "if (outputEl) {{\n",
       "    x.observe(outputEl, {childList: true});\n",
       "}}\n",
       "\n",
       "                        })                };                });            </script>        </div>"
      ]
     },
     "metadata": {},
     "output_type": "display_data"
    }
   ],
   "source": [
    "#bubble\n",
    "df.iplot(kind='bubble', x='A', y='B', size='C')"
   ]
  },
  {
   "cell_type": "code",
   "execution_count": 48,
   "id": "4e3c5304",
   "metadata": {},
   "outputs": [
    {
     "data": {
      "application/vnd.plotly.v1+json": {
       "config": {
        "linkText": "Export to plotly.com",
        "plotlyServerURL": "https://plotly.com",
        "showLink": true
       },
       "data": [
        {
         "histfunc": "count",
         "histnorm": "",
         "marker": {
          "color": "rgba(255, 153, 51, 1.0)",
          "line": {
           "color": "#4D5663",
           "width": 1.3
          }
         },
         "name": "A",
         "nbinsx": 10,
         "opacity": 0.8,
         "orientation": "v",
         "type": "histogram",
         "x": [
          -0.40615102691201077,
          -0.47999536952712385,
          -0.731589452209614,
          0.5879553428621914,
          -1.8568953718148897,
          0.9852963397699704,
          -0.4565079483975351,
          0.8985744483888078,
          -1.880550197114006,
          -2.495067192414269,
          0.24318773794361037,
          -2.278949369698818,
          -0.5490311250307648,
          0.14532734122867813,
          0.16276002203759868,
          -1.0591320920484073,
          0.05372109359972695,
          0.2035258413077142,
          -2.4564801144392163,
          0.006562014766148572,
          1.8299109338952464,
          -0.9675701363179834,
          1.0541841654244393,
          0.20884013344601376,
          -1.3891116084425656,
          0.27161097959040503,
          2.1283430566163135,
          -0.22494485238235143,
          -0.09599443616592065,
          -0.47463986288576715,
          -1.7001685826280957,
          -1.339622451274522,
          0.14880307684214328,
          -1.502406867092294,
          0.6697628491897455,
          1.6736896598940452,
          -1.1242305900000233,
          1.2716030457108993,
          -0.020503495668329225,
          -0.6004282275431292,
          -1.610798298038356,
          -0.7126845047666951,
          -0.25276036273175184,
          -0.31036598996075493,
          0.27657442247611386,
          0.36475971678819463,
          -0.3032001827072675,
          0.28120037852816376,
          -1.057923800745797,
          -0.7299540132790762,
          -1.0364219628836993,
          2.4916267759664805,
          1.1629521913280154,
          2.0054327257594626,
          -0.23891835735830366,
          -0.08667481619810505,
          0.1821673126387374,
          -0.9087506411647428,
          -0.2175223804697042,
          1.0366653428718404,
          -1.1387376153306084,
          -1.3134795663116043,
          -0.3109333372518202,
          -0.11731364062957415,
          -0.10397752332154095,
          0.17357286910884961,
          1.125123233663803,
          -0.18371208575837503,
          0.7475189213297856,
          -1.8732934204335845,
          0.3349278560198267,
          1.626356126253646,
          0.04965422963422056,
          -0.4617720171349,
          0.25881350378239626,
          -0.6898896998105463,
          0.7647345988279457,
          0.44480407531461874,
          0.09985660770502092,
          0.1461906720821347,
          0.04340642890250446,
          -0.10569764171165204,
          -2.5186919527957294,
          0.402553363843015,
          -1.1885416932522634,
          1.7141212243739197,
          0.6790642180576574,
          1.1679009178651383,
          -1.0087877679657051,
          -0.19813583121524153,
          0.9851166891438866,
          -0.0118683102180748,
          -0.44242679362729026,
          -0.05957237410520343,
          -0.8011467122356221,
          -0.27444702043341096,
          -1.8845227330028054,
          0.663868967586431,
          -0.29563990016503844,
          0.018384161821900682
         ],
         "xaxis": "x",
         "yaxis": "y"
        },
        {
         "line": {
          "color": "rgba(128, 128, 128, 1.0)",
          "dash": "solid",
          "shape": "linear",
          "width": 1.3
         },
         "marker": {
          "size": 2,
          "symbol": "circle"
         },
         "mode": "markers",
         "name": "A",
         "text": "",
         "type": "scatter",
         "x": [
          0.33469028609462786,
          -0.4747720494047677,
          -0.8910492574030071,
          -0.6562947499843159,
          1.0975595283397657,
          -0.08492187787388085,
          0.834157942765214,
          0.8261256825901863,
          0.4632193771172654,
          0.2118406780817216,
          -0.18660521525359663,
          -0.8772109585438541,
          0.9001431742247843,
          0.43622225877058113,
          0.3505049904764363,
          0.9315658697409118,
          -1.946983553008016,
          0.7644568957313809,
          -0.12255099035106522,
          0.18500821089394304,
          0.6312321003475739,
          -1.3583124190159115,
          0.6879322926800804,
          -0.340566305221331,
          1.10044477146272,
          -1.0455648116827128,
          0.3952180495751735,
          0.6896877211682053,
          -0.5155403800669799,
          1.4785314007970745,
          -1.0649728817509585,
          1.7852829028741184,
          0.8570954275978809,
          2.173712498989926,
          -1.0582631927924049,
          0.4985565174744666,
          -0.4473289358096288,
          0.4025239189309213,
          -0.15564462003233068,
          0.5381832495099379,
          -1.2214341198324867,
          -0.31187895934241877,
          1.024480489586102,
          -0.9575439080616085,
          1.2319230093188827,
          0.8433090402248943,
          -0.1743727135083682,
          -0.516081714378001,
          -0.05238583944339358,
          -0.09322087115568396,
          -1.3402000293873717,
          -2.349049257706284,
          -1.2853922081306273,
          -0.41339815261901414,
          -0.7700945857764542,
          1.6608970953042417,
          0.6176112005319743,
          -0.8202041643220608,
          -1.7363664986014162,
          0.12947655833098984,
          -1.2343545924493855,
          -0.3730297008989098,
          -0.3096507505421561,
          -0.9790966487903674,
          0.34996075464019377,
          2.380102070380568,
          -0.2440263432978862,
          0.7681940478056901,
          1.3570398145585194,
          -0.20157140820039438,
          0.2877302953363688,
          0.16851948185688861,
          -0.5644038341545653,
          0.9231079850639387,
          -0.944506176873885,
          1.054446152533765,
          -0.7207904072238942,
          0.4365114891422287,
          2.338324940574144,
          1.0257780537771517,
          -1.1618978051757043,
          -1.6327091540232865,
          0.9509386746206595,
          1.0231396871331329,
          0.3118062700792768,
          -2.4097800983317152,
          0.7571883722250382,
          0.4131747981644347,
          -1.455075148971204,
          -0.21915229540259684,
          0.4578621056720926,
          0.16564240034126468,
          -1.237646345341587,
          -1.8175037223783308,
          -0.7467476602610285,
          -0.08434524550962558,
          -1.9690707808886958,
          -1.160972757919005,
          -0.23118107997338297,
          -0.6316562531717944
         ],
         "xaxis": "x2",
         "y": [
          -0.40615102691201077,
          -0.47999536952712385,
          -0.731589452209614,
          0.5879553428621914,
          -1.8568953718148897,
          0.9852963397699704,
          -0.4565079483975351,
          0.8985744483888078,
          -1.880550197114006,
          -2.495067192414269,
          0.24318773794361037,
          -2.278949369698818,
          -0.5490311250307648,
          0.14532734122867813,
          0.16276002203759868,
          -1.0591320920484073,
          0.05372109359972695,
          0.2035258413077142,
          -2.4564801144392163,
          0.006562014766148572,
          1.8299109338952464,
          -0.9675701363179834,
          1.0541841654244393,
          0.20884013344601376,
          -1.3891116084425656,
          0.27161097959040503,
          2.1283430566163135,
          -0.22494485238235143,
          -0.09599443616592065,
          -0.47463986288576715,
          -1.7001685826280957,
          -1.339622451274522,
          0.14880307684214328,
          -1.502406867092294,
          0.6697628491897455,
          1.6736896598940452,
          -1.1242305900000233,
          1.2716030457108993,
          -0.020503495668329225,
          -0.6004282275431292,
          -1.610798298038356,
          -0.7126845047666951,
          -0.25276036273175184,
          -0.31036598996075493,
          0.27657442247611386,
          0.36475971678819463,
          -0.3032001827072675,
          0.28120037852816376,
          -1.057923800745797,
          -0.7299540132790762,
          -1.0364219628836993,
          2.4916267759664805,
          1.1629521913280154,
          2.0054327257594626,
          -0.23891835735830366,
          -0.08667481619810505,
          0.1821673126387374,
          -0.9087506411647428,
          -0.2175223804697042,
          1.0366653428718404,
          -1.1387376153306084,
          -1.3134795663116043,
          -0.3109333372518202,
          -0.11731364062957415,
          -0.10397752332154095,
          0.17357286910884961,
          1.125123233663803,
          -0.18371208575837503,
          0.7475189213297856,
          -1.8732934204335845,
          0.3349278560198267,
          1.626356126253646,
          0.04965422963422056,
          -0.4617720171349,
          0.25881350378239626,
          -0.6898896998105463,
          0.7647345988279457,
          0.44480407531461874,
          0.09985660770502092,
          0.1461906720821347,
          0.04340642890250446,
          -0.10569764171165204,
          -2.5186919527957294,
          0.402553363843015,
          -1.1885416932522634,
          1.7141212243739197,
          0.6790642180576574,
          1.1679009178651383,
          -1.0087877679657051,
          -0.19813583121524153,
          0.9851166891438866,
          -0.0118683102180748,
          -0.44242679362729026,
          -0.05957237410520343,
          -0.8011467122356221,
          -0.27444702043341096,
          -1.8845227330028054,
          0.663868967586431,
          -0.29563990016503844,
          0.018384161821900682
         ],
         "yaxis": "y2"
        },
        {
         "line": {
          "color": "rgba(128, 128, 128, 1.0)",
          "dash": "solid",
          "shape": "linear",
          "width": 1.3
         },
         "marker": {
          "size": 2,
          "symbol": "circle"
         },
         "mode": "markers",
         "name": "A",
         "text": "",
         "type": "scatter",
         "x": [
          1.1737362333207728,
          1.5562612868774497,
          -0.014477400798201173,
          -0.9949081729820747,
          0.9357459497680499,
          0.12646190131838267,
          -0.3954971678824292,
          0.3430957446539166,
          0.9237407892776045,
          -0.09657627920969948,
          -1.8243055412777374,
          0.051993637559908906,
          -0.2727456870221832,
          -0.986463898356433,
          0.08565836080338578,
          0.2595033891481982,
          -0.5252644450116665,
          -1.0606034120376318,
          -1.0531339863226663,
          2.124426303973373,
          0.5386756257920999,
          -0.007511511275262967,
          1.1119203435398002,
          -0.23992367881368432,
          -1.6306447669964903,
          3.06700850806012,
          -1.5686351092233557,
          -0.3303055960327883,
          -2.6799375854206735,
          -0.059681128683770214,
          2.091684394948725,
          -0.8967544340093194,
          1.09190837290732,
          0.6071660132691131,
          -0.8682215185106045,
          -0.5929683036738767,
          1.1858783986893462,
          0.4364224172106424,
          -0.5607058909568162,
          2.2031077947680973,
          -2.0009293881751598,
          0.7424893040701714,
          0.8393707588892446,
          -0.816004938619743,
          -1.4229672866936136,
          0.16767953911777858,
          -0.3836304305107007,
          -0.6530503240203627,
          -0.4032092701394886,
          0.49550149133083987,
          -1.2219788650504726,
          -2.01711399525827,
          -1.3501399942480863,
          -0.3340565386962628,
          1.6208031740714461,
          -0.81865148507276,
          -0.7007388233092041,
          0.5136785611995491,
          0.35171848335376976,
          0.9435753712354081,
          0.27369781840798585,
          -1.9524180893392744,
          -0.8624643631571148,
          0.8430570654922642,
          2.1323244795491156,
          -0.6288100804146632,
          1.3589889331060612,
          -0.557235992767454,
          -1.3792429504800554,
          0.130518031523595,
          -0.9227967429596617,
          0.6573125910979403,
          -0.23994717138183025,
          0.6626844035939178,
          0.7741461543370848,
          0.48579671998018553,
          -1.3130302860341112,
          -2.3704585045470785,
          -1.3160142246509,
          0.04462568929934854,
          -1.9574264167929238,
          -0.7695788548393496,
          -0.9140157180522013,
          -1.5892123568347112,
          0.6936677916768622,
          1.1210373544275518,
          0.7961678326691228,
          -0.8391943240960812,
          0.24015769746489576,
          -0.5508983796531722,
          1.12627939397085,
          0.9029350084574046,
          -2.432031096989011,
          0.7657320319014022,
          -0.8199738797904056,
          0.936354598692254,
          1.4219270790134204,
          1.3436035732956615,
          1.068728347985142,
          -0.1274801263802885
         ],
         "xaxis": "x3",
         "y": [
          -0.40615102691201077,
          -0.47999536952712385,
          -0.731589452209614,
          0.5879553428621914,
          -1.8568953718148897,
          0.9852963397699704,
          -0.4565079483975351,
          0.8985744483888078,
          -1.880550197114006,
          -2.495067192414269,
          0.24318773794361037,
          -2.278949369698818,
          -0.5490311250307648,
          0.14532734122867813,
          0.16276002203759868,
          -1.0591320920484073,
          0.05372109359972695,
          0.2035258413077142,
          -2.4564801144392163,
          0.006562014766148572,
          1.8299109338952464,
          -0.9675701363179834,
          1.0541841654244393,
          0.20884013344601376,
          -1.3891116084425656,
          0.27161097959040503,
          2.1283430566163135,
          -0.22494485238235143,
          -0.09599443616592065,
          -0.47463986288576715,
          -1.7001685826280957,
          -1.339622451274522,
          0.14880307684214328,
          -1.502406867092294,
          0.6697628491897455,
          1.6736896598940452,
          -1.1242305900000233,
          1.2716030457108993,
          -0.020503495668329225,
          -0.6004282275431292,
          -1.610798298038356,
          -0.7126845047666951,
          -0.25276036273175184,
          -0.31036598996075493,
          0.27657442247611386,
          0.36475971678819463,
          -0.3032001827072675,
          0.28120037852816376,
          -1.057923800745797,
          -0.7299540132790762,
          -1.0364219628836993,
          2.4916267759664805,
          1.1629521913280154,
          2.0054327257594626,
          -0.23891835735830366,
          -0.08667481619810505,
          0.1821673126387374,
          -0.9087506411647428,
          -0.2175223804697042,
          1.0366653428718404,
          -1.1387376153306084,
          -1.3134795663116043,
          -0.3109333372518202,
          -0.11731364062957415,
          -0.10397752332154095,
          0.17357286910884961,
          1.125123233663803,
          -0.18371208575837503,
          0.7475189213297856,
          -1.8732934204335845,
          0.3349278560198267,
          1.626356126253646,
          0.04965422963422056,
          -0.4617720171349,
          0.25881350378239626,
          -0.6898896998105463,
          0.7647345988279457,
          0.44480407531461874,
          0.09985660770502092,
          0.1461906720821347,
          0.04340642890250446,
          -0.10569764171165204,
          -2.5186919527957294,
          0.402553363843015,
          -1.1885416932522634,
          1.7141212243739197,
          0.6790642180576574,
          1.1679009178651383,
          -1.0087877679657051,
          -0.19813583121524153,
          0.9851166891438866,
          -0.0118683102180748,
          -0.44242679362729026,
          -0.05957237410520343,
          -0.8011467122356221,
          -0.27444702043341096,
          -1.8845227330028054,
          0.663868967586431,
          -0.29563990016503844,
          0.018384161821900682
         ],
         "yaxis": "y3"
        },
        {
         "line": {
          "color": "rgba(128, 128, 128, 1.0)",
          "dash": "solid",
          "shape": "linear",
          "width": 1.3
         },
         "marker": {
          "size": 2,
          "symbol": "circle"
         },
         "mode": "markers",
         "name": "A",
         "text": "",
         "type": "scatter",
         "x": [
          1.1721929351470735,
          -0.22550678449579425,
          -0.23122702155824176,
          0.6563333186487523,
          0.9213870194866701,
          -0.940057159600806,
          1.0628180142729196,
          -0.7499896102609849,
          0.30784931824423095,
          2.266399430883198,
          -0.44880797942819267,
          1.1422936229435676,
          0.09103811544473554,
          2.069523663590396,
          1.2508805902953954,
          -0.3047131602462184,
          0.9197394716886824,
          1.0057324663857043,
          -0.4333404738483218,
          1.1010416821236282,
          0.20656145868170267,
          0.26233863218323333,
          1.5060412455601153,
          -0.13402585348303264,
          -0.32697483748177253,
          1.079837128902801,
          0.004728406171932221,
          -0.6226718331405126,
          -0.4490701297158038,
          0.15225931142287583,
          0.9153052362338638,
          -0.6622649748463805,
          -0.054998896163471284,
          -1.845316075636726,
          0.01180849735745713,
          0.6209732383074823,
          -2.1112426036073337,
          -0.0821528976491328,
          -1.0224783410842313,
          0.4878918372140083,
          0.4671284655613165,
          -1.5994765830828284,
          -0.6725580152001758,
          0.44366080628539195,
          0.07415873128838171,
          -1.3249369973109828,
          1.1551445342220152,
          1.7332337195085488,
          -0.3657857984091364,
          -0.2873417734161192,
          -0.9709572050937714,
          -0.742372297830512,
          0.3794411738916534,
          0.2762755085921835,
          0.4148111210160986,
          1.004193222747808,
          1.735974995400932,
          0.17378939529727316,
          -0.39644398612996373,
          -0.2213175939757858,
          2.028025374229803,
          0.8741309031602762,
          -0.6177222409549274,
          -0.46832601837327215,
          0.8383996980225872,
          -0.13213402794172005,
          -0.7856771366004357,
          0.3907141014040696,
          0.7893113881559564,
          0.6582413953787006,
          -1.016539631599919,
          -0.7453435716771191,
          -0.020939124576196497,
          0.7032878546039067,
          -0.17619490382371217,
          -0.2779787776331174,
          -0.880442853112146,
          0.09774250949862644,
          0.6245392330085496,
          1.7064080979818954,
          1.3613379387667601,
          0.6412515175675733,
          0.1519953216329928,
          0.031348203336145526,
          -0.31098136014267036,
          0.7875720539862844,
          0.5889390839956123,
          0.4337578296750308,
          0.7171693251896951,
          -1.3440293593443675,
          -0.6736381577049158,
          -0.16567637011293324,
          0.8087465848833933,
          -0.45027639803246394,
          0.6994790917892251,
          0.5714910202749229,
          -0.32518777808721416,
          -0.8740087859949409,
          1.2355915780078561,
          0.5935130920319255
         ],
         "xaxis": "x4",
         "y": [
          -0.40615102691201077,
          -0.47999536952712385,
          -0.731589452209614,
          0.5879553428621914,
          -1.8568953718148897,
          0.9852963397699704,
          -0.4565079483975351,
          0.8985744483888078,
          -1.880550197114006,
          -2.495067192414269,
          0.24318773794361037,
          -2.278949369698818,
          -0.5490311250307648,
          0.14532734122867813,
          0.16276002203759868,
          -1.0591320920484073,
          0.05372109359972695,
          0.2035258413077142,
          -2.4564801144392163,
          0.006562014766148572,
          1.8299109338952464,
          -0.9675701363179834,
          1.0541841654244393,
          0.20884013344601376,
          -1.3891116084425656,
          0.27161097959040503,
          2.1283430566163135,
          -0.22494485238235143,
          -0.09599443616592065,
          -0.47463986288576715,
          -1.7001685826280957,
          -1.339622451274522,
          0.14880307684214328,
          -1.502406867092294,
          0.6697628491897455,
          1.6736896598940452,
          -1.1242305900000233,
          1.2716030457108993,
          -0.020503495668329225,
          -0.6004282275431292,
          -1.610798298038356,
          -0.7126845047666951,
          -0.25276036273175184,
          -0.31036598996075493,
          0.27657442247611386,
          0.36475971678819463,
          -0.3032001827072675,
          0.28120037852816376,
          -1.057923800745797,
          -0.7299540132790762,
          -1.0364219628836993,
          2.4916267759664805,
          1.1629521913280154,
          2.0054327257594626,
          -0.23891835735830366,
          -0.08667481619810505,
          0.1821673126387374,
          -0.9087506411647428,
          -0.2175223804697042,
          1.0366653428718404,
          -1.1387376153306084,
          -1.3134795663116043,
          -0.3109333372518202,
          -0.11731364062957415,
          -0.10397752332154095,
          0.17357286910884961,
          1.125123233663803,
          -0.18371208575837503,
          0.7475189213297856,
          -1.8732934204335845,
          0.3349278560198267,
          1.626356126253646,
          0.04965422963422056,
          -0.4617720171349,
          0.25881350378239626,
          -0.6898896998105463,
          0.7647345988279457,
          0.44480407531461874,
          0.09985660770502092,
          0.1461906720821347,
          0.04340642890250446,
          -0.10569764171165204,
          -2.5186919527957294,
          0.402553363843015,
          -1.1885416932522634,
          1.7141212243739197,
          0.6790642180576574,
          1.1679009178651383,
          -1.0087877679657051,
          -0.19813583121524153,
          0.9851166891438866,
          -0.0118683102180748,
          -0.44242679362729026,
          -0.05957237410520343,
          -0.8011467122356221,
          -0.27444702043341096,
          -1.8845227330028054,
          0.663868967586431,
          -0.29563990016503844,
          0.018384161821900682
         ],
         "yaxis": "y4"
        },
        {
         "line": {
          "color": "rgba(128, 128, 128, 1.0)",
          "dash": "solid",
          "shape": "linear",
          "width": 1.3
         },
         "marker": {
          "size": 2,
          "symbol": "circle"
         },
         "mode": "markers",
         "name": "B",
         "text": "",
         "type": "scatter",
         "x": [
          -0.40615102691201077,
          -0.47999536952712385,
          -0.731589452209614,
          0.5879553428621914,
          -1.8568953718148897,
          0.9852963397699704,
          -0.4565079483975351,
          0.8985744483888078,
          -1.880550197114006,
          -2.495067192414269,
          0.24318773794361037,
          -2.278949369698818,
          -0.5490311250307648,
          0.14532734122867813,
          0.16276002203759868,
          -1.0591320920484073,
          0.05372109359972695,
          0.2035258413077142,
          -2.4564801144392163,
          0.006562014766148572,
          1.8299109338952464,
          -0.9675701363179834,
          1.0541841654244393,
          0.20884013344601376,
          -1.3891116084425656,
          0.27161097959040503,
          2.1283430566163135,
          -0.22494485238235143,
          -0.09599443616592065,
          -0.47463986288576715,
          -1.7001685826280957,
          -1.339622451274522,
          0.14880307684214328,
          -1.502406867092294,
          0.6697628491897455,
          1.6736896598940452,
          -1.1242305900000233,
          1.2716030457108993,
          -0.020503495668329225,
          -0.6004282275431292,
          -1.610798298038356,
          -0.7126845047666951,
          -0.25276036273175184,
          -0.31036598996075493,
          0.27657442247611386,
          0.36475971678819463,
          -0.3032001827072675,
          0.28120037852816376,
          -1.057923800745797,
          -0.7299540132790762,
          -1.0364219628836993,
          2.4916267759664805,
          1.1629521913280154,
          2.0054327257594626,
          -0.23891835735830366,
          -0.08667481619810505,
          0.1821673126387374,
          -0.9087506411647428,
          -0.2175223804697042,
          1.0366653428718404,
          -1.1387376153306084,
          -1.3134795663116043,
          -0.3109333372518202,
          -0.11731364062957415,
          -0.10397752332154095,
          0.17357286910884961,
          1.125123233663803,
          -0.18371208575837503,
          0.7475189213297856,
          -1.8732934204335845,
          0.3349278560198267,
          1.626356126253646,
          0.04965422963422056,
          -0.4617720171349,
          0.25881350378239626,
          -0.6898896998105463,
          0.7647345988279457,
          0.44480407531461874,
          0.09985660770502092,
          0.1461906720821347,
          0.04340642890250446,
          -0.10569764171165204,
          -2.5186919527957294,
          0.402553363843015,
          -1.1885416932522634,
          1.7141212243739197,
          0.6790642180576574,
          1.1679009178651383,
          -1.0087877679657051,
          -0.19813583121524153,
          0.9851166891438866,
          -0.0118683102180748,
          -0.44242679362729026,
          -0.05957237410520343,
          -0.8011467122356221,
          -0.27444702043341096,
          -1.8845227330028054,
          0.663868967586431,
          -0.29563990016503844,
          0.018384161821900682
         ],
         "xaxis": "x5",
         "y": [
          0.33469028609462786,
          -0.4747720494047677,
          -0.8910492574030071,
          -0.6562947499843159,
          1.0975595283397657,
          -0.08492187787388085,
          0.834157942765214,
          0.8261256825901863,
          0.4632193771172654,
          0.2118406780817216,
          -0.18660521525359663,
          -0.8772109585438541,
          0.9001431742247843,
          0.43622225877058113,
          0.3505049904764363,
          0.9315658697409118,
          -1.946983553008016,
          0.7644568957313809,
          -0.12255099035106522,
          0.18500821089394304,
          0.6312321003475739,
          -1.3583124190159115,
          0.6879322926800804,
          -0.340566305221331,
          1.10044477146272,
          -1.0455648116827128,
          0.3952180495751735,
          0.6896877211682053,
          -0.5155403800669799,
          1.4785314007970745,
          -1.0649728817509585,
          1.7852829028741184,
          0.8570954275978809,
          2.173712498989926,
          -1.0582631927924049,
          0.4985565174744666,
          -0.4473289358096288,
          0.4025239189309213,
          -0.15564462003233068,
          0.5381832495099379,
          -1.2214341198324867,
          -0.31187895934241877,
          1.024480489586102,
          -0.9575439080616085,
          1.2319230093188827,
          0.8433090402248943,
          -0.1743727135083682,
          -0.516081714378001,
          -0.05238583944339358,
          -0.09322087115568396,
          -1.3402000293873717,
          -2.349049257706284,
          -1.2853922081306273,
          -0.41339815261901414,
          -0.7700945857764542,
          1.6608970953042417,
          0.6176112005319743,
          -0.8202041643220608,
          -1.7363664986014162,
          0.12947655833098984,
          -1.2343545924493855,
          -0.3730297008989098,
          -0.3096507505421561,
          -0.9790966487903674,
          0.34996075464019377,
          2.380102070380568,
          -0.2440263432978862,
          0.7681940478056901,
          1.3570398145585194,
          -0.20157140820039438,
          0.2877302953363688,
          0.16851948185688861,
          -0.5644038341545653,
          0.9231079850639387,
          -0.944506176873885,
          1.054446152533765,
          -0.7207904072238942,
          0.4365114891422287,
          2.338324940574144,
          1.0257780537771517,
          -1.1618978051757043,
          -1.6327091540232865,
          0.9509386746206595,
          1.0231396871331329,
          0.3118062700792768,
          -2.4097800983317152,
          0.7571883722250382,
          0.4131747981644347,
          -1.455075148971204,
          -0.21915229540259684,
          0.4578621056720926,
          0.16564240034126468,
          -1.237646345341587,
          -1.8175037223783308,
          -0.7467476602610285,
          -0.08434524550962558,
          -1.9690707808886958,
          -1.160972757919005,
          -0.23118107997338297,
          -0.6316562531717944
         ],
         "yaxis": "y5"
        },
        {
         "histfunc": "count",
         "histnorm": "",
         "marker": {
          "color": "rgba(55, 128, 191, 1.0)",
          "line": {
           "color": "#4D5663",
           "width": 1.3
          }
         },
         "name": "B",
         "nbinsx": 10,
         "opacity": 0.8,
         "orientation": "v",
         "type": "histogram",
         "x": [
          0.33469028609462786,
          -0.4747720494047677,
          -0.8910492574030071,
          -0.6562947499843159,
          1.0975595283397657,
          -0.08492187787388085,
          0.834157942765214,
          0.8261256825901863,
          0.4632193771172654,
          0.2118406780817216,
          -0.18660521525359663,
          -0.8772109585438541,
          0.9001431742247843,
          0.43622225877058113,
          0.3505049904764363,
          0.9315658697409118,
          -1.946983553008016,
          0.7644568957313809,
          -0.12255099035106522,
          0.18500821089394304,
          0.6312321003475739,
          -1.3583124190159115,
          0.6879322926800804,
          -0.340566305221331,
          1.10044477146272,
          -1.0455648116827128,
          0.3952180495751735,
          0.6896877211682053,
          -0.5155403800669799,
          1.4785314007970745,
          -1.0649728817509585,
          1.7852829028741184,
          0.8570954275978809,
          2.173712498989926,
          -1.0582631927924049,
          0.4985565174744666,
          -0.4473289358096288,
          0.4025239189309213,
          -0.15564462003233068,
          0.5381832495099379,
          -1.2214341198324867,
          -0.31187895934241877,
          1.024480489586102,
          -0.9575439080616085,
          1.2319230093188827,
          0.8433090402248943,
          -0.1743727135083682,
          -0.516081714378001,
          -0.05238583944339358,
          -0.09322087115568396,
          -1.3402000293873717,
          -2.349049257706284,
          -1.2853922081306273,
          -0.41339815261901414,
          -0.7700945857764542,
          1.6608970953042417,
          0.6176112005319743,
          -0.8202041643220608,
          -1.7363664986014162,
          0.12947655833098984,
          -1.2343545924493855,
          -0.3730297008989098,
          -0.3096507505421561,
          -0.9790966487903674,
          0.34996075464019377,
          2.380102070380568,
          -0.2440263432978862,
          0.7681940478056901,
          1.3570398145585194,
          -0.20157140820039438,
          0.2877302953363688,
          0.16851948185688861,
          -0.5644038341545653,
          0.9231079850639387,
          -0.944506176873885,
          1.054446152533765,
          -0.7207904072238942,
          0.4365114891422287,
          2.338324940574144,
          1.0257780537771517,
          -1.1618978051757043,
          -1.6327091540232865,
          0.9509386746206595,
          1.0231396871331329,
          0.3118062700792768,
          -2.4097800983317152,
          0.7571883722250382,
          0.4131747981644347,
          -1.455075148971204,
          -0.21915229540259684,
          0.4578621056720926,
          0.16564240034126468,
          -1.237646345341587,
          -1.8175037223783308,
          -0.7467476602610285,
          -0.08434524550962558,
          -1.9690707808886958,
          -1.160972757919005,
          -0.23118107997338297,
          -0.6316562531717944
         ],
         "xaxis": "x6",
         "yaxis": "y6"
        },
        {
         "line": {
          "color": "rgba(128, 128, 128, 1.0)",
          "dash": "solid",
          "shape": "linear",
          "width": 1.3
         },
         "marker": {
          "size": 2,
          "symbol": "circle"
         },
         "mode": "markers",
         "name": "B",
         "text": "",
         "type": "scatter",
         "x": [
          1.1737362333207728,
          1.5562612868774497,
          -0.014477400798201173,
          -0.9949081729820747,
          0.9357459497680499,
          0.12646190131838267,
          -0.3954971678824292,
          0.3430957446539166,
          0.9237407892776045,
          -0.09657627920969948,
          -1.8243055412777374,
          0.051993637559908906,
          -0.2727456870221832,
          -0.986463898356433,
          0.08565836080338578,
          0.2595033891481982,
          -0.5252644450116665,
          -1.0606034120376318,
          -1.0531339863226663,
          2.124426303973373,
          0.5386756257920999,
          -0.007511511275262967,
          1.1119203435398002,
          -0.23992367881368432,
          -1.6306447669964903,
          3.06700850806012,
          -1.5686351092233557,
          -0.3303055960327883,
          -2.6799375854206735,
          -0.059681128683770214,
          2.091684394948725,
          -0.8967544340093194,
          1.09190837290732,
          0.6071660132691131,
          -0.8682215185106045,
          -0.5929683036738767,
          1.1858783986893462,
          0.4364224172106424,
          -0.5607058909568162,
          2.2031077947680973,
          -2.0009293881751598,
          0.7424893040701714,
          0.8393707588892446,
          -0.816004938619743,
          -1.4229672866936136,
          0.16767953911777858,
          -0.3836304305107007,
          -0.6530503240203627,
          -0.4032092701394886,
          0.49550149133083987,
          -1.2219788650504726,
          -2.01711399525827,
          -1.3501399942480863,
          -0.3340565386962628,
          1.6208031740714461,
          -0.81865148507276,
          -0.7007388233092041,
          0.5136785611995491,
          0.35171848335376976,
          0.9435753712354081,
          0.27369781840798585,
          -1.9524180893392744,
          -0.8624643631571148,
          0.8430570654922642,
          2.1323244795491156,
          -0.6288100804146632,
          1.3589889331060612,
          -0.557235992767454,
          -1.3792429504800554,
          0.130518031523595,
          -0.9227967429596617,
          0.6573125910979403,
          -0.23994717138183025,
          0.6626844035939178,
          0.7741461543370848,
          0.48579671998018553,
          -1.3130302860341112,
          -2.3704585045470785,
          -1.3160142246509,
          0.04462568929934854,
          -1.9574264167929238,
          -0.7695788548393496,
          -0.9140157180522013,
          -1.5892123568347112,
          0.6936677916768622,
          1.1210373544275518,
          0.7961678326691228,
          -0.8391943240960812,
          0.24015769746489576,
          -0.5508983796531722,
          1.12627939397085,
          0.9029350084574046,
          -2.432031096989011,
          0.7657320319014022,
          -0.8199738797904056,
          0.936354598692254,
          1.4219270790134204,
          1.3436035732956615,
          1.068728347985142,
          -0.1274801263802885
         ],
         "xaxis": "x7",
         "y": [
          0.33469028609462786,
          -0.4747720494047677,
          -0.8910492574030071,
          -0.6562947499843159,
          1.0975595283397657,
          -0.08492187787388085,
          0.834157942765214,
          0.8261256825901863,
          0.4632193771172654,
          0.2118406780817216,
          -0.18660521525359663,
          -0.8772109585438541,
          0.9001431742247843,
          0.43622225877058113,
          0.3505049904764363,
          0.9315658697409118,
          -1.946983553008016,
          0.7644568957313809,
          -0.12255099035106522,
          0.18500821089394304,
          0.6312321003475739,
          -1.3583124190159115,
          0.6879322926800804,
          -0.340566305221331,
          1.10044477146272,
          -1.0455648116827128,
          0.3952180495751735,
          0.6896877211682053,
          -0.5155403800669799,
          1.4785314007970745,
          -1.0649728817509585,
          1.7852829028741184,
          0.8570954275978809,
          2.173712498989926,
          -1.0582631927924049,
          0.4985565174744666,
          -0.4473289358096288,
          0.4025239189309213,
          -0.15564462003233068,
          0.5381832495099379,
          -1.2214341198324867,
          -0.31187895934241877,
          1.024480489586102,
          -0.9575439080616085,
          1.2319230093188827,
          0.8433090402248943,
          -0.1743727135083682,
          -0.516081714378001,
          -0.05238583944339358,
          -0.09322087115568396,
          -1.3402000293873717,
          -2.349049257706284,
          -1.2853922081306273,
          -0.41339815261901414,
          -0.7700945857764542,
          1.6608970953042417,
          0.6176112005319743,
          -0.8202041643220608,
          -1.7363664986014162,
          0.12947655833098984,
          -1.2343545924493855,
          -0.3730297008989098,
          -0.3096507505421561,
          -0.9790966487903674,
          0.34996075464019377,
          2.380102070380568,
          -0.2440263432978862,
          0.7681940478056901,
          1.3570398145585194,
          -0.20157140820039438,
          0.2877302953363688,
          0.16851948185688861,
          -0.5644038341545653,
          0.9231079850639387,
          -0.944506176873885,
          1.054446152533765,
          -0.7207904072238942,
          0.4365114891422287,
          2.338324940574144,
          1.0257780537771517,
          -1.1618978051757043,
          -1.6327091540232865,
          0.9509386746206595,
          1.0231396871331329,
          0.3118062700792768,
          -2.4097800983317152,
          0.7571883722250382,
          0.4131747981644347,
          -1.455075148971204,
          -0.21915229540259684,
          0.4578621056720926,
          0.16564240034126468,
          -1.237646345341587,
          -1.8175037223783308,
          -0.7467476602610285,
          -0.08434524550962558,
          -1.9690707808886958,
          -1.160972757919005,
          -0.23118107997338297,
          -0.6316562531717944
         ],
         "yaxis": "y7"
        },
        {
         "line": {
          "color": "rgba(128, 128, 128, 1.0)",
          "dash": "solid",
          "shape": "linear",
          "width": 1.3
         },
         "marker": {
          "size": 2,
          "symbol": "circle"
         },
         "mode": "markers",
         "name": "B",
         "text": "",
         "type": "scatter",
         "x": [
          1.1721929351470735,
          -0.22550678449579425,
          -0.23122702155824176,
          0.6563333186487523,
          0.9213870194866701,
          -0.940057159600806,
          1.0628180142729196,
          -0.7499896102609849,
          0.30784931824423095,
          2.266399430883198,
          -0.44880797942819267,
          1.1422936229435676,
          0.09103811544473554,
          2.069523663590396,
          1.2508805902953954,
          -0.3047131602462184,
          0.9197394716886824,
          1.0057324663857043,
          -0.4333404738483218,
          1.1010416821236282,
          0.20656145868170267,
          0.26233863218323333,
          1.5060412455601153,
          -0.13402585348303264,
          -0.32697483748177253,
          1.079837128902801,
          0.004728406171932221,
          -0.6226718331405126,
          -0.4490701297158038,
          0.15225931142287583,
          0.9153052362338638,
          -0.6622649748463805,
          -0.054998896163471284,
          -1.845316075636726,
          0.01180849735745713,
          0.6209732383074823,
          -2.1112426036073337,
          -0.0821528976491328,
          -1.0224783410842313,
          0.4878918372140083,
          0.4671284655613165,
          -1.5994765830828284,
          -0.6725580152001758,
          0.44366080628539195,
          0.07415873128838171,
          -1.3249369973109828,
          1.1551445342220152,
          1.7332337195085488,
          -0.3657857984091364,
          -0.2873417734161192,
          -0.9709572050937714,
          -0.742372297830512,
          0.3794411738916534,
          0.2762755085921835,
          0.4148111210160986,
          1.004193222747808,
          1.735974995400932,
          0.17378939529727316,
          -0.39644398612996373,
          -0.2213175939757858,
          2.028025374229803,
          0.8741309031602762,
          -0.6177222409549274,
          -0.46832601837327215,
          0.8383996980225872,
          -0.13213402794172005,
          -0.7856771366004357,
          0.3907141014040696,
          0.7893113881559564,
          0.6582413953787006,
          -1.016539631599919,
          -0.7453435716771191,
          -0.020939124576196497,
          0.7032878546039067,
          -0.17619490382371217,
          -0.2779787776331174,
          -0.880442853112146,
          0.09774250949862644,
          0.6245392330085496,
          1.7064080979818954,
          1.3613379387667601,
          0.6412515175675733,
          0.1519953216329928,
          0.031348203336145526,
          -0.31098136014267036,
          0.7875720539862844,
          0.5889390839956123,
          0.4337578296750308,
          0.7171693251896951,
          -1.3440293593443675,
          -0.6736381577049158,
          -0.16567637011293324,
          0.8087465848833933,
          -0.45027639803246394,
          0.6994790917892251,
          0.5714910202749229,
          -0.32518777808721416,
          -0.8740087859949409,
          1.2355915780078561,
          0.5935130920319255
         ],
         "xaxis": "x8",
         "y": [
          0.33469028609462786,
          -0.4747720494047677,
          -0.8910492574030071,
          -0.6562947499843159,
          1.0975595283397657,
          -0.08492187787388085,
          0.834157942765214,
          0.8261256825901863,
          0.4632193771172654,
          0.2118406780817216,
          -0.18660521525359663,
          -0.8772109585438541,
          0.9001431742247843,
          0.43622225877058113,
          0.3505049904764363,
          0.9315658697409118,
          -1.946983553008016,
          0.7644568957313809,
          -0.12255099035106522,
          0.18500821089394304,
          0.6312321003475739,
          -1.3583124190159115,
          0.6879322926800804,
          -0.340566305221331,
          1.10044477146272,
          -1.0455648116827128,
          0.3952180495751735,
          0.6896877211682053,
          -0.5155403800669799,
          1.4785314007970745,
          -1.0649728817509585,
          1.7852829028741184,
          0.8570954275978809,
          2.173712498989926,
          -1.0582631927924049,
          0.4985565174744666,
          -0.4473289358096288,
          0.4025239189309213,
          -0.15564462003233068,
          0.5381832495099379,
          -1.2214341198324867,
          -0.31187895934241877,
          1.024480489586102,
          -0.9575439080616085,
          1.2319230093188827,
          0.8433090402248943,
          -0.1743727135083682,
          -0.516081714378001,
          -0.05238583944339358,
          -0.09322087115568396,
          -1.3402000293873717,
          -2.349049257706284,
          -1.2853922081306273,
          -0.41339815261901414,
          -0.7700945857764542,
          1.6608970953042417,
          0.6176112005319743,
          -0.8202041643220608,
          -1.7363664986014162,
          0.12947655833098984,
          -1.2343545924493855,
          -0.3730297008989098,
          -0.3096507505421561,
          -0.9790966487903674,
          0.34996075464019377,
          2.380102070380568,
          -0.2440263432978862,
          0.7681940478056901,
          1.3570398145585194,
          -0.20157140820039438,
          0.2877302953363688,
          0.16851948185688861,
          -0.5644038341545653,
          0.9231079850639387,
          -0.944506176873885,
          1.054446152533765,
          -0.7207904072238942,
          0.4365114891422287,
          2.338324940574144,
          1.0257780537771517,
          -1.1618978051757043,
          -1.6327091540232865,
          0.9509386746206595,
          1.0231396871331329,
          0.3118062700792768,
          -2.4097800983317152,
          0.7571883722250382,
          0.4131747981644347,
          -1.455075148971204,
          -0.21915229540259684,
          0.4578621056720926,
          0.16564240034126468,
          -1.237646345341587,
          -1.8175037223783308,
          -0.7467476602610285,
          -0.08434524550962558,
          -1.9690707808886958,
          -1.160972757919005,
          -0.23118107997338297,
          -0.6316562531717944
         ],
         "yaxis": "y8"
        },
        {
         "line": {
          "color": "rgba(128, 128, 128, 1.0)",
          "dash": "solid",
          "shape": "linear",
          "width": 1.3
         },
         "marker": {
          "size": 2,
          "symbol": "circle"
         },
         "mode": "markers",
         "name": "C",
         "text": "",
         "type": "scatter",
         "x": [
          -0.40615102691201077,
          -0.47999536952712385,
          -0.731589452209614,
          0.5879553428621914,
          -1.8568953718148897,
          0.9852963397699704,
          -0.4565079483975351,
          0.8985744483888078,
          -1.880550197114006,
          -2.495067192414269,
          0.24318773794361037,
          -2.278949369698818,
          -0.5490311250307648,
          0.14532734122867813,
          0.16276002203759868,
          -1.0591320920484073,
          0.05372109359972695,
          0.2035258413077142,
          -2.4564801144392163,
          0.006562014766148572,
          1.8299109338952464,
          -0.9675701363179834,
          1.0541841654244393,
          0.20884013344601376,
          -1.3891116084425656,
          0.27161097959040503,
          2.1283430566163135,
          -0.22494485238235143,
          -0.09599443616592065,
          -0.47463986288576715,
          -1.7001685826280957,
          -1.339622451274522,
          0.14880307684214328,
          -1.502406867092294,
          0.6697628491897455,
          1.6736896598940452,
          -1.1242305900000233,
          1.2716030457108993,
          -0.020503495668329225,
          -0.6004282275431292,
          -1.610798298038356,
          -0.7126845047666951,
          -0.25276036273175184,
          -0.31036598996075493,
          0.27657442247611386,
          0.36475971678819463,
          -0.3032001827072675,
          0.28120037852816376,
          -1.057923800745797,
          -0.7299540132790762,
          -1.0364219628836993,
          2.4916267759664805,
          1.1629521913280154,
          2.0054327257594626,
          -0.23891835735830366,
          -0.08667481619810505,
          0.1821673126387374,
          -0.9087506411647428,
          -0.2175223804697042,
          1.0366653428718404,
          -1.1387376153306084,
          -1.3134795663116043,
          -0.3109333372518202,
          -0.11731364062957415,
          -0.10397752332154095,
          0.17357286910884961,
          1.125123233663803,
          -0.18371208575837503,
          0.7475189213297856,
          -1.8732934204335845,
          0.3349278560198267,
          1.626356126253646,
          0.04965422963422056,
          -0.4617720171349,
          0.25881350378239626,
          -0.6898896998105463,
          0.7647345988279457,
          0.44480407531461874,
          0.09985660770502092,
          0.1461906720821347,
          0.04340642890250446,
          -0.10569764171165204,
          -2.5186919527957294,
          0.402553363843015,
          -1.1885416932522634,
          1.7141212243739197,
          0.6790642180576574,
          1.1679009178651383,
          -1.0087877679657051,
          -0.19813583121524153,
          0.9851166891438866,
          -0.0118683102180748,
          -0.44242679362729026,
          -0.05957237410520343,
          -0.8011467122356221,
          -0.27444702043341096,
          -1.8845227330028054,
          0.663868967586431,
          -0.29563990016503844,
          0.018384161821900682
         ],
         "xaxis": "x9",
         "y": [
          1.1737362333207728,
          1.5562612868774497,
          -0.014477400798201173,
          -0.9949081729820747,
          0.9357459497680499,
          0.12646190131838267,
          -0.3954971678824292,
          0.3430957446539166,
          0.9237407892776045,
          -0.09657627920969948,
          -1.8243055412777374,
          0.051993637559908906,
          -0.2727456870221832,
          -0.986463898356433,
          0.08565836080338578,
          0.2595033891481982,
          -0.5252644450116665,
          -1.0606034120376318,
          -1.0531339863226663,
          2.124426303973373,
          0.5386756257920999,
          -0.007511511275262967,
          1.1119203435398002,
          -0.23992367881368432,
          -1.6306447669964903,
          3.06700850806012,
          -1.5686351092233557,
          -0.3303055960327883,
          -2.6799375854206735,
          -0.059681128683770214,
          2.091684394948725,
          -0.8967544340093194,
          1.09190837290732,
          0.6071660132691131,
          -0.8682215185106045,
          -0.5929683036738767,
          1.1858783986893462,
          0.4364224172106424,
          -0.5607058909568162,
          2.2031077947680973,
          -2.0009293881751598,
          0.7424893040701714,
          0.8393707588892446,
          -0.816004938619743,
          -1.4229672866936136,
          0.16767953911777858,
          -0.3836304305107007,
          -0.6530503240203627,
          -0.4032092701394886,
          0.49550149133083987,
          -1.2219788650504726,
          -2.01711399525827,
          -1.3501399942480863,
          -0.3340565386962628,
          1.6208031740714461,
          -0.81865148507276,
          -0.7007388233092041,
          0.5136785611995491,
          0.35171848335376976,
          0.9435753712354081,
          0.27369781840798585,
          -1.9524180893392744,
          -0.8624643631571148,
          0.8430570654922642,
          2.1323244795491156,
          -0.6288100804146632,
          1.3589889331060612,
          -0.557235992767454,
          -1.3792429504800554,
          0.130518031523595,
          -0.9227967429596617,
          0.6573125910979403,
          -0.23994717138183025,
          0.6626844035939178,
          0.7741461543370848,
          0.48579671998018553,
          -1.3130302860341112,
          -2.3704585045470785,
          -1.3160142246509,
          0.04462568929934854,
          -1.9574264167929238,
          -0.7695788548393496,
          -0.9140157180522013,
          -1.5892123568347112,
          0.6936677916768622,
          1.1210373544275518,
          0.7961678326691228,
          -0.8391943240960812,
          0.24015769746489576,
          -0.5508983796531722,
          1.12627939397085,
          0.9029350084574046,
          -2.432031096989011,
          0.7657320319014022,
          -0.8199738797904056,
          0.936354598692254,
          1.4219270790134204,
          1.3436035732956615,
          1.068728347985142,
          -0.1274801263802885
         ],
         "yaxis": "y9"
        },
        {
         "line": {
          "color": "rgba(128, 128, 128, 1.0)",
          "dash": "solid",
          "shape": "linear",
          "width": 1.3
         },
         "marker": {
          "size": 2,
          "symbol": "circle"
         },
         "mode": "markers",
         "name": "C",
         "text": "",
         "type": "scatter",
         "x": [
          0.33469028609462786,
          -0.4747720494047677,
          -0.8910492574030071,
          -0.6562947499843159,
          1.0975595283397657,
          -0.08492187787388085,
          0.834157942765214,
          0.8261256825901863,
          0.4632193771172654,
          0.2118406780817216,
          -0.18660521525359663,
          -0.8772109585438541,
          0.9001431742247843,
          0.43622225877058113,
          0.3505049904764363,
          0.9315658697409118,
          -1.946983553008016,
          0.7644568957313809,
          -0.12255099035106522,
          0.18500821089394304,
          0.6312321003475739,
          -1.3583124190159115,
          0.6879322926800804,
          -0.340566305221331,
          1.10044477146272,
          -1.0455648116827128,
          0.3952180495751735,
          0.6896877211682053,
          -0.5155403800669799,
          1.4785314007970745,
          -1.0649728817509585,
          1.7852829028741184,
          0.8570954275978809,
          2.173712498989926,
          -1.0582631927924049,
          0.4985565174744666,
          -0.4473289358096288,
          0.4025239189309213,
          -0.15564462003233068,
          0.5381832495099379,
          -1.2214341198324867,
          -0.31187895934241877,
          1.024480489586102,
          -0.9575439080616085,
          1.2319230093188827,
          0.8433090402248943,
          -0.1743727135083682,
          -0.516081714378001,
          -0.05238583944339358,
          -0.09322087115568396,
          -1.3402000293873717,
          -2.349049257706284,
          -1.2853922081306273,
          -0.41339815261901414,
          -0.7700945857764542,
          1.6608970953042417,
          0.6176112005319743,
          -0.8202041643220608,
          -1.7363664986014162,
          0.12947655833098984,
          -1.2343545924493855,
          -0.3730297008989098,
          -0.3096507505421561,
          -0.9790966487903674,
          0.34996075464019377,
          2.380102070380568,
          -0.2440263432978862,
          0.7681940478056901,
          1.3570398145585194,
          -0.20157140820039438,
          0.2877302953363688,
          0.16851948185688861,
          -0.5644038341545653,
          0.9231079850639387,
          -0.944506176873885,
          1.054446152533765,
          -0.7207904072238942,
          0.4365114891422287,
          2.338324940574144,
          1.0257780537771517,
          -1.1618978051757043,
          -1.6327091540232865,
          0.9509386746206595,
          1.0231396871331329,
          0.3118062700792768,
          -2.4097800983317152,
          0.7571883722250382,
          0.4131747981644347,
          -1.455075148971204,
          -0.21915229540259684,
          0.4578621056720926,
          0.16564240034126468,
          -1.237646345341587,
          -1.8175037223783308,
          -0.7467476602610285,
          -0.08434524550962558,
          -1.9690707808886958,
          -1.160972757919005,
          -0.23118107997338297,
          -0.6316562531717944
         ],
         "xaxis": "x10",
         "y": [
          1.1737362333207728,
          1.5562612868774497,
          -0.014477400798201173,
          -0.9949081729820747,
          0.9357459497680499,
          0.12646190131838267,
          -0.3954971678824292,
          0.3430957446539166,
          0.9237407892776045,
          -0.09657627920969948,
          -1.8243055412777374,
          0.051993637559908906,
          -0.2727456870221832,
          -0.986463898356433,
          0.08565836080338578,
          0.2595033891481982,
          -0.5252644450116665,
          -1.0606034120376318,
          -1.0531339863226663,
          2.124426303973373,
          0.5386756257920999,
          -0.007511511275262967,
          1.1119203435398002,
          -0.23992367881368432,
          -1.6306447669964903,
          3.06700850806012,
          -1.5686351092233557,
          -0.3303055960327883,
          -2.6799375854206735,
          -0.059681128683770214,
          2.091684394948725,
          -0.8967544340093194,
          1.09190837290732,
          0.6071660132691131,
          -0.8682215185106045,
          -0.5929683036738767,
          1.1858783986893462,
          0.4364224172106424,
          -0.5607058909568162,
          2.2031077947680973,
          -2.0009293881751598,
          0.7424893040701714,
          0.8393707588892446,
          -0.816004938619743,
          -1.4229672866936136,
          0.16767953911777858,
          -0.3836304305107007,
          -0.6530503240203627,
          -0.4032092701394886,
          0.49550149133083987,
          -1.2219788650504726,
          -2.01711399525827,
          -1.3501399942480863,
          -0.3340565386962628,
          1.6208031740714461,
          -0.81865148507276,
          -0.7007388233092041,
          0.5136785611995491,
          0.35171848335376976,
          0.9435753712354081,
          0.27369781840798585,
          -1.9524180893392744,
          -0.8624643631571148,
          0.8430570654922642,
          2.1323244795491156,
          -0.6288100804146632,
          1.3589889331060612,
          -0.557235992767454,
          -1.3792429504800554,
          0.130518031523595,
          -0.9227967429596617,
          0.6573125910979403,
          -0.23994717138183025,
          0.6626844035939178,
          0.7741461543370848,
          0.48579671998018553,
          -1.3130302860341112,
          -2.3704585045470785,
          -1.3160142246509,
          0.04462568929934854,
          -1.9574264167929238,
          -0.7695788548393496,
          -0.9140157180522013,
          -1.5892123568347112,
          0.6936677916768622,
          1.1210373544275518,
          0.7961678326691228,
          -0.8391943240960812,
          0.24015769746489576,
          -0.5508983796531722,
          1.12627939397085,
          0.9029350084574046,
          -2.432031096989011,
          0.7657320319014022,
          -0.8199738797904056,
          0.936354598692254,
          1.4219270790134204,
          1.3436035732956615,
          1.068728347985142,
          -0.1274801263802885
         ],
         "yaxis": "y10"
        },
        {
         "histfunc": "count",
         "histnorm": "",
         "marker": {
          "color": "rgba(50, 171, 96, 1.0)",
          "line": {
           "color": "#4D5663",
           "width": 1.3
          }
         },
         "name": "C",
         "nbinsx": 10,
         "opacity": 0.8,
         "orientation": "v",
         "type": "histogram",
         "x": [
          1.1737362333207728,
          1.5562612868774497,
          -0.014477400798201173,
          -0.9949081729820747,
          0.9357459497680499,
          0.12646190131838267,
          -0.3954971678824292,
          0.3430957446539166,
          0.9237407892776045,
          -0.09657627920969948,
          -1.8243055412777374,
          0.051993637559908906,
          -0.2727456870221832,
          -0.986463898356433,
          0.08565836080338578,
          0.2595033891481982,
          -0.5252644450116665,
          -1.0606034120376318,
          -1.0531339863226663,
          2.124426303973373,
          0.5386756257920999,
          -0.007511511275262967,
          1.1119203435398002,
          -0.23992367881368432,
          -1.6306447669964903,
          3.06700850806012,
          -1.5686351092233557,
          -0.3303055960327883,
          -2.6799375854206735,
          -0.059681128683770214,
          2.091684394948725,
          -0.8967544340093194,
          1.09190837290732,
          0.6071660132691131,
          -0.8682215185106045,
          -0.5929683036738767,
          1.1858783986893462,
          0.4364224172106424,
          -0.5607058909568162,
          2.2031077947680973,
          -2.0009293881751598,
          0.7424893040701714,
          0.8393707588892446,
          -0.816004938619743,
          -1.4229672866936136,
          0.16767953911777858,
          -0.3836304305107007,
          -0.6530503240203627,
          -0.4032092701394886,
          0.49550149133083987,
          -1.2219788650504726,
          -2.01711399525827,
          -1.3501399942480863,
          -0.3340565386962628,
          1.6208031740714461,
          -0.81865148507276,
          -0.7007388233092041,
          0.5136785611995491,
          0.35171848335376976,
          0.9435753712354081,
          0.27369781840798585,
          -1.9524180893392744,
          -0.8624643631571148,
          0.8430570654922642,
          2.1323244795491156,
          -0.6288100804146632,
          1.3589889331060612,
          -0.557235992767454,
          -1.3792429504800554,
          0.130518031523595,
          -0.9227967429596617,
          0.6573125910979403,
          -0.23994717138183025,
          0.6626844035939178,
          0.7741461543370848,
          0.48579671998018553,
          -1.3130302860341112,
          -2.3704585045470785,
          -1.3160142246509,
          0.04462568929934854,
          -1.9574264167929238,
          -0.7695788548393496,
          -0.9140157180522013,
          -1.5892123568347112,
          0.6936677916768622,
          1.1210373544275518,
          0.7961678326691228,
          -0.8391943240960812,
          0.24015769746489576,
          -0.5508983796531722,
          1.12627939397085,
          0.9029350084574046,
          -2.432031096989011,
          0.7657320319014022,
          -0.8199738797904056,
          0.936354598692254,
          1.4219270790134204,
          1.3436035732956615,
          1.068728347985142,
          -0.1274801263802885
         ],
         "xaxis": "x11",
         "yaxis": "y11"
        },
        {
         "line": {
          "color": "rgba(128, 128, 128, 1.0)",
          "dash": "solid",
          "shape": "linear",
          "width": 1.3
         },
         "marker": {
          "size": 2,
          "symbol": "circle"
         },
         "mode": "markers",
         "name": "C",
         "text": "",
         "type": "scatter",
         "x": [
          1.1721929351470735,
          -0.22550678449579425,
          -0.23122702155824176,
          0.6563333186487523,
          0.9213870194866701,
          -0.940057159600806,
          1.0628180142729196,
          -0.7499896102609849,
          0.30784931824423095,
          2.266399430883198,
          -0.44880797942819267,
          1.1422936229435676,
          0.09103811544473554,
          2.069523663590396,
          1.2508805902953954,
          -0.3047131602462184,
          0.9197394716886824,
          1.0057324663857043,
          -0.4333404738483218,
          1.1010416821236282,
          0.20656145868170267,
          0.26233863218323333,
          1.5060412455601153,
          -0.13402585348303264,
          -0.32697483748177253,
          1.079837128902801,
          0.004728406171932221,
          -0.6226718331405126,
          -0.4490701297158038,
          0.15225931142287583,
          0.9153052362338638,
          -0.6622649748463805,
          -0.054998896163471284,
          -1.845316075636726,
          0.01180849735745713,
          0.6209732383074823,
          -2.1112426036073337,
          -0.0821528976491328,
          -1.0224783410842313,
          0.4878918372140083,
          0.4671284655613165,
          -1.5994765830828284,
          -0.6725580152001758,
          0.44366080628539195,
          0.07415873128838171,
          -1.3249369973109828,
          1.1551445342220152,
          1.7332337195085488,
          -0.3657857984091364,
          -0.2873417734161192,
          -0.9709572050937714,
          -0.742372297830512,
          0.3794411738916534,
          0.2762755085921835,
          0.4148111210160986,
          1.004193222747808,
          1.735974995400932,
          0.17378939529727316,
          -0.39644398612996373,
          -0.2213175939757858,
          2.028025374229803,
          0.8741309031602762,
          -0.6177222409549274,
          -0.46832601837327215,
          0.8383996980225872,
          -0.13213402794172005,
          -0.7856771366004357,
          0.3907141014040696,
          0.7893113881559564,
          0.6582413953787006,
          -1.016539631599919,
          -0.7453435716771191,
          -0.020939124576196497,
          0.7032878546039067,
          -0.17619490382371217,
          -0.2779787776331174,
          -0.880442853112146,
          0.09774250949862644,
          0.6245392330085496,
          1.7064080979818954,
          1.3613379387667601,
          0.6412515175675733,
          0.1519953216329928,
          0.031348203336145526,
          -0.31098136014267036,
          0.7875720539862844,
          0.5889390839956123,
          0.4337578296750308,
          0.7171693251896951,
          -1.3440293593443675,
          -0.6736381577049158,
          -0.16567637011293324,
          0.8087465848833933,
          -0.45027639803246394,
          0.6994790917892251,
          0.5714910202749229,
          -0.32518777808721416,
          -0.8740087859949409,
          1.2355915780078561,
          0.5935130920319255
         ],
         "xaxis": "x12",
         "y": [
          1.1737362333207728,
          1.5562612868774497,
          -0.014477400798201173,
          -0.9949081729820747,
          0.9357459497680499,
          0.12646190131838267,
          -0.3954971678824292,
          0.3430957446539166,
          0.9237407892776045,
          -0.09657627920969948,
          -1.8243055412777374,
          0.051993637559908906,
          -0.2727456870221832,
          -0.986463898356433,
          0.08565836080338578,
          0.2595033891481982,
          -0.5252644450116665,
          -1.0606034120376318,
          -1.0531339863226663,
          2.124426303973373,
          0.5386756257920999,
          -0.007511511275262967,
          1.1119203435398002,
          -0.23992367881368432,
          -1.6306447669964903,
          3.06700850806012,
          -1.5686351092233557,
          -0.3303055960327883,
          -2.6799375854206735,
          -0.059681128683770214,
          2.091684394948725,
          -0.8967544340093194,
          1.09190837290732,
          0.6071660132691131,
          -0.8682215185106045,
          -0.5929683036738767,
          1.1858783986893462,
          0.4364224172106424,
          -0.5607058909568162,
          2.2031077947680973,
          -2.0009293881751598,
          0.7424893040701714,
          0.8393707588892446,
          -0.816004938619743,
          -1.4229672866936136,
          0.16767953911777858,
          -0.3836304305107007,
          -0.6530503240203627,
          -0.4032092701394886,
          0.49550149133083987,
          -1.2219788650504726,
          -2.01711399525827,
          -1.3501399942480863,
          -0.3340565386962628,
          1.6208031740714461,
          -0.81865148507276,
          -0.7007388233092041,
          0.5136785611995491,
          0.35171848335376976,
          0.9435753712354081,
          0.27369781840798585,
          -1.9524180893392744,
          -0.8624643631571148,
          0.8430570654922642,
          2.1323244795491156,
          -0.6288100804146632,
          1.3589889331060612,
          -0.557235992767454,
          -1.3792429504800554,
          0.130518031523595,
          -0.9227967429596617,
          0.6573125910979403,
          -0.23994717138183025,
          0.6626844035939178,
          0.7741461543370848,
          0.48579671998018553,
          -1.3130302860341112,
          -2.3704585045470785,
          -1.3160142246509,
          0.04462568929934854,
          -1.9574264167929238,
          -0.7695788548393496,
          -0.9140157180522013,
          -1.5892123568347112,
          0.6936677916768622,
          1.1210373544275518,
          0.7961678326691228,
          -0.8391943240960812,
          0.24015769746489576,
          -0.5508983796531722,
          1.12627939397085,
          0.9029350084574046,
          -2.432031096989011,
          0.7657320319014022,
          -0.8199738797904056,
          0.936354598692254,
          1.4219270790134204,
          1.3436035732956615,
          1.068728347985142,
          -0.1274801263802885
         ],
         "yaxis": "y12"
        },
        {
         "line": {
          "color": "rgba(128, 128, 128, 1.0)",
          "dash": "solid",
          "shape": "linear",
          "width": 1.3
         },
         "marker": {
          "size": 2,
          "symbol": "circle"
         },
         "mode": "markers",
         "name": "D",
         "text": "",
         "type": "scatter",
         "x": [
          -0.40615102691201077,
          -0.47999536952712385,
          -0.731589452209614,
          0.5879553428621914,
          -1.8568953718148897,
          0.9852963397699704,
          -0.4565079483975351,
          0.8985744483888078,
          -1.880550197114006,
          -2.495067192414269,
          0.24318773794361037,
          -2.278949369698818,
          -0.5490311250307648,
          0.14532734122867813,
          0.16276002203759868,
          -1.0591320920484073,
          0.05372109359972695,
          0.2035258413077142,
          -2.4564801144392163,
          0.006562014766148572,
          1.8299109338952464,
          -0.9675701363179834,
          1.0541841654244393,
          0.20884013344601376,
          -1.3891116084425656,
          0.27161097959040503,
          2.1283430566163135,
          -0.22494485238235143,
          -0.09599443616592065,
          -0.47463986288576715,
          -1.7001685826280957,
          -1.339622451274522,
          0.14880307684214328,
          -1.502406867092294,
          0.6697628491897455,
          1.6736896598940452,
          -1.1242305900000233,
          1.2716030457108993,
          -0.020503495668329225,
          -0.6004282275431292,
          -1.610798298038356,
          -0.7126845047666951,
          -0.25276036273175184,
          -0.31036598996075493,
          0.27657442247611386,
          0.36475971678819463,
          -0.3032001827072675,
          0.28120037852816376,
          -1.057923800745797,
          -0.7299540132790762,
          -1.0364219628836993,
          2.4916267759664805,
          1.1629521913280154,
          2.0054327257594626,
          -0.23891835735830366,
          -0.08667481619810505,
          0.1821673126387374,
          -0.9087506411647428,
          -0.2175223804697042,
          1.0366653428718404,
          -1.1387376153306084,
          -1.3134795663116043,
          -0.3109333372518202,
          -0.11731364062957415,
          -0.10397752332154095,
          0.17357286910884961,
          1.125123233663803,
          -0.18371208575837503,
          0.7475189213297856,
          -1.8732934204335845,
          0.3349278560198267,
          1.626356126253646,
          0.04965422963422056,
          -0.4617720171349,
          0.25881350378239626,
          -0.6898896998105463,
          0.7647345988279457,
          0.44480407531461874,
          0.09985660770502092,
          0.1461906720821347,
          0.04340642890250446,
          -0.10569764171165204,
          -2.5186919527957294,
          0.402553363843015,
          -1.1885416932522634,
          1.7141212243739197,
          0.6790642180576574,
          1.1679009178651383,
          -1.0087877679657051,
          -0.19813583121524153,
          0.9851166891438866,
          -0.0118683102180748,
          -0.44242679362729026,
          -0.05957237410520343,
          -0.8011467122356221,
          -0.27444702043341096,
          -1.8845227330028054,
          0.663868967586431,
          -0.29563990016503844,
          0.018384161821900682
         ],
         "xaxis": "x13",
         "y": [
          1.1721929351470735,
          -0.22550678449579425,
          -0.23122702155824176,
          0.6563333186487523,
          0.9213870194866701,
          -0.940057159600806,
          1.0628180142729196,
          -0.7499896102609849,
          0.30784931824423095,
          2.266399430883198,
          -0.44880797942819267,
          1.1422936229435676,
          0.09103811544473554,
          2.069523663590396,
          1.2508805902953954,
          -0.3047131602462184,
          0.9197394716886824,
          1.0057324663857043,
          -0.4333404738483218,
          1.1010416821236282,
          0.20656145868170267,
          0.26233863218323333,
          1.5060412455601153,
          -0.13402585348303264,
          -0.32697483748177253,
          1.079837128902801,
          0.004728406171932221,
          -0.6226718331405126,
          -0.4490701297158038,
          0.15225931142287583,
          0.9153052362338638,
          -0.6622649748463805,
          -0.054998896163471284,
          -1.845316075636726,
          0.01180849735745713,
          0.6209732383074823,
          -2.1112426036073337,
          -0.0821528976491328,
          -1.0224783410842313,
          0.4878918372140083,
          0.4671284655613165,
          -1.5994765830828284,
          -0.6725580152001758,
          0.44366080628539195,
          0.07415873128838171,
          -1.3249369973109828,
          1.1551445342220152,
          1.7332337195085488,
          -0.3657857984091364,
          -0.2873417734161192,
          -0.9709572050937714,
          -0.742372297830512,
          0.3794411738916534,
          0.2762755085921835,
          0.4148111210160986,
          1.004193222747808,
          1.735974995400932,
          0.17378939529727316,
          -0.39644398612996373,
          -0.2213175939757858,
          2.028025374229803,
          0.8741309031602762,
          -0.6177222409549274,
          -0.46832601837327215,
          0.8383996980225872,
          -0.13213402794172005,
          -0.7856771366004357,
          0.3907141014040696,
          0.7893113881559564,
          0.6582413953787006,
          -1.016539631599919,
          -0.7453435716771191,
          -0.020939124576196497,
          0.7032878546039067,
          -0.17619490382371217,
          -0.2779787776331174,
          -0.880442853112146,
          0.09774250949862644,
          0.6245392330085496,
          1.7064080979818954,
          1.3613379387667601,
          0.6412515175675733,
          0.1519953216329928,
          0.031348203336145526,
          -0.31098136014267036,
          0.7875720539862844,
          0.5889390839956123,
          0.4337578296750308,
          0.7171693251896951,
          -1.3440293593443675,
          -0.6736381577049158,
          -0.16567637011293324,
          0.8087465848833933,
          -0.45027639803246394,
          0.6994790917892251,
          0.5714910202749229,
          -0.32518777808721416,
          -0.8740087859949409,
          1.2355915780078561,
          0.5935130920319255
         ],
         "yaxis": "y13"
        },
        {
         "line": {
          "color": "rgba(128, 128, 128, 1.0)",
          "dash": "solid",
          "shape": "linear",
          "width": 1.3
         },
         "marker": {
          "size": 2,
          "symbol": "circle"
         },
         "mode": "markers",
         "name": "D",
         "text": "",
         "type": "scatter",
         "x": [
          0.33469028609462786,
          -0.4747720494047677,
          -0.8910492574030071,
          -0.6562947499843159,
          1.0975595283397657,
          -0.08492187787388085,
          0.834157942765214,
          0.8261256825901863,
          0.4632193771172654,
          0.2118406780817216,
          -0.18660521525359663,
          -0.8772109585438541,
          0.9001431742247843,
          0.43622225877058113,
          0.3505049904764363,
          0.9315658697409118,
          -1.946983553008016,
          0.7644568957313809,
          -0.12255099035106522,
          0.18500821089394304,
          0.6312321003475739,
          -1.3583124190159115,
          0.6879322926800804,
          -0.340566305221331,
          1.10044477146272,
          -1.0455648116827128,
          0.3952180495751735,
          0.6896877211682053,
          -0.5155403800669799,
          1.4785314007970745,
          -1.0649728817509585,
          1.7852829028741184,
          0.8570954275978809,
          2.173712498989926,
          -1.0582631927924049,
          0.4985565174744666,
          -0.4473289358096288,
          0.4025239189309213,
          -0.15564462003233068,
          0.5381832495099379,
          -1.2214341198324867,
          -0.31187895934241877,
          1.024480489586102,
          -0.9575439080616085,
          1.2319230093188827,
          0.8433090402248943,
          -0.1743727135083682,
          -0.516081714378001,
          -0.05238583944339358,
          -0.09322087115568396,
          -1.3402000293873717,
          -2.349049257706284,
          -1.2853922081306273,
          -0.41339815261901414,
          -0.7700945857764542,
          1.6608970953042417,
          0.6176112005319743,
          -0.8202041643220608,
          -1.7363664986014162,
          0.12947655833098984,
          -1.2343545924493855,
          -0.3730297008989098,
          -0.3096507505421561,
          -0.9790966487903674,
          0.34996075464019377,
          2.380102070380568,
          -0.2440263432978862,
          0.7681940478056901,
          1.3570398145585194,
          -0.20157140820039438,
          0.2877302953363688,
          0.16851948185688861,
          -0.5644038341545653,
          0.9231079850639387,
          -0.944506176873885,
          1.054446152533765,
          -0.7207904072238942,
          0.4365114891422287,
          2.338324940574144,
          1.0257780537771517,
          -1.1618978051757043,
          -1.6327091540232865,
          0.9509386746206595,
          1.0231396871331329,
          0.3118062700792768,
          -2.4097800983317152,
          0.7571883722250382,
          0.4131747981644347,
          -1.455075148971204,
          -0.21915229540259684,
          0.4578621056720926,
          0.16564240034126468,
          -1.237646345341587,
          -1.8175037223783308,
          -0.7467476602610285,
          -0.08434524550962558,
          -1.9690707808886958,
          -1.160972757919005,
          -0.23118107997338297,
          -0.6316562531717944
         ],
         "xaxis": "x14",
         "y": [
          1.1721929351470735,
          -0.22550678449579425,
          -0.23122702155824176,
          0.6563333186487523,
          0.9213870194866701,
          -0.940057159600806,
          1.0628180142729196,
          -0.7499896102609849,
          0.30784931824423095,
          2.266399430883198,
          -0.44880797942819267,
          1.1422936229435676,
          0.09103811544473554,
          2.069523663590396,
          1.2508805902953954,
          -0.3047131602462184,
          0.9197394716886824,
          1.0057324663857043,
          -0.4333404738483218,
          1.1010416821236282,
          0.20656145868170267,
          0.26233863218323333,
          1.5060412455601153,
          -0.13402585348303264,
          -0.32697483748177253,
          1.079837128902801,
          0.004728406171932221,
          -0.6226718331405126,
          -0.4490701297158038,
          0.15225931142287583,
          0.9153052362338638,
          -0.6622649748463805,
          -0.054998896163471284,
          -1.845316075636726,
          0.01180849735745713,
          0.6209732383074823,
          -2.1112426036073337,
          -0.0821528976491328,
          -1.0224783410842313,
          0.4878918372140083,
          0.4671284655613165,
          -1.5994765830828284,
          -0.6725580152001758,
          0.44366080628539195,
          0.07415873128838171,
          -1.3249369973109828,
          1.1551445342220152,
          1.7332337195085488,
          -0.3657857984091364,
          -0.2873417734161192,
          -0.9709572050937714,
          -0.742372297830512,
          0.3794411738916534,
          0.2762755085921835,
          0.4148111210160986,
          1.004193222747808,
          1.735974995400932,
          0.17378939529727316,
          -0.39644398612996373,
          -0.2213175939757858,
          2.028025374229803,
          0.8741309031602762,
          -0.6177222409549274,
          -0.46832601837327215,
          0.8383996980225872,
          -0.13213402794172005,
          -0.7856771366004357,
          0.3907141014040696,
          0.7893113881559564,
          0.6582413953787006,
          -1.016539631599919,
          -0.7453435716771191,
          -0.020939124576196497,
          0.7032878546039067,
          -0.17619490382371217,
          -0.2779787776331174,
          -0.880442853112146,
          0.09774250949862644,
          0.6245392330085496,
          1.7064080979818954,
          1.3613379387667601,
          0.6412515175675733,
          0.1519953216329928,
          0.031348203336145526,
          -0.31098136014267036,
          0.7875720539862844,
          0.5889390839956123,
          0.4337578296750308,
          0.7171693251896951,
          -1.3440293593443675,
          -0.6736381577049158,
          -0.16567637011293324,
          0.8087465848833933,
          -0.45027639803246394,
          0.6994790917892251,
          0.5714910202749229,
          -0.32518777808721416,
          -0.8740087859949409,
          1.2355915780078561,
          0.5935130920319255
         ],
         "yaxis": "y14"
        },
        {
         "line": {
          "color": "rgba(128, 128, 128, 1.0)",
          "dash": "solid",
          "shape": "linear",
          "width": 1.3
         },
         "marker": {
          "size": 2,
          "symbol": "circle"
         },
         "mode": "markers",
         "name": "D",
         "text": "",
         "type": "scatter",
         "x": [
          1.1737362333207728,
          1.5562612868774497,
          -0.014477400798201173,
          -0.9949081729820747,
          0.9357459497680499,
          0.12646190131838267,
          -0.3954971678824292,
          0.3430957446539166,
          0.9237407892776045,
          -0.09657627920969948,
          -1.8243055412777374,
          0.051993637559908906,
          -0.2727456870221832,
          -0.986463898356433,
          0.08565836080338578,
          0.2595033891481982,
          -0.5252644450116665,
          -1.0606034120376318,
          -1.0531339863226663,
          2.124426303973373,
          0.5386756257920999,
          -0.007511511275262967,
          1.1119203435398002,
          -0.23992367881368432,
          -1.6306447669964903,
          3.06700850806012,
          -1.5686351092233557,
          -0.3303055960327883,
          -2.6799375854206735,
          -0.059681128683770214,
          2.091684394948725,
          -0.8967544340093194,
          1.09190837290732,
          0.6071660132691131,
          -0.8682215185106045,
          -0.5929683036738767,
          1.1858783986893462,
          0.4364224172106424,
          -0.5607058909568162,
          2.2031077947680973,
          -2.0009293881751598,
          0.7424893040701714,
          0.8393707588892446,
          -0.816004938619743,
          -1.4229672866936136,
          0.16767953911777858,
          -0.3836304305107007,
          -0.6530503240203627,
          -0.4032092701394886,
          0.49550149133083987,
          -1.2219788650504726,
          -2.01711399525827,
          -1.3501399942480863,
          -0.3340565386962628,
          1.6208031740714461,
          -0.81865148507276,
          -0.7007388233092041,
          0.5136785611995491,
          0.35171848335376976,
          0.9435753712354081,
          0.27369781840798585,
          -1.9524180893392744,
          -0.8624643631571148,
          0.8430570654922642,
          2.1323244795491156,
          -0.6288100804146632,
          1.3589889331060612,
          -0.557235992767454,
          -1.3792429504800554,
          0.130518031523595,
          -0.9227967429596617,
          0.6573125910979403,
          -0.23994717138183025,
          0.6626844035939178,
          0.7741461543370848,
          0.48579671998018553,
          -1.3130302860341112,
          -2.3704585045470785,
          -1.3160142246509,
          0.04462568929934854,
          -1.9574264167929238,
          -0.7695788548393496,
          -0.9140157180522013,
          -1.5892123568347112,
          0.6936677916768622,
          1.1210373544275518,
          0.7961678326691228,
          -0.8391943240960812,
          0.24015769746489576,
          -0.5508983796531722,
          1.12627939397085,
          0.9029350084574046,
          -2.432031096989011,
          0.7657320319014022,
          -0.8199738797904056,
          0.936354598692254,
          1.4219270790134204,
          1.3436035732956615,
          1.068728347985142,
          -0.1274801263802885
         ],
         "xaxis": "x15",
         "y": [
          1.1721929351470735,
          -0.22550678449579425,
          -0.23122702155824176,
          0.6563333186487523,
          0.9213870194866701,
          -0.940057159600806,
          1.0628180142729196,
          -0.7499896102609849,
          0.30784931824423095,
          2.266399430883198,
          -0.44880797942819267,
          1.1422936229435676,
          0.09103811544473554,
          2.069523663590396,
          1.2508805902953954,
          -0.3047131602462184,
          0.9197394716886824,
          1.0057324663857043,
          -0.4333404738483218,
          1.1010416821236282,
          0.20656145868170267,
          0.26233863218323333,
          1.5060412455601153,
          -0.13402585348303264,
          -0.32697483748177253,
          1.079837128902801,
          0.004728406171932221,
          -0.6226718331405126,
          -0.4490701297158038,
          0.15225931142287583,
          0.9153052362338638,
          -0.6622649748463805,
          -0.054998896163471284,
          -1.845316075636726,
          0.01180849735745713,
          0.6209732383074823,
          -2.1112426036073337,
          -0.0821528976491328,
          -1.0224783410842313,
          0.4878918372140083,
          0.4671284655613165,
          -1.5994765830828284,
          -0.6725580152001758,
          0.44366080628539195,
          0.07415873128838171,
          -1.3249369973109828,
          1.1551445342220152,
          1.7332337195085488,
          -0.3657857984091364,
          -0.2873417734161192,
          -0.9709572050937714,
          -0.742372297830512,
          0.3794411738916534,
          0.2762755085921835,
          0.4148111210160986,
          1.004193222747808,
          1.735974995400932,
          0.17378939529727316,
          -0.39644398612996373,
          -0.2213175939757858,
          2.028025374229803,
          0.8741309031602762,
          -0.6177222409549274,
          -0.46832601837327215,
          0.8383996980225872,
          -0.13213402794172005,
          -0.7856771366004357,
          0.3907141014040696,
          0.7893113881559564,
          0.6582413953787006,
          -1.016539631599919,
          -0.7453435716771191,
          -0.020939124576196497,
          0.7032878546039067,
          -0.17619490382371217,
          -0.2779787776331174,
          -0.880442853112146,
          0.09774250949862644,
          0.6245392330085496,
          1.7064080979818954,
          1.3613379387667601,
          0.6412515175675733,
          0.1519953216329928,
          0.031348203336145526,
          -0.31098136014267036,
          0.7875720539862844,
          0.5889390839956123,
          0.4337578296750308,
          0.7171693251896951,
          -1.3440293593443675,
          -0.6736381577049158,
          -0.16567637011293324,
          0.8087465848833933,
          -0.45027639803246394,
          0.6994790917892251,
          0.5714910202749229,
          -0.32518777808721416,
          -0.8740087859949409,
          1.2355915780078561,
          0.5935130920319255
         ],
         "yaxis": "y15"
        },
        {
         "histfunc": "count",
         "histnorm": "",
         "marker": {
          "color": "rgba(128, 0, 128, 1.0)",
          "line": {
           "color": "#4D5663",
           "width": 1.3
          }
         },
         "name": "D",
         "nbinsx": 10,
         "opacity": 0.8,
         "orientation": "v",
         "type": "histogram",
         "x": [
          1.1721929351470735,
          -0.22550678449579425,
          -0.23122702155824176,
          0.6563333186487523,
          0.9213870194866701,
          -0.940057159600806,
          1.0628180142729196,
          -0.7499896102609849,
          0.30784931824423095,
          2.266399430883198,
          -0.44880797942819267,
          1.1422936229435676,
          0.09103811544473554,
          2.069523663590396,
          1.2508805902953954,
          -0.3047131602462184,
          0.9197394716886824,
          1.0057324663857043,
          -0.4333404738483218,
          1.1010416821236282,
          0.20656145868170267,
          0.26233863218323333,
          1.5060412455601153,
          -0.13402585348303264,
          -0.32697483748177253,
          1.079837128902801,
          0.004728406171932221,
          -0.6226718331405126,
          -0.4490701297158038,
          0.15225931142287583,
          0.9153052362338638,
          -0.6622649748463805,
          -0.054998896163471284,
          -1.845316075636726,
          0.01180849735745713,
          0.6209732383074823,
          -2.1112426036073337,
          -0.0821528976491328,
          -1.0224783410842313,
          0.4878918372140083,
          0.4671284655613165,
          -1.5994765830828284,
          -0.6725580152001758,
          0.44366080628539195,
          0.07415873128838171,
          -1.3249369973109828,
          1.1551445342220152,
          1.7332337195085488,
          -0.3657857984091364,
          -0.2873417734161192,
          -0.9709572050937714,
          -0.742372297830512,
          0.3794411738916534,
          0.2762755085921835,
          0.4148111210160986,
          1.004193222747808,
          1.735974995400932,
          0.17378939529727316,
          -0.39644398612996373,
          -0.2213175939757858,
          2.028025374229803,
          0.8741309031602762,
          -0.6177222409549274,
          -0.46832601837327215,
          0.8383996980225872,
          -0.13213402794172005,
          -0.7856771366004357,
          0.3907141014040696,
          0.7893113881559564,
          0.6582413953787006,
          -1.016539631599919,
          -0.7453435716771191,
          -0.020939124576196497,
          0.7032878546039067,
          -0.17619490382371217,
          -0.2779787776331174,
          -0.880442853112146,
          0.09774250949862644,
          0.6245392330085496,
          1.7064080979818954,
          1.3613379387667601,
          0.6412515175675733,
          0.1519953216329928,
          0.031348203336145526,
          -0.31098136014267036,
          0.7875720539862844,
          0.5889390839956123,
          0.4337578296750308,
          0.7171693251896951,
          -1.3440293593443675,
          -0.6736381577049158,
          -0.16567637011293324,
          0.8087465848833933,
          -0.45027639803246394,
          0.6994790917892251,
          0.5714910202749229,
          -0.32518777808721416,
          -0.8740087859949409,
          1.2355915780078561,
          0.5935130920319255
         ],
         "xaxis": "x16",
         "yaxis": "y16"
        }
       ],
       "layout": {
        "bargap": 0.02,
        "legend": {
         "bgcolor": "#F5F6F9",
         "font": {
          "color": "#4D5663"
         }
        },
        "paper_bgcolor": "#F5F6F9",
        "plot_bgcolor": "#F5F6F9",
        "showlegend": false,
        "template": {
         "data": {
          "bar": [
           {
            "error_x": {
             "color": "#2a3f5f"
            },
            "error_y": {
             "color": "#2a3f5f"
            },
            "marker": {
             "line": {
              "color": "#E5ECF6",
              "width": 0.5
             },
             "pattern": {
              "fillmode": "overlay",
              "size": 10,
              "solidity": 0.2
             }
            },
            "type": "bar"
           }
          ],
          "barpolar": [
           {
            "marker": {
             "line": {
              "color": "#E5ECF6",
              "width": 0.5
             },
             "pattern": {
              "fillmode": "overlay",
              "size": 10,
              "solidity": 0.2
             }
            },
            "type": "barpolar"
           }
          ],
          "carpet": [
           {
            "aaxis": {
             "endlinecolor": "#2a3f5f",
             "gridcolor": "white",
             "linecolor": "white",
             "minorgridcolor": "white",
             "startlinecolor": "#2a3f5f"
            },
            "baxis": {
             "endlinecolor": "#2a3f5f",
             "gridcolor": "white",
             "linecolor": "white",
             "minorgridcolor": "white",
             "startlinecolor": "#2a3f5f"
            },
            "type": "carpet"
           }
          ],
          "choropleth": [
           {
            "colorbar": {
             "outlinewidth": 0,
             "ticks": ""
            },
            "type": "choropleth"
           }
          ],
          "contour": [
           {
            "colorbar": {
             "outlinewidth": 0,
             "ticks": ""
            },
            "colorscale": [
             [
              0,
              "#0d0887"
             ],
             [
              0.1111111111111111,
              "#46039f"
             ],
             [
              0.2222222222222222,
              "#7201a8"
             ],
             [
              0.3333333333333333,
              "#9c179e"
             ],
             [
              0.4444444444444444,
              "#bd3786"
             ],
             [
              0.5555555555555556,
              "#d8576b"
             ],
             [
              0.6666666666666666,
              "#ed7953"
             ],
             [
              0.7777777777777778,
              "#fb9f3a"
             ],
             [
              0.8888888888888888,
              "#fdca26"
             ],
             [
              1,
              "#f0f921"
             ]
            ],
            "type": "contour"
           }
          ],
          "contourcarpet": [
           {
            "colorbar": {
             "outlinewidth": 0,
             "ticks": ""
            },
            "type": "contourcarpet"
           }
          ],
          "heatmap": [
           {
            "colorbar": {
             "outlinewidth": 0,
             "ticks": ""
            },
            "colorscale": [
             [
              0,
              "#0d0887"
             ],
             [
              0.1111111111111111,
              "#46039f"
             ],
             [
              0.2222222222222222,
              "#7201a8"
             ],
             [
              0.3333333333333333,
              "#9c179e"
             ],
             [
              0.4444444444444444,
              "#bd3786"
             ],
             [
              0.5555555555555556,
              "#d8576b"
             ],
             [
              0.6666666666666666,
              "#ed7953"
             ],
             [
              0.7777777777777778,
              "#fb9f3a"
             ],
             [
              0.8888888888888888,
              "#fdca26"
             ],
             [
              1,
              "#f0f921"
             ]
            ],
            "type": "heatmap"
           }
          ],
          "heatmapgl": [
           {
            "colorbar": {
             "outlinewidth": 0,
             "ticks": ""
            },
            "colorscale": [
             [
              0,
              "#0d0887"
             ],
             [
              0.1111111111111111,
              "#46039f"
             ],
             [
              0.2222222222222222,
              "#7201a8"
             ],
             [
              0.3333333333333333,
              "#9c179e"
             ],
             [
              0.4444444444444444,
              "#bd3786"
             ],
             [
              0.5555555555555556,
              "#d8576b"
             ],
             [
              0.6666666666666666,
              "#ed7953"
             ],
             [
              0.7777777777777778,
              "#fb9f3a"
             ],
             [
              0.8888888888888888,
              "#fdca26"
             ],
             [
              1,
              "#f0f921"
             ]
            ],
            "type": "heatmapgl"
           }
          ],
          "histogram": [
           {
            "marker": {
             "pattern": {
              "fillmode": "overlay",
              "size": 10,
              "solidity": 0.2
             }
            },
            "type": "histogram"
           }
          ],
          "histogram2d": [
           {
            "colorbar": {
             "outlinewidth": 0,
             "ticks": ""
            },
            "colorscale": [
             [
              0,
              "#0d0887"
             ],
             [
              0.1111111111111111,
              "#46039f"
             ],
             [
              0.2222222222222222,
              "#7201a8"
             ],
             [
              0.3333333333333333,
              "#9c179e"
             ],
             [
              0.4444444444444444,
              "#bd3786"
             ],
             [
              0.5555555555555556,
              "#d8576b"
             ],
             [
              0.6666666666666666,
              "#ed7953"
             ],
             [
              0.7777777777777778,
              "#fb9f3a"
             ],
             [
              0.8888888888888888,
              "#fdca26"
             ],
             [
              1,
              "#f0f921"
             ]
            ],
            "type": "histogram2d"
           }
          ],
          "histogram2dcontour": [
           {
            "colorbar": {
             "outlinewidth": 0,
             "ticks": ""
            },
            "colorscale": [
             [
              0,
              "#0d0887"
             ],
             [
              0.1111111111111111,
              "#46039f"
             ],
             [
              0.2222222222222222,
              "#7201a8"
             ],
             [
              0.3333333333333333,
              "#9c179e"
             ],
             [
              0.4444444444444444,
              "#bd3786"
             ],
             [
              0.5555555555555556,
              "#d8576b"
             ],
             [
              0.6666666666666666,
              "#ed7953"
             ],
             [
              0.7777777777777778,
              "#fb9f3a"
             ],
             [
              0.8888888888888888,
              "#fdca26"
             ],
             [
              1,
              "#f0f921"
             ]
            ],
            "type": "histogram2dcontour"
           }
          ],
          "mesh3d": [
           {
            "colorbar": {
             "outlinewidth": 0,
             "ticks": ""
            },
            "type": "mesh3d"
           }
          ],
          "parcoords": [
           {
            "line": {
             "colorbar": {
              "outlinewidth": 0,
              "ticks": ""
             }
            },
            "type": "parcoords"
           }
          ],
          "pie": [
           {
            "automargin": true,
            "type": "pie"
           }
          ],
          "scatter": [
           {
            "fillpattern": {
             "fillmode": "overlay",
             "size": 10,
             "solidity": 0.2
            },
            "type": "scatter"
           }
          ],
          "scatter3d": [
           {
            "line": {
             "colorbar": {
              "outlinewidth": 0,
              "ticks": ""
             }
            },
            "marker": {
             "colorbar": {
              "outlinewidth": 0,
              "ticks": ""
             }
            },
            "type": "scatter3d"
           }
          ],
          "scattercarpet": [
           {
            "marker": {
             "colorbar": {
              "outlinewidth": 0,
              "ticks": ""
             }
            },
            "type": "scattercarpet"
           }
          ],
          "scattergeo": [
           {
            "marker": {
             "colorbar": {
              "outlinewidth": 0,
              "ticks": ""
             }
            },
            "type": "scattergeo"
           }
          ],
          "scattergl": [
           {
            "marker": {
             "colorbar": {
              "outlinewidth": 0,
              "ticks": ""
             }
            },
            "type": "scattergl"
           }
          ],
          "scattermapbox": [
           {
            "marker": {
             "colorbar": {
              "outlinewidth": 0,
              "ticks": ""
             }
            },
            "type": "scattermapbox"
           }
          ],
          "scatterpolar": [
           {
            "marker": {
             "colorbar": {
              "outlinewidth": 0,
              "ticks": ""
             }
            },
            "type": "scatterpolar"
           }
          ],
          "scatterpolargl": [
           {
            "marker": {
             "colorbar": {
              "outlinewidth": 0,
              "ticks": ""
             }
            },
            "type": "scatterpolargl"
           }
          ],
          "scatterternary": [
           {
            "marker": {
             "colorbar": {
              "outlinewidth": 0,
              "ticks": ""
             }
            },
            "type": "scatterternary"
           }
          ],
          "surface": [
           {
            "colorbar": {
             "outlinewidth": 0,
             "ticks": ""
            },
            "colorscale": [
             [
              0,
              "#0d0887"
             ],
             [
              0.1111111111111111,
              "#46039f"
             ],
             [
              0.2222222222222222,
              "#7201a8"
             ],
             [
              0.3333333333333333,
              "#9c179e"
             ],
             [
              0.4444444444444444,
              "#bd3786"
             ],
             [
              0.5555555555555556,
              "#d8576b"
             ],
             [
              0.6666666666666666,
              "#ed7953"
             ],
             [
              0.7777777777777778,
              "#fb9f3a"
             ],
             [
              0.8888888888888888,
              "#fdca26"
             ],
             [
              1,
              "#f0f921"
             ]
            ],
            "type": "surface"
           }
          ],
          "table": [
           {
            "cells": {
             "fill": {
              "color": "#EBF0F8"
             },
             "line": {
              "color": "white"
             }
            },
            "header": {
             "fill": {
              "color": "#C8D4E3"
             },
             "line": {
              "color": "white"
             }
            },
            "type": "table"
           }
          ]
         },
         "layout": {
          "annotationdefaults": {
           "arrowcolor": "#2a3f5f",
           "arrowhead": 0,
           "arrowwidth": 1
          },
          "autotypenumbers": "strict",
          "coloraxis": {
           "colorbar": {
            "outlinewidth": 0,
            "ticks": ""
           }
          },
          "colorscale": {
           "diverging": [
            [
             0,
             "#8e0152"
            ],
            [
             0.1,
             "#c51b7d"
            ],
            [
             0.2,
             "#de77ae"
            ],
            [
             0.3,
             "#f1b6da"
            ],
            [
             0.4,
             "#fde0ef"
            ],
            [
             0.5,
             "#f7f7f7"
            ],
            [
             0.6,
             "#e6f5d0"
            ],
            [
             0.7,
             "#b8e186"
            ],
            [
             0.8,
             "#7fbc41"
            ],
            [
             0.9,
             "#4d9221"
            ],
            [
             1,
             "#276419"
            ]
           ],
           "sequential": [
            [
             0,
             "#0d0887"
            ],
            [
             0.1111111111111111,
             "#46039f"
            ],
            [
             0.2222222222222222,
             "#7201a8"
            ],
            [
             0.3333333333333333,
             "#9c179e"
            ],
            [
             0.4444444444444444,
             "#bd3786"
            ],
            [
             0.5555555555555556,
             "#d8576b"
            ],
            [
             0.6666666666666666,
             "#ed7953"
            ],
            [
             0.7777777777777778,
             "#fb9f3a"
            ],
            [
             0.8888888888888888,
             "#fdca26"
            ],
            [
             1,
             "#f0f921"
            ]
           ],
           "sequentialminus": [
            [
             0,
             "#0d0887"
            ],
            [
             0.1111111111111111,
             "#46039f"
            ],
            [
             0.2222222222222222,
             "#7201a8"
            ],
            [
             0.3333333333333333,
             "#9c179e"
            ],
            [
             0.4444444444444444,
             "#bd3786"
            ],
            [
             0.5555555555555556,
             "#d8576b"
            ],
            [
             0.6666666666666666,
             "#ed7953"
            ],
            [
             0.7777777777777778,
             "#fb9f3a"
            ],
            [
             0.8888888888888888,
             "#fdca26"
            ],
            [
             1,
             "#f0f921"
            ]
           ]
          },
          "colorway": [
           "#636efa",
           "#EF553B",
           "#00cc96",
           "#ab63fa",
           "#FFA15A",
           "#19d3f3",
           "#FF6692",
           "#B6E880",
           "#FF97FF",
           "#FECB52"
          ],
          "font": {
           "color": "#2a3f5f"
          },
          "geo": {
           "bgcolor": "white",
           "lakecolor": "white",
           "landcolor": "#E5ECF6",
           "showlakes": true,
           "showland": true,
           "subunitcolor": "white"
          },
          "hoverlabel": {
           "align": "left"
          },
          "hovermode": "closest",
          "mapbox": {
           "style": "light"
          },
          "paper_bgcolor": "white",
          "plot_bgcolor": "#E5ECF6",
          "polar": {
           "angularaxis": {
            "gridcolor": "white",
            "linecolor": "white",
            "ticks": ""
           },
           "bgcolor": "#E5ECF6",
           "radialaxis": {
            "gridcolor": "white",
            "linecolor": "white",
            "ticks": ""
           }
          },
          "scene": {
           "xaxis": {
            "backgroundcolor": "#E5ECF6",
            "gridcolor": "white",
            "gridwidth": 2,
            "linecolor": "white",
            "showbackground": true,
            "ticks": "",
            "zerolinecolor": "white"
           },
           "yaxis": {
            "backgroundcolor": "#E5ECF6",
            "gridcolor": "white",
            "gridwidth": 2,
            "linecolor": "white",
            "showbackground": true,
            "ticks": "",
            "zerolinecolor": "white"
           },
           "zaxis": {
            "backgroundcolor": "#E5ECF6",
            "gridcolor": "white",
            "gridwidth": 2,
            "linecolor": "white",
            "showbackground": true,
            "ticks": "",
            "zerolinecolor": "white"
           }
          },
          "shapedefaults": {
           "line": {
            "color": "#2a3f5f"
           }
          },
          "ternary": {
           "aaxis": {
            "gridcolor": "white",
            "linecolor": "white",
            "ticks": ""
           },
           "baxis": {
            "gridcolor": "white",
            "linecolor": "white",
            "ticks": ""
           },
           "bgcolor": "#E5ECF6",
           "caxis": {
            "gridcolor": "white",
            "linecolor": "white",
            "ticks": ""
           }
          },
          "title": {
           "x": 0.05
          },
          "xaxis": {
           "automargin": true,
           "gridcolor": "white",
           "linecolor": "white",
           "ticks": "",
           "title": {
            "standoff": 15
           },
           "zerolinecolor": "white",
           "zerolinewidth": 2
          },
          "yaxis": {
           "automargin": true,
           "gridcolor": "white",
           "linecolor": "white",
           "ticks": "",
           "title": {
            "standoff": 15
           },
           "zerolinecolor": "white",
           "zerolinewidth": 2
          }
         }
        },
        "title": {
         "font": {
          "color": "#4D5663"
         }
        },
        "xaxis": {
         "anchor": "y",
         "domain": [
          0,
          0.2125
         ],
         "gridcolor": "#E1E5ED",
         "showgrid": false,
         "tickfont": {
          "color": "#4D5663"
         },
         "title": {
          "font": {
           "color": "#4D5663"
          },
          "text": ""
         },
         "zerolinecolor": "#E1E5ED"
        },
        "xaxis10": {
         "anchor": "y10",
         "domain": [
          0.2625,
          0.475
         ],
         "gridcolor": "#E1E5ED",
         "showgrid": false,
         "tickfont": {
          "color": "#4D5663"
         },
         "title": {
          "font": {
           "color": "#4D5663"
          },
          "text": ""
         },
         "zerolinecolor": "#E1E5ED"
        },
        "xaxis11": {
         "anchor": "y11",
         "domain": [
          0.525,
          0.7375
         ],
         "gridcolor": "#E1E5ED",
         "showgrid": false,
         "tickfont": {
          "color": "#4D5663"
         },
         "title": {
          "font": {
           "color": "#4D5663"
          },
          "text": ""
         },
         "zerolinecolor": "#E1E5ED"
        },
        "xaxis12": {
         "anchor": "y12",
         "domain": [
          0.7875,
          1
         ],
         "gridcolor": "#E1E5ED",
         "showgrid": false,
         "tickfont": {
          "color": "#4D5663"
         },
         "title": {
          "font": {
           "color": "#4D5663"
          },
          "text": ""
         },
         "zerolinecolor": "#E1E5ED"
        },
        "xaxis13": {
         "anchor": "y13",
         "domain": [
          0,
          0.2125
         ],
         "gridcolor": "#E1E5ED",
         "showgrid": false,
         "tickfont": {
          "color": "#4D5663"
         },
         "title": {
          "font": {
           "color": "#4D5663"
          },
          "text": ""
         },
         "zerolinecolor": "#E1E5ED"
        },
        "xaxis14": {
         "anchor": "y14",
         "domain": [
          0.2625,
          0.475
         ],
         "gridcolor": "#E1E5ED",
         "showgrid": false,
         "tickfont": {
          "color": "#4D5663"
         },
         "title": {
          "font": {
           "color": "#4D5663"
          },
          "text": ""
         },
         "zerolinecolor": "#E1E5ED"
        },
        "xaxis15": {
         "anchor": "y15",
         "domain": [
          0.525,
          0.7375
         ],
         "gridcolor": "#E1E5ED",
         "showgrid": false,
         "tickfont": {
          "color": "#4D5663"
         },
         "title": {
          "font": {
           "color": "#4D5663"
          },
          "text": ""
         },
         "zerolinecolor": "#E1E5ED"
        },
        "xaxis16": {
         "anchor": "y16",
         "domain": [
          0.7875,
          1
         ],
         "gridcolor": "#E1E5ED",
         "showgrid": false,
         "tickfont": {
          "color": "#4D5663"
         },
         "title": {
          "font": {
           "color": "#4D5663"
          },
          "text": ""
         },
         "zerolinecolor": "#E1E5ED"
        },
        "xaxis2": {
         "anchor": "y2",
         "domain": [
          0.2625,
          0.475
         ],
         "gridcolor": "#E1E5ED",
         "showgrid": false,
         "tickfont": {
          "color": "#4D5663"
         },
         "title": {
          "font": {
           "color": "#4D5663"
          },
          "text": ""
         },
         "zerolinecolor": "#E1E5ED"
        },
        "xaxis3": {
         "anchor": "y3",
         "domain": [
          0.525,
          0.7375
         ],
         "gridcolor": "#E1E5ED",
         "showgrid": false,
         "tickfont": {
          "color": "#4D5663"
         },
         "title": {
          "font": {
           "color": "#4D5663"
          },
          "text": ""
         },
         "zerolinecolor": "#E1E5ED"
        },
        "xaxis4": {
         "anchor": "y4",
         "domain": [
          0.7875,
          1
         ],
         "gridcolor": "#E1E5ED",
         "showgrid": false,
         "tickfont": {
          "color": "#4D5663"
         },
         "title": {
          "font": {
           "color": "#4D5663"
          },
          "text": ""
         },
         "zerolinecolor": "#E1E5ED"
        },
        "xaxis5": {
         "anchor": "y5",
         "domain": [
          0,
          0.2125
         ],
         "gridcolor": "#E1E5ED",
         "showgrid": false,
         "tickfont": {
          "color": "#4D5663"
         },
         "title": {
          "font": {
           "color": "#4D5663"
          },
          "text": ""
         },
         "zerolinecolor": "#E1E5ED"
        },
        "xaxis6": {
         "anchor": "y6",
         "domain": [
          0.2625,
          0.475
         ],
         "gridcolor": "#E1E5ED",
         "showgrid": false,
         "tickfont": {
          "color": "#4D5663"
         },
         "title": {
          "font": {
           "color": "#4D5663"
          },
          "text": ""
         },
         "zerolinecolor": "#E1E5ED"
        },
        "xaxis7": {
         "anchor": "y7",
         "domain": [
          0.525,
          0.7375
         ],
         "gridcolor": "#E1E5ED",
         "showgrid": false,
         "tickfont": {
          "color": "#4D5663"
         },
         "title": {
          "font": {
           "color": "#4D5663"
          },
          "text": ""
         },
         "zerolinecolor": "#E1E5ED"
        },
        "xaxis8": {
         "anchor": "y8",
         "domain": [
          0.7875,
          1
         ],
         "gridcolor": "#E1E5ED",
         "showgrid": false,
         "tickfont": {
          "color": "#4D5663"
         },
         "title": {
          "font": {
           "color": "#4D5663"
          },
          "text": ""
         },
         "zerolinecolor": "#E1E5ED"
        },
        "xaxis9": {
         "anchor": "y9",
         "domain": [
          0,
          0.2125
         ],
         "gridcolor": "#E1E5ED",
         "showgrid": false,
         "tickfont": {
          "color": "#4D5663"
         },
         "title": {
          "font": {
           "color": "#4D5663"
          },
          "text": ""
         },
         "zerolinecolor": "#E1E5ED"
        },
        "yaxis": {
         "anchor": "x",
         "domain": [
          0.8025,
          1
         ],
         "gridcolor": "#E1E5ED",
         "showgrid": false,
         "tickfont": {
          "color": "#4D5663"
         },
         "title": {
          "font": {
           "color": "#4D5663"
          },
          "text": ""
         },
         "zerolinecolor": "#E1E5ED"
        },
        "yaxis10": {
         "anchor": "x10",
         "domain": [
          0.2675,
          0.465
         ],
         "gridcolor": "#E1E5ED",
         "showgrid": false,
         "tickfont": {
          "color": "#4D5663"
         },
         "title": {
          "font": {
           "color": "#4D5663"
          },
          "text": ""
         },
         "zerolinecolor": "#E1E5ED"
        },
        "yaxis11": {
         "anchor": "x11",
         "domain": [
          0.2675,
          0.465
         ],
         "gridcolor": "#E1E5ED",
         "showgrid": false,
         "tickfont": {
          "color": "#4D5663"
         },
         "title": {
          "font": {
           "color": "#4D5663"
          },
          "text": ""
         },
         "zerolinecolor": "#E1E5ED"
        },
        "yaxis12": {
         "anchor": "x12",
         "domain": [
          0.2675,
          0.465
         ],
         "gridcolor": "#E1E5ED",
         "showgrid": false,
         "tickfont": {
          "color": "#4D5663"
         },
         "title": {
          "font": {
           "color": "#4D5663"
          },
          "text": ""
         },
         "zerolinecolor": "#E1E5ED"
        },
        "yaxis13": {
         "anchor": "x13",
         "domain": [
          0,
          0.1975
         ],
         "gridcolor": "#E1E5ED",
         "showgrid": false,
         "tickfont": {
          "color": "#4D5663"
         },
         "title": {
          "font": {
           "color": "#4D5663"
          },
          "text": ""
         },
         "zerolinecolor": "#E1E5ED"
        },
        "yaxis14": {
         "anchor": "x14",
         "domain": [
          0,
          0.1975
         ],
         "gridcolor": "#E1E5ED",
         "showgrid": false,
         "tickfont": {
          "color": "#4D5663"
         },
         "title": {
          "font": {
           "color": "#4D5663"
          },
          "text": ""
         },
         "zerolinecolor": "#E1E5ED"
        },
        "yaxis15": {
         "anchor": "x15",
         "domain": [
          0,
          0.1975
         ],
         "gridcolor": "#E1E5ED",
         "showgrid": false,
         "tickfont": {
          "color": "#4D5663"
         },
         "title": {
          "font": {
           "color": "#4D5663"
          },
          "text": ""
         },
         "zerolinecolor": "#E1E5ED"
        },
        "yaxis16": {
         "anchor": "x16",
         "domain": [
          0,
          0.1975
         ],
         "gridcolor": "#E1E5ED",
         "showgrid": false,
         "tickfont": {
          "color": "#4D5663"
         },
         "title": {
          "font": {
           "color": "#4D5663"
          },
          "text": ""
         },
         "zerolinecolor": "#E1E5ED"
        },
        "yaxis2": {
         "anchor": "x2",
         "domain": [
          0.8025,
          1
         ],
         "gridcolor": "#E1E5ED",
         "showgrid": false,
         "tickfont": {
          "color": "#4D5663"
         },
         "title": {
          "font": {
           "color": "#4D5663"
          },
          "text": ""
         },
         "zerolinecolor": "#E1E5ED"
        },
        "yaxis3": {
         "anchor": "x3",
         "domain": [
          0.8025,
          1
         ],
         "gridcolor": "#E1E5ED",
         "showgrid": false,
         "tickfont": {
          "color": "#4D5663"
         },
         "title": {
          "font": {
           "color": "#4D5663"
          },
          "text": ""
         },
         "zerolinecolor": "#E1E5ED"
        },
        "yaxis4": {
         "anchor": "x4",
         "domain": [
          0.8025,
          1
         ],
         "gridcolor": "#E1E5ED",
         "showgrid": false,
         "tickfont": {
          "color": "#4D5663"
         },
         "title": {
          "font": {
           "color": "#4D5663"
          },
          "text": ""
         },
         "zerolinecolor": "#E1E5ED"
        },
        "yaxis5": {
         "anchor": "x5",
         "domain": [
          0.535,
          0.7325
         ],
         "gridcolor": "#E1E5ED",
         "showgrid": false,
         "tickfont": {
          "color": "#4D5663"
         },
         "title": {
          "font": {
           "color": "#4D5663"
          },
          "text": ""
         },
         "zerolinecolor": "#E1E5ED"
        },
        "yaxis6": {
         "anchor": "x6",
         "domain": [
          0.535,
          0.7325
         ],
         "gridcolor": "#E1E5ED",
         "showgrid": false,
         "tickfont": {
          "color": "#4D5663"
         },
         "title": {
          "font": {
           "color": "#4D5663"
          },
          "text": ""
         },
         "zerolinecolor": "#E1E5ED"
        },
        "yaxis7": {
         "anchor": "x7",
         "domain": [
          0.535,
          0.7325
         ],
         "gridcolor": "#E1E5ED",
         "showgrid": false,
         "tickfont": {
          "color": "#4D5663"
         },
         "title": {
          "font": {
           "color": "#4D5663"
          },
          "text": ""
         },
         "zerolinecolor": "#E1E5ED"
        },
        "yaxis8": {
         "anchor": "x8",
         "domain": [
          0.535,
          0.7325
         ],
         "gridcolor": "#E1E5ED",
         "showgrid": false,
         "tickfont": {
          "color": "#4D5663"
         },
         "title": {
          "font": {
           "color": "#4D5663"
          },
          "text": ""
         },
         "zerolinecolor": "#E1E5ED"
        },
        "yaxis9": {
         "anchor": "x9",
         "domain": [
          0.2675,
          0.465
         ],
         "gridcolor": "#E1E5ED",
         "showgrid": false,
         "tickfont": {
          "color": "#4D5663"
         },
         "title": {
          "font": {
           "color": "#4D5663"
          },
          "text": ""
         },
         "zerolinecolor": "#E1E5ED"
        }
       }
      },
      "text/html": [
       "<div>                            <div id=\"19fb01f3-64ef-4687-932d-565eca0501aa\" class=\"plotly-graph-div\" style=\"height:525px; width:100%;\"></div>            <script type=\"text/javascript\">                require([\"plotly\"], function(Plotly) {                    window.PLOTLYENV=window.PLOTLYENV || {};\n",
       "                    window.PLOTLYENV.BASE_URL='https://plotly.com';                                    if (document.getElementById(\"19fb01f3-64ef-4687-932d-565eca0501aa\")) {                    Plotly.newPlot(                        \"19fb01f3-64ef-4687-932d-565eca0501aa\",                        [{\"histfunc\":\"count\",\"histnorm\":\"\",\"marker\":{\"color\":\"rgba(255, 153, 51, 1.0)\",\"line\":{\"color\":\"#4D5663\",\"width\":1.3}},\"name\":\"A\",\"nbinsx\":10,\"opacity\":0.8,\"orientation\":\"v\",\"x\":[-0.40615102691201077,-0.47999536952712385,-0.731589452209614,0.5879553428621914,-1.8568953718148897,0.9852963397699704,-0.4565079483975351,0.8985744483888078,-1.880550197114006,-2.495067192414269,0.24318773794361037,-2.278949369698818,-0.5490311250307648,0.14532734122867813,0.16276002203759868,-1.0591320920484073,0.05372109359972695,0.2035258413077142,-2.4564801144392163,0.006562014766148572,1.8299109338952464,-0.9675701363179834,1.0541841654244393,0.20884013344601376,-1.3891116084425656,0.27161097959040503,2.1283430566163135,-0.22494485238235143,-0.09599443616592065,-0.47463986288576715,-1.7001685826280957,-1.339622451274522,0.14880307684214328,-1.502406867092294,0.6697628491897455,1.6736896598940452,-1.1242305900000233,1.2716030457108993,-0.020503495668329225,-0.6004282275431292,-1.610798298038356,-0.7126845047666951,-0.25276036273175184,-0.31036598996075493,0.27657442247611386,0.36475971678819463,-0.3032001827072675,0.28120037852816376,-1.057923800745797,-0.7299540132790762,-1.0364219628836993,2.4916267759664805,1.1629521913280154,2.0054327257594626,-0.23891835735830366,-0.08667481619810505,0.1821673126387374,-0.9087506411647428,-0.2175223804697042,1.0366653428718404,-1.1387376153306084,-1.3134795663116043,-0.3109333372518202,-0.11731364062957415,-0.10397752332154095,0.17357286910884961,1.125123233663803,-0.18371208575837503,0.7475189213297856,-1.8732934204335845,0.3349278560198267,1.626356126253646,0.04965422963422056,-0.4617720171349,0.25881350378239626,-0.6898896998105463,0.7647345988279457,0.44480407531461874,0.09985660770502092,0.1461906720821347,0.04340642890250446,-0.10569764171165204,-2.5186919527957294,0.402553363843015,-1.1885416932522634,1.7141212243739197,0.6790642180576574,1.1679009178651383,-1.0087877679657051,-0.19813583121524153,0.9851166891438866,-0.0118683102180748,-0.44242679362729026,-0.05957237410520343,-0.8011467122356221,-0.27444702043341096,-1.8845227330028054,0.663868967586431,-0.29563990016503844,0.018384161821900682],\"xaxis\":\"x\",\"yaxis\":\"y\",\"type\":\"histogram\"},{\"line\":{\"color\":\"rgba(128, 128, 128, 1.0)\",\"dash\":\"solid\",\"shape\":\"linear\",\"width\":1.3},\"marker\":{\"size\":2,\"symbol\":\"circle\"},\"mode\":\"markers\",\"name\":\"A\",\"text\":\"\",\"x\":[0.33469028609462786,-0.4747720494047677,-0.8910492574030071,-0.6562947499843159,1.0975595283397657,-0.08492187787388085,0.834157942765214,0.8261256825901863,0.4632193771172654,0.2118406780817216,-0.18660521525359663,-0.8772109585438541,0.9001431742247843,0.43622225877058113,0.3505049904764363,0.9315658697409118,-1.946983553008016,0.7644568957313809,-0.12255099035106522,0.18500821089394304,0.6312321003475739,-1.3583124190159115,0.6879322926800804,-0.340566305221331,1.10044477146272,-1.0455648116827128,0.3952180495751735,0.6896877211682053,-0.5155403800669799,1.4785314007970745,-1.0649728817509585,1.7852829028741184,0.8570954275978809,2.173712498989926,-1.0582631927924049,0.4985565174744666,-0.4473289358096288,0.4025239189309213,-0.15564462003233068,0.5381832495099379,-1.2214341198324867,-0.31187895934241877,1.024480489586102,-0.9575439080616085,1.2319230093188827,0.8433090402248943,-0.1743727135083682,-0.516081714378001,-0.05238583944339358,-0.09322087115568396,-1.3402000293873717,-2.349049257706284,-1.2853922081306273,-0.41339815261901414,-0.7700945857764542,1.6608970953042417,0.6176112005319743,-0.8202041643220608,-1.7363664986014162,0.12947655833098984,-1.2343545924493855,-0.3730297008989098,-0.3096507505421561,-0.9790966487903674,0.34996075464019377,2.380102070380568,-0.2440263432978862,0.7681940478056901,1.3570398145585194,-0.20157140820039438,0.2877302953363688,0.16851948185688861,-0.5644038341545653,0.9231079850639387,-0.944506176873885,1.054446152533765,-0.7207904072238942,0.4365114891422287,2.338324940574144,1.0257780537771517,-1.1618978051757043,-1.6327091540232865,0.9509386746206595,1.0231396871331329,0.3118062700792768,-2.4097800983317152,0.7571883722250382,0.4131747981644347,-1.455075148971204,-0.21915229540259684,0.4578621056720926,0.16564240034126468,-1.237646345341587,-1.8175037223783308,-0.7467476602610285,-0.08434524550962558,-1.9690707808886958,-1.160972757919005,-0.23118107997338297,-0.6316562531717944],\"xaxis\":\"x2\",\"y\":[-0.40615102691201077,-0.47999536952712385,-0.731589452209614,0.5879553428621914,-1.8568953718148897,0.9852963397699704,-0.4565079483975351,0.8985744483888078,-1.880550197114006,-2.495067192414269,0.24318773794361037,-2.278949369698818,-0.5490311250307648,0.14532734122867813,0.16276002203759868,-1.0591320920484073,0.05372109359972695,0.2035258413077142,-2.4564801144392163,0.006562014766148572,1.8299109338952464,-0.9675701363179834,1.0541841654244393,0.20884013344601376,-1.3891116084425656,0.27161097959040503,2.1283430566163135,-0.22494485238235143,-0.09599443616592065,-0.47463986288576715,-1.7001685826280957,-1.339622451274522,0.14880307684214328,-1.502406867092294,0.6697628491897455,1.6736896598940452,-1.1242305900000233,1.2716030457108993,-0.020503495668329225,-0.6004282275431292,-1.610798298038356,-0.7126845047666951,-0.25276036273175184,-0.31036598996075493,0.27657442247611386,0.36475971678819463,-0.3032001827072675,0.28120037852816376,-1.057923800745797,-0.7299540132790762,-1.0364219628836993,2.4916267759664805,1.1629521913280154,2.0054327257594626,-0.23891835735830366,-0.08667481619810505,0.1821673126387374,-0.9087506411647428,-0.2175223804697042,1.0366653428718404,-1.1387376153306084,-1.3134795663116043,-0.3109333372518202,-0.11731364062957415,-0.10397752332154095,0.17357286910884961,1.125123233663803,-0.18371208575837503,0.7475189213297856,-1.8732934204335845,0.3349278560198267,1.626356126253646,0.04965422963422056,-0.4617720171349,0.25881350378239626,-0.6898896998105463,0.7647345988279457,0.44480407531461874,0.09985660770502092,0.1461906720821347,0.04340642890250446,-0.10569764171165204,-2.5186919527957294,0.402553363843015,-1.1885416932522634,1.7141212243739197,0.6790642180576574,1.1679009178651383,-1.0087877679657051,-0.19813583121524153,0.9851166891438866,-0.0118683102180748,-0.44242679362729026,-0.05957237410520343,-0.8011467122356221,-0.27444702043341096,-1.8845227330028054,0.663868967586431,-0.29563990016503844,0.018384161821900682],\"yaxis\":\"y2\",\"type\":\"scatter\"},{\"line\":{\"color\":\"rgba(128, 128, 128, 1.0)\",\"dash\":\"solid\",\"shape\":\"linear\",\"width\":1.3},\"marker\":{\"size\":2,\"symbol\":\"circle\"},\"mode\":\"markers\",\"name\":\"A\",\"text\":\"\",\"x\":[1.1737362333207728,1.5562612868774497,-0.014477400798201173,-0.9949081729820747,0.9357459497680499,0.12646190131838267,-0.3954971678824292,0.3430957446539166,0.9237407892776045,-0.09657627920969948,-1.8243055412777374,0.051993637559908906,-0.2727456870221832,-0.986463898356433,0.08565836080338578,0.2595033891481982,-0.5252644450116665,-1.0606034120376318,-1.0531339863226663,2.124426303973373,0.5386756257920999,-0.007511511275262967,1.1119203435398002,-0.23992367881368432,-1.6306447669964903,3.06700850806012,-1.5686351092233557,-0.3303055960327883,-2.6799375854206735,-0.059681128683770214,2.091684394948725,-0.8967544340093194,1.09190837290732,0.6071660132691131,-0.8682215185106045,-0.5929683036738767,1.1858783986893462,0.4364224172106424,-0.5607058909568162,2.2031077947680973,-2.0009293881751598,0.7424893040701714,0.8393707588892446,-0.816004938619743,-1.4229672866936136,0.16767953911777858,-0.3836304305107007,-0.6530503240203627,-0.4032092701394886,0.49550149133083987,-1.2219788650504726,-2.01711399525827,-1.3501399942480863,-0.3340565386962628,1.6208031740714461,-0.81865148507276,-0.7007388233092041,0.5136785611995491,0.35171848335376976,0.9435753712354081,0.27369781840798585,-1.9524180893392744,-0.8624643631571148,0.8430570654922642,2.1323244795491156,-0.6288100804146632,1.3589889331060612,-0.557235992767454,-1.3792429504800554,0.130518031523595,-0.9227967429596617,0.6573125910979403,-0.23994717138183025,0.6626844035939178,0.7741461543370848,0.48579671998018553,-1.3130302860341112,-2.3704585045470785,-1.3160142246509,0.04462568929934854,-1.9574264167929238,-0.7695788548393496,-0.9140157180522013,-1.5892123568347112,0.6936677916768622,1.1210373544275518,0.7961678326691228,-0.8391943240960812,0.24015769746489576,-0.5508983796531722,1.12627939397085,0.9029350084574046,-2.432031096989011,0.7657320319014022,-0.8199738797904056,0.936354598692254,1.4219270790134204,1.3436035732956615,1.068728347985142,-0.1274801263802885],\"xaxis\":\"x3\",\"y\":[-0.40615102691201077,-0.47999536952712385,-0.731589452209614,0.5879553428621914,-1.8568953718148897,0.9852963397699704,-0.4565079483975351,0.8985744483888078,-1.880550197114006,-2.495067192414269,0.24318773794361037,-2.278949369698818,-0.5490311250307648,0.14532734122867813,0.16276002203759868,-1.0591320920484073,0.05372109359972695,0.2035258413077142,-2.4564801144392163,0.006562014766148572,1.8299109338952464,-0.9675701363179834,1.0541841654244393,0.20884013344601376,-1.3891116084425656,0.27161097959040503,2.1283430566163135,-0.22494485238235143,-0.09599443616592065,-0.47463986288576715,-1.7001685826280957,-1.339622451274522,0.14880307684214328,-1.502406867092294,0.6697628491897455,1.6736896598940452,-1.1242305900000233,1.2716030457108993,-0.020503495668329225,-0.6004282275431292,-1.610798298038356,-0.7126845047666951,-0.25276036273175184,-0.31036598996075493,0.27657442247611386,0.36475971678819463,-0.3032001827072675,0.28120037852816376,-1.057923800745797,-0.7299540132790762,-1.0364219628836993,2.4916267759664805,1.1629521913280154,2.0054327257594626,-0.23891835735830366,-0.08667481619810505,0.1821673126387374,-0.9087506411647428,-0.2175223804697042,1.0366653428718404,-1.1387376153306084,-1.3134795663116043,-0.3109333372518202,-0.11731364062957415,-0.10397752332154095,0.17357286910884961,1.125123233663803,-0.18371208575837503,0.7475189213297856,-1.8732934204335845,0.3349278560198267,1.626356126253646,0.04965422963422056,-0.4617720171349,0.25881350378239626,-0.6898896998105463,0.7647345988279457,0.44480407531461874,0.09985660770502092,0.1461906720821347,0.04340642890250446,-0.10569764171165204,-2.5186919527957294,0.402553363843015,-1.1885416932522634,1.7141212243739197,0.6790642180576574,1.1679009178651383,-1.0087877679657051,-0.19813583121524153,0.9851166891438866,-0.0118683102180748,-0.44242679362729026,-0.05957237410520343,-0.8011467122356221,-0.27444702043341096,-1.8845227330028054,0.663868967586431,-0.29563990016503844,0.018384161821900682],\"yaxis\":\"y3\",\"type\":\"scatter\"},{\"line\":{\"color\":\"rgba(128, 128, 128, 1.0)\",\"dash\":\"solid\",\"shape\":\"linear\",\"width\":1.3},\"marker\":{\"size\":2,\"symbol\":\"circle\"},\"mode\":\"markers\",\"name\":\"A\",\"text\":\"\",\"x\":[1.1721929351470735,-0.22550678449579425,-0.23122702155824176,0.6563333186487523,0.9213870194866701,-0.940057159600806,1.0628180142729196,-0.7499896102609849,0.30784931824423095,2.266399430883198,-0.44880797942819267,1.1422936229435676,0.09103811544473554,2.069523663590396,1.2508805902953954,-0.3047131602462184,0.9197394716886824,1.0057324663857043,-0.4333404738483218,1.1010416821236282,0.20656145868170267,0.26233863218323333,1.5060412455601153,-0.13402585348303264,-0.32697483748177253,1.079837128902801,0.004728406171932221,-0.6226718331405126,-0.4490701297158038,0.15225931142287583,0.9153052362338638,-0.6622649748463805,-0.054998896163471284,-1.845316075636726,0.01180849735745713,0.6209732383074823,-2.1112426036073337,-0.0821528976491328,-1.0224783410842313,0.4878918372140083,0.4671284655613165,-1.5994765830828284,-0.6725580152001758,0.44366080628539195,0.07415873128838171,-1.3249369973109828,1.1551445342220152,1.7332337195085488,-0.3657857984091364,-0.2873417734161192,-0.9709572050937714,-0.742372297830512,0.3794411738916534,0.2762755085921835,0.4148111210160986,1.004193222747808,1.735974995400932,0.17378939529727316,-0.39644398612996373,-0.2213175939757858,2.028025374229803,0.8741309031602762,-0.6177222409549274,-0.46832601837327215,0.8383996980225872,-0.13213402794172005,-0.7856771366004357,0.3907141014040696,0.7893113881559564,0.6582413953787006,-1.016539631599919,-0.7453435716771191,-0.020939124576196497,0.7032878546039067,-0.17619490382371217,-0.2779787776331174,-0.880442853112146,0.09774250949862644,0.6245392330085496,1.7064080979818954,1.3613379387667601,0.6412515175675733,0.1519953216329928,0.031348203336145526,-0.31098136014267036,0.7875720539862844,0.5889390839956123,0.4337578296750308,0.7171693251896951,-1.3440293593443675,-0.6736381577049158,-0.16567637011293324,0.8087465848833933,-0.45027639803246394,0.6994790917892251,0.5714910202749229,-0.32518777808721416,-0.8740087859949409,1.2355915780078561,0.5935130920319255],\"xaxis\":\"x4\",\"y\":[-0.40615102691201077,-0.47999536952712385,-0.731589452209614,0.5879553428621914,-1.8568953718148897,0.9852963397699704,-0.4565079483975351,0.8985744483888078,-1.880550197114006,-2.495067192414269,0.24318773794361037,-2.278949369698818,-0.5490311250307648,0.14532734122867813,0.16276002203759868,-1.0591320920484073,0.05372109359972695,0.2035258413077142,-2.4564801144392163,0.006562014766148572,1.8299109338952464,-0.9675701363179834,1.0541841654244393,0.20884013344601376,-1.3891116084425656,0.27161097959040503,2.1283430566163135,-0.22494485238235143,-0.09599443616592065,-0.47463986288576715,-1.7001685826280957,-1.339622451274522,0.14880307684214328,-1.502406867092294,0.6697628491897455,1.6736896598940452,-1.1242305900000233,1.2716030457108993,-0.020503495668329225,-0.6004282275431292,-1.610798298038356,-0.7126845047666951,-0.25276036273175184,-0.31036598996075493,0.27657442247611386,0.36475971678819463,-0.3032001827072675,0.28120037852816376,-1.057923800745797,-0.7299540132790762,-1.0364219628836993,2.4916267759664805,1.1629521913280154,2.0054327257594626,-0.23891835735830366,-0.08667481619810505,0.1821673126387374,-0.9087506411647428,-0.2175223804697042,1.0366653428718404,-1.1387376153306084,-1.3134795663116043,-0.3109333372518202,-0.11731364062957415,-0.10397752332154095,0.17357286910884961,1.125123233663803,-0.18371208575837503,0.7475189213297856,-1.8732934204335845,0.3349278560198267,1.626356126253646,0.04965422963422056,-0.4617720171349,0.25881350378239626,-0.6898896998105463,0.7647345988279457,0.44480407531461874,0.09985660770502092,0.1461906720821347,0.04340642890250446,-0.10569764171165204,-2.5186919527957294,0.402553363843015,-1.1885416932522634,1.7141212243739197,0.6790642180576574,1.1679009178651383,-1.0087877679657051,-0.19813583121524153,0.9851166891438866,-0.0118683102180748,-0.44242679362729026,-0.05957237410520343,-0.8011467122356221,-0.27444702043341096,-1.8845227330028054,0.663868967586431,-0.29563990016503844,0.018384161821900682],\"yaxis\":\"y4\",\"type\":\"scatter\"},{\"line\":{\"color\":\"rgba(128, 128, 128, 1.0)\",\"dash\":\"solid\",\"shape\":\"linear\",\"width\":1.3},\"marker\":{\"size\":2,\"symbol\":\"circle\"},\"mode\":\"markers\",\"name\":\"B\",\"text\":\"\",\"x\":[-0.40615102691201077,-0.47999536952712385,-0.731589452209614,0.5879553428621914,-1.8568953718148897,0.9852963397699704,-0.4565079483975351,0.8985744483888078,-1.880550197114006,-2.495067192414269,0.24318773794361037,-2.278949369698818,-0.5490311250307648,0.14532734122867813,0.16276002203759868,-1.0591320920484073,0.05372109359972695,0.2035258413077142,-2.4564801144392163,0.006562014766148572,1.8299109338952464,-0.9675701363179834,1.0541841654244393,0.20884013344601376,-1.3891116084425656,0.27161097959040503,2.1283430566163135,-0.22494485238235143,-0.09599443616592065,-0.47463986288576715,-1.7001685826280957,-1.339622451274522,0.14880307684214328,-1.502406867092294,0.6697628491897455,1.6736896598940452,-1.1242305900000233,1.2716030457108993,-0.020503495668329225,-0.6004282275431292,-1.610798298038356,-0.7126845047666951,-0.25276036273175184,-0.31036598996075493,0.27657442247611386,0.36475971678819463,-0.3032001827072675,0.28120037852816376,-1.057923800745797,-0.7299540132790762,-1.0364219628836993,2.4916267759664805,1.1629521913280154,2.0054327257594626,-0.23891835735830366,-0.08667481619810505,0.1821673126387374,-0.9087506411647428,-0.2175223804697042,1.0366653428718404,-1.1387376153306084,-1.3134795663116043,-0.3109333372518202,-0.11731364062957415,-0.10397752332154095,0.17357286910884961,1.125123233663803,-0.18371208575837503,0.7475189213297856,-1.8732934204335845,0.3349278560198267,1.626356126253646,0.04965422963422056,-0.4617720171349,0.25881350378239626,-0.6898896998105463,0.7647345988279457,0.44480407531461874,0.09985660770502092,0.1461906720821347,0.04340642890250446,-0.10569764171165204,-2.5186919527957294,0.402553363843015,-1.1885416932522634,1.7141212243739197,0.6790642180576574,1.1679009178651383,-1.0087877679657051,-0.19813583121524153,0.9851166891438866,-0.0118683102180748,-0.44242679362729026,-0.05957237410520343,-0.8011467122356221,-0.27444702043341096,-1.8845227330028054,0.663868967586431,-0.29563990016503844,0.018384161821900682],\"xaxis\":\"x5\",\"y\":[0.33469028609462786,-0.4747720494047677,-0.8910492574030071,-0.6562947499843159,1.0975595283397657,-0.08492187787388085,0.834157942765214,0.8261256825901863,0.4632193771172654,0.2118406780817216,-0.18660521525359663,-0.8772109585438541,0.9001431742247843,0.43622225877058113,0.3505049904764363,0.9315658697409118,-1.946983553008016,0.7644568957313809,-0.12255099035106522,0.18500821089394304,0.6312321003475739,-1.3583124190159115,0.6879322926800804,-0.340566305221331,1.10044477146272,-1.0455648116827128,0.3952180495751735,0.6896877211682053,-0.5155403800669799,1.4785314007970745,-1.0649728817509585,1.7852829028741184,0.8570954275978809,2.173712498989926,-1.0582631927924049,0.4985565174744666,-0.4473289358096288,0.4025239189309213,-0.15564462003233068,0.5381832495099379,-1.2214341198324867,-0.31187895934241877,1.024480489586102,-0.9575439080616085,1.2319230093188827,0.8433090402248943,-0.1743727135083682,-0.516081714378001,-0.05238583944339358,-0.09322087115568396,-1.3402000293873717,-2.349049257706284,-1.2853922081306273,-0.41339815261901414,-0.7700945857764542,1.6608970953042417,0.6176112005319743,-0.8202041643220608,-1.7363664986014162,0.12947655833098984,-1.2343545924493855,-0.3730297008989098,-0.3096507505421561,-0.9790966487903674,0.34996075464019377,2.380102070380568,-0.2440263432978862,0.7681940478056901,1.3570398145585194,-0.20157140820039438,0.2877302953363688,0.16851948185688861,-0.5644038341545653,0.9231079850639387,-0.944506176873885,1.054446152533765,-0.7207904072238942,0.4365114891422287,2.338324940574144,1.0257780537771517,-1.1618978051757043,-1.6327091540232865,0.9509386746206595,1.0231396871331329,0.3118062700792768,-2.4097800983317152,0.7571883722250382,0.4131747981644347,-1.455075148971204,-0.21915229540259684,0.4578621056720926,0.16564240034126468,-1.237646345341587,-1.8175037223783308,-0.7467476602610285,-0.08434524550962558,-1.9690707808886958,-1.160972757919005,-0.23118107997338297,-0.6316562531717944],\"yaxis\":\"y5\",\"type\":\"scatter\"},{\"histfunc\":\"count\",\"histnorm\":\"\",\"marker\":{\"color\":\"rgba(55, 128, 191, 1.0)\",\"line\":{\"color\":\"#4D5663\",\"width\":1.3}},\"name\":\"B\",\"nbinsx\":10,\"opacity\":0.8,\"orientation\":\"v\",\"x\":[0.33469028609462786,-0.4747720494047677,-0.8910492574030071,-0.6562947499843159,1.0975595283397657,-0.08492187787388085,0.834157942765214,0.8261256825901863,0.4632193771172654,0.2118406780817216,-0.18660521525359663,-0.8772109585438541,0.9001431742247843,0.43622225877058113,0.3505049904764363,0.9315658697409118,-1.946983553008016,0.7644568957313809,-0.12255099035106522,0.18500821089394304,0.6312321003475739,-1.3583124190159115,0.6879322926800804,-0.340566305221331,1.10044477146272,-1.0455648116827128,0.3952180495751735,0.6896877211682053,-0.5155403800669799,1.4785314007970745,-1.0649728817509585,1.7852829028741184,0.8570954275978809,2.173712498989926,-1.0582631927924049,0.4985565174744666,-0.4473289358096288,0.4025239189309213,-0.15564462003233068,0.5381832495099379,-1.2214341198324867,-0.31187895934241877,1.024480489586102,-0.9575439080616085,1.2319230093188827,0.8433090402248943,-0.1743727135083682,-0.516081714378001,-0.05238583944339358,-0.09322087115568396,-1.3402000293873717,-2.349049257706284,-1.2853922081306273,-0.41339815261901414,-0.7700945857764542,1.6608970953042417,0.6176112005319743,-0.8202041643220608,-1.7363664986014162,0.12947655833098984,-1.2343545924493855,-0.3730297008989098,-0.3096507505421561,-0.9790966487903674,0.34996075464019377,2.380102070380568,-0.2440263432978862,0.7681940478056901,1.3570398145585194,-0.20157140820039438,0.2877302953363688,0.16851948185688861,-0.5644038341545653,0.9231079850639387,-0.944506176873885,1.054446152533765,-0.7207904072238942,0.4365114891422287,2.338324940574144,1.0257780537771517,-1.1618978051757043,-1.6327091540232865,0.9509386746206595,1.0231396871331329,0.3118062700792768,-2.4097800983317152,0.7571883722250382,0.4131747981644347,-1.455075148971204,-0.21915229540259684,0.4578621056720926,0.16564240034126468,-1.237646345341587,-1.8175037223783308,-0.7467476602610285,-0.08434524550962558,-1.9690707808886958,-1.160972757919005,-0.23118107997338297,-0.6316562531717944],\"xaxis\":\"x6\",\"yaxis\":\"y6\",\"type\":\"histogram\"},{\"line\":{\"color\":\"rgba(128, 128, 128, 1.0)\",\"dash\":\"solid\",\"shape\":\"linear\",\"width\":1.3},\"marker\":{\"size\":2,\"symbol\":\"circle\"},\"mode\":\"markers\",\"name\":\"B\",\"text\":\"\",\"x\":[1.1737362333207728,1.5562612868774497,-0.014477400798201173,-0.9949081729820747,0.9357459497680499,0.12646190131838267,-0.3954971678824292,0.3430957446539166,0.9237407892776045,-0.09657627920969948,-1.8243055412777374,0.051993637559908906,-0.2727456870221832,-0.986463898356433,0.08565836080338578,0.2595033891481982,-0.5252644450116665,-1.0606034120376318,-1.0531339863226663,2.124426303973373,0.5386756257920999,-0.007511511275262967,1.1119203435398002,-0.23992367881368432,-1.6306447669964903,3.06700850806012,-1.5686351092233557,-0.3303055960327883,-2.6799375854206735,-0.059681128683770214,2.091684394948725,-0.8967544340093194,1.09190837290732,0.6071660132691131,-0.8682215185106045,-0.5929683036738767,1.1858783986893462,0.4364224172106424,-0.5607058909568162,2.2031077947680973,-2.0009293881751598,0.7424893040701714,0.8393707588892446,-0.816004938619743,-1.4229672866936136,0.16767953911777858,-0.3836304305107007,-0.6530503240203627,-0.4032092701394886,0.49550149133083987,-1.2219788650504726,-2.01711399525827,-1.3501399942480863,-0.3340565386962628,1.6208031740714461,-0.81865148507276,-0.7007388233092041,0.5136785611995491,0.35171848335376976,0.9435753712354081,0.27369781840798585,-1.9524180893392744,-0.8624643631571148,0.8430570654922642,2.1323244795491156,-0.6288100804146632,1.3589889331060612,-0.557235992767454,-1.3792429504800554,0.130518031523595,-0.9227967429596617,0.6573125910979403,-0.23994717138183025,0.6626844035939178,0.7741461543370848,0.48579671998018553,-1.3130302860341112,-2.3704585045470785,-1.3160142246509,0.04462568929934854,-1.9574264167929238,-0.7695788548393496,-0.9140157180522013,-1.5892123568347112,0.6936677916768622,1.1210373544275518,0.7961678326691228,-0.8391943240960812,0.24015769746489576,-0.5508983796531722,1.12627939397085,0.9029350084574046,-2.432031096989011,0.7657320319014022,-0.8199738797904056,0.936354598692254,1.4219270790134204,1.3436035732956615,1.068728347985142,-0.1274801263802885],\"xaxis\":\"x7\",\"y\":[0.33469028609462786,-0.4747720494047677,-0.8910492574030071,-0.6562947499843159,1.0975595283397657,-0.08492187787388085,0.834157942765214,0.8261256825901863,0.4632193771172654,0.2118406780817216,-0.18660521525359663,-0.8772109585438541,0.9001431742247843,0.43622225877058113,0.3505049904764363,0.9315658697409118,-1.946983553008016,0.7644568957313809,-0.12255099035106522,0.18500821089394304,0.6312321003475739,-1.3583124190159115,0.6879322926800804,-0.340566305221331,1.10044477146272,-1.0455648116827128,0.3952180495751735,0.6896877211682053,-0.5155403800669799,1.4785314007970745,-1.0649728817509585,1.7852829028741184,0.8570954275978809,2.173712498989926,-1.0582631927924049,0.4985565174744666,-0.4473289358096288,0.4025239189309213,-0.15564462003233068,0.5381832495099379,-1.2214341198324867,-0.31187895934241877,1.024480489586102,-0.9575439080616085,1.2319230093188827,0.8433090402248943,-0.1743727135083682,-0.516081714378001,-0.05238583944339358,-0.09322087115568396,-1.3402000293873717,-2.349049257706284,-1.2853922081306273,-0.41339815261901414,-0.7700945857764542,1.6608970953042417,0.6176112005319743,-0.8202041643220608,-1.7363664986014162,0.12947655833098984,-1.2343545924493855,-0.3730297008989098,-0.3096507505421561,-0.9790966487903674,0.34996075464019377,2.380102070380568,-0.2440263432978862,0.7681940478056901,1.3570398145585194,-0.20157140820039438,0.2877302953363688,0.16851948185688861,-0.5644038341545653,0.9231079850639387,-0.944506176873885,1.054446152533765,-0.7207904072238942,0.4365114891422287,2.338324940574144,1.0257780537771517,-1.1618978051757043,-1.6327091540232865,0.9509386746206595,1.0231396871331329,0.3118062700792768,-2.4097800983317152,0.7571883722250382,0.4131747981644347,-1.455075148971204,-0.21915229540259684,0.4578621056720926,0.16564240034126468,-1.237646345341587,-1.8175037223783308,-0.7467476602610285,-0.08434524550962558,-1.9690707808886958,-1.160972757919005,-0.23118107997338297,-0.6316562531717944],\"yaxis\":\"y7\",\"type\":\"scatter\"},{\"line\":{\"color\":\"rgba(128, 128, 128, 1.0)\",\"dash\":\"solid\",\"shape\":\"linear\",\"width\":1.3},\"marker\":{\"size\":2,\"symbol\":\"circle\"},\"mode\":\"markers\",\"name\":\"B\",\"text\":\"\",\"x\":[1.1721929351470735,-0.22550678449579425,-0.23122702155824176,0.6563333186487523,0.9213870194866701,-0.940057159600806,1.0628180142729196,-0.7499896102609849,0.30784931824423095,2.266399430883198,-0.44880797942819267,1.1422936229435676,0.09103811544473554,2.069523663590396,1.2508805902953954,-0.3047131602462184,0.9197394716886824,1.0057324663857043,-0.4333404738483218,1.1010416821236282,0.20656145868170267,0.26233863218323333,1.5060412455601153,-0.13402585348303264,-0.32697483748177253,1.079837128902801,0.004728406171932221,-0.6226718331405126,-0.4490701297158038,0.15225931142287583,0.9153052362338638,-0.6622649748463805,-0.054998896163471284,-1.845316075636726,0.01180849735745713,0.6209732383074823,-2.1112426036073337,-0.0821528976491328,-1.0224783410842313,0.4878918372140083,0.4671284655613165,-1.5994765830828284,-0.6725580152001758,0.44366080628539195,0.07415873128838171,-1.3249369973109828,1.1551445342220152,1.7332337195085488,-0.3657857984091364,-0.2873417734161192,-0.9709572050937714,-0.742372297830512,0.3794411738916534,0.2762755085921835,0.4148111210160986,1.004193222747808,1.735974995400932,0.17378939529727316,-0.39644398612996373,-0.2213175939757858,2.028025374229803,0.8741309031602762,-0.6177222409549274,-0.46832601837327215,0.8383996980225872,-0.13213402794172005,-0.7856771366004357,0.3907141014040696,0.7893113881559564,0.6582413953787006,-1.016539631599919,-0.7453435716771191,-0.020939124576196497,0.7032878546039067,-0.17619490382371217,-0.2779787776331174,-0.880442853112146,0.09774250949862644,0.6245392330085496,1.7064080979818954,1.3613379387667601,0.6412515175675733,0.1519953216329928,0.031348203336145526,-0.31098136014267036,0.7875720539862844,0.5889390839956123,0.4337578296750308,0.7171693251896951,-1.3440293593443675,-0.6736381577049158,-0.16567637011293324,0.8087465848833933,-0.45027639803246394,0.6994790917892251,0.5714910202749229,-0.32518777808721416,-0.8740087859949409,1.2355915780078561,0.5935130920319255],\"xaxis\":\"x8\",\"y\":[0.33469028609462786,-0.4747720494047677,-0.8910492574030071,-0.6562947499843159,1.0975595283397657,-0.08492187787388085,0.834157942765214,0.8261256825901863,0.4632193771172654,0.2118406780817216,-0.18660521525359663,-0.8772109585438541,0.9001431742247843,0.43622225877058113,0.3505049904764363,0.9315658697409118,-1.946983553008016,0.7644568957313809,-0.12255099035106522,0.18500821089394304,0.6312321003475739,-1.3583124190159115,0.6879322926800804,-0.340566305221331,1.10044477146272,-1.0455648116827128,0.3952180495751735,0.6896877211682053,-0.5155403800669799,1.4785314007970745,-1.0649728817509585,1.7852829028741184,0.8570954275978809,2.173712498989926,-1.0582631927924049,0.4985565174744666,-0.4473289358096288,0.4025239189309213,-0.15564462003233068,0.5381832495099379,-1.2214341198324867,-0.31187895934241877,1.024480489586102,-0.9575439080616085,1.2319230093188827,0.8433090402248943,-0.1743727135083682,-0.516081714378001,-0.05238583944339358,-0.09322087115568396,-1.3402000293873717,-2.349049257706284,-1.2853922081306273,-0.41339815261901414,-0.7700945857764542,1.6608970953042417,0.6176112005319743,-0.8202041643220608,-1.7363664986014162,0.12947655833098984,-1.2343545924493855,-0.3730297008989098,-0.3096507505421561,-0.9790966487903674,0.34996075464019377,2.380102070380568,-0.2440263432978862,0.7681940478056901,1.3570398145585194,-0.20157140820039438,0.2877302953363688,0.16851948185688861,-0.5644038341545653,0.9231079850639387,-0.944506176873885,1.054446152533765,-0.7207904072238942,0.4365114891422287,2.338324940574144,1.0257780537771517,-1.1618978051757043,-1.6327091540232865,0.9509386746206595,1.0231396871331329,0.3118062700792768,-2.4097800983317152,0.7571883722250382,0.4131747981644347,-1.455075148971204,-0.21915229540259684,0.4578621056720926,0.16564240034126468,-1.237646345341587,-1.8175037223783308,-0.7467476602610285,-0.08434524550962558,-1.9690707808886958,-1.160972757919005,-0.23118107997338297,-0.6316562531717944],\"yaxis\":\"y8\",\"type\":\"scatter\"},{\"line\":{\"color\":\"rgba(128, 128, 128, 1.0)\",\"dash\":\"solid\",\"shape\":\"linear\",\"width\":1.3},\"marker\":{\"size\":2,\"symbol\":\"circle\"},\"mode\":\"markers\",\"name\":\"C\",\"text\":\"\",\"x\":[-0.40615102691201077,-0.47999536952712385,-0.731589452209614,0.5879553428621914,-1.8568953718148897,0.9852963397699704,-0.4565079483975351,0.8985744483888078,-1.880550197114006,-2.495067192414269,0.24318773794361037,-2.278949369698818,-0.5490311250307648,0.14532734122867813,0.16276002203759868,-1.0591320920484073,0.05372109359972695,0.2035258413077142,-2.4564801144392163,0.006562014766148572,1.8299109338952464,-0.9675701363179834,1.0541841654244393,0.20884013344601376,-1.3891116084425656,0.27161097959040503,2.1283430566163135,-0.22494485238235143,-0.09599443616592065,-0.47463986288576715,-1.7001685826280957,-1.339622451274522,0.14880307684214328,-1.502406867092294,0.6697628491897455,1.6736896598940452,-1.1242305900000233,1.2716030457108993,-0.020503495668329225,-0.6004282275431292,-1.610798298038356,-0.7126845047666951,-0.25276036273175184,-0.31036598996075493,0.27657442247611386,0.36475971678819463,-0.3032001827072675,0.28120037852816376,-1.057923800745797,-0.7299540132790762,-1.0364219628836993,2.4916267759664805,1.1629521913280154,2.0054327257594626,-0.23891835735830366,-0.08667481619810505,0.1821673126387374,-0.9087506411647428,-0.2175223804697042,1.0366653428718404,-1.1387376153306084,-1.3134795663116043,-0.3109333372518202,-0.11731364062957415,-0.10397752332154095,0.17357286910884961,1.125123233663803,-0.18371208575837503,0.7475189213297856,-1.8732934204335845,0.3349278560198267,1.626356126253646,0.04965422963422056,-0.4617720171349,0.25881350378239626,-0.6898896998105463,0.7647345988279457,0.44480407531461874,0.09985660770502092,0.1461906720821347,0.04340642890250446,-0.10569764171165204,-2.5186919527957294,0.402553363843015,-1.1885416932522634,1.7141212243739197,0.6790642180576574,1.1679009178651383,-1.0087877679657051,-0.19813583121524153,0.9851166891438866,-0.0118683102180748,-0.44242679362729026,-0.05957237410520343,-0.8011467122356221,-0.27444702043341096,-1.8845227330028054,0.663868967586431,-0.29563990016503844,0.018384161821900682],\"xaxis\":\"x9\",\"y\":[1.1737362333207728,1.5562612868774497,-0.014477400798201173,-0.9949081729820747,0.9357459497680499,0.12646190131838267,-0.3954971678824292,0.3430957446539166,0.9237407892776045,-0.09657627920969948,-1.8243055412777374,0.051993637559908906,-0.2727456870221832,-0.986463898356433,0.08565836080338578,0.2595033891481982,-0.5252644450116665,-1.0606034120376318,-1.0531339863226663,2.124426303973373,0.5386756257920999,-0.007511511275262967,1.1119203435398002,-0.23992367881368432,-1.6306447669964903,3.06700850806012,-1.5686351092233557,-0.3303055960327883,-2.6799375854206735,-0.059681128683770214,2.091684394948725,-0.8967544340093194,1.09190837290732,0.6071660132691131,-0.8682215185106045,-0.5929683036738767,1.1858783986893462,0.4364224172106424,-0.5607058909568162,2.2031077947680973,-2.0009293881751598,0.7424893040701714,0.8393707588892446,-0.816004938619743,-1.4229672866936136,0.16767953911777858,-0.3836304305107007,-0.6530503240203627,-0.4032092701394886,0.49550149133083987,-1.2219788650504726,-2.01711399525827,-1.3501399942480863,-0.3340565386962628,1.6208031740714461,-0.81865148507276,-0.7007388233092041,0.5136785611995491,0.35171848335376976,0.9435753712354081,0.27369781840798585,-1.9524180893392744,-0.8624643631571148,0.8430570654922642,2.1323244795491156,-0.6288100804146632,1.3589889331060612,-0.557235992767454,-1.3792429504800554,0.130518031523595,-0.9227967429596617,0.6573125910979403,-0.23994717138183025,0.6626844035939178,0.7741461543370848,0.48579671998018553,-1.3130302860341112,-2.3704585045470785,-1.3160142246509,0.04462568929934854,-1.9574264167929238,-0.7695788548393496,-0.9140157180522013,-1.5892123568347112,0.6936677916768622,1.1210373544275518,0.7961678326691228,-0.8391943240960812,0.24015769746489576,-0.5508983796531722,1.12627939397085,0.9029350084574046,-2.432031096989011,0.7657320319014022,-0.8199738797904056,0.936354598692254,1.4219270790134204,1.3436035732956615,1.068728347985142,-0.1274801263802885],\"yaxis\":\"y9\",\"type\":\"scatter\"},{\"line\":{\"color\":\"rgba(128, 128, 128, 1.0)\",\"dash\":\"solid\",\"shape\":\"linear\",\"width\":1.3},\"marker\":{\"size\":2,\"symbol\":\"circle\"},\"mode\":\"markers\",\"name\":\"C\",\"text\":\"\",\"x\":[0.33469028609462786,-0.4747720494047677,-0.8910492574030071,-0.6562947499843159,1.0975595283397657,-0.08492187787388085,0.834157942765214,0.8261256825901863,0.4632193771172654,0.2118406780817216,-0.18660521525359663,-0.8772109585438541,0.9001431742247843,0.43622225877058113,0.3505049904764363,0.9315658697409118,-1.946983553008016,0.7644568957313809,-0.12255099035106522,0.18500821089394304,0.6312321003475739,-1.3583124190159115,0.6879322926800804,-0.340566305221331,1.10044477146272,-1.0455648116827128,0.3952180495751735,0.6896877211682053,-0.5155403800669799,1.4785314007970745,-1.0649728817509585,1.7852829028741184,0.8570954275978809,2.173712498989926,-1.0582631927924049,0.4985565174744666,-0.4473289358096288,0.4025239189309213,-0.15564462003233068,0.5381832495099379,-1.2214341198324867,-0.31187895934241877,1.024480489586102,-0.9575439080616085,1.2319230093188827,0.8433090402248943,-0.1743727135083682,-0.516081714378001,-0.05238583944339358,-0.09322087115568396,-1.3402000293873717,-2.349049257706284,-1.2853922081306273,-0.41339815261901414,-0.7700945857764542,1.6608970953042417,0.6176112005319743,-0.8202041643220608,-1.7363664986014162,0.12947655833098984,-1.2343545924493855,-0.3730297008989098,-0.3096507505421561,-0.9790966487903674,0.34996075464019377,2.380102070380568,-0.2440263432978862,0.7681940478056901,1.3570398145585194,-0.20157140820039438,0.2877302953363688,0.16851948185688861,-0.5644038341545653,0.9231079850639387,-0.944506176873885,1.054446152533765,-0.7207904072238942,0.4365114891422287,2.338324940574144,1.0257780537771517,-1.1618978051757043,-1.6327091540232865,0.9509386746206595,1.0231396871331329,0.3118062700792768,-2.4097800983317152,0.7571883722250382,0.4131747981644347,-1.455075148971204,-0.21915229540259684,0.4578621056720926,0.16564240034126468,-1.237646345341587,-1.8175037223783308,-0.7467476602610285,-0.08434524550962558,-1.9690707808886958,-1.160972757919005,-0.23118107997338297,-0.6316562531717944],\"xaxis\":\"x10\",\"y\":[1.1737362333207728,1.5562612868774497,-0.014477400798201173,-0.9949081729820747,0.9357459497680499,0.12646190131838267,-0.3954971678824292,0.3430957446539166,0.9237407892776045,-0.09657627920969948,-1.8243055412777374,0.051993637559908906,-0.2727456870221832,-0.986463898356433,0.08565836080338578,0.2595033891481982,-0.5252644450116665,-1.0606034120376318,-1.0531339863226663,2.124426303973373,0.5386756257920999,-0.007511511275262967,1.1119203435398002,-0.23992367881368432,-1.6306447669964903,3.06700850806012,-1.5686351092233557,-0.3303055960327883,-2.6799375854206735,-0.059681128683770214,2.091684394948725,-0.8967544340093194,1.09190837290732,0.6071660132691131,-0.8682215185106045,-0.5929683036738767,1.1858783986893462,0.4364224172106424,-0.5607058909568162,2.2031077947680973,-2.0009293881751598,0.7424893040701714,0.8393707588892446,-0.816004938619743,-1.4229672866936136,0.16767953911777858,-0.3836304305107007,-0.6530503240203627,-0.4032092701394886,0.49550149133083987,-1.2219788650504726,-2.01711399525827,-1.3501399942480863,-0.3340565386962628,1.6208031740714461,-0.81865148507276,-0.7007388233092041,0.5136785611995491,0.35171848335376976,0.9435753712354081,0.27369781840798585,-1.9524180893392744,-0.8624643631571148,0.8430570654922642,2.1323244795491156,-0.6288100804146632,1.3589889331060612,-0.557235992767454,-1.3792429504800554,0.130518031523595,-0.9227967429596617,0.6573125910979403,-0.23994717138183025,0.6626844035939178,0.7741461543370848,0.48579671998018553,-1.3130302860341112,-2.3704585045470785,-1.3160142246509,0.04462568929934854,-1.9574264167929238,-0.7695788548393496,-0.9140157180522013,-1.5892123568347112,0.6936677916768622,1.1210373544275518,0.7961678326691228,-0.8391943240960812,0.24015769746489576,-0.5508983796531722,1.12627939397085,0.9029350084574046,-2.432031096989011,0.7657320319014022,-0.8199738797904056,0.936354598692254,1.4219270790134204,1.3436035732956615,1.068728347985142,-0.1274801263802885],\"yaxis\":\"y10\",\"type\":\"scatter\"},{\"histfunc\":\"count\",\"histnorm\":\"\",\"marker\":{\"color\":\"rgba(50, 171, 96, 1.0)\",\"line\":{\"color\":\"#4D5663\",\"width\":1.3}},\"name\":\"C\",\"nbinsx\":10,\"opacity\":0.8,\"orientation\":\"v\",\"x\":[1.1737362333207728,1.5562612868774497,-0.014477400798201173,-0.9949081729820747,0.9357459497680499,0.12646190131838267,-0.3954971678824292,0.3430957446539166,0.9237407892776045,-0.09657627920969948,-1.8243055412777374,0.051993637559908906,-0.2727456870221832,-0.986463898356433,0.08565836080338578,0.2595033891481982,-0.5252644450116665,-1.0606034120376318,-1.0531339863226663,2.124426303973373,0.5386756257920999,-0.007511511275262967,1.1119203435398002,-0.23992367881368432,-1.6306447669964903,3.06700850806012,-1.5686351092233557,-0.3303055960327883,-2.6799375854206735,-0.059681128683770214,2.091684394948725,-0.8967544340093194,1.09190837290732,0.6071660132691131,-0.8682215185106045,-0.5929683036738767,1.1858783986893462,0.4364224172106424,-0.5607058909568162,2.2031077947680973,-2.0009293881751598,0.7424893040701714,0.8393707588892446,-0.816004938619743,-1.4229672866936136,0.16767953911777858,-0.3836304305107007,-0.6530503240203627,-0.4032092701394886,0.49550149133083987,-1.2219788650504726,-2.01711399525827,-1.3501399942480863,-0.3340565386962628,1.6208031740714461,-0.81865148507276,-0.7007388233092041,0.5136785611995491,0.35171848335376976,0.9435753712354081,0.27369781840798585,-1.9524180893392744,-0.8624643631571148,0.8430570654922642,2.1323244795491156,-0.6288100804146632,1.3589889331060612,-0.557235992767454,-1.3792429504800554,0.130518031523595,-0.9227967429596617,0.6573125910979403,-0.23994717138183025,0.6626844035939178,0.7741461543370848,0.48579671998018553,-1.3130302860341112,-2.3704585045470785,-1.3160142246509,0.04462568929934854,-1.9574264167929238,-0.7695788548393496,-0.9140157180522013,-1.5892123568347112,0.6936677916768622,1.1210373544275518,0.7961678326691228,-0.8391943240960812,0.24015769746489576,-0.5508983796531722,1.12627939397085,0.9029350084574046,-2.432031096989011,0.7657320319014022,-0.8199738797904056,0.936354598692254,1.4219270790134204,1.3436035732956615,1.068728347985142,-0.1274801263802885],\"xaxis\":\"x11\",\"yaxis\":\"y11\",\"type\":\"histogram\"},{\"line\":{\"color\":\"rgba(128, 128, 128, 1.0)\",\"dash\":\"solid\",\"shape\":\"linear\",\"width\":1.3},\"marker\":{\"size\":2,\"symbol\":\"circle\"},\"mode\":\"markers\",\"name\":\"C\",\"text\":\"\",\"x\":[1.1721929351470735,-0.22550678449579425,-0.23122702155824176,0.6563333186487523,0.9213870194866701,-0.940057159600806,1.0628180142729196,-0.7499896102609849,0.30784931824423095,2.266399430883198,-0.44880797942819267,1.1422936229435676,0.09103811544473554,2.069523663590396,1.2508805902953954,-0.3047131602462184,0.9197394716886824,1.0057324663857043,-0.4333404738483218,1.1010416821236282,0.20656145868170267,0.26233863218323333,1.5060412455601153,-0.13402585348303264,-0.32697483748177253,1.079837128902801,0.004728406171932221,-0.6226718331405126,-0.4490701297158038,0.15225931142287583,0.9153052362338638,-0.6622649748463805,-0.054998896163471284,-1.845316075636726,0.01180849735745713,0.6209732383074823,-2.1112426036073337,-0.0821528976491328,-1.0224783410842313,0.4878918372140083,0.4671284655613165,-1.5994765830828284,-0.6725580152001758,0.44366080628539195,0.07415873128838171,-1.3249369973109828,1.1551445342220152,1.7332337195085488,-0.3657857984091364,-0.2873417734161192,-0.9709572050937714,-0.742372297830512,0.3794411738916534,0.2762755085921835,0.4148111210160986,1.004193222747808,1.735974995400932,0.17378939529727316,-0.39644398612996373,-0.2213175939757858,2.028025374229803,0.8741309031602762,-0.6177222409549274,-0.46832601837327215,0.8383996980225872,-0.13213402794172005,-0.7856771366004357,0.3907141014040696,0.7893113881559564,0.6582413953787006,-1.016539631599919,-0.7453435716771191,-0.020939124576196497,0.7032878546039067,-0.17619490382371217,-0.2779787776331174,-0.880442853112146,0.09774250949862644,0.6245392330085496,1.7064080979818954,1.3613379387667601,0.6412515175675733,0.1519953216329928,0.031348203336145526,-0.31098136014267036,0.7875720539862844,0.5889390839956123,0.4337578296750308,0.7171693251896951,-1.3440293593443675,-0.6736381577049158,-0.16567637011293324,0.8087465848833933,-0.45027639803246394,0.6994790917892251,0.5714910202749229,-0.32518777808721416,-0.8740087859949409,1.2355915780078561,0.5935130920319255],\"xaxis\":\"x12\",\"y\":[1.1737362333207728,1.5562612868774497,-0.014477400798201173,-0.9949081729820747,0.9357459497680499,0.12646190131838267,-0.3954971678824292,0.3430957446539166,0.9237407892776045,-0.09657627920969948,-1.8243055412777374,0.051993637559908906,-0.2727456870221832,-0.986463898356433,0.08565836080338578,0.2595033891481982,-0.5252644450116665,-1.0606034120376318,-1.0531339863226663,2.124426303973373,0.5386756257920999,-0.007511511275262967,1.1119203435398002,-0.23992367881368432,-1.6306447669964903,3.06700850806012,-1.5686351092233557,-0.3303055960327883,-2.6799375854206735,-0.059681128683770214,2.091684394948725,-0.8967544340093194,1.09190837290732,0.6071660132691131,-0.8682215185106045,-0.5929683036738767,1.1858783986893462,0.4364224172106424,-0.5607058909568162,2.2031077947680973,-2.0009293881751598,0.7424893040701714,0.8393707588892446,-0.816004938619743,-1.4229672866936136,0.16767953911777858,-0.3836304305107007,-0.6530503240203627,-0.4032092701394886,0.49550149133083987,-1.2219788650504726,-2.01711399525827,-1.3501399942480863,-0.3340565386962628,1.6208031740714461,-0.81865148507276,-0.7007388233092041,0.5136785611995491,0.35171848335376976,0.9435753712354081,0.27369781840798585,-1.9524180893392744,-0.8624643631571148,0.8430570654922642,2.1323244795491156,-0.6288100804146632,1.3589889331060612,-0.557235992767454,-1.3792429504800554,0.130518031523595,-0.9227967429596617,0.6573125910979403,-0.23994717138183025,0.6626844035939178,0.7741461543370848,0.48579671998018553,-1.3130302860341112,-2.3704585045470785,-1.3160142246509,0.04462568929934854,-1.9574264167929238,-0.7695788548393496,-0.9140157180522013,-1.5892123568347112,0.6936677916768622,1.1210373544275518,0.7961678326691228,-0.8391943240960812,0.24015769746489576,-0.5508983796531722,1.12627939397085,0.9029350084574046,-2.432031096989011,0.7657320319014022,-0.8199738797904056,0.936354598692254,1.4219270790134204,1.3436035732956615,1.068728347985142,-0.1274801263802885],\"yaxis\":\"y12\",\"type\":\"scatter\"},{\"line\":{\"color\":\"rgba(128, 128, 128, 1.0)\",\"dash\":\"solid\",\"shape\":\"linear\",\"width\":1.3},\"marker\":{\"size\":2,\"symbol\":\"circle\"},\"mode\":\"markers\",\"name\":\"D\",\"text\":\"\",\"x\":[-0.40615102691201077,-0.47999536952712385,-0.731589452209614,0.5879553428621914,-1.8568953718148897,0.9852963397699704,-0.4565079483975351,0.8985744483888078,-1.880550197114006,-2.495067192414269,0.24318773794361037,-2.278949369698818,-0.5490311250307648,0.14532734122867813,0.16276002203759868,-1.0591320920484073,0.05372109359972695,0.2035258413077142,-2.4564801144392163,0.006562014766148572,1.8299109338952464,-0.9675701363179834,1.0541841654244393,0.20884013344601376,-1.3891116084425656,0.27161097959040503,2.1283430566163135,-0.22494485238235143,-0.09599443616592065,-0.47463986288576715,-1.7001685826280957,-1.339622451274522,0.14880307684214328,-1.502406867092294,0.6697628491897455,1.6736896598940452,-1.1242305900000233,1.2716030457108993,-0.020503495668329225,-0.6004282275431292,-1.610798298038356,-0.7126845047666951,-0.25276036273175184,-0.31036598996075493,0.27657442247611386,0.36475971678819463,-0.3032001827072675,0.28120037852816376,-1.057923800745797,-0.7299540132790762,-1.0364219628836993,2.4916267759664805,1.1629521913280154,2.0054327257594626,-0.23891835735830366,-0.08667481619810505,0.1821673126387374,-0.9087506411647428,-0.2175223804697042,1.0366653428718404,-1.1387376153306084,-1.3134795663116043,-0.3109333372518202,-0.11731364062957415,-0.10397752332154095,0.17357286910884961,1.125123233663803,-0.18371208575837503,0.7475189213297856,-1.8732934204335845,0.3349278560198267,1.626356126253646,0.04965422963422056,-0.4617720171349,0.25881350378239626,-0.6898896998105463,0.7647345988279457,0.44480407531461874,0.09985660770502092,0.1461906720821347,0.04340642890250446,-0.10569764171165204,-2.5186919527957294,0.402553363843015,-1.1885416932522634,1.7141212243739197,0.6790642180576574,1.1679009178651383,-1.0087877679657051,-0.19813583121524153,0.9851166891438866,-0.0118683102180748,-0.44242679362729026,-0.05957237410520343,-0.8011467122356221,-0.27444702043341096,-1.8845227330028054,0.663868967586431,-0.29563990016503844,0.018384161821900682],\"xaxis\":\"x13\",\"y\":[1.1721929351470735,-0.22550678449579425,-0.23122702155824176,0.6563333186487523,0.9213870194866701,-0.940057159600806,1.0628180142729196,-0.7499896102609849,0.30784931824423095,2.266399430883198,-0.44880797942819267,1.1422936229435676,0.09103811544473554,2.069523663590396,1.2508805902953954,-0.3047131602462184,0.9197394716886824,1.0057324663857043,-0.4333404738483218,1.1010416821236282,0.20656145868170267,0.26233863218323333,1.5060412455601153,-0.13402585348303264,-0.32697483748177253,1.079837128902801,0.004728406171932221,-0.6226718331405126,-0.4490701297158038,0.15225931142287583,0.9153052362338638,-0.6622649748463805,-0.054998896163471284,-1.845316075636726,0.01180849735745713,0.6209732383074823,-2.1112426036073337,-0.0821528976491328,-1.0224783410842313,0.4878918372140083,0.4671284655613165,-1.5994765830828284,-0.6725580152001758,0.44366080628539195,0.07415873128838171,-1.3249369973109828,1.1551445342220152,1.7332337195085488,-0.3657857984091364,-0.2873417734161192,-0.9709572050937714,-0.742372297830512,0.3794411738916534,0.2762755085921835,0.4148111210160986,1.004193222747808,1.735974995400932,0.17378939529727316,-0.39644398612996373,-0.2213175939757858,2.028025374229803,0.8741309031602762,-0.6177222409549274,-0.46832601837327215,0.8383996980225872,-0.13213402794172005,-0.7856771366004357,0.3907141014040696,0.7893113881559564,0.6582413953787006,-1.016539631599919,-0.7453435716771191,-0.020939124576196497,0.7032878546039067,-0.17619490382371217,-0.2779787776331174,-0.880442853112146,0.09774250949862644,0.6245392330085496,1.7064080979818954,1.3613379387667601,0.6412515175675733,0.1519953216329928,0.031348203336145526,-0.31098136014267036,0.7875720539862844,0.5889390839956123,0.4337578296750308,0.7171693251896951,-1.3440293593443675,-0.6736381577049158,-0.16567637011293324,0.8087465848833933,-0.45027639803246394,0.6994790917892251,0.5714910202749229,-0.32518777808721416,-0.8740087859949409,1.2355915780078561,0.5935130920319255],\"yaxis\":\"y13\",\"type\":\"scatter\"},{\"line\":{\"color\":\"rgba(128, 128, 128, 1.0)\",\"dash\":\"solid\",\"shape\":\"linear\",\"width\":1.3},\"marker\":{\"size\":2,\"symbol\":\"circle\"},\"mode\":\"markers\",\"name\":\"D\",\"text\":\"\",\"x\":[0.33469028609462786,-0.4747720494047677,-0.8910492574030071,-0.6562947499843159,1.0975595283397657,-0.08492187787388085,0.834157942765214,0.8261256825901863,0.4632193771172654,0.2118406780817216,-0.18660521525359663,-0.8772109585438541,0.9001431742247843,0.43622225877058113,0.3505049904764363,0.9315658697409118,-1.946983553008016,0.7644568957313809,-0.12255099035106522,0.18500821089394304,0.6312321003475739,-1.3583124190159115,0.6879322926800804,-0.340566305221331,1.10044477146272,-1.0455648116827128,0.3952180495751735,0.6896877211682053,-0.5155403800669799,1.4785314007970745,-1.0649728817509585,1.7852829028741184,0.8570954275978809,2.173712498989926,-1.0582631927924049,0.4985565174744666,-0.4473289358096288,0.4025239189309213,-0.15564462003233068,0.5381832495099379,-1.2214341198324867,-0.31187895934241877,1.024480489586102,-0.9575439080616085,1.2319230093188827,0.8433090402248943,-0.1743727135083682,-0.516081714378001,-0.05238583944339358,-0.09322087115568396,-1.3402000293873717,-2.349049257706284,-1.2853922081306273,-0.41339815261901414,-0.7700945857764542,1.6608970953042417,0.6176112005319743,-0.8202041643220608,-1.7363664986014162,0.12947655833098984,-1.2343545924493855,-0.3730297008989098,-0.3096507505421561,-0.9790966487903674,0.34996075464019377,2.380102070380568,-0.2440263432978862,0.7681940478056901,1.3570398145585194,-0.20157140820039438,0.2877302953363688,0.16851948185688861,-0.5644038341545653,0.9231079850639387,-0.944506176873885,1.054446152533765,-0.7207904072238942,0.4365114891422287,2.338324940574144,1.0257780537771517,-1.1618978051757043,-1.6327091540232865,0.9509386746206595,1.0231396871331329,0.3118062700792768,-2.4097800983317152,0.7571883722250382,0.4131747981644347,-1.455075148971204,-0.21915229540259684,0.4578621056720926,0.16564240034126468,-1.237646345341587,-1.8175037223783308,-0.7467476602610285,-0.08434524550962558,-1.9690707808886958,-1.160972757919005,-0.23118107997338297,-0.6316562531717944],\"xaxis\":\"x14\",\"y\":[1.1721929351470735,-0.22550678449579425,-0.23122702155824176,0.6563333186487523,0.9213870194866701,-0.940057159600806,1.0628180142729196,-0.7499896102609849,0.30784931824423095,2.266399430883198,-0.44880797942819267,1.1422936229435676,0.09103811544473554,2.069523663590396,1.2508805902953954,-0.3047131602462184,0.9197394716886824,1.0057324663857043,-0.4333404738483218,1.1010416821236282,0.20656145868170267,0.26233863218323333,1.5060412455601153,-0.13402585348303264,-0.32697483748177253,1.079837128902801,0.004728406171932221,-0.6226718331405126,-0.4490701297158038,0.15225931142287583,0.9153052362338638,-0.6622649748463805,-0.054998896163471284,-1.845316075636726,0.01180849735745713,0.6209732383074823,-2.1112426036073337,-0.0821528976491328,-1.0224783410842313,0.4878918372140083,0.4671284655613165,-1.5994765830828284,-0.6725580152001758,0.44366080628539195,0.07415873128838171,-1.3249369973109828,1.1551445342220152,1.7332337195085488,-0.3657857984091364,-0.2873417734161192,-0.9709572050937714,-0.742372297830512,0.3794411738916534,0.2762755085921835,0.4148111210160986,1.004193222747808,1.735974995400932,0.17378939529727316,-0.39644398612996373,-0.2213175939757858,2.028025374229803,0.8741309031602762,-0.6177222409549274,-0.46832601837327215,0.8383996980225872,-0.13213402794172005,-0.7856771366004357,0.3907141014040696,0.7893113881559564,0.6582413953787006,-1.016539631599919,-0.7453435716771191,-0.020939124576196497,0.7032878546039067,-0.17619490382371217,-0.2779787776331174,-0.880442853112146,0.09774250949862644,0.6245392330085496,1.7064080979818954,1.3613379387667601,0.6412515175675733,0.1519953216329928,0.031348203336145526,-0.31098136014267036,0.7875720539862844,0.5889390839956123,0.4337578296750308,0.7171693251896951,-1.3440293593443675,-0.6736381577049158,-0.16567637011293324,0.8087465848833933,-0.45027639803246394,0.6994790917892251,0.5714910202749229,-0.32518777808721416,-0.8740087859949409,1.2355915780078561,0.5935130920319255],\"yaxis\":\"y14\",\"type\":\"scatter\"},{\"line\":{\"color\":\"rgba(128, 128, 128, 1.0)\",\"dash\":\"solid\",\"shape\":\"linear\",\"width\":1.3},\"marker\":{\"size\":2,\"symbol\":\"circle\"},\"mode\":\"markers\",\"name\":\"D\",\"text\":\"\",\"x\":[1.1737362333207728,1.5562612868774497,-0.014477400798201173,-0.9949081729820747,0.9357459497680499,0.12646190131838267,-0.3954971678824292,0.3430957446539166,0.9237407892776045,-0.09657627920969948,-1.8243055412777374,0.051993637559908906,-0.2727456870221832,-0.986463898356433,0.08565836080338578,0.2595033891481982,-0.5252644450116665,-1.0606034120376318,-1.0531339863226663,2.124426303973373,0.5386756257920999,-0.007511511275262967,1.1119203435398002,-0.23992367881368432,-1.6306447669964903,3.06700850806012,-1.5686351092233557,-0.3303055960327883,-2.6799375854206735,-0.059681128683770214,2.091684394948725,-0.8967544340093194,1.09190837290732,0.6071660132691131,-0.8682215185106045,-0.5929683036738767,1.1858783986893462,0.4364224172106424,-0.5607058909568162,2.2031077947680973,-2.0009293881751598,0.7424893040701714,0.8393707588892446,-0.816004938619743,-1.4229672866936136,0.16767953911777858,-0.3836304305107007,-0.6530503240203627,-0.4032092701394886,0.49550149133083987,-1.2219788650504726,-2.01711399525827,-1.3501399942480863,-0.3340565386962628,1.6208031740714461,-0.81865148507276,-0.7007388233092041,0.5136785611995491,0.35171848335376976,0.9435753712354081,0.27369781840798585,-1.9524180893392744,-0.8624643631571148,0.8430570654922642,2.1323244795491156,-0.6288100804146632,1.3589889331060612,-0.557235992767454,-1.3792429504800554,0.130518031523595,-0.9227967429596617,0.6573125910979403,-0.23994717138183025,0.6626844035939178,0.7741461543370848,0.48579671998018553,-1.3130302860341112,-2.3704585045470785,-1.3160142246509,0.04462568929934854,-1.9574264167929238,-0.7695788548393496,-0.9140157180522013,-1.5892123568347112,0.6936677916768622,1.1210373544275518,0.7961678326691228,-0.8391943240960812,0.24015769746489576,-0.5508983796531722,1.12627939397085,0.9029350084574046,-2.432031096989011,0.7657320319014022,-0.8199738797904056,0.936354598692254,1.4219270790134204,1.3436035732956615,1.068728347985142,-0.1274801263802885],\"xaxis\":\"x15\",\"y\":[1.1721929351470735,-0.22550678449579425,-0.23122702155824176,0.6563333186487523,0.9213870194866701,-0.940057159600806,1.0628180142729196,-0.7499896102609849,0.30784931824423095,2.266399430883198,-0.44880797942819267,1.1422936229435676,0.09103811544473554,2.069523663590396,1.2508805902953954,-0.3047131602462184,0.9197394716886824,1.0057324663857043,-0.4333404738483218,1.1010416821236282,0.20656145868170267,0.26233863218323333,1.5060412455601153,-0.13402585348303264,-0.32697483748177253,1.079837128902801,0.004728406171932221,-0.6226718331405126,-0.4490701297158038,0.15225931142287583,0.9153052362338638,-0.6622649748463805,-0.054998896163471284,-1.845316075636726,0.01180849735745713,0.6209732383074823,-2.1112426036073337,-0.0821528976491328,-1.0224783410842313,0.4878918372140083,0.4671284655613165,-1.5994765830828284,-0.6725580152001758,0.44366080628539195,0.07415873128838171,-1.3249369973109828,1.1551445342220152,1.7332337195085488,-0.3657857984091364,-0.2873417734161192,-0.9709572050937714,-0.742372297830512,0.3794411738916534,0.2762755085921835,0.4148111210160986,1.004193222747808,1.735974995400932,0.17378939529727316,-0.39644398612996373,-0.2213175939757858,2.028025374229803,0.8741309031602762,-0.6177222409549274,-0.46832601837327215,0.8383996980225872,-0.13213402794172005,-0.7856771366004357,0.3907141014040696,0.7893113881559564,0.6582413953787006,-1.016539631599919,-0.7453435716771191,-0.020939124576196497,0.7032878546039067,-0.17619490382371217,-0.2779787776331174,-0.880442853112146,0.09774250949862644,0.6245392330085496,1.7064080979818954,1.3613379387667601,0.6412515175675733,0.1519953216329928,0.031348203336145526,-0.31098136014267036,0.7875720539862844,0.5889390839956123,0.4337578296750308,0.7171693251896951,-1.3440293593443675,-0.6736381577049158,-0.16567637011293324,0.8087465848833933,-0.45027639803246394,0.6994790917892251,0.5714910202749229,-0.32518777808721416,-0.8740087859949409,1.2355915780078561,0.5935130920319255],\"yaxis\":\"y15\",\"type\":\"scatter\"},{\"histfunc\":\"count\",\"histnorm\":\"\",\"marker\":{\"color\":\"rgba(128, 0, 128, 1.0)\",\"line\":{\"color\":\"#4D5663\",\"width\":1.3}},\"name\":\"D\",\"nbinsx\":10,\"opacity\":0.8,\"orientation\":\"v\",\"x\":[1.1721929351470735,-0.22550678449579425,-0.23122702155824176,0.6563333186487523,0.9213870194866701,-0.940057159600806,1.0628180142729196,-0.7499896102609849,0.30784931824423095,2.266399430883198,-0.44880797942819267,1.1422936229435676,0.09103811544473554,2.069523663590396,1.2508805902953954,-0.3047131602462184,0.9197394716886824,1.0057324663857043,-0.4333404738483218,1.1010416821236282,0.20656145868170267,0.26233863218323333,1.5060412455601153,-0.13402585348303264,-0.32697483748177253,1.079837128902801,0.004728406171932221,-0.6226718331405126,-0.4490701297158038,0.15225931142287583,0.9153052362338638,-0.6622649748463805,-0.054998896163471284,-1.845316075636726,0.01180849735745713,0.6209732383074823,-2.1112426036073337,-0.0821528976491328,-1.0224783410842313,0.4878918372140083,0.4671284655613165,-1.5994765830828284,-0.6725580152001758,0.44366080628539195,0.07415873128838171,-1.3249369973109828,1.1551445342220152,1.7332337195085488,-0.3657857984091364,-0.2873417734161192,-0.9709572050937714,-0.742372297830512,0.3794411738916534,0.2762755085921835,0.4148111210160986,1.004193222747808,1.735974995400932,0.17378939529727316,-0.39644398612996373,-0.2213175939757858,2.028025374229803,0.8741309031602762,-0.6177222409549274,-0.46832601837327215,0.8383996980225872,-0.13213402794172005,-0.7856771366004357,0.3907141014040696,0.7893113881559564,0.6582413953787006,-1.016539631599919,-0.7453435716771191,-0.020939124576196497,0.7032878546039067,-0.17619490382371217,-0.2779787776331174,-0.880442853112146,0.09774250949862644,0.6245392330085496,1.7064080979818954,1.3613379387667601,0.6412515175675733,0.1519953216329928,0.031348203336145526,-0.31098136014267036,0.7875720539862844,0.5889390839956123,0.4337578296750308,0.7171693251896951,-1.3440293593443675,-0.6736381577049158,-0.16567637011293324,0.8087465848833933,-0.45027639803246394,0.6994790917892251,0.5714910202749229,-0.32518777808721416,-0.8740087859949409,1.2355915780078561,0.5935130920319255],\"xaxis\":\"x16\",\"yaxis\":\"y16\",\"type\":\"histogram\"}],                        {\"bargap\":0.02,\"legend\":{\"bgcolor\":\"#F5F6F9\",\"font\":{\"color\":\"#4D5663\"}},\"paper_bgcolor\":\"#F5F6F9\",\"plot_bgcolor\":\"#F5F6F9\",\"showlegend\":false,\"template\":{\"data\":{\"barpolar\":[{\"marker\":{\"line\":{\"color\":\"#E5ECF6\",\"width\":0.5},\"pattern\":{\"fillmode\":\"overlay\",\"size\":10,\"solidity\":0.2}},\"type\":\"barpolar\"}],\"bar\":[{\"error_x\":{\"color\":\"#2a3f5f\"},\"error_y\":{\"color\":\"#2a3f5f\"},\"marker\":{\"line\":{\"color\":\"#E5ECF6\",\"width\":0.5},\"pattern\":{\"fillmode\":\"overlay\",\"size\":10,\"solidity\":0.2}},\"type\":\"bar\"}],\"carpet\":[{\"aaxis\":{\"endlinecolor\":\"#2a3f5f\",\"gridcolor\":\"white\",\"linecolor\":\"white\",\"minorgridcolor\":\"white\",\"startlinecolor\":\"#2a3f5f\"},\"baxis\":{\"endlinecolor\":\"#2a3f5f\",\"gridcolor\":\"white\",\"linecolor\":\"white\",\"minorgridcolor\":\"white\",\"startlinecolor\":\"#2a3f5f\"},\"type\":\"carpet\"}],\"choropleth\":[{\"colorbar\":{\"outlinewidth\":0,\"ticks\":\"\"},\"type\":\"choropleth\"}],\"contourcarpet\":[{\"colorbar\":{\"outlinewidth\":0,\"ticks\":\"\"},\"type\":\"contourcarpet\"}],\"contour\":[{\"colorbar\":{\"outlinewidth\":0,\"ticks\":\"\"},\"colorscale\":[[0.0,\"#0d0887\"],[0.1111111111111111,\"#46039f\"],[0.2222222222222222,\"#7201a8\"],[0.3333333333333333,\"#9c179e\"],[0.4444444444444444,\"#bd3786\"],[0.5555555555555556,\"#d8576b\"],[0.6666666666666666,\"#ed7953\"],[0.7777777777777778,\"#fb9f3a\"],[0.8888888888888888,\"#fdca26\"],[1.0,\"#f0f921\"]],\"type\":\"contour\"}],\"heatmapgl\":[{\"colorbar\":{\"outlinewidth\":0,\"ticks\":\"\"},\"colorscale\":[[0.0,\"#0d0887\"],[0.1111111111111111,\"#46039f\"],[0.2222222222222222,\"#7201a8\"],[0.3333333333333333,\"#9c179e\"],[0.4444444444444444,\"#bd3786\"],[0.5555555555555556,\"#d8576b\"],[0.6666666666666666,\"#ed7953\"],[0.7777777777777778,\"#fb9f3a\"],[0.8888888888888888,\"#fdca26\"],[1.0,\"#f0f921\"]],\"type\":\"heatmapgl\"}],\"heatmap\":[{\"colorbar\":{\"outlinewidth\":0,\"ticks\":\"\"},\"colorscale\":[[0.0,\"#0d0887\"],[0.1111111111111111,\"#46039f\"],[0.2222222222222222,\"#7201a8\"],[0.3333333333333333,\"#9c179e\"],[0.4444444444444444,\"#bd3786\"],[0.5555555555555556,\"#d8576b\"],[0.6666666666666666,\"#ed7953\"],[0.7777777777777778,\"#fb9f3a\"],[0.8888888888888888,\"#fdca26\"],[1.0,\"#f0f921\"]],\"type\":\"heatmap\"}],\"histogram2dcontour\":[{\"colorbar\":{\"outlinewidth\":0,\"ticks\":\"\"},\"colorscale\":[[0.0,\"#0d0887\"],[0.1111111111111111,\"#46039f\"],[0.2222222222222222,\"#7201a8\"],[0.3333333333333333,\"#9c179e\"],[0.4444444444444444,\"#bd3786\"],[0.5555555555555556,\"#d8576b\"],[0.6666666666666666,\"#ed7953\"],[0.7777777777777778,\"#fb9f3a\"],[0.8888888888888888,\"#fdca26\"],[1.0,\"#f0f921\"]],\"type\":\"histogram2dcontour\"}],\"histogram2d\":[{\"colorbar\":{\"outlinewidth\":0,\"ticks\":\"\"},\"colorscale\":[[0.0,\"#0d0887\"],[0.1111111111111111,\"#46039f\"],[0.2222222222222222,\"#7201a8\"],[0.3333333333333333,\"#9c179e\"],[0.4444444444444444,\"#bd3786\"],[0.5555555555555556,\"#d8576b\"],[0.6666666666666666,\"#ed7953\"],[0.7777777777777778,\"#fb9f3a\"],[0.8888888888888888,\"#fdca26\"],[1.0,\"#f0f921\"]],\"type\":\"histogram2d\"}],\"histogram\":[{\"marker\":{\"pattern\":{\"fillmode\":\"overlay\",\"size\":10,\"solidity\":0.2}},\"type\":\"histogram\"}],\"mesh3d\":[{\"colorbar\":{\"outlinewidth\":0,\"ticks\":\"\"},\"type\":\"mesh3d\"}],\"parcoords\":[{\"line\":{\"colorbar\":{\"outlinewidth\":0,\"ticks\":\"\"}},\"type\":\"parcoords\"}],\"pie\":[{\"automargin\":true,\"type\":\"pie\"}],\"scatter3d\":[{\"line\":{\"colorbar\":{\"outlinewidth\":0,\"ticks\":\"\"}},\"marker\":{\"colorbar\":{\"outlinewidth\":0,\"ticks\":\"\"}},\"type\":\"scatter3d\"}],\"scattercarpet\":[{\"marker\":{\"colorbar\":{\"outlinewidth\":0,\"ticks\":\"\"}},\"type\":\"scattercarpet\"}],\"scattergeo\":[{\"marker\":{\"colorbar\":{\"outlinewidth\":0,\"ticks\":\"\"}},\"type\":\"scattergeo\"}],\"scattergl\":[{\"marker\":{\"colorbar\":{\"outlinewidth\":0,\"ticks\":\"\"}},\"type\":\"scattergl\"}],\"scattermapbox\":[{\"marker\":{\"colorbar\":{\"outlinewidth\":0,\"ticks\":\"\"}},\"type\":\"scattermapbox\"}],\"scatterpolargl\":[{\"marker\":{\"colorbar\":{\"outlinewidth\":0,\"ticks\":\"\"}},\"type\":\"scatterpolargl\"}],\"scatterpolar\":[{\"marker\":{\"colorbar\":{\"outlinewidth\":0,\"ticks\":\"\"}},\"type\":\"scatterpolar\"}],\"scatter\":[{\"fillpattern\":{\"fillmode\":\"overlay\",\"size\":10,\"solidity\":0.2},\"type\":\"scatter\"}],\"scatterternary\":[{\"marker\":{\"colorbar\":{\"outlinewidth\":0,\"ticks\":\"\"}},\"type\":\"scatterternary\"}],\"surface\":[{\"colorbar\":{\"outlinewidth\":0,\"ticks\":\"\"},\"colorscale\":[[0.0,\"#0d0887\"],[0.1111111111111111,\"#46039f\"],[0.2222222222222222,\"#7201a8\"],[0.3333333333333333,\"#9c179e\"],[0.4444444444444444,\"#bd3786\"],[0.5555555555555556,\"#d8576b\"],[0.6666666666666666,\"#ed7953\"],[0.7777777777777778,\"#fb9f3a\"],[0.8888888888888888,\"#fdca26\"],[1.0,\"#f0f921\"]],\"type\":\"surface\"}],\"table\":[{\"cells\":{\"fill\":{\"color\":\"#EBF0F8\"},\"line\":{\"color\":\"white\"}},\"header\":{\"fill\":{\"color\":\"#C8D4E3\"},\"line\":{\"color\":\"white\"}},\"type\":\"table\"}]},\"layout\":{\"annotationdefaults\":{\"arrowcolor\":\"#2a3f5f\",\"arrowhead\":0,\"arrowwidth\":1},\"autotypenumbers\":\"strict\",\"coloraxis\":{\"colorbar\":{\"outlinewidth\":0,\"ticks\":\"\"}},\"colorscale\":{\"diverging\":[[0,\"#8e0152\"],[0.1,\"#c51b7d\"],[0.2,\"#de77ae\"],[0.3,\"#f1b6da\"],[0.4,\"#fde0ef\"],[0.5,\"#f7f7f7\"],[0.6,\"#e6f5d0\"],[0.7,\"#b8e186\"],[0.8,\"#7fbc41\"],[0.9,\"#4d9221\"],[1,\"#276419\"]],\"sequential\":[[0.0,\"#0d0887\"],[0.1111111111111111,\"#46039f\"],[0.2222222222222222,\"#7201a8\"],[0.3333333333333333,\"#9c179e\"],[0.4444444444444444,\"#bd3786\"],[0.5555555555555556,\"#d8576b\"],[0.6666666666666666,\"#ed7953\"],[0.7777777777777778,\"#fb9f3a\"],[0.8888888888888888,\"#fdca26\"],[1.0,\"#f0f921\"]],\"sequentialminus\":[[0.0,\"#0d0887\"],[0.1111111111111111,\"#46039f\"],[0.2222222222222222,\"#7201a8\"],[0.3333333333333333,\"#9c179e\"],[0.4444444444444444,\"#bd3786\"],[0.5555555555555556,\"#d8576b\"],[0.6666666666666666,\"#ed7953\"],[0.7777777777777778,\"#fb9f3a\"],[0.8888888888888888,\"#fdca26\"],[1.0,\"#f0f921\"]]},\"colorway\":[\"#636efa\",\"#EF553B\",\"#00cc96\",\"#ab63fa\",\"#FFA15A\",\"#19d3f3\",\"#FF6692\",\"#B6E880\",\"#FF97FF\",\"#FECB52\"],\"font\":{\"color\":\"#2a3f5f\"},\"geo\":{\"bgcolor\":\"white\",\"lakecolor\":\"white\",\"landcolor\":\"#E5ECF6\",\"showlakes\":true,\"showland\":true,\"subunitcolor\":\"white\"},\"hoverlabel\":{\"align\":\"left\"},\"hovermode\":\"closest\",\"mapbox\":{\"style\":\"light\"},\"paper_bgcolor\":\"white\",\"plot_bgcolor\":\"#E5ECF6\",\"polar\":{\"angularaxis\":{\"gridcolor\":\"white\",\"linecolor\":\"white\",\"ticks\":\"\"},\"bgcolor\":\"#E5ECF6\",\"radialaxis\":{\"gridcolor\":\"white\",\"linecolor\":\"white\",\"ticks\":\"\"}},\"scene\":{\"xaxis\":{\"backgroundcolor\":\"#E5ECF6\",\"gridcolor\":\"white\",\"gridwidth\":2,\"linecolor\":\"white\",\"showbackground\":true,\"ticks\":\"\",\"zerolinecolor\":\"white\"},\"yaxis\":{\"backgroundcolor\":\"#E5ECF6\",\"gridcolor\":\"white\",\"gridwidth\":2,\"linecolor\":\"white\",\"showbackground\":true,\"ticks\":\"\",\"zerolinecolor\":\"white\"},\"zaxis\":{\"backgroundcolor\":\"#E5ECF6\",\"gridcolor\":\"white\",\"gridwidth\":2,\"linecolor\":\"white\",\"showbackground\":true,\"ticks\":\"\",\"zerolinecolor\":\"white\"}},\"shapedefaults\":{\"line\":{\"color\":\"#2a3f5f\"}},\"ternary\":{\"aaxis\":{\"gridcolor\":\"white\",\"linecolor\":\"white\",\"ticks\":\"\"},\"baxis\":{\"gridcolor\":\"white\",\"linecolor\":\"white\",\"ticks\":\"\"},\"bgcolor\":\"#E5ECF6\",\"caxis\":{\"gridcolor\":\"white\",\"linecolor\":\"white\",\"ticks\":\"\"}},\"title\":{\"x\":0.05},\"xaxis\":{\"automargin\":true,\"gridcolor\":\"white\",\"linecolor\":\"white\",\"ticks\":\"\",\"title\":{\"standoff\":15},\"zerolinecolor\":\"white\",\"zerolinewidth\":2},\"yaxis\":{\"automargin\":true,\"gridcolor\":\"white\",\"linecolor\":\"white\",\"ticks\":\"\",\"title\":{\"standoff\":15},\"zerolinecolor\":\"white\",\"zerolinewidth\":2}}},\"title\":{\"font\":{\"color\":\"#4D5663\"}},\"xaxis\":{\"anchor\":\"y\",\"domain\":[0.0,0.2125],\"gridcolor\":\"#E1E5ED\",\"showgrid\":false,\"tickfont\":{\"color\":\"#4D5663\"},\"title\":{\"font\":{\"color\":\"#4D5663\"},\"text\":\"\"},\"zerolinecolor\":\"#E1E5ED\"},\"yaxis\":{\"anchor\":\"x\",\"domain\":[0.8025,1.0],\"gridcolor\":\"#E1E5ED\",\"showgrid\":false,\"tickfont\":{\"color\":\"#4D5663\"},\"title\":{\"font\":{\"color\":\"#4D5663\"},\"text\":\"\"},\"zerolinecolor\":\"#E1E5ED\"},\"xaxis2\":{\"anchor\":\"y2\",\"domain\":[0.2625,0.475],\"gridcolor\":\"#E1E5ED\",\"showgrid\":false,\"tickfont\":{\"color\":\"#4D5663\"},\"title\":{\"font\":{\"color\":\"#4D5663\"},\"text\":\"\"},\"zerolinecolor\":\"#E1E5ED\"},\"yaxis2\":{\"anchor\":\"x2\",\"domain\":[0.8025,1.0],\"gridcolor\":\"#E1E5ED\",\"showgrid\":false,\"tickfont\":{\"color\":\"#4D5663\"},\"title\":{\"font\":{\"color\":\"#4D5663\"},\"text\":\"\"},\"zerolinecolor\":\"#E1E5ED\"},\"xaxis3\":{\"anchor\":\"y3\",\"domain\":[0.525,0.7375],\"gridcolor\":\"#E1E5ED\",\"showgrid\":false,\"tickfont\":{\"color\":\"#4D5663\"},\"title\":{\"font\":{\"color\":\"#4D5663\"},\"text\":\"\"},\"zerolinecolor\":\"#E1E5ED\"},\"yaxis3\":{\"anchor\":\"x3\",\"domain\":[0.8025,1.0],\"gridcolor\":\"#E1E5ED\",\"showgrid\":false,\"tickfont\":{\"color\":\"#4D5663\"},\"title\":{\"font\":{\"color\":\"#4D5663\"},\"text\":\"\"},\"zerolinecolor\":\"#E1E5ED\"},\"xaxis4\":{\"anchor\":\"y4\",\"domain\":[0.7875,1.0],\"gridcolor\":\"#E1E5ED\",\"showgrid\":false,\"tickfont\":{\"color\":\"#4D5663\"},\"title\":{\"font\":{\"color\":\"#4D5663\"},\"text\":\"\"},\"zerolinecolor\":\"#E1E5ED\"},\"yaxis4\":{\"anchor\":\"x4\",\"domain\":[0.8025,1.0],\"gridcolor\":\"#E1E5ED\",\"showgrid\":false,\"tickfont\":{\"color\":\"#4D5663\"},\"title\":{\"font\":{\"color\":\"#4D5663\"},\"text\":\"\"},\"zerolinecolor\":\"#E1E5ED\"},\"xaxis5\":{\"anchor\":\"y5\",\"domain\":[0.0,0.2125],\"gridcolor\":\"#E1E5ED\",\"showgrid\":false,\"tickfont\":{\"color\":\"#4D5663\"},\"title\":{\"font\":{\"color\":\"#4D5663\"},\"text\":\"\"},\"zerolinecolor\":\"#E1E5ED\"},\"yaxis5\":{\"anchor\":\"x5\",\"domain\":[0.535,0.7325],\"gridcolor\":\"#E1E5ED\",\"showgrid\":false,\"tickfont\":{\"color\":\"#4D5663\"},\"title\":{\"font\":{\"color\":\"#4D5663\"},\"text\":\"\"},\"zerolinecolor\":\"#E1E5ED\"},\"xaxis6\":{\"anchor\":\"y6\",\"domain\":[0.2625,0.475],\"gridcolor\":\"#E1E5ED\",\"showgrid\":false,\"tickfont\":{\"color\":\"#4D5663\"},\"title\":{\"font\":{\"color\":\"#4D5663\"},\"text\":\"\"},\"zerolinecolor\":\"#E1E5ED\"},\"yaxis6\":{\"anchor\":\"x6\",\"domain\":[0.535,0.7325],\"gridcolor\":\"#E1E5ED\",\"showgrid\":false,\"tickfont\":{\"color\":\"#4D5663\"},\"title\":{\"font\":{\"color\":\"#4D5663\"},\"text\":\"\"},\"zerolinecolor\":\"#E1E5ED\"},\"xaxis7\":{\"anchor\":\"y7\",\"domain\":[0.525,0.7375],\"gridcolor\":\"#E1E5ED\",\"showgrid\":false,\"tickfont\":{\"color\":\"#4D5663\"},\"title\":{\"font\":{\"color\":\"#4D5663\"},\"text\":\"\"},\"zerolinecolor\":\"#E1E5ED\"},\"yaxis7\":{\"anchor\":\"x7\",\"domain\":[0.535,0.7325],\"gridcolor\":\"#E1E5ED\",\"showgrid\":false,\"tickfont\":{\"color\":\"#4D5663\"},\"title\":{\"font\":{\"color\":\"#4D5663\"},\"text\":\"\"},\"zerolinecolor\":\"#E1E5ED\"},\"xaxis8\":{\"anchor\":\"y8\",\"domain\":[0.7875,1.0],\"gridcolor\":\"#E1E5ED\",\"showgrid\":false,\"tickfont\":{\"color\":\"#4D5663\"},\"title\":{\"font\":{\"color\":\"#4D5663\"},\"text\":\"\"},\"zerolinecolor\":\"#E1E5ED\"},\"yaxis8\":{\"anchor\":\"x8\",\"domain\":[0.535,0.7325],\"gridcolor\":\"#E1E5ED\",\"showgrid\":false,\"tickfont\":{\"color\":\"#4D5663\"},\"title\":{\"font\":{\"color\":\"#4D5663\"},\"text\":\"\"},\"zerolinecolor\":\"#E1E5ED\"},\"xaxis9\":{\"anchor\":\"y9\",\"domain\":[0.0,0.2125],\"gridcolor\":\"#E1E5ED\",\"showgrid\":false,\"tickfont\":{\"color\":\"#4D5663\"},\"title\":{\"font\":{\"color\":\"#4D5663\"},\"text\":\"\"},\"zerolinecolor\":\"#E1E5ED\"},\"yaxis9\":{\"anchor\":\"x9\",\"domain\":[0.2675,0.465],\"gridcolor\":\"#E1E5ED\",\"showgrid\":false,\"tickfont\":{\"color\":\"#4D5663\"},\"title\":{\"font\":{\"color\":\"#4D5663\"},\"text\":\"\"},\"zerolinecolor\":\"#E1E5ED\"},\"xaxis10\":{\"anchor\":\"y10\",\"domain\":[0.2625,0.475],\"gridcolor\":\"#E1E5ED\",\"showgrid\":false,\"tickfont\":{\"color\":\"#4D5663\"},\"title\":{\"font\":{\"color\":\"#4D5663\"},\"text\":\"\"},\"zerolinecolor\":\"#E1E5ED\"},\"yaxis10\":{\"anchor\":\"x10\",\"domain\":[0.2675,0.465],\"gridcolor\":\"#E1E5ED\",\"showgrid\":false,\"tickfont\":{\"color\":\"#4D5663\"},\"title\":{\"font\":{\"color\":\"#4D5663\"},\"text\":\"\"},\"zerolinecolor\":\"#E1E5ED\"},\"xaxis11\":{\"anchor\":\"y11\",\"domain\":[0.525,0.7375],\"gridcolor\":\"#E1E5ED\",\"showgrid\":false,\"tickfont\":{\"color\":\"#4D5663\"},\"title\":{\"font\":{\"color\":\"#4D5663\"},\"text\":\"\"},\"zerolinecolor\":\"#E1E5ED\"},\"yaxis11\":{\"anchor\":\"x11\",\"domain\":[0.2675,0.465],\"gridcolor\":\"#E1E5ED\",\"showgrid\":false,\"tickfont\":{\"color\":\"#4D5663\"},\"title\":{\"font\":{\"color\":\"#4D5663\"},\"text\":\"\"},\"zerolinecolor\":\"#E1E5ED\"},\"xaxis12\":{\"anchor\":\"y12\",\"domain\":[0.7875,1.0],\"gridcolor\":\"#E1E5ED\",\"showgrid\":false,\"tickfont\":{\"color\":\"#4D5663\"},\"title\":{\"font\":{\"color\":\"#4D5663\"},\"text\":\"\"},\"zerolinecolor\":\"#E1E5ED\"},\"yaxis12\":{\"anchor\":\"x12\",\"domain\":[0.2675,0.465],\"gridcolor\":\"#E1E5ED\",\"showgrid\":false,\"tickfont\":{\"color\":\"#4D5663\"},\"title\":{\"font\":{\"color\":\"#4D5663\"},\"text\":\"\"},\"zerolinecolor\":\"#E1E5ED\"},\"xaxis13\":{\"anchor\":\"y13\",\"domain\":[0.0,0.2125],\"gridcolor\":\"#E1E5ED\",\"showgrid\":false,\"tickfont\":{\"color\":\"#4D5663\"},\"title\":{\"font\":{\"color\":\"#4D5663\"},\"text\":\"\"},\"zerolinecolor\":\"#E1E5ED\"},\"yaxis13\":{\"anchor\":\"x13\",\"domain\":[0.0,0.1975],\"gridcolor\":\"#E1E5ED\",\"showgrid\":false,\"tickfont\":{\"color\":\"#4D5663\"},\"title\":{\"font\":{\"color\":\"#4D5663\"},\"text\":\"\"},\"zerolinecolor\":\"#E1E5ED\"},\"xaxis14\":{\"anchor\":\"y14\",\"domain\":[0.2625,0.475],\"gridcolor\":\"#E1E5ED\",\"showgrid\":false,\"tickfont\":{\"color\":\"#4D5663\"},\"title\":{\"font\":{\"color\":\"#4D5663\"},\"text\":\"\"},\"zerolinecolor\":\"#E1E5ED\"},\"yaxis14\":{\"anchor\":\"x14\",\"domain\":[0.0,0.1975],\"gridcolor\":\"#E1E5ED\",\"showgrid\":false,\"tickfont\":{\"color\":\"#4D5663\"},\"title\":{\"font\":{\"color\":\"#4D5663\"},\"text\":\"\"},\"zerolinecolor\":\"#E1E5ED\"},\"xaxis15\":{\"anchor\":\"y15\",\"domain\":[0.525,0.7375],\"gridcolor\":\"#E1E5ED\",\"showgrid\":false,\"tickfont\":{\"color\":\"#4D5663\"},\"title\":{\"font\":{\"color\":\"#4D5663\"},\"text\":\"\"},\"zerolinecolor\":\"#E1E5ED\"},\"yaxis15\":{\"anchor\":\"x15\",\"domain\":[0.0,0.1975],\"gridcolor\":\"#E1E5ED\",\"showgrid\":false,\"tickfont\":{\"color\":\"#4D5663\"},\"title\":{\"font\":{\"color\":\"#4D5663\"},\"text\":\"\"},\"zerolinecolor\":\"#E1E5ED\"},\"xaxis16\":{\"anchor\":\"y16\",\"domain\":[0.7875,1.0],\"gridcolor\":\"#E1E5ED\",\"showgrid\":false,\"tickfont\":{\"color\":\"#4D5663\"},\"title\":{\"font\":{\"color\":\"#4D5663\"},\"text\":\"\"},\"zerolinecolor\":\"#E1E5ED\"},\"yaxis16\":{\"anchor\":\"x16\",\"domain\":[0.0,0.1975],\"gridcolor\":\"#E1E5ED\",\"showgrid\":false,\"tickfont\":{\"color\":\"#4D5663\"},\"title\":{\"font\":{\"color\":\"#4D5663\"},\"text\":\"\"},\"zerolinecolor\":\"#E1E5ED\"}},                        {\"showLink\": true, \"linkText\": \"Export to plotly.com\", \"plotlyServerURL\": \"https://plotly.com\", \"responsive\": true}                    ).then(function(){\n",
       "                            \n",
       "var gd = document.getElementById('19fb01f3-64ef-4687-932d-565eca0501aa');\n",
       "var x = new MutationObserver(function (mutations, observer) {{\n",
       "        var display = window.getComputedStyle(gd).display;\n",
       "        if (!display || display === 'none') {{\n",
       "            console.log([gd, 'removed!']);\n",
       "            Plotly.purge(gd);\n",
       "            observer.disconnect();\n",
       "        }}\n",
       "}});\n",
       "\n",
       "// Listen for the removal of the full notebook cells\n",
       "var notebookContainer = gd.closest('#notebook-container');\n",
       "if (notebookContainer) {{\n",
       "    x.observe(notebookContainer, {childList: true});\n",
       "}}\n",
       "\n",
       "// Listen for the clearing of the current output cell\n",
       "var outputEl = gd.closest('.output');\n",
       "if (outputEl) {{\n",
       "    x.observe(outputEl, {childList: true});\n",
       "}}\n",
       "\n",
       "                        })                };                });            </script>        </div>"
      ]
     },
     "metadata": {},
     "output_type": "display_data"
    }
   ],
   "source": [
    "#scatter matrix\n",
    "df.scatter_matrix()"
   ]
  },
  {
   "cell_type": "code",
   "execution_count": null,
   "id": "bddef4d1",
   "metadata": {},
   "outputs": [],
   "source": []
  },
  {
   "cell_type": "code",
   "execution_count": null,
   "id": "a3684a7c",
   "metadata": {},
   "outputs": [],
   "source": []
  },
  {
   "cell_type": "code",
   "execution_count": null,
   "id": "4050d195",
   "metadata": {},
   "outputs": [],
   "source": []
  },
  {
   "cell_type": "code",
   "execution_count": null,
   "id": "86bcd870",
   "metadata": {},
   "outputs": [],
   "source": []
  },
  {
   "cell_type": "code",
   "execution_count": null,
   "id": "008a6bda",
   "metadata": {},
   "outputs": [],
   "source": []
  },
  {
   "cell_type": "code",
   "execution_count": null,
   "id": "86cbd142",
   "metadata": {},
   "outputs": [],
   "source": []
  },
  {
   "cell_type": "code",
   "execution_count": null,
   "id": "8bd38981",
   "metadata": {},
   "outputs": [],
   "source": []
  }
 ],
 "metadata": {
  "kernelspec": {
   "display_name": "Python 3",
   "language": "python",
   "name": "python3"
  },
  "language_info": {
   "codemirror_mode": {
    "name": "ipython",
    "version": 3
   },
   "file_extension": ".py",
   "mimetype": "text/x-python",
   "name": "python",
   "nbconvert_exporter": "python",
   "pygments_lexer": "ipython3",
   "version": "3.8.8"
  }
 },
 "nbformat": 4,
 "nbformat_minor": 5
}
